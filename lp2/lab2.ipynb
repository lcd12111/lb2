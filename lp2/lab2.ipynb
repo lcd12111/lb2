{
 "cells": [
  {
   "cell_type": "code",
   "execution_count": 1,
   "id": "d678bd61-e8f7-4ed9-b52b-db04460adfef",
   "metadata": {},
   "outputs": [],
   "source": [
    "import pandas as pd, numpy as np, matplotlib.pyplot as plt\n",
    "from sklearn.model_selection import GridSearchCV, StratifiedKFold\n",
    "from sklearn.neural_network import MLPClassifier\n",
    "from sklearn.preprocessing import MinMaxScaler\n",
    "from sklearn.metrics import accuracy_score, f1_score\n",
    "from imblearn.over_sampling import SMOTE, ADASYN\n",
    "\n",
    "# ----- 常量 -----\n",
    "R, L, theta, alpha = 0.04, 0.125, np.deg2rad(30), 0\n"
   ]
  },
  {
   "cell_type": "code",
   "execution_count": 2,
   "id": "984ca926-55c1-4ef3-a55f-bfe952ca84db",
   "metadata": {},
   "outputs": [
    {
     "data": {
      "application/vnd.microsoft.datawrangler.viewer.v0+json": {
       "columns": [
        {
         "name": "index",
         "rawType": "int64",
         "type": "integer"
        },
        {
         "name": "Vx",
         "rawType": "float64",
         "type": "float"
        },
        {
         "name": "Vy",
         "rawType": "float64",
         "type": "float"
        },
        {
         "name": "Omega",
         "rawType": "float64",
         "type": "float"
        },
        {
         "name": "Ix",
         "rawType": "float64",
         "type": "float"
        },
        {
         "name": "Iy",
         "rawType": "float64",
         "type": "float"
        },
        {
         "name": "Iphi",
         "rawType": "float64",
         "type": "float"
        }
       ],
       "ref": "03cdc726-cb86-4be3-86ca-d3d8de7e71e9",
       "rows": [
        [
         "0",
         "11.947435658519646",
         "6.734117647058826",
         "55.058823529410496",
         "-0.1079093893504447",
         "-0.08044272549019621",
         "0.6918047254901959"
        ],
        [
         "1",
         "12.103978584657789",
         "6.988235294117637",
         "8.470588235293386",
         "-0.04460847813206592",
         "-0.03871272941176501",
         "0.6691802568627452"
        ],
        [
         "2",
         "12.397408368528275",
         "7.157647058823518",
         "0.0",
         "0.022407866396387255",
         "0.009049780392156592",
         "0.6209151784313728"
        ],
        [
         "3",
         "-3.6102354247398725",
         "8.44941176470588",
         "-8.470588235293386",
         "0.30376398471664806",
         "-0.8185014117647067",
         "0.79989937254902"
        ],
        [
         "4",
         "-3.8628326696162785",
         "8.576470588235294",
         "29.647058823528067",
         "0.2978369529784776",
         "-0.7078939803921598",
         "0.6691807058823546"
        ]
       ],
       "shape": {
        "columns": 6,
        "rows": 5
       }
      },
      "text/html": [
       "<div>\n",
       "<style scoped>\n",
       "    .dataframe tbody tr th:only-of-type {\n",
       "        vertical-align: middle;\n",
       "    }\n",
       "\n",
       "    .dataframe tbody tr th {\n",
       "        vertical-align: top;\n",
       "    }\n",
       "\n",
       "    .dataframe thead th {\n",
       "        text-align: right;\n",
       "    }\n",
       "</style>\n",
       "<table border=\"1\" class=\"dataframe\">\n",
       "  <thead>\n",
       "    <tr style=\"text-align: right;\">\n",
       "      <th></th>\n",
       "      <th>Vx</th>\n",
       "      <th>Vy</th>\n",
       "      <th>Omega</th>\n",
       "      <th>Ix</th>\n",
       "      <th>Iy</th>\n",
       "      <th>Iphi</th>\n",
       "    </tr>\n",
       "  </thead>\n",
       "  <tbody>\n",
       "    <tr>\n",
       "      <th>0</th>\n",
       "      <td>11.947436</td>\n",
       "      <td>6.734118</td>\n",
       "      <td>55.058824</td>\n",
       "      <td>-0.107909</td>\n",
       "      <td>-0.080443</td>\n",
       "      <td>0.691805</td>\n",
       "    </tr>\n",
       "    <tr>\n",
       "      <th>1</th>\n",
       "      <td>12.103979</td>\n",
       "      <td>6.988235</td>\n",
       "      <td>8.470588</td>\n",
       "      <td>-0.044608</td>\n",
       "      <td>-0.038713</td>\n",
       "      <td>0.669180</td>\n",
       "    </tr>\n",
       "    <tr>\n",
       "      <th>2</th>\n",
       "      <td>12.397408</td>\n",
       "      <td>7.157647</td>\n",
       "      <td>0.000000</td>\n",
       "      <td>0.022408</td>\n",
       "      <td>0.009050</td>\n",
       "      <td>0.620915</td>\n",
       "    </tr>\n",
       "    <tr>\n",
       "      <th>3</th>\n",
       "      <td>-3.610235</td>\n",
       "      <td>8.449412</td>\n",
       "      <td>-8.470588</td>\n",
       "      <td>0.303764</td>\n",
       "      <td>-0.818501</td>\n",
       "      <td>0.799899</td>\n",
       "    </tr>\n",
       "    <tr>\n",
       "      <th>4</th>\n",
       "      <td>-3.862833</td>\n",
       "      <td>8.576471</td>\n",
       "      <td>29.647059</td>\n",
       "      <td>0.297837</td>\n",
       "      <td>-0.707894</td>\n",
       "      <td>0.669181</td>\n",
       "    </tr>\n",
       "  </tbody>\n",
       "</table>\n",
       "</div>"
      ],
      "text/plain": [
       "          Vx        Vy      Omega        Ix        Iy      Iphi\n",
       "0  11.947436  6.734118  55.058824 -0.107909 -0.080443  0.691805\n",
       "1  12.103979  6.988235   8.470588 -0.044608 -0.038713  0.669180\n",
       "2  12.397408  7.157647   0.000000  0.022408  0.009050  0.620915\n",
       "3  -3.610235  8.449412  -8.470588  0.303764 -0.818501  0.799899\n",
       "4  -3.862833  8.576471  29.647059  0.297837 -0.707894  0.669181"
      ]
     },
     "execution_count": 2,
     "metadata": {},
     "output_type": "execute_result"
    }
   ],
   "source": [
    "df = pd.read_excel('Data_Set_(A+B).xlsx')\n",
    "y = (df['Type'] == 4).astype(int)\n",
    "\n",
    "# V1real–V3real 直接视为 rad/s；如是 RPM 请乘 2π/60\n",
    "ω = df[['V1real','V2real','V3real']].values.T      # w1,w2,w3\n",
    "I = df[['I1','I2','I3']].values.T                  # I1,I2,I3\n",
    "\n",
    "Vx =  R * (-2/3*np.cos(theta)*ω[0] + 2/3*np.sin(theta)*ω[1] + 2/3*np.cos(theta)*ω[2])\n",
    "Vy =  R * (-2/3*np.sin(theta)*ω[0] - 2/3*ω[1]      + 2/3*np.sin(theta)*ω[2])\n",
    "Omega = (ω[0]+ω[1]+ω[2]) / (3*L)\n",
    "\n",
    "Ix = -2/3*np.cos(theta)*I[0] + 2/3*np.sin(theta)*I[1] + 2/3*np.cos(theta)*I[2]\n",
    "Iy = -2/3*np.sin(theta)*I[0] - 2/3*I[1]             + 2/3*np.sin(theta)*I[2]\n",
    "Iphi = (I[0]+I[1]+I[2]) / 3\n",
    "\n",
    "X_base = pd.DataFrame({'Vx':Vx,'Vy':Vy,'Omega':Omega,\n",
    "                       'Ix':Ix,'Iy':Iy,'Iphi':Iphi})\n",
    "X_base.head()\n"
   ]
  },
  {
   "cell_type": "code",
   "execution_count": 5,
   "id": "cb317251-ede7-4887-966f-42a40f1aacde",
   "metadata": {},
   "outputs": [],
   "source": [
    "import os, pathlib; os.environ['JOBLIB_TEMP_FOLDER']=r'E:\\joblib_tmp'\n",
    "pathlib.Path(r'E:\\joblib_tmp').mkdir(exist_ok=True)\n"
   ]
  },
  {
   "cell_type": "markdown",
   "id": "72266cf9-35e3-42eb-b722-68b19c849548",
   "metadata": {},
   "source": [
    "from sklearn.model_selection import GridSearchCV, StratifiedKFold\n",
    "from sklearn.neural_network import MLPClassifier\n",
    "\n",
    "param_grid = {\n",
    "    'hidden_layer_sizes': [(5,), (10,), (15,),\n",
    "                           (20,), (20,10), (30,15)],\n",
    "    'activation': ['tanh', 'relu', 'logistic'],\n",
    "    'solver': ['lbfgs', 'adam'],\n",
    "    'max_iter': [500, 1000, 1000],\n",
    "    'random_state': [0, 21, 42],\n",
    "}\n",
    "\n",
    "cv = StratifiedKFold(n_splits=4, shuffle=True, random_state=42)\n",
    "\n",
    "gs = GridSearchCV(\n",
    "        estimator = MLPClassifier(),\n",
    "        param_grid = param_grid,\n",
    "        cv = cv,\n",
    "        scoring = 'f1',\n",
    "        n_jobs = 1,        # <- 为避免 UnicodeEncodeError\n",
    "        verbose = 2        # 看进度\n",
    ")\n",
    "gs.fit(X_base, y)\n",
    "\n",
    "print('Лучшие параметры:', gs.best_params_)\n",
    "print('Лучший F1 (CV):',  round(gs.best_score_, 3))\n",
    "best_model = gs.best_estimator_\n"
   ]
  },
  {
   "cell_type": "markdown",
   "id": "5929b8fe-98da-473d-8824-49408bc661de",
   "metadata": {},
   "source": [
    "## 3. Обучение сети на сортированных данных\n"
   ]
  },
  {
   "cell_type": "code",
   "execution_count": 8,
   "id": "cc595514-82f8-4bc9-b98e-255aa445dd9d",
   "metadata": {},
   "outputs": [
    {
     "name": "stdout",
     "output_type": "stream",
     "text": [
      "Fitting 3 folds for each of 8 candidates, totalling 24 fits\n",
      "[CV] END activation=relu, hidden_layer_sizes=(50,), learning_rate_init=0.001, solver=adam; total time=   0.0s\n",
      "[CV] END activation=relu, hidden_layer_sizes=(50,), learning_rate_init=0.001, solver=adam; total time=   0.0s\n",
      "[CV] END activation=relu, hidden_layer_sizes=(50,), learning_rate_init=0.001, solver=adam; total time=   0.0s\n",
      "[CV] END activation=relu, hidden_layer_sizes=(50,), learning_rate_init=0.01, solver=adam; total time=   0.0s\n",
      "[CV] END activation=relu, hidden_layer_sizes=(50,), learning_rate_init=0.01, solver=adam; total time=   0.0s\n",
      "[CV] END activation=relu, hidden_layer_sizes=(50,), learning_rate_init=0.01, solver=adam; total time=   0.0s\n",
      "[CV] END activation=relu, hidden_layer_sizes=(100,), learning_rate_init=0.001, solver=adam; total time=   0.0s\n",
      "[CV] END activation=relu, hidden_layer_sizes=(100,), learning_rate_init=0.001, solver=adam; total time=   0.0s\n",
      "[CV] END activation=relu, hidden_layer_sizes=(100,), learning_rate_init=0.001, solver=adam; total time=   0.0s\n",
      "[CV] END activation=relu, hidden_layer_sizes=(100,), learning_rate_init=0.01, solver=adam; total time=   0.0s\n"
     ]
    },
    {
     "name": "stderr",
     "output_type": "stream",
     "text": [
      "c:\\Users\\HUAWEI\\AppData\\Local\\Programs\\Python\\Python310\\lib\\site-packages\\sklearn\\model_selection\\_validation.py:960: UserWarning: Scoring failed. The score on this train-test partition for these parameters will be set to nan. Details: \n",
      "Traceback (most recent call last):\n",
      "  File \"c:\\Users\\HUAWEI\\AppData\\Local\\Programs\\Python\\Python310\\lib\\site-packages\\sklearn\\model_selection\\_validation.py\", line 949, in _score\n",
      "    scores = scorer(estimator, X_test, y_test, **score_params)\n",
      "  File \"c:\\Users\\HUAWEI\\AppData\\Local\\Programs\\Python\\Python310\\lib\\site-packages\\sklearn\\metrics\\_scorer.py\", line 288, in __call__\n",
      "    return self._score(partial(_cached_call, None), estimator, X, y_true, **_kwargs)\n",
      "  File \"c:\\Users\\HUAWEI\\AppData\\Local\\Programs\\Python\\Python310\\lib\\site-packages\\sklearn\\metrics\\_scorer.py\", line 380, in _score\n",
      "    y_pred = method_caller(\n",
      "  File \"c:\\Users\\HUAWEI\\AppData\\Local\\Programs\\Python\\Python310\\lib\\site-packages\\sklearn\\metrics\\_scorer.py\", line 90, in _cached_call\n",
      "    result, _ = _get_response_values(\n",
      "  File \"c:\\Users\\HUAWEI\\AppData\\Local\\Programs\\Python\\Python310\\lib\\site-packages\\sklearn\\utils\\_response.py\", line 207, in _get_response_values\n",
      "    raise ValueError(\n",
      "ValueError: pos_label=1 is not a valid label: It should be one of [0]\n",
      "\n",
      "  warnings.warn(\n",
      "c:\\Users\\HUAWEI\\AppData\\Local\\Programs\\Python\\Python310\\lib\\site-packages\\sklearn\\model_selection\\_validation.py:960: UserWarning: Scoring failed. The score on this train-test partition for these parameters will be set to nan. Details: \n",
      "Traceback (most recent call last):\n",
      "  File \"c:\\Users\\HUAWEI\\AppData\\Local\\Programs\\Python\\Python310\\lib\\site-packages\\sklearn\\model_selection\\_validation.py\", line 949, in _score\n",
      "    scores = scorer(estimator, X_test, y_test, **score_params)\n",
      "  File \"c:\\Users\\HUAWEI\\AppData\\Local\\Programs\\Python\\Python310\\lib\\site-packages\\sklearn\\metrics\\_scorer.py\", line 288, in __call__\n",
      "    return self._score(partial(_cached_call, None), estimator, X, y_true, **_kwargs)\n",
      "  File \"c:\\Users\\HUAWEI\\AppData\\Local\\Programs\\Python\\Python310\\lib\\site-packages\\sklearn\\metrics\\_scorer.py\", line 380, in _score\n",
      "    y_pred = method_caller(\n",
      "  File \"c:\\Users\\HUAWEI\\AppData\\Local\\Programs\\Python\\Python310\\lib\\site-packages\\sklearn\\metrics\\_scorer.py\", line 90, in _cached_call\n",
      "    result, _ = _get_response_values(\n",
      "  File \"c:\\Users\\HUAWEI\\AppData\\Local\\Programs\\Python\\Python310\\lib\\site-packages\\sklearn\\utils\\_response.py\", line 207, in _get_response_values\n",
      "    raise ValueError(\n",
      "ValueError: pos_label=1 is not a valid label: It should be one of [0]\n",
      "\n",
      "  warnings.warn(\n",
      "c:\\Users\\HUAWEI\\AppData\\Local\\Programs\\Python\\Python310\\lib\\site-packages\\sklearn\\model_selection\\_validation.py:960: UserWarning: Scoring failed. The score on this train-test partition for these parameters will be set to nan. Details: \n",
      "Traceback (most recent call last):\n",
      "  File \"c:\\Users\\HUAWEI\\AppData\\Local\\Programs\\Python\\Python310\\lib\\site-packages\\sklearn\\model_selection\\_validation.py\", line 949, in _score\n",
      "    scores = scorer(estimator, X_test, y_test, **score_params)\n",
      "  File \"c:\\Users\\HUAWEI\\AppData\\Local\\Programs\\Python\\Python310\\lib\\site-packages\\sklearn\\metrics\\_scorer.py\", line 288, in __call__\n",
      "    return self._score(partial(_cached_call, None), estimator, X, y_true, **_kwargs)\n",
      "  File \"c:\\Users\\HUAWEI\\AppData\\Local\\Programs\\Python\\Python310\\lib\\site-packages\\sklearn\\metrics\\_scorer.py\", line 380, in _score\n",
      "    y_pred = method_caller(\n",
      "  File \"c:\\Users\\HUAWEI\\AppData\\Local\\Programs\\Python\\Python310\\lib\\site-packages\\sklearn\\metrics\\_scorer.py\", line 90, in _cached_call\n",
      "    result, _ = _get_response_values(\n",
      "  File \"c:\\Users\\HUAWEI\\AppData\\Local\\Programs\\Python\\Python310\\lib\\site-packages\\sklearn\\utils\\_response.py\", line 207, in _get_response_values\n",
      "    raise ValueError(\n",
      "ValueError: pos_label=1 is not a valid label: It should be one of [0]\n",
      "\n",
      "  warnings.warn(\n",
      "c:\\Users\\HUAWEI\\AppData\\Local\\Programs\\Python\\Python310\\lib\\site-packages\\sklearn\\model_selection\\_validation.py:960: UserWarning: Scoring failed. The score on this train-test partition for these parameters will be set to nan. Details: \n",
      "Traceback (most recent call last):\n",
      "  File \"c:\\Users\\HUAWEI\\AppData\\Local\\Programs\\Python\\Python310\\lib\\site-packages\\sklearn\\model_selection\\_validation.py\", line 949, in _score\n",
      "    scores = scorer(estimator, X_test, y_test, **score_params)\n",
      "  File \"c:\\Users\\HUAWEI\\AppData\\Local\\Programs\\Python\\Python310\\lib\\site-packages\\sklearn\\metrics\\_scorer.py\", line 288, in __call__\n",
      "    return self._score(partial(_cached_call, None), estimator, X, y_true, **_kwargs)\n",
      "  File \"c:\\Users\\HUAWEI\\AppData\\Local\\Programs\\Python\\Python310\\lib\\site-packages\\sklearn\\metrics\\_scorer.py\", line 380, in _score\n",
      "    y_pred = method_caller(\n",
      "  File \"c:\\Users\\HUAWEI\\AppData\\Local\\Programs\\Python\\Python310\\lib\\site-packages\\sklearn\\metrics\\_scorer.py\", line 90, in _cached_call\n",
      "    result, _ = _get_response_values(\n",
      "  File \"c:\\Users\\HUAWEI\\AppData\\Local\\Programs\\Python\\Python310\\lib\\site-packages\\sklearn\\utils\\_response.py\", line 207, in _get_response_values\n",
      "    raise ValueError(\n",
      "ValueError: pos_label=1 is not a valid label: It should be one of [0]\n",
      "\n",
      "  warnings.warn(\n",
      "c:\\Users\\HUAWEI\\AppData\\Local\\Programs\\Python\\Python310\\lib\\site-packages\\sklearn\\model_selection\\_validation.py:960: UserWarning: Scoring failed. The score on this train-test partition for these parameters will be set to nan. Details: \n",
      "Traceback (most recent call last):\n",
      "  File \"c:\\Users\\HUAWEI\\AppData\\Local\\Programs\\Python\\Python310\\lib\\site-packages\\sklearn\\model_selection\\_validation.py\", line 949, in _score\n",
      "    scores = scorer(estimator, X_test, y_test, **score_params)\n",
      "  File \"c:\\Users\\HUAWEI\\AppData\\Local\\Programs\\Python\\Python310\\lib\\site-packages\\sklearn\\metrics\\_scorer.py\", line 288, in __call__\n",
      "    return self._score(partial(_cached_call, None), estimator, X, y_true, **_kwargs)\n",
      "  File \"c:\\Users\\HUAWEI\\AppData\\Local\\Programs\\Python\\Python310\\lib\\site-packages\\sklearn\\metrics\\_scorer.py\", line 380, in _score\n",
      "    y_pred = method_caller(\n",
      "  File \"c:\\Users\\HUAWEI\\AppData\\Local\\Programs\\Python\\Python310\\lib\\site-packages\\sklearn\\metrics\\_scorer.py\", line 90, in _cached_call\n",
      "    result, _ = _get_response_values(\n",
      "  File \"c:\\Users\\HUAWEI\\AppData\\Local\\Programs\\Python\\Python310\\lib\\site-packages\\sklearn\\utils\\_response.py\", line 207, in _get_response_values\n",
      "    raise ValueError(\n",
      "ValueError: pos_label=1 is not a valid label: It should be one of [0]\n",
      "\n",
      "  warnings.warn(\n",
      "c:\\Users\\HUAWEI\\AppData\\Local\\Programs\\Python\\Python310\\lib\\site-packages\\sklearn\\model_selection\\_validation.py:960: UserWarning: Scoring failed. The score on this train-test partition for these parameters will be set to nan. Details: \n",
      "Traceback (most recent call last):\n",
      "  File \"c:\\Users\\HUAWEI\\AppData\\Local\\Programs\\Python\\Python310\\lib\\site-packages\\sklearn\\model_selection\\_validation.py\", line 949, in _score\n",
      "    scores = scorer(estimator, X_test, y_test, **score_params)\n",
      "  File \"c:\\Users\\HUAWEI\\AppData\\Local\\Programs\\Python\\Python310\\lib\\site-packages\\sklearn\\metrics\\_scorer.py\", line 288, in __call__\n",
      "    return self._score(partial(_cached_call, None), estimator, X, y_true, **_kwargs)\n",
      "  File \"c:\\Users\\HUAWEI\\AppData\\Local\\Programs\\Python\\Python310\\lib\\site-packages\\sklearn\\metrics\\_scorer.py\", line 380, in _score\n",
      "    y_pred = method_caller(\n",
      "  File \"c:\\Users\\HUAWEI\\AppData\\Local\\Programs\\Python\\Python310\\lib\\site-packages\\sklearn\\metrics\\_scorer.py\", line 90, in _cached_call\n",
      "    result, _ = _get_response_values(\n",
      "  File \"c:\\Users\\HUAWEI\\AppData\\Local\\Programs\\Python\\Python310\\lib\\site-packages\\sklearn\\utils\\_response.py\", line 207, in _get_response_values\n",
      "    raise ValueError(\n",
      "ValueError: pos_label=1 is not a valid label: It should be one of [0]\n",
      "\n",
      "  warnings.warn(\n",
      "c:\\Users\\HUAWEI\\AppData\\Local\\Programs\\Python\\Python310\\lib\\site-packages\\sklearn\\model_selection\\_validation.py:960: UserWarning: Scoring failed. The score on this train-test partition for these parameters will be set to nan. Details: \n",
      "Traceback (most recent call last):\n",
      "  File \"c:\\Users\\HUAWEI\\AppData\\Local\\Programs\\Python\\Python310\\lib\\site-packages\\sklearn\\model_selection\\_validation.py\", line 949, in _score\n",
      "    scores = scorer(estimator, X_test, y_test, **score_params)\n",
      "  File \"c:\\Users\\HUAWEI\\AppData\\Local\\Programs\\Python\\Python310\\lib\\site-packages\\sklearn\\metrics\\_scorer.py\", line 288, in __call__\n",
      "    return self._score(partial(_cached_call, None), estimator, X, y_true, **_kwargs)\n",
      "  File \"c:\\Users\\HUAWEI\\AppData\\Local\\Programs\\Python\\Python310\\lib\\site-packages\\sklearn\\metrics\\_scorer.py\", line 380, in _score\n",
      "    y_pred = method_caller(\n",
      "  File \"c:\\Users\\HUAWEI\\AppData\\Local\\Programs\\Python\\Python310\\lib\\site-packages\\sklearn\\metrics\\_scorer.py\", line 90, in _cached_call\n",
      "    result, _ = _get_response_values(\n",
      "  File \"c:\\Users\\HUAWEI\\AppData\\Local\\Programs\\Python\\Python310\\lib\\site-packages\\sklearn\\utils\\_response.py\", line 207, in _get_response_values\n",
      "    raise ValueError(\n",
      "ValueError: pos_label=1 is not a valid label: It should be one of [0]\n",
      "\n",
      "  warnings.warn(\n",
      "c:\\Users\\HUAWEI\\AppData\\Local\\Programs\\Python\\Python310\\lib\\site-packages\\sklearn\\model_selection\\_validation.py:960: UserWarning: Scoring failed. The score on this train-test partition for these parameters will be set to nan. Details: \n",
      "Traceback (most recent call last):\n",
      "  File \"c:\\Users\\HUAWEI\\AppData\\Local\\Programs\\Python\\Python310\\lib\\site-packages\\sklearn\\model_selection\\_validation.py\", line 949, in _score\n",
      "    scores = scorer(estimator, X_test, y_test, **score_params)\n",
      "  File \"c:\\Users\\HUAWEI\\AppData\\Local\\Programs\\Python\\Python310\\lib\\site-packages\\sklearn\\metrics\\_scorer.py\", line 288, in __call__\n",
      "    return self._score(partial(_cached_call, None), estimator, X, y_true, **_kwargs)\n",
      "  File \"c:\\Users\\HUAWEI\\AppData\\Local\\Programs\\Python\\Python310\\lib\\site-packages\\sklearn\\metrics\\_scorer.py\", line 380, in _score\n",
      "    y_pred = method_caller(\n",
      "  File \"c:\\Users\\HUAWEI\\AppData\\Local\\Programs\\Python\\Python310\\lib\\site-packages\\sklearn\\metrics\\_scorer.py\", line 90, in _cached_call\n",
      "    result, _ = _get_response_values(\n",
      "  File \"c:\\Users\\HUAWEI\\AppData\\Local\\Programs\\Python\\Python310\\lib\\site-packages\\sklearn\\utils\\_response.py\", line 207, in _get_response_values\n",
      "    raise ValueError(\n",
      "ValueError: pos_label=1 is not a valid label: It should be one of [0]\n",
      "\n",
      "  warnings.warn(\n",
      "c:\\Users\\HUAWEI\\AppData\\Local\\Programs\\Python\\Python310\\lib\\site-packages\\sklearn\\model_selection\\_validation.py:960: UserWarning: Scoring failed. The score on this train-test partition for these parameters will be set to nan. Details: \n",
      "Traceback (most recent call last):\n",
      "  File \"c:\\Users\\HUAWEI\\AppData\\Local\\Programs\\Python\\Python310\\lib\\site-packages\\sklearn\\model_selection\\_validation.py\", line 949, in _score\n",
      "    scores = scorer(estimator, X_test, y_test, **score_params)\n",
      "  File \"c:\\Users\\HUAWEI\\AppData\\Local\\Programs\\Python\\Python310\\lib\\site-packages\\sklearn\\metrics\\_scorer.py\", line 288, in __call__\n",
      "    return self._score(partial(_cached_call, None), estimator, X, y_true, **_kwargs)\n",
      "  File \"c:\\Users\\HUAWEI\\AppData\\Local\\Programs\\Python\\Python310\\lib\\site-packages\\sklearn\\metrics\\_scorer.py\", line 380, in _score\n",
      "    y_pred = method_caller(\n",
      "  File \"c:\\Users\\HUAWEI\\AppData\\Local\\Programs\\Python\\Python310\\lib\\site-packages\\sklearn\\metrics\\_scorer.py\", line 90, in _cached_call\n",
      "    result, _ = _get_response_values(\n",
      "  File \"c:\\Users\\HUAWEI\\AppData\\Local\\Programs\\Python\\Python310\\lib\\site-packages\\sklearn\\utils\\_response.py\", line 207, in _get_response_values\n",
      "    raise ValueError(\n",
      "ValueError: pos_label=1 is not a valid label: It should be one of [0]\n",
      "\n",
      "  warnings.warn(\n",
      "c:\\Users\\HUAWEI\\AppData\\Local\\Programs\\Python\\Python310\\lib\\site-packages\\sklearn\\model_selection\\_validation.py:960: UserWarning: Scoring failed. The score on this train-test partition for these parameters will be set to nan. Details: \n",
      "Traceback (most recent call last):\n",
      "  File \"c:\\Users\\HUAWEI\\AppData\\Local\\Programs\\Python\\Python310\\lib\\site-packages\\sklearn\\model_selection\\_validation.py\", line 949, in _score\n",
      "    scores = scorer(estimator, X_test, y_test, **score_params)\n",
      "  File \"c:\\Users\\HUAWEI\\AppData\\Local\\Programs\\Python\\Python310\\lib\\site-packages\\sklearn\\metrics\\_scorer.py\", line 288, in __call__\n",
      "    return self._score(partial(_cached_call, None), estimator, X, y_true, **_kwargs)\n",
      "  File \"c:\\Users\\HUAWEI\\AppData\\Local\\Programs\\Python\\Python310\\lib\\site-packages\\sklearn\\metrics\\_scorer.py\", line 380, in _score\n",
      "    y_pred = method_caller(\n",
      "  File \"c:\\Users\\HUAWEI\\AppData\\Local\\Programs\\Python\\Python310\\lib\\site-packages\\sklearn\\metrics\\_scorer.py\", line 90, in _cached_call\n",
      "    result, _ = _get_response_values(\n",
      "  File \"c:\\Users\\HUAWEI\\AppData\\Local\\Programs\\Python\\Python310\\lib\\site-packages\\sklearn\\utils\\_response.py\", line 207, in _get_response_values\n",
      "    raise ValueError(\n",
      "ValueError: pos_label=1 is not a valid label: It should be one of [0]\n",
      "\n",
      "  warnings.warn(\n",
      "c:\\Users\\HUAWEI\\AppData\\Local\\Programs\\Python\\Python310\\lib\\site-packages\\sklearn\\model_selection\\_validation.py:960: UserWarning: Scoring failed. The score on this train-test partition for these parameters will be set to nan. Details: \n",
      "Traceback (most recent call last):\n",
      "  File \"c:\\Users\\HUAWEI\\AppData\\Local\\Programs\\Python\\Python310\\lib\\site-packages\\sklearn\\model_selection\\_validation.py\", line 949, in _score\n",
      "    scores = scorer(estimator, X_test, y_test, **score_params)\n",
      "  File \"c:\\Users\\HUAWEI\\AppData\\Local\\Programs\\Python\\Python310\\lib\\site-packages\\sklearn\\metrics\\_scorer.py\", line 288, in __call__\n",
      "    return self._score(partial(_cached_call, None), estimator, X, y_true, **_kwargs)\n",
      "  File \"c:\\Users\\HUAWEI\\AppData\\Local\\Programs\\Python\\Python310\\lib\\site-packages\\sklearn\\metrics\\_scorer.py\", line 380, in _score\n",
      "    y_pred = method_caller(\n",
      "  File \"c:\\Users\\HUAWEI\\AppData\\Local\\Programs\\Python\\Python310\\lib\\site-packages\\sklearn\\metrics\\_scorer.py\", line 90, in _cached_call\n",
      "    result, _ = _get_response_values(\n",
      "  File \"c:\\Users\\HUAWEI\\AppData\\Local\\Programs\\Python\\Python310\\lib\\site-packages\\sklearn\\utils\\_response.py\", line 207, in _get_response_values\n",
      "    raise ValueError(\n",
      "ValueError: pos_label=1 is not a valid label: It should be one of [0]\n",
      "\n",
      "  warnings.warn(\n",
      "c:\\Users\\HUAWEI\\AppData\\Local\\Programs\\Python\\Python310\\lib\\site-packages\\sklearn\\model_selection\\_validation.py:960: UserWarning: Scoring failed. The score on this train-test partition for these parameters will be set to nan. Details: \n",
      "Traceback (most recent call last):\n",
      "  File \"c:\\Users\\HUAWEI\\AppData\\Local\\Programs\\Python\\Python310\\lib\\site-packages\\sklearn\\model_selection\\_validation.py\", line 949, in _score\n",
      "    scores = scorer(estimator, X_test, y_test, **score_params)\n",
      "  File \"c:\\Users\\HUAWEI\\AppData\\Local\\Programs\\Python\\Python310\\lib\\site-packages\\sklearn\\metrics\\_scorer.py\", line 288, in __call__\n",
      "    return self._score(partial(_cached_call, None), estimator, X, y_true, **_kwargs)\n",
      "  File \"c:\\Users\\HUAWEI\\AppData\\Local\\Programs\\Python\\Python310\\lib\\site-packages\\sklearn\\metrics\\_scorer.py\", line 380, in _score\n",
      "    y_pred = method_caller(\n",
      "  File \"c:\\Users\\HUAWEI\\AppData\\Local\\Programs\\Python\\Python310\\lib\\site-packages\\sklearn\\metrics\\_scorer.py\", line 90, in _cached_call\n",
      "    result, _ = _get_response_values(\n",
      "  File \"c:\\Users\\HUAWEI\\AppData\\Local\\Programs\\Python\\Python310\\lib\\site-packages\\sklearn\\utils\\_response.py\", line 207, in _get_response_values\n",
      "    raise ValueError(\n",
      "ValueError: pos_label=1 is not a valid label: It should be one of [0]\n",
      "\n",
      "  warnings.warn(\n",
      "c:\\Users\\HUAWEI\\AppData\\Local\\Programs\\Python\\Python310\\lib\\site-packages\\sklearn\\model_selection\\_validation.py:960: UserWarning: Scoring failed. The score on this train-test partition for these parameters will be set to nan. Details: \n",
      "Traceback (most recent call last):\n",
      "  File \"c:\\Users\\HUAWEI\\AppData\\Local\\Programs\\Python\\Python310\\lib\\site-packages\\sklearn\\model_selection\\_validation.py\", line 949, in _score\n",
      "    scores = scorer(estimator, X_test, y_test, **score_params)\n",
      "  File \"c:\\Users\\HUAWEI\\AppData\\Local\\Programs\\Python\\Python310\\lib\\site-packages\\sklearn\\metrics\\_scorer.py\", line 288, in __call__\n",
      "    return self._score(partial(_cached_call, None), estimator, X, y_true, **_kwargs)\n",
      "  File \"c:\\Users\\HUAWEI\\AppData\\Local\\Programs\\Python\\Python310\\lib\\site-packages\\sklearn\\metrics\\_scorer.py\", line 380, in _score\n",
      "    y_pred = method_caller(\n",
      "  File \"c:\\Users\\HUAWEI\\AppData\\Local\\Programs\\Python\\Python310\\lib\\site-packages\\sklearn\\metrics\\_scorer.py\", line 90, in _cached_call\n",
      "    result, _ = _get_response_values(\n",
      "  File \"c:\\Users\\HUAWEI\\AppData\\Local\\Programs\\Python\\Python310\\lib\\site-packages\\sklearn\\utils\\_response.py\", line 207, in _get_response_values\n",
      "    raise ValueError(\n",
      "ValueError: pos_label=1 is not a valid label: It should be one of [0]\n",
      "\n",
      "  warnings.warn(\n"
     ]
    },
    {
     "name": "stdout",
     "output_type": "stream",
     "text": [
      "[CV] END activation=relu, hidden_layer_sizes=(100,), learning_rate_init=0.01, solver=adam; total time=   0.0s\n",
      "[CV] END activation=relu, hidden_layer_sizes=(100,), learning_rate_init=0.01, solver=adam; total time=   0.0s\n",
      "[CV] END activation=tanh, hidden_layer_sizes=(50,), learning_rate_init=0.001, solver=adam; total time=   0.1s\n"
     ]
    },
    {
     "name": "stderr",
     "output_type": "stream",
     "text": [
      "c:\\Users\\HUAWEI\\AppData\\Local\\Programs\\Python\\Python310\\lib\\site-packages\\sklearn\\model_selection\\_validation.py:960: UserWarning: Scoring failed. The score on this train-test partition for these parameters will be set to nan. Details: \n",
      "Traceback (most recent call last):\n",
      "  File \"c:\\Users\\HUAWEI\\AppData\\Local\\Programs\\Python\\Python310\\lib\\site-packages\\sklearn\\model_selection\\_validation.py\", line 949, in _score\n",
      "    scores = scorer(estimator, X_test, y_test, **score_params)\n",
      "  File \"c:\\Users\\HUAWEI\\AppData\\Local\\Programs\\Python\\Python310\\lib\\site-packages\\sklearn\\metrics\\_scorer.py\", line 288, in __call__\n",
      "    return self._score(partial(_cached_call, None), estimator, X, y_true, **_kwargs)\n",
      "  File \"c:\\Users\\HUAWEI\\AppData\\Local\\Programs\\Python\\Python310\\lib\\site-packages\\sklearn\\metrics\\_scorer.py\", line 380, in _score\n",
      "    y_pred = method_caller(\n",
      "  File \"c:\\Users\\HUAWEI\\AppData\\Local\\Programs\\Python\\Python310\\lib\\site-packages\\sklearn\\metrics\\_scorer.py\", line 90, in _cached_call\n",
      "    result, _ = _get_response_values(\n",
      "  File \"c:\\Users\\HUAWEI\\AppData\\Local\\Programs\\Python\\Python310\\lib\\site-packages\\sklearn\\utils\\_response.py\", line 207, in _get_response_values\n",
      "    raise ValueError(\n",
      "ValueError: pos_label=1 is not a valid label: It should be one of [0]\n",
      "\n",
      "  warnings.warn(\n",
      "c:\\Users\\HUAWEI\\AppData\\Local\\Programs\\Python\\Python310\\lib\\site-packages\\sklearn\\model_selection\\_validation.py:960: UserWarning: Scoring failed. The score on this train-test partition for these parameters will be set to nan. Details: \n",
      "Traceback (most recent call last):\n",
      "  File \"c:\\Users\\HUAWEI\\AppData\\Local\\Programs\\Python\\Python310\\lib\\site-packages\\sklearn\\model_selection\\_validation.py\", line 949, in _score\n",
      "    scores = scorer(estimator, X_test, y_test, **score_params)\n",
      "  File \"c:\\Users\\HUAWEI\\AppData\\Local\\Programs\\Python\\Python310\\lib\\site-packages\\sklearn\\metrics\\_scorer.py\", line 288, in __call__\n",
      "    return self._score(partial(_cached_call, None), estimator, X, y_true, **_kwargs)\n",
      "  File \"c:\\Users\\HUAWEI\\AppData\\Local\\Programs\\Python\\Python310\\lib\\site-packages\\sklearn\\metrics\\_scorer.py\", line 380, in _score\n",
      "    y_pred = method_caller(\n",
      "  File \"c:\\Users\\HUAWEI\\AppData\\Local\\Programs\\Python\\Python310\\lib\\site-packages\\sklearn\\metrics\\_scorer.py\", line 90, in _cached_call\n",
      "    result, _ = _get_response_values(\n",
      "  File \"c:\\Users\\HUAWEI\\AppData\\Local\\Programs\\Python\\Python310\\lib\\site-packages\\sklearn\\utils\\_response.py\", line 207, in _get_response_values\n",
      "    raise ValueError(\n",
      "ValueError: pos_label=1 is not a valid label: It should be one of [0]\n",
      "\n",
      "  warnings.warn(\n",
      "c:\\Users\\HUAWEI\\AppData\\Local\\Programs\\Python\\Python310\\lib\\site-packages\\sklearn\\model_selection\\_validation.py:960: UserWarning: Scoring failed. The score on this train-test partition for these parameters will be set to nan. Details: \n",
      "Traceback (most recent call last):\n",
      "  File \"c:\\Users\\HUAWEI\\AppData\\Local\\Programs\\Python\\Python310\\lib\\site-packages\\sklearn\\model_selection\\_validation.py\", line 949, in _score\n",
      "    scores = scorer(estimator, X_test, y_test, **score_params)\n",
      "  File \"c:\\Users\\HUAWEI\\AppData\\Local\\Programs\\Python\\Python310\\lib\\site-packages\\sklearn\\metrics\\_scorer.py\", line 288, in __call__\n",
      "    return self._score(partial(_cached_call, None), estimator, X, y_true, **_kwargs)\n",
      "  File \"c:\\Users\\HUAWEI\\AppData\\Local\\Programs\\Python\\Python310\\lib\\site-packages\\sklearn\\metrics\\_scorer.py\", line 380, in _score\n",
      "    y_pred = method_caller(\n",
      "  File \"c:\\Users\\HUAWEI\\AppData\\Local\\Programs\\Python\\Python310\\lib\\site-packages\\sklearn\\metrics\\_scorer.py\", line 90, in _cached_call\n",
      "    result, _ = _get_response_values(\n",
      "  File \"c:\\Users\\HUAWEI\\AppData\\Local\\Programs\\Python\\Python310\\lib\\site-packages\\sklearn\\utils\\_response.py\", line 207, in _get_response_values\n",
      "    raise ValueError(\n",
      "ValueError: pos_label=1 is not a valid label: It should be one of [0]\n",
      "\n",
      "  warnings.warn(\n",
      "c:\\Users\\HUAWEI\\AppData\\Local\\Programs\\Python\\Python310\\lib\\site-packages\\sklearn\\model_selection\\_validation.py:960: UserWarning: Scoring failed. The score on this train-test partition for these parameters will be set to nan. Details: \n",
      "Traceback (most recent call last):\n",
      "  File \"c:\\Users\\HUAWEI\\AppData\\Local\\Programs\\Python\\Python310\\lib\\site-packages\\sklearn\\model_selection\\_validation.py\", line 949, in _score\n",
      "    scores = scorer(estimator, X_test, y_test, **score_params)\n",
      "  File \"c:\\Users\\HUAWEI\\AppData\\Local\\Programs\\Python\\Python310\\lib\\site-packages\\sklearn\\metrics\\_scorer.py\", line 288, in __call__\n",
      "    return self._score(partial(_cached_call, None), estimator, X, y_true, **_kwargs)\n",
      "  File \"c:\\Users\\HUAWEI\\AppData\\Local\\Programs\\Python\\Python310\\lib\\site-packages\\sklearn\\metrics\\_scorer.py\", line 380, in _score\n",
      "    y_pred = method_caller(\n",
      "  File \"c:\\Users\\HUAWEI\\AppData\\Local\\Programs\\Python\\Python310\\lib\\site-packages\\sklearn\\metrics\\_scorer.py\", line 90, in _cached_call\n",
      "    result, _ = _get_response_values(\n",
      "  File \"c:\\Users\\HUAWEI\\AppData\\Local\\Programs\\Python\\Python310\\lib\\site-packages\\sklearn\\utils\\_response.py\", line 207, in _get_response_values\n",
      "    raise ValueError(\n",
      "ValueError: pos_label=1 is not a valid label: It should be one of [0]\n",
      "\n",
      "  warnings.warn(\n",
      "c:\\Users\\HUAWEI\\AppData\\Local\\Programs\\Python\\Python310\\lib\\site-packages\\sklearn\\model_selection\\_validation.py:960: UserWarning: Scoring failed. The score on this train-test partition for these parameters will be set to nan. Details: \n",
      "Traceback (most recent call last):\n",
      "  File \"c:\\Users\\HUAWEI\\AppData\\Local\\Programs\\Python\\Python310\\lib\\site-packages\\sklearn\\model_selection\\_validation.py\", line 949, in _score\n",
      "    scores = scorer(estimator, X_test, y_test, **score_params)\n",
      "  File \"c:\\Users\\HUAWEI\\AppData\\Local\\Programs\\Python\\Python310\\lib\\site-packages\\sklearn\\metrics\\_scorer.py\", line 288, in __call__\n",
      "    return self._score(partial(_cached_call, None), estimator, X, y_true, **_kwargs)\n",
      "  File \"c:\\Users\\HUAWEI\\AppData\\Local\\Programs\\Python\\Python310\\lib\\site-packages\\sklearn\\metrics\\_scorer.py\", line 380, in _score\n",
      "    y_pred = method_caller(\n",
      "  File \"c:\\Users\\HUAWEI\\AppData\\Local\\Programs\\Python\\Python310\\lib\\site-packages\\sklearn\\metrics\\_scorer.py\", line 90, in _cached_call\n",
      "    result, _ = _get_response_values(\n",
      "  File \"c:\\Users\\HUAWEI\\AppData\\Local\\Programs\\Python\\Python310\\lib\\site-packages\\sklearn\\utils\\_response.py\", line 207, in _get_response_values\n",
      "    raise ValueError(\n",
      "ValueError: pos_label=1 is not a valid label: It should be one of [0]\n",
      "\n",
      "  warnings.warn(\n",
      "c:\\Users\\HUAWEI\\AppData\\Local\\Programs\\Python\\Python310\\lib\\site-packages\\sklearn\\model_selection\\_validation.py:960: UserWarning: Scoring failed. The score on this train-test partition for these parameters will be set to nan. Details: \n",
      "Traceback (most recent call last):\n",
      "  File \"c:\\Users\\HUAWEI\\AppData\\Local\\Programs\\Python\\Python310\\lib\\site-packages\\sklearn\\model_selection\\_validation.py\", line 949, in _score\n",
      "    scores = scorer(estimator, X_test, y_test, **score_params)\n",
      "  File \"c:\\Users\\HUAWEI\\AppData\\Local\\Programs\\Python\\Python310\\lib\\site-packages\\sklearn\\metrics\\_scorer.py\", line 288, in __call__\n",
      "    return self._score(partial(_cached_call, None), estimator, X, y_true, **_kwargs)\n",
      "  File \"c:\\Users\\HUAWEI\\AppData\\Local\\Programs\\Python\\Python310\\lib\\site-packages\\sklearn\\metrics\\_scorer.py\", line 380, in _score\n",
      "    y_pred = method_caller(\n",
      "  File \"c:\\Users\\HUAWEI\\AppData\\Local\\Programs\\Python\\Python310\\lib\\site-packages\\sklearn\\metrics\\_scorer.py\", line 90, in _cached_call\n",
      "    result, _ = _get_response_values(\n",
      "  File \"c:\\Users\\HUAWEI\\AppData\\Local\\Programs\\Python\\Python310\\lib\\site-packages\\sklearn\\utils\\_response.py\", line 207, in _get_response_values\n",
      "    raise ValueError(\n",
      "ValueError: pos_label=1 is not a valid label: It should be one of [0]\n",
      "\n",
      "  warnings.warn(\n"
     ]
    },
    {
     "name": "stdout",
     "output_type": "stream",
     "text": [
      "[CV] END activation=tanh, hidden_layer_sizes=(50,), learning_rate_init=0.001, solver=adam; total time=   0.0s\n",
      "[CV] END activation=tanh, hidden_layer_sizes=(50,), learning_rate_init=0.001, solver=adam; total time=   0.0s\n",
      "[CV] END activation=tanh, hidden_layer_sizes=(50,), learning_rate_init=0.01, solver=adam; total time=   0.0s\n",
      "[CV] END activation=tanh, hidden_layer_sizes=(50,), learning_rate_init=0.01, solver=adam; total time=   0.0s\n",
      "[CV] END activation=tanh, hidden_layer_sizes=(50,), learning_rate_init=0.01, solver=adam; total time=   0.0s\n",
      "[CV] END activation=tanh, hidden_layer_sizes=(100,), learning_rate_init=0.001, solver=adam; total time=   0.0s\n",
      "[CV] END activation=tanh, hidden_layer_sizes=(100,), learning_rate_init=0.001, solver=adam; total time=   0.0s\n",
      "[CV] END activation=tanh, hidden_layer_sizes=(100,), learning_rate_init=0.001, solver=adam; total time=   0.0s\n",
      "[CV] END activation=tanh, hidden_layer_sizes=(100,), learning_rate_init=0.01, solver=adam; total time=   0.0s\n",
      "[CV] END activation=tanh, hidden_layer_sizes=(100,), learning_rate_init=0.01, solver=adam; total time=   0.0s\n",
      "[CV] END activation=tanh, hidden_layer_sizes=(100,), learning_rate_init=0.01, solver=adam; total time=   0.0s\n",
      "Sorted best F1: nan\n",
      "{'activation': 'relu', 'hidden_layer_sizes': (50,), 'learning_rate_init': 0.001, 'solver': 'adam'}\n"
     ]
    },
    {
     "name": "stderr",
     "output_type": "stream",
     "text": [
      "c:\\Users\\HUAWEI\\AppData\\Local\\Programs\\Python\\Python310\\lib\\site-packages\\sklearn\\model_selection\\_validation.py:960: UserWarning: Scoring failed. The score on this train-test partition for these parameters will be set to nan. Details: \n",
      "Traceback (most recent call last):\n",
      "  File \"c:\\Users\\HUAWEI\\AppData\\Local\\Programs\\Python\\Python310\\lib\\site-packages\\sklearn\\model_selection\\_validation.py\", line 949, in _score\n",
      "    scores = scorer(estimator, X_test, y_test, **score_params)\n",
      "  File \"c:\\Users\\HUAWEI\\AppData\\Local\\Programs\\Python\\Python310\\lib\\site-packages\\sklearn\\metrics\\_scorer.py\", line 288, in __call__\n",
      "    return self._score(partial(_cached_call, None), estimator, X, y_true, **_kwargs)\n",
      "  File \"c:\\Users\\HUAWEI\\AppData\\Local\\Programs\\Python\\Python310\\lib\\site-packages\\sklearn\\metrics\\_scorer.py\", line 380, in _score\n",
      "    y_pred = method_caller(\n",
      "  File \"c:\\Users\\HUAWEI\\AppData\\Local\\Programs\\Python\\Python310\\lib\\site-packages\\sklearn\\metrics\\_scorer.py\", line 90, in _cached_call\n",
      "    result, _ = _get_response_values(\n",
      "  File \"c:\\Users\\HUAWEI\\AppData\\Local\\Programs\\Python\\Python310\\lib\\site-packages\\sklearn\\utils\\_response.py\", line 207, in _get_response_values\n",
      "    raise ValueError(\n",
      "ValueError: pos_label=1 is not a valid label: It should be one of [0]\n",
      "\n",
      "  warnings.warn(\n",
      "c:\\Users\\HUAWEI\\AppData\\Local\\Programs\\Python\\Python310\\lib\\site-packages\\sklearn\\model_selection\\_validation.py:960: UserWarning: Scoring failed. The score on this train-test partition for these parameters will be set to nan. Details: \n",
      "Traceback (most recent call last):\n",
      "  File \"c:\\Users\\HUAWEI\\AppData\\Local\\Programs\\Python\\Python310\\lib\\site-packages\\sklearn\\model_selection\\_validation.py\", line 949, in _score\n",
      "    scores = scorer(estimator, X_test, y_test, **score_params)\n",
      "  File \"c:\\Users\\HUAWEI\\AppData\\Local\\Programs\\Python\\Python310\\lib\\site-packages\\sklearn\\metrics\\_scorer.py\", line 288, in __call__\n",
      "    return self._score(partial(_cached_call, None), estimator, X, y_true, **_kwargs)\n",
      "  File \"c:\\Users\\HUAWEI\\AppData\\Local\\Programs\\Python\\Python310\\lib\\site-packages\\sklearn\\metrics\\_scorer.py\", line 380, in _score\n",
      "    y_pred = method_caller(\n",
      "  File \"c:\\Users\\HUAWEI\\AppData\\Local\\Programs\\Python\\Python310\\lib\\site-packages\\sklearn\\metrics\\_scorer.py\", line 90, in _cached_call\n",
      "    result, _ = _get_response_values(\n",
      "  File \"c:\\Users\\HUAWEI\\AppData\\Local\\Programs\\Python\\Python310\\lib\\site-packages\\sklearn\\utils\\_response.py\", line 207, in _get_response_values\n",
      "    raise ValueError(\n",
      "ValueError: pos_label=1 is not a valid label: It should be one of [0]\n",
      "\n",
      "  warnings.warn(\n",
      "c:\\Users\\HUAWEI\\AppData\\Local\\Programs\\Python\\Python310\\lib\\site-packages\\sklearn\\model_selection\\_validation.py:960: UserWarning: Scoring failed. The score on this train-test partition for these parameters will be set to nan. Details: \n",
      "Traceback (most recent call last):\n",
      "  File \"c:\\Users\\HUAWEI\\AppData\\Local\\Programs\\Python\\Python310\\lib\\site-packages\\sklearn\\model_selection\\_validation.py\", line 949, in _score\n",
      "    scores = scorer(estimator, X_test, y_test, **score_params)\n",
      "  File \"c:\\Users\\HUAWEI\\AppData\\Local\\Programs\\Python\\Python310\\lib\\site-packages\\sklearn\\metrics\\_scorer.py\", line 288, in __call__\n",
      "    return self._score(partial(_cached_call, None), estimator, X, y_true, **_kwargs)\n",
      "  File \"c:\\Users\\HUAWEI\\AppData\\Local\\Programs\\Python\\Python310\\lib\\site-packages\\sklearn\\metrics\\_scorer.py\", line 380, in _score\n",
      "    y_pred = method_caller(\n",
      "  File \"c:\\Users\\HUAWEI\\AppData\\Local\\Programs\\Python\\Python310\\lib\\site-packages\\sklearn\\metrics\\_scorer.py\", line 90, in _cached_call\n",
      "    result, _ = _get_response_values(\n",
      "  File \"c:\\Users\\HUAWEI\\AppData\\Local\\Programs\\Python\\Python310\\lib\\site-packages\\sklearn\\utils\\_response.py\", line 207, in _get_response_values\n",
      "    raise ValueError(\n",
      "ValueError: pos_label=1 is not a valid label: It should be one of [0]\n",
      "\n",
      "  warnings.warn(\n",
      "c:\\Users\\HUAWEI\\AppData\\Local\\Programs\\Python\\Python310\\lib\\site-packages\\sklearn\\model_selection\\_validation.py:960: UserWarning: Scoring failed. The score on this train-test partition for these parameters will be set to nan. Details: \n",
      "Traceback (most recent call last):\n",
      "  File \"c:\\Users\\HUAWEI\\AppData\\Local\\Programs\\Python\\Python310\\lib\\site-packages\\sklearn\\model_selection\\_validation.py\", line 949, in _score\n",
      "    scores = scorer(estimator, X_test, y_test, **score_params)\n",
      "  File \"c:\\Users\\HUAWEI\\AppData\\Local\\Programs\\Python\\Python310\\lib\\site-packages\\sklearn\\metrics\\_scorer.py\", line 288, in __call__\n",
      "    return self._score(partial(_cached_call, None), estimator, X, y_true, **_kwargs)\n",
      "  File \"c:\\Users\\HUAWEI\\AppData\\Local\\Programs\\Python\\Python310\\lib\\site-packages\\sklearn\\metrics\\_scorer.py\", line 380, in _score\n",
      "    y_pred = method_caller(\n",
      "  File \"c:\\Users\\HUAWEI\\AppData\\Local\\Programs\\Python\\Python310\\lib\\site-packages\\sklearn\\metrics\\_scorer.py\", line 90, in _cached_call\n",
      "    result, _ = _get_response_values(\n",
      "  File \"c:\\Users\\HUAWEI\\AppData\\Local\\Programs\\Python\\Python310\\lib\\site-packages\\sklearn\\utils\\_response.py\", line 207, in _get_response_values\n",
      "    raise ValueError(\n",
      "ValueError: pos_label=1 is not a valid label: It should be one of [0]\n",
      "\n",
      "  warnings.warn(\n",
      "c:\\Users\\HUAWEI\\AppData\\Local\\Programs\\Python\\Python310\\lib\\site-packages\\sklearn\\model_selection\\_validation.py:960: UserWarning: Scoring failed. The score on this train-test partition for these parameters will be set to nan. Details: \n",
      "Traceback (most recent call last):\n",
      "  File \"c:\\Users\\HUAWEI\\AppData\\Local\\Programs\\Python\\Python310\\lib\\site-packages\\sklearn\\model_selection\\_validation.py\", line 949, in _score\n",
      "    scores = scorer(estimator, X_test, y_test, **score_params)\n",
      "  File \"c:\\Users\\HUAWEI\\AppData\\Local\\Programs\\Python\\Python310\\lib\\site-packages\\sklearn\\metrics\\_scorer.py\", line 288, in __call__\n",
      "    return self._score(partial(_cached_call, None), estimator, X, y_true, **_kwargs)\n",
      "  File \"c:\\Users\\HUAWEI\\AppData\\Local\\Programs\\Python\\Python310\\lib\\site-packages\\sklearn\\metrics\\_scorer.py\", line 380, in _score\n",
      "    y_pred = method_caller(\n",
      "  File \"c:\\Users\\HUAWEI\\AppData\\Local\\Programs\\Python\\Python310\\lib\\site-packages\\sklearn\\metrics\\_scorer.py\", line 90, in _cached_call\n",
      "    result, _ = _get_response_values(\n",
      "  File \"c:\\Users\\HUAWEI\\AppData\\Local\\Programs\\Python\\Python310\\lib\\site-packages\\sklearn\\utils\\_response.py\", line 207, in _get_response_values\n",
      "    raise ValueError(\n",
      "ValueError: pos_label=1 is not a valid label: It should be one of [0]\n",
      "\n",
      "  warnings.warn(\n",
      "c:\\Users\\HUAWEI\\AppData\\Local\\Programs\\Python\\Python310\\lib\\site-packages\\sklearn\\model_selection\\_search.py:1108: UserWarning: One or more of the test scores are non-finite: [nan nan nan nan nan nan nan nan]\n",
      "  warnings.warn(\n"
     ]
    }
   ],
   "source": [
    "from sklearn.model_selection import StratifiedKFold\n",
    "\n",
    "# 定义参数网格\n",
    "param_grid = {\n",
    "    'hidden_layer_sizes': [(50,), (100,)],\n",
    "    'activation': ['relu', 'tanh'],\n",
    "    'solver': ['adam'],\n",
    "    'learning_rate_init': [0.001, 0.01]\n",
    "}\n",
    "\n",
    "# 定义交叉验证策略\n",
    "cv = StratifiedKFold(n_splits=3, shuffle=True, random_state=42)\n",
    "\n",
    "# ── 3.1  Отсортируем обучающую выборку ──────────────────────────\n",
    "df_sorted = df.sort_values(['Type','I1']).reset_index(drop=True)\n",
    "X_sorted  = X_base.loc[df_sorted.index]\n",
    "\n",
    "# 修改这里，y_sorted转换为二分类标签，Type==5为1，其它为0\n",
    "y_sorted  = (y.loc[df_sorted.index] == 5).astype(int)\n",
    "\n",
    "# ── 3.2  Повторим GridSearch на отсортированных данных ─────────\n",
    "gs_sort = GridSearchCV(\n",
    "    MLPClassifier(max_iter=500),  # 建议加max_iter防止训练不收敛\n",
    "    param_grid,\n",
    "    cv=cv,\n",
    "    scoring='f1',\n",
    "    n_jobs=1,\n",
    "    verbose=2\n",
    ")\n",
    "gs_sort.fit(X_sorted, y_sorted)\n",
    "\n",
    "print('Sorted best F1:', gs_sort.best_score_.round(3))\n",
    "print(gs_sort.best_params_)\n",
    "best_sort = gs_sort.best_estimator_\n"
   ]
  },
  {
   "cell_type": "markdown",
   "id": "31dcefad-f85b-4bca-a3ca-36d784c97d4d",
   "metadata": {},
   "source": [
    "Sorted best F1: 0.891\n",
    "{'activation': 'logistic', 'hidden_layer_sizes': (20,), 'max_iter': 1000, 'random_state': 42, 'solver': 'lbfgs'}"
   ]
  },
  {
   "cell_type": "markdown",
   "id": "1d0305a7-7db1-4bba-a442-6bbec9600db5",
   "metadata": {},
   "source": [
    "## 4. Обучение сети на нормализованных данных\n"
   ]
  },
  {
   "cell_type": "code",
   "execution_count": 14,
   "id": "f5a94bcd-8cad-45f8-9c67-8e627857b892",
   "metadata": {},
   "outputs": [
    {
     "name": "stdout",
     "output_type": "stream",
     "text": [
      "Fitting 4 folds for each of 324 candidates, totalling 1296 fits\n",
      "[CV] END activation=tanh, hidden_layer_sizes=(5,), max_iter=500, random_state=0, solver=lbfgs; total time=   0.0s\n",
      "[CV] END activation=tanh, hidden_layer_sizes=(5,), max_iter=500, random_state=0, solver=lbfgs; total time=   0.0s\n",
      "[CV] END activation=tanh, hidden_layer_sizes=(5,), max_iter=500, random_state=0, solver=lbfgs; total time=   0.0s\n",
      "[CV] END activation=tanh, hidden_layer_sizes=(5,), max_iter=500, random_state=0, solver=lbfgs; total time=   0.0s\n"
     ]
    },
    {
     "name": "stderr",
     "output_type": "stream",
     "text": [
      "F:\\Anaconda\\Lib\\site-packages\\sklearn\\neural_network\\_multilayer_perceptron.py:690: ConvergenceWarning: Stochastic Optimizer: Maximum iterations (500) reached and the optimization hasn't converged yet.\n",
      "  warnings.warn(\n"
     ]
    },
    {
     "name": "stdout",
     "output_type": "stream",
     "text": [
      "[CV] END activation=tanh, hidden_layer_sizes=(5,), max_iter=500, random_state=0, solver=adam; total time=   0.1s\n"
     ]
    },
    {
     "name": "stderr",
     "output_type": "stream",
     "text": [
      "F:\\Anaconda\\Lib\\site-packages\\sklearn\\neural_network\\_multilayer_perceptron.py:690: ConvergenceWarning: Stochastic Optimizer: Maximum iterations (500) reached and the optimization hasn't converged yet.\n",
      "  warnings.warn(\n"
     ]
    },
    {
     "name": "stdout",
     "output_type": "stream",
     "text": [
      "[CV] END activation=tanh, hidden_layer_sizes=(5,), max_iter=500, random_state=0, solver=adam; total time=   0.2s\n"
     ]
    },
    {
     "name": "stderr",
     "output_type": "stream",
     "text": [
      "F:\\Anaconda\\Lib\\site-packages\\sklearn\\neural_network\\_multilayer_perceptron.py:690: ConvergenceWarning: Stochastic Optimizer: Maximum iterations (500) reached and the optimization hasn't converged yet.\n",
      "  warnings.warn(\n"
     ]
    },
    {
     "name": "stdout",
     "output_type": "stream",
     "text": [
      "[CV] END activation=tanh, hidden_layer_sizes=(5,), max_iter=500, random_state=0, solver=adam; total time=   0.1s\n"
     ]
    },
    {
     "name": "stderr",
     "output_type": "stream",
     "text": [
      "F:\\Anaconda\\Lib\\site-packages\\sklearn\\neural_network\\_multilayer_perceptron.py:690: ConvergenceWarning: Stochastic Optimizer: Maximum iterations (500) reached and the optimization hasn't converged yet.\n",
      "  warnings.warn(\n"
     ]
    },
    {
     "name": "stdout",
     "output_type": "stream",
     "text": [
      "[CV] END activation=tanh, hidden_layer_sizes=(5,), max_iter=500, random_state=0, solver=adam; total time=   0.1s\n",
      "[CV] END activation=tanh, hidden_layer_sizes=(5,), max_iter=500, random_state=21, solver=lbfgs; total time=   0.0s\n",
      "[CV] END activation=tanh, hidden_layer_sizes=(5,), max_iter=500, random_state=21, solver=lbfgs; total time=   0.0s\n",
      "[CV] END activation=tanh, hidden_layer_sizes=(5,), max_iter=500, random_state=21, solver=lbfgs; total time=   0.0s\n",
      "[CV] END activation=tanh, hidden_layer_sizes=(5,), max_iter=500, random_state=21, solver=lbfgs; total time=   0.0s\n"
     ]
    },
    {
     "name": "stderr",
     "output_type": "stream",
     "text": [
      "F:\\Anaconda\\Lib\\site-packages\\sklearn\\neural_network\\_multilayer_perceptron.py:690: ConvergenceWarning: Stochastic Optimizer: Maximum iterations (500) reached and the optimization hasn't converged yet.\n",
      "  warnings.warn(\n"
     ]
    },
    {
     "name": "stdout",
     "output_type": "stream",
     "text": [
      "[CV] END activation=tanh, hidden_layer_sizes=(5,), max_iter=500, random_state=21, solver=adam; total time=   0.1s\n"
     ]
    },
    {
     "name": "stderr",
     "output_type": "stream",
     "text": [
      "F:\\Anaconda\\Lib\\site-packages\\sklearn\\neural_network\\_multilayer_perceptron.py:690: ConvergenceWarning: Stochastic Optimizer: Maximum iterations (500) reached and the optimization hasn't converged yet.\n",
      "  warnings.warn(\n",
      "F:\\Anaconda\\Lib\\site-packages\\sklearn\\neural_network\\_multilayer_perceptron.py:690: ConvergenceWarning: Stochastic Optimizer: Maximum iterations (500) reached and the optimization hasn't converged yet.\n",
      "  warnings.warn(\n"
     ]
    },
    {
     "name": "stdout",
     "output_type": "stream",
     "text": [
      "[CV] END activation=tanh, hidden_layer_sizes=(5,), max_iter=500, random_state=21, solver=adam; total time=   0.2s\n",
      "[CV] END activation=tanh, hidden_layer_sizes=(5,), max_iter=500, random_state=21, solver=adam; total time=   0.1s\n"
     ]
    },
    {
     "name": "stderr",
     "output_type": "stream",
     "text": [
      "F:\\Anaconda\\Lib\\site-packages\\sklearn\\neural_network\\_multilayer_perceptron.py:690: ConvergenceWarning: Stochastic Optimizer: Maximum iterations (500) reached and the optimization hasn't converged yet.\n",
      "  warnings.warn(\n"
     ]
    },
    {
     "name": "stdout",
     "output_type": "stream",
     "text": [
      "[CV] END activation=tanh, hidden_layer_sizes=(5,), max_iter=500, random_state=21, solver=adam; total time=   0.1s\n",
      "[CV] END activation=tanh, hidden_layer_sizes=(5,), max_iter=500, random_state=42, solver=lbfgs; total time=   0.0s\n",
      "[CV] END activation=tanh, hidden_layer_sizes=(5,), max_iter=500, random_state=42, solver=lbfgs; total time=   0.0s\n",
      "[CV] END activation=tanh, hidden_layer_sizes=(5,), max_iter=500, random_state=42, solver=lbfgs; total time=   0.0s\n",
      "[CV] END activation=tanh, hidden_layer_sizes=(5,), max_iter=500, random_state=42, solver=lbfgs; total time=   0.0s\n"
     ]
    },
    {
     "name": "stderr",
     "output_type": "stream",
     "text": [
      "F:\\Anaconda\\Lib\\site-packages\\sklearn\\neural_network\\_multilayer_perceptron.py:690: ConvergenceWarning: Stochastic Optimizer: Maximum iterations (500) reached and the optimization hasn't converged yet.\n",
      "  warnings.warn(\n"
     ]
    },
    {
     "name": "stdout",
     "output_type": "stream",
     "text": [
      "[CV] END activation=tanh, hidden_layer_sizes=(5,), max_iter=500, random_state=42, solver=adam; total time=   0.1s\n"
     ]
    },
    {
     "name": "stderr",
     "output_type": "stream",
     "text": [
      "F:\\Anaconda\\Lib\\site-packages\\sklearn\\neural_network\\_multilayer_perceptron.py:690: ConvergenceWarning: Stochastic Optimizer: Maximum iterations (500) reached and the optimization hasn't converged yet.\n",
      "  warnings.warn(\n"
     ]
    },
    {
     "name": "stdout",
     "output_type": "stream",
     "text": [
      "[CV] END activation=tanh, hidden_layer_sizes=(5,), max_iter=500, random_state=42, solver=adam; total time=   0.2s\n"
     ]
    },
    {
     "name": "stderr",
     "output_type": "stream",
     "text": [
      "F:\\Anaconda\\Lib\\site-packages\\sklearn\\neural_network\\_multilayer_perceptron.py:690: ConvergenceWarning: Stochastic Optimizer: Maximum iterations (500) reached and the optimization hasn't converged yet.\n",
      "  warnings.warn(\n"
     ]
    },
    {
     "name": "stdout",
     "output_type": "stream",
     "text": [
      "[CV] END activation=tanh, hidden_layer_sizes=(5,), max_iter=500, random_state=42, solver=adam; total time=   0.1s\n"
     ]
    },
    {
     "name": "stderr",
     "output_type": "stream",
     "text": [
      "F:\\Anaconda\\Lib\\site-packages\\sklearn\\neural_network\\_multilayer_perceptron.py:690: ConvergenceWarning: Stochastic Optimizer: Maximum iterations (500) reached and the optimization hasn't converged yet.\n",
      "  warnings.warn(\n"
     ]
    },
    {
     "name": "stdout",
     "output_type": "stream",
     "text": [
      "[CV] END activation=tanh, hidden_layer_sizes=(5,), max_iter=500, random_state=42, solver=adam; total time=   0.1s\n",
      "[CV] END activation=tanh, hidden_layer_sizes=(5,), max_iter=1000, random_state=0, solver=lbfgs; total time=   0.0s\n",
      "[CV] END activation=tanh, hidden_layer_sizes=(5,), max_iter=1000, random_state=0, solver=lbfgs; total time=   0.0s\n",
      "[CV] END activation=tanh, hidden_layer_sizes=(5,), max_iter=1000, random_state=0, solver=lbfgs; total time=   0.0s\n",
      "[CV] END activation=tanh, hidden_layer_sizes=(5,), max_iter=1000, random_state=0, solver=lbfgs; total time=   0.0s\n"
     ]
    },
    {
     "name": "stderr",
     "output_type": "stream",
     "text": [
      "F:\\Anaconda\\Lib\\site-packages\\sklearn\\neural_network\\_multilayer_perceptron.py:690: ConvergenceWarning: Stochastic Optimizer: Maximum iterations (1000) reached and the optimization hasn't converged yet.\n",
      "  warnings.warn(\n"
     ]
    },
    {
     "name": "stdout",
     "output_type": "stream",
     "text": [
      "[CV] END activation=tanh, hidden_layer_sizes=(5,), max_iter=1000, random_state=0, solver=adam; total time=   0.3s\n"
     ]
    },
    {
     "name": "stderr",
     "output_type": "stream",
     "text": [
      "F:\\Anaconda\\Lib\\site-packages\\sklearn\\neural_network\\_multilayer_perceptron.py:690: ConvergenceWarning: Stochastic Optimizer: Maximum iterations (1000) reached and the optimization hasn't converged yet.\n",
      "  warnings.warn(\n"
     ]
    },
    {
     "name": "stdout",
     "output_type": "stream",
     "text": [
      "[CV] END activation=tanh, hidden_layer_sizes=(5,), max_iter=1000, random_state=0, solver=adam; total time=   0.4s\n"
     ]
    },
    {
     "name": "stderr",
     "output_type": "stream",
     "text": [
      "F:\\Anaconda\\Lib\\site-packages\\sklearn\\neural_network\\_multilayer_perceptron.py:690: ConvergenceWarning: Stochastic Optimizer: Maximum iterations (1000) reached and the optimization hasn't converged yet.\n",
      "  warnings.warn(\n"
     ]
    },
    {
     "name": "stdout",
     "output_type": "stream",
     "text": [
      "[CV] END activation=tanh, hidden_layer_sizes=(5,), max_iter=1000, random_state=0, solver=adam; total time=   0.4s\n"
     ]
    },
    {
     "name": "stderr",
     "output_type": "stream",
     "text": [
      "F:\\Anaconda\\Lib\\site-packages\\sklearn\\neural_network\\_multilayer_perceptron.py:690: ConvergenceWarning: Stochastic Optimizer: Maximum iterations (1000) reached and the optimization hasn't converged yet.\n",
      "  warnings.warn(\n"
     ]
    },
    {
     "name": "stdout",
     "output_type": "stream",
     "text": [
      "[CV] END activation=tanh, hidden_layer_sizes=(5,), max_iter=1000, random_state=0, solver=adam; total time=   0.4s\n",
      "[CV] END activation=tanh, hidden_layer_sizes=(5,), max_iter=1000, random_state=21, solver=lbfgs; total time=   0.0s\n",
      "[CV] END activation=tanh, hidden_layer_sizes=(5,), max_iter=1000, random_state=21, solver=lbfgs; total time=   0.0s\n",
      "[CV] END activation=tanh, hidden_layer_sizes=(5,), max_iter=1000, random_state=21, solver=lbfgs; total time=   0.0s\n",
      "[CV] END activation=tanh, hidden_layer_sizes=(5,), max_iter=1000, random_state=21, solver=lbfgs; total time=   0.0s\n"
     ]
    },
    {
     "name": "stderr",
     "output_type": "stream",
     "text": [
      "F:\\Anaconda\\Lib\\site-packages\\sklearn\\neural_network\\_multilayer_perceptron.py:690: ConvergenceWarning: Stochastic Optimizer: Maximum iterations (1000) reached and the optimization hasn't converged yet.\n",
      "  warnings.warn(\n"
     ]
    },
    {
     "name": "stdout",
     "output_type": "stream",
     "text": [
      "[CV] END activation=tanh, hidden_layer_sizes=(5,), max_iter=1000, random_state=21, solver=adam; total time=   0.3s\n"
     ]
    },
    {
     "name": "stderr",
     "output_type": "stream",
     "text": [
      "F:\\Anaconda\\Lib\\site-packages\\sklearn\\neural_network\\_multilayer_perceptron.py:690: ConvergenceWarning: Stochastic Optimizer: Maximum iterations (1000) reached and the optimization hasn't converged yet.\n",
      "  warnings.warn(\n"
     ]
    },
    {
     "name": "stdout",
     "output_type": "stream",
     "text": [
      "[CV] END activation=tanh, hidden_layer_sizes=(5,), max_iter=1000, random_state=21, solver=adam; total time=   0.3s\n"
     ]
    },
    {
     "name": "stderr",
     "output_type": "stream",
     "text": [
      "F:\\Anaconda\\Lib\\site-packages\\sklearn\\neural_network\\_multilayer_perceptron.py:690: ConvergenceWarning: Stochastic Optimizer: Maximum iterations (1000) reached and the optimization hasn't converged yet.\n",
      "  warnings.warn(\n"
     ]
    },
    {
     "name": "stdout",
     "output_type": "stream",
     "text": [
      "[CV] END activation=tanh, hidden_layer_sizes=(5,), max_iter=1000, random_state=21, solver=adam; total time=   0.4s\n"
     ]
    },
    {
     "name": "stderr",
     "output_type": "stream",
     "text": [
      "F:\\Anaconda\\Lib\\site-packages\\sklearn\\neural_network\\_multilayer_perceptron.py:690: ConvergenceWarning: Stochastic Optimizer: Maximum iterations (1000) reached and the optimization hasn't converged yet.\n",
      "  warnings.warn(\n"
     ]
    },
    {
     "name": "stdout",
     "output_type": "stream",
     "text": [
      "[CV] END activation=tanh, hidden_layer_sizes=(5,), max_iter=1000, random_state=21, solver=adam; total time=   0.3s\n",
      "[CV] END activation=tanh, hidden_layer_sizes=(5,), max_iter=1000, random_state=42, solver=lbfgs; total time=   0.0s\n",
      "[CV] END activation=tanh, hidden_layer_sizes=(5,), max_iter=1000, random_state=42, solver=lbfgs; total time=   0.0s\n",
      "[CV] END activation=tanh, hidden_layer_sizes=(5,), max_iter=1000, random_state=42, solver=lbfgs; total time=   0.0s\n",
      "[CV] END activation=tanh, hidden_layer_sizes=(5,), max_iter=1000, random_state=42, solver=lbfgs; total time=   0.0s\n"
     ]
    },
    {
     "name": "stderr",
     "output_type": "stream",
     "text": [
      "F:\\Anaconda\\Lib\\site-packages\\sklearn\\neural_network\\_multilayer_perceptron.py:690: ConvergenceWarning: Stochastic Optimizer: Maximum iterations (1000) reached and the optimization hasn't converged yet.\n",
      "  warnings.warn(\n"
     ]
    },
    {
     "name": "stdout",
     "output_type": "stream",
     "text": [
      "[CV] END activation=tanh, hidden_layer_sizes=(5,), max_iter=1000, random_state=42, solver=adam; total time=   0.3s\n"
     ]
    },
    {
     "name": "stderr",
     "output_type": "stream",
     "text": [
      "F:\\Anaconda\\Lib\\site-packages\\sklearn\\neural_network\\_multilayer_perceptron.py:690: ConvergenceWarning: Stochastic Optimizer: Maximum iterations (1000) reached and the optimization hasn't converged yet.\n",
      "  warnings.warn(\n"
     ]
    },
    {
     "name": "stdout",
     "output_type": "stream",
     "text": [
      "[CV] END activation=tanh, hidden_layer_sizes=(5,), max_iter=1000, random_state=42, solver=adam; total time=   0.3s\n",
      "[CV] END activation=tanh, hidden_layer_sizes=(5,), max_iter=1000, random_state=42, solver=adam; total time=   0.4s\n"
     ]
    },
    {
     "name": "stderr",
     "output_type": "stream",
     "text": [
      "F:\\Anaconda\\Lib\\site-packages\\sklearn\\neural_network\\_multilayer_perceptron.py:690: ConvergenceWarning: Stochastic Optimizer: Maximum iterations (1000) reached and the optimization hasn't converged yet.\n",
      "  warnings.warn(\n"
     ]
    },
    {
     "name": "stdout",
     "output_type": "stream",
     "text": [
      "[CV] END activation=tanh, hidden_layer_sizes=(5,), max_iter=1000, random_state=42, solver=adam; total time=   0.4s\n",
      "[CV] END activation=tanh, hidden_layer_sizes=(5,), max_iter=1000, random_state=0, solver=lbfgs; total time=   0.0s\n",
      "[CV] END activation=tanh, hidden_layer_sizes=(5,), max_iter=1000, random_state=0, solver=lbfgs; total time=   0.0s\n",
      "[CV] END activation=tanh, hidden_layer_sizes=(5,), max_iter=1000, random_state=0, solver=lbfgs; total time=   0.0s\n",
      "[CV] END activation=tanh, hidden_layer_sizes=(5,), max_iter=1000, random_state=0, solver=lbfgs; total time=   0.0s\n"
     ]
    },
    {
     "name": "stderr",
     "output_type": "stream",
     "text": [
      "F:\\Anaconda\\Lib\\site-packages\\sklearn\\neural_network\\_multilayer_perceptron.py:690: ConvergenceWarning: Stochastic Optimizer: Maximum iterations (1000) reached and the optimization hasn't converged yet.\n",
      "  warnings.warn(\n"
     ]
    },
    {
     "name": "stdout",
     "output_type": "stream",
     "text": [
      "[CV] END activation=tanh, hidden_layer_sizes=(5,), max_iter=1000, random_state=0, solver=adam; total time=   0.3s\n"
     ]
    },
    {
     "name": "stderr",
     "output_type": "stream",
     "text": [
      "F:\\Anaconda\\Lib\\site-packages\\sklearn\\neural_network\\_multilayer_perceptron.py:690: ConvergenceWarning: Stochastic Optimizer: Maximum iterations (1000) reached and the optimization hasn't converged yet.\n",
      "  warnings.warn(\n"
     ]
    },
    {
     "name": "stdout",
     "output_type": "stream",
     "text": [
      "[CV] END activation=tanh, hidden_layer_sizes=(5,), max_iter=1000, random_state=0, solver=adam; total time=   0.3s\n"
     ]
    },
    {
     "name": "stderr",
     "output_type": "stream",
     "text": [
      "F:\\Anaconda\\Lib\\site-packages\\sklearn\\neural_network\\_multilayer_perceptron.py:690: ConvergenceWarning: Stochastic Optimizer: Maximum iterations (1000) reached and the optimization hasn't converged yet.\n",
      "  warnings.warn(\n"
     ]
    },
    {
     "name": "stdout",
     "output_type": "stream",
     "text": [
      "[CV] END activation=tanh, hidden_layer_sizes=(5,), max_iter=1000, random_state=0, solver=adam; total time=   0.3s\n"
     ]
    },
    {
     "name": "stderr",
     "output_type": "stream",
     "text": [
      "F:\\Anaconda\\Lib\\site-packages\\sklearn\\neural_network\\_multilayer_perceptron.py:690: ConvergenceWarning: Stochastic Optimizer: Maximum iterations (1000) reached and the optimization hasn't converged yet.\n",
      "  warnings.warn(\n"
     ]
    },
    {
     "name": "stdout",
     "output_type": "stream",
     "text": [
      "[CV] END activation=tanh, hidden_layer_sizes=(5,), max_iter=1000, random_state=0, solver=adam; total time=   0.2s\n",
      "[CV] END activation=tanh, hidden_layer_sizes=(5,), max_iter=1000, random_state=21, solver=lbfgs; total time=   0.0s\n",
      "[CV] END activation=tanh, hidden_layer_sizes=(5,), max_iter=1000, random_state=21, solver=lbfgs; total time=   0.0s\n",
      "[CV] END activation=tanh, hidden_layer_sizes=(5,), max_iter=1000, random_state=21, solver=lbfgs; total time=   0.0s\n",
      "[CV] END activation=tanh, hidden_layer_sizes=(5,), max_iter=1000, random_state=21, solver=lbfgs; total time=   0.0s\n"
     ]
    },
    {
     "name": "stderr",
     "output_type": "stream",
     "text": [
      "F:\\Anaconda\\Lib\\site-packages\\sklearn\\neural_network\\_multilayer_perceptron.py:690: ConvergenceWarning: Stochastic Optimizer: Maximum iterations (1000) reached and the optimization hasn't converged yet.\n",
      "  warnings.warn(\n"
     ]
    },
    {
     "name": "stdout",
     "output_type": "stream",
     "text": [
      "[CV] END activation=tanh, hidden_layer_sizes=(5,), max_iter=1000, random_state=21, solver=adam; total time=   0.2s\n"
     ]
    },
    {
     "name": "stderr",
     "output_type": "stream",
     "text": [
      "F:\\Anaconda\\Lib\\site-packages\\sklearn\\neural_network\\_multilayer_perceptron.py:690: ConvergenceWarning: Stochastic Optimizer: Maximum iterations (1000) reached and the optimization hasn't converged yet.\n",
      "  warnings.warn(\n"
     ]
    },
    {
     "name": "stdout",
     "output_type": "stream",
     "text": [
      "[CV] END activation=tanh, hidden_layer_sizes=(5,), max_iter=1000, random_state=21, solver=adam; total time=   0.3s\n"
     ]
    },
    {
     "name": "stderr",
     "output_type": "stream",
     "text": [
      "F:\\Anaconda\\Lib\\site-packages\\sklearn\\neural_network\\_multilayer_perceptron.py:690: ConvergenceWarning: Stochastic Optimizer: Maximum iterations (1000) reached and the optimization hasn't converged yet.\n",
      "  warnings.warn(\n"
     ]
    },
    {
     "name": "stdout",
     "output_type": "stream",
     "text": [
      "[CV] END activation=tanh, hidden_layer_sizes=(5,), max_iter=1000, random_state=21, solver=adam; total time=   0.4s\n"
     ]
    },
    {
     "name": "stderr",
     "output_type": "stream",
     "text": [
      "F:\\Anaconda\\Lib\\site-packages\\sklearn\\neural_network\\_multilayer_perceptron.py:690: ConvergenceWarning: Stochastic Optimizer: Maximum iterations (1000) reached and the optimization hasn't converged yet.\n",
      "  warnings.warn(\n"
     ]
    },
    {
     "name": "stdout",
     "output_type": "stream",
     "text": [
      "[CV] END activation=tanh, hidden_layer_sizes=(5,), max_iter=1000, random_state=21, solver=adam; total time=   0.3s\n",
      "[CV] END activation=tanh, hidden_layer_sizes=(5,), max_iter=1000, random_state=42, solver=lbfgs; total time=   0.0s\n",
      "[CV] END activation=tanh, hidden_layer_sizes=(5,), max_iter=1000, random_state=42, solver=lbfgs; total time=   0.0s\n",
      "[CV] END activation=tanh, hidden_layer_sizes=(5,), max_iter=1000, random_state=42, solver=lbfgs; total time=   0.0s\n",
      "[CV] END activation=tanh, hidden_layer_sizes=(5,), max_iter=1000, random_state=42, solver=lbfgs; total time=   0.0s\n"
     ]
    },
    {
     "name": "stderr",
     "output_type": "stream",
     "text": [
      "F:\\Anaconda\\Lib\\site-packages\\sklearn\\neural_network\\_multilayer_perceptron.py:690: ConvergenceWarning: Stochastic Optimizer: Maximum iterations (1000) reached and the optimization hasn't converged yet.\n",
      "  warnings.warn(\n"
     ]
    },
    {
     "name": "stdout",
     "output_type": "stream",
     "text": [
      "[CV] END activation=tanh, hidden_layer_sizes=(5,), max_iter=1000, random_state=42, solver=adam; total time=   0.3s\n"
     ]
    },
    {
     "name": "stderr",
     "output_type": "stream",
     "text": [
      "F:\\Anaconda\\Lib\\site-packages\\sklearn\\neural_network\\_multilayer_perceptron.py:690: ConvergenceWarning: Stochastic Optimizer: Maximum iterations (1000) reached and the optimization hasn't converged yet.\n",
      "  warnings.warn(\n"
     ]
    },
    {
     "name": "stdout",
     "output_type": "stream",
     "text": [
      "[CV] END activation=tanh, hidden_layer_sizes=(5,), max_iter=1000, random_state=42, solver=adam; total time=   0.4s\n",
      "[CV] END activation=tanh, hidden_layer_sizes=(5,), max_iter=1000, random_state=42, solver=adam; total time=   0.3s\n"
     ]
    },
    {
     "name": "stderr",
     "output_type": "stream",
     "text": [
      "F:\\Anaconda\\Lib\\site-packages\\sklearn\\neural_network\\_multilayer_perceptron.py:690: ConvergenceWarning: Stochastic Optimizer: Maximum iterations (1000) reached and the optimization hasn't converged yet.\n",
      "  warnings.warn(\n"
     ]
    },
    {
     "name": "stdout",
     "output_type": "stream",
     "text": [
      "[CV] END activation=tanh, hidden_layer_sizes=(5,), max_iter=1000, random_state=42, solver=adam; total time=   0.3s\n",
      "[CV] END activation=tanh, hidden_layer_sizes=(10,), max_iter=500, random_state=0, solver=lbfgs; total time=   0.0s\n",
      "[CV] END activation=tanh, hidden_layer_sizes=(10,), max_iter=500, random_state=0, solver=lbfgs; total time=   0.0s\n",
      "[CV] END activation=tanh, hidden_layer_sizes=(10,), max_iter=500, random_state=0, solver=lbfgs; total time=   0.0s\n",
      "[CV] END activation=tanh, hidden_layer_sizes=(10,), max_iter=500, random_state=0, solver=lbfgs; total time=   0.0s\n"
     ]
    },
    {
     "name": "stderr",
     "output_type": "stream",
     "text": [
      "F:\\Anaconda\\Lib\\site-packages\\sklearn\\neural_network\\_multilayer_perceptron.py:690: ConvergenceWarning: Stochastic Optimizer: Maximum iterations (500) reached and the optimization hasn't converged yet.\n",
      "  warnings.warn(\n"
     ]
    },
    {
     "name": "stdout",
     "output_type": "stream",
     "text": [
      "[CV] END activation=tanh, hidden_layer_sizes=(10,), max_iter=500, random_state=0, solver=adam; total time=   0.2s\n"
     ]
    },
    {
     "name": "stderr",
     "output_type": "stream",
     "text": [
      "F:\\Anaconda\\Lib\\site-packages\\sklearn\\neural_network\\_multilayer_perceptron.py:690: ConvergenceWarning: Stochastic Optimizer: Maximum iterations (500) reached and the optimization hasn't converged yet.\n",
      "  warnings.warn(\n"
     ]
    },
    {
     "name": "stdout",
     "output_type": "stream",
     "text": [
      "[CV] END activation=tanh, hidden_layer_sizes=(10,), max_iter=500, random_state=0, solver=adam; total time=   0.1s\n"
     ]
    },
    {
     "name": "stderr",
     "output_type": "stream",
     "text": [
      "F:\\Anaconda\\Lib\\site-packages\\sklearn\\neural_network\\_multilayer_perceptron.py:690: ConvergenceWarning: Stochastic Optimizer: Maximum iterations (500) reached and the optimization hasn't converged yet.\n",
      "  warnings.warn(\n"
     ]
    },
    {
     "name": "stdout",
     "output_type": "stream",
     "text": [
      "[CV] END activation=tanh, hidden_layer_sizes=(10,), max_iter=500, random_state=0, solver=adam; total time=   0.1s\n"
     ]
    },
    {
     "name": "stderr",
     "output_type": "stream",
     "text": [
      "F:\\Anaconda\\Lib\\site-packages\\sklearn\\neural_network\\_multilayer_perceptron.py:690: ConvergenceWarning: Stochastic Optimizer: Maximum iterations (500) reached and the optimization hasn't converged yet.\n",
      "  warnings.warn(\n"
     ]
    },
    {
     "name": "stdout",
     "output_type": "stream",
     "text": [
      "[CV] END activation=tanh, hidden_layer_sizes=(10,), max_iter=500, random_state=0, solver=adam; total time=   0.2s\n",
      "[CV] END activation=tanh, hidden_layer_sizes=(10,), max_iter=500, random_state=21, solver=lbfgs; total time=   0.0s\n",
      "[CV] END activation=tanh, hidden_layer_sizes=(10,), max_iter=500, random_state=21, solver=lbfgs; total time=   0.0s\n",
      "[CV] END activation=tanh, hidden_layer_sizes=(10,), max_iter=500, random_state=21, solver=lbfgs; total time=   0.0s\n",
      "[CV] END activation=tanh, hidden_layer_sizes=(10,), max_iter=500, random_state=21, solver=lbfgs; total time=   0.0s\n"
     ]
    },
    {
     "name": "stderr",
     "output_type": "stream",
     "text": [
      "F:\\Anaconda\\Lib\\site-packages\\sklearn\\neural_network\\_multilayer_perceptron.py:690: ConvergenceWarning: Stochastic Optimizer: Maximum iterations (500) reached and the optimization hasn't converged yet.\n",
      "  warnings.warn(\n"
     ]
    },
    {
     "name": "stdout",
     "output_type": "stream",
     "text": [
      "[CV] END activation=tanh, hidden_layer_sizes=(10,), max_iter=500, random_state=21, solver=adam; total time=   0.1s\n"
     ]
    },
    {
     "name": "stderr",
     "output_type": "stream",
     "text": [
      "F:\\Anaconda\\Lib\\site-packages\\sklearn\\neural_network\\_multilayer_perceptron.py:690: ConvergenceWarning: Stochastic Optimizer: Maximum iterations (500) reached and the optimization hasn't converged yet.\n",
      "  warnings.warn(\n"
     ]
    },
    {
     "name": "stdout",
     "output_type": "stream",
     "text": [
      "[CV] END activation=tanh, hidden_layer_sizes=(10,), max_iter=500, random_state=21, solver=adam; total time=   0.2s\n"
     ]
    },
    {
     "name": "stderr",
     "output_type": "stream",
     "text": [
      "F:\\Anaconda\\Lib\\site-packages\\sklearn\\neural_network\\_multilayer_perceptron.py:690: ConvergenceWarning: Stochastic Optimizer: Maximum iterations (500) reached and the optimization hasn't converged yet.\n",
      "  warnings.warn(\n"
     ]
    },
    {
     "name": "stdout",
     "output_type": "stream",
     "text": [
      "[CV] END activation=tanh, hidden_layer_sizes=(10,), max_iter=500, random_state=21, solver=adam; total time=   0.2s\n"
     ]
    },
    {
     "name": "stderr",
     "output_type": "stream",
     "text": [
      "F:\\Anaconda\\Lib\\site-packages\\sklearn\\neural_network\\_multilayer_perceptron.py:690: ConvergenceWarning: Stochastic Optimizer: Maximum iterations (500) reached and the optimization hasn't converged yet.\n",
      "  warnings.warn(\n"
     ]
    },
    {
     "name": "stdout",
     "output_type": "stream",
     "text": [
      "[CV] END activation=tanh, hidden_layer_sizes=(10,), max_iter=500, random_state=21, solver=adam; total time=   0.1s\n",
      "[CV] END activation=tanh, hidden_layer_sizes=(10,), max_iter=500, random_state=42, solver=lbfgs; total time=   0.0s\n",
      "[CV] END activation=tanh, hidden_layer_sizes=(10,), max_iter=500, random_state=42, solver=lbfgs; total time=   0.0s\n",
      "[CV] END activation=tanh, hidden_layer_sizes=(10,), max_iter=500, random_state=42, solver=lbfgs; total time=   0.0s\n",
      "[CV] END activation=tanh, hidden_layer_sizes=(10,), max_iter=500, random_state=42, solver=lbfgs; total time=   0.0s\n"
     ]
    },
    {
     "name": "stderr",
     "output_type": "stream",
     "text": [
      "F:\\Anaconda\\Lib\\site-packages\\sklearn\\neural_network\\_multilayer_perceptron.py:690: ConvergenceWarning: Stochastic Optimizer: Maximum iterations (500) reached and the optimization hasn't converged yet.\n",
      "  warnings.warn(\n"
     ]
    },
    {
     "name": "stdout",
     "output_type": "stream",
     "text": [
      "[CV] END activation=tanh, hidden_layer_sizes=(10,), max_iter=500, random_state=42, solver=adam; total time=   0.2s\n"
     ]
    },
    {
     "name": "stderr",
     "output_type": "stream",
     "text": [
      "F:\\Anaconda\\Lib\\site-packages\\sklearn\\neural_network\\_multilayer_perceptron.py:690: ConvergenceWarning: Stochastic Optimizer: Maximum iterations (500) reached and the optimization hasn't converged yet.\n",
      "  warnings.warn(\n"
     ]
    },
    {
     "name": "stdout",
     "output_type": "stream",
     "text": [
      "[CV] END activation=tanh, hidden_layer_sizes=(10,), max_iter=500, random_state=42, solver=adam; total time=   0.1s\n"
     ]
    },
    {
     "name": "stderr",
     "output_type": "stream",
     "text": [
      "F:\\Anaconda\\Lib\\site-packages\\sklearn\\neural_network\\_multilayer_perceptron.py:690: ConvergenceWarning: Stochastic Optimizer: Maximum iterations (500) reached and the optimization hasn't converged yet.\n",
      "  warnings.warn(\n"
     ]
    },
    {
     "name": "stdout",
     "output_type": "stream",
     "text": [
      "[CV] END activation=tanh, hidden_layer_sizes=(10,), max_iter=500, random_state=42, solver=adam; total time=   0.2s\n"
     ]
    },
    {
     "name": "stderr",
     "output_type": "stream",
     "text": [
      "F:\\Anaconda\\Lib\\site-packages\\sklearn\\neural_network\\_multilayer_perceptron.py:690: ConvergenceWarning: Stochastic Optimizer: Maximum iterations (500) reached and the optimization hasn't converged yet.\n",
      "  warnings.warn(\n"
     ]
    },
    {
     "name": "stdout",
     "output_type": "stream",
     "text": [
      "[CV] END activation=tanh, hidden_layer_sizes=(10,), max_iter=500, random_state=42, solver=adam; total time=   0.2s\n",
      "[CV] END activation=tanh, hidden_layer_sizes=(10,), max_iter=1000, random_state=0, solver=lbfgs; total time=   0.0s\n",
      "[CV] END activation=tanh, hidden_layer_sizes=(10,), max_iter=1000, random_state=0, solver=lbfgs; total time=   0.0s\n",
      "[CV] END activation=tanh, hidden_layer_sizes=(10,), max_iter=1000, random_state=0, solver=lbfgs; total time=   0.0s\n",
      "[CV] END activation=tanh, hidden_layer_sizes=(10,), max_iter=1000, random_state=0, solver=lbfgs; total time=   0.0s\n",
      "[CV] END activation=tanh, hidden_layer_sizes=(10,), max_iter=1000, random_state=0, solver=adam; total time=   0.3s\n",
      "[CV] END activation=tanh, hidden_layer_sizes=(10,), max_iter=1000, random_state=0, solver=adam; total time=   0.3s\n",
      "[CV] END activation=tanh, hidden_layer_sizes=(10,), max_iter=1000, random_state=0, solver=adam; total time=   0.2s\n",
      "[CV] END activation=tanh, hidden_layer_sizes=(10,), max_iter=1000, random_state=0, solver=adam; total time=   0.3s\n",
      "[CV] END activation=tanh, hidden_layer_sizes=(10,), max_iter=1000, random_state=21, solver=lbfgs; total time=   0.0s\n",
      "[CV] END activation=tanh, hidden_layer_sizes=(10,), max_iter=1000, random_state=21, solver=lbfgs; total time=   0.0s\n",
      "[CV] END activation=tanh, hidden_layer_sizes=(10,), max_iter=1000, random_state=21, solver=lbfgs; total time=   0.0s\n",
      "[CV] END activation=tanh, hidden_layer_sizes=(10,), max_iter=1000, random_state=21, solver=lbfgs; total time=   0.0s\n"
     ]
    },
    {
     "name": "stderr",
     "output_type": "stream",
     "text": [
      "F:\\Anaconda\\Lib\\site-packages\\sklearn\\neural_network\\_multilayer_perceptron.py:690: ConvergenceWarning: Stochastic Optimizer: Maximum iterations (1000) reached and the optimization hasn't converged yet.\n",
      "  warnings.warn(\n"
     ]
    },
    {
     "name": "stdout",
     "output_type": "stream",
     "text": [
      "[CV] END activation=tanh, hidden_layer_sizes=(10,), max_iter=1000, random_state=21, solver=adam; total time=   0.3s\n"
     ]
    },
    {
     "name": "stderr",
     "output_type": "stream",
     "text": [
      "F:\\Anaconda\\Lib\\site-packages\\sklearn\\neural_network\\_multilayer_perceptron.py:690: ConvergenceWarning: Stochastic Optimizer: Maximum iterations (1000) reached and the optimization hasn't converged yet.\n",
      "  warnings.warn(\n"
     ]
    },
    {
     "name": "stdout",
     "output_type": "stream",
     "text": [
      "[CV] END activation=tanh, hidden_layer_sizes=(10,), max_iter=1000, random_state=21, solver=adam; total time=   0.3s\n",
      "[CV] END activation=tanh, hidden_layer_sizes=(10,), max_iter=1000, random_state=21, solver=adam; total time=   0.3s\n"
     ]
    },
    {
     "name": "stderr",
     "output_type": "stream",
     "text": [
      "F:\\Anaconda\\Lib\\site-packages\\sklearn\\neural_network\\_multilayer_perceptron.py:690: ConvergenceWarning: Stochastic Optimizer: Maximum iterations (1000) reached and the optimization hasn't converged yet.\n",
      "  warnings.warn(\n"
     ]
    },
    {
     "name": "stdout",
     "output_type": "stream",
     "text": [
      "[CV] END activation=tanh, hidden_layer_sizes=(10,), max_iter=1000, random_state=21, solver=adam; total time=   0.3s\n",
      "[CV] END activation=tanh, hidden_layer_sizes=(10,), max_iter=1000, random_state=42, solver=lbfgs; total time=   0.0s\n",
      "[CV] END activation=tanh, hidden_layer_sizes=(10,), max_iter=1000, random_state=42, solver=lbfgs; total time=   0.0s\n",
      "[CV] END activation=tanh, hidden_layer_sizes=(10,), max_iter=1000, random_state=42, solver=lbfgs; total time=   0.0s\n",
      "[CV] END activation=tanh, hidden_layer_sizes=(10,), max_iter=1000, random_state=42, solver=lbfgs; total time=   0.0s\n",
      "[CV] END activation=tanh, hidden_layer_sizes=(10,), max_iter=1000, random_state=42, solver=adam; total time=   0.3s\n",
      "[CV] END activation=tanh, hidden_layer_sizes=(10,), max_iter=1000, random_state=42, solver=adam; total time=   0.3s\n",
      "[CV] END activation=tanh, hidden_layer_sizes=(10,), max_iter=1000, random_state=42, solver=adam; total time=   0.2s\n",
      "[CV] END activation=tanh, hidden_layer_sizes=(10,), max_iter=1000, random_state=42, solver=adam; total time=   0.4s\n",
      "[CV] END activation=tanh, hidden_layer_sizes=(10,), max_iter=1000, random_state=0, solver=lbfgs; total time=   0.0s\n",
      "[CV] END activation=tanh, hidden_layer_sizes=(10,), max_iter=1000, random_state=0, solver=lbfgs; total time=   0.0s\n",
      "[CV] END activation=tanh, hidden_layer_sizes=(10,), max_iter=1000, random_state=0, solver=lbfgs; total time=   0.0s\n",
      "[CV] END activation=tanh, hidden_layer_sizes=(10,), max_iter=1000, random_state=0, solver=lbfgs; total time=   0.0s\n",
      "[CV] END activation=tanh, hidden_layer_sizes=(10,), max_iter=1000, random_state=0, solver=adam; total time=   0.3s\n",
      "[CV] END activation=tanh, hidden_layer_sizes=(10,), max_iter=1000, random_state=0, solver=adam; total time=   0.4s\n",
      "[CV] END activation=tanh, hidden_layer_sizes=(10,), max_iter=1000, random_state=0, solver=adam; total time=   0.3s\n",
      "[CV] END activation=tanh, hidden_layer_sizes=(10,), max_iter=1000, random_state=0, solver=adam; total time=   0.4s\n",
      "[CV] END activation=tanh, hidden_layer_sizes=(10,), max_iter=1000, random_state=21, solver=lbfgs; total time=   0.0s\n",
      "[CV] END activation=tanh, hidden_layer_sizes=(10,), max_iter=1000, random_state=21, solver=lbfgs; total time=   0.0s\n",
      "[CV] END activation=tanh, hidden_layer_sizes=(10,), max_iter=1000, random_state=21, solver=lbfgs; total time=   0.0s\n",
      "[CV] END activation=tanh, hidden_layer_sizes=(10,), max_iter=1000, random_state=21, solver=lbfgs; total time=   0.0s\n"
     ]
    },
    {
     "name": "stderr",
     "output_type": "stream",
     "text": [
      "F:\\Anaconda\\Lib\\site-packages\\sklearn\\neural_network\\_multilayer_perceptron.py:690: ConvergenceWarning: Stochastic Optimizer: Maximum iterations (1000) reached and the optimization hasn't converged yet.\n",
      "  warnings.warn(\n"
     ]
    },
    {
     "name": "stdout",
     "output_type": "stream",
     "text": [
      "[CV] END activation=tanh, hidden_layer_sizes=(10,), max_iter=1000, random_state=21, solver=adam; total time=   0.3s\n"
     ]
    },
    {
     "name": "stderr",
     "output_type": "stream",
     "text": [
      "F:\\Anaconda\\Lib\\site-packages\\sklearn\\neural_network\\_multilayer_perceptron.py:690: ConvergenceWarning: Stochastic Optimizer: Maximum iterations (1000) reached and the optimization hasn't converged yet.\n",
      "  warnings.warn(\n"
     ]
    },
    {
     "name": "stdout",
     "output_type": "stream",
     "text": [
      "[CV] END activation=tanh, hidden_layer_sizes=(10,), max_iter=1000, random_state=21, solver=adam; total time=   0.4s\n",
      "[CV] END activation=tanh, hidden_layer_sizes=(10,), max_iter=1000, random_state=21, solver=adam; total time=   0.3s\n"
     ]
    },
    {
     "name": "stderr",
     "output_type": "stream",
     "text": [
      "F:\\Anaconda\\Lib\\site-packages\\sklearn\\neural_network\\_multilayer_perceptron.py:690: ConvergenceWarning: Stochastic Optimizer: Maximum iterations (1000) reached and the optimization hasn't converged yet.\n",
      "  warnings.warn(\n"
     ]
    },
    {
     "name": "stdout",
     "output_type": "stream",
     "text": [
      "[CV] END activation=tanh, hidden_layer_sizes=(10,), max_iter=1000, random_state=21, solver=adam; total time=   0.3s\n",
      "[CV] END activation=tanh, hidden_layer_sizes=(10,), max_iter=1000, random_state=42, solver=lbfgs; total time=   0.0s\n",
      "[CV] END activation=tanh, hidden_layer_sizes=(10,), max_iter=1000, random_state=42, solver=lbfgs; total time=   0.0s\n",
      "[CV] END activation=tanh, hidden_layer_sizes=(10,), max_iter=1000, random_state=42, solver=lbfgs; total time=   0.0s\n",
      "[CV] END activation=tanh, hidden_layer_sizes=(10,), max_iter=1000, random_state=42, solver=lbfgs; total time=   0.0s\n",
      "[CV] END activation=tanh, hidden_layer_sizes=(10,), max_iter=1000, random_state=42, solver=adam; total time=   0.3s\n",
      "[CV] END activation=tanh, hidden_layer_sizes=(10,), max_iter=1000, random_state=42, solver=adam; total time=   0.3s\n",
      "[CV] END activation=tanh, hidden_layer_sizes=(10,), max_iter=1000, random_state=42, solver=adam; total time=   0.2s\n",
      "[CV] END activation=tanh, hidden_layer_sizes=(10,), max_iter=1000, random_state=42, solver=adam; total time=   0.3s\n",
      "[CV] END activation=tanh, hidden_layer_sizes=(15,), max_iter=500, random_state=0, solver=lbfgs; total time=   0.0s\n",
      "[CV] END activation=tanh, hidden_layer_sizes=(15,), max_iter=500, random_state=0, solver=lbfgs; total time=   0.0s\n",
      "[CV] END activation=tanh, hidden_layer_sizes=(15,), max_iter=500, random_state=0, solver=lbfgs; total time=   0.0s\n",
      "[CV] END activation=tanh, hidden_layer_sizes=(15,), max_iter=500, random_state=0, solver=lbfgs; total time=   0.0s\n"
     ]
    },
    {
     "name": "stderr",
     "output_type": "stream",
     "text": [
      "F:\\Anaconda\\Lib\\site-packages\\sklearn\\neural_network\\_multilayer_perceptron.py:690: ConvergenceWarning: Stochastic Optimizer: Maximum iterations (500) reached and the optimization hasn't converged yet.\n",
      "  warnings.warn(\n"
     ]
    },
    {
     "name": "stdout",
     "output_type": "stream",
     "text": [
      "[CV] END activation=tanh, hidden_layer_sizes=(15,), max_iter=500, random_state=0, solver=adam; total time=   0.2s\n"
     ]
    },
    {
     "name": "stderr",
     "output_type": "stream",
     "text": [
      "F:\\Anaconda\\Lib\\site-packages\\sklearn\\neural_network\\_multilayer_perceptron.py:690: ConvergenceWarning: Stochastic Optimizer: Maximum iterations (500) reached and the optimization hasn't converged yet.\n",
      "  warnings.warn(\n"
     ]
    },
    {
     "name": "stdout",
     "output_type": "stream",
     "text": [
      "[CV] END activation=tanh, hidden_layer_sizes=(15,), max_iter=500, random_state=0, solver=adam; total time=   0.2s\n"
     ]
    },
    {
     "name": "stderr",
     "output_type": "stream",
     "text": [
      "F:\\Anaconda\\Lib\\site-packages\\sklearn\\neural_network\\_multilayer_perceptron.py:690: ConvergenceWarning: Stochastic Optimizer: Maximum iterations (500) reached and the optimization hasn't converged yet.\n",
      "  warnings.warn(\n"
     ]
    },
    {
     "name": "stdout",
     "output_type": "stream",
     "text": [
      "[CV] END activation=tanh, hidden_layer_sizes=(15,), max_iter=500, random_state=0, solver=adam; total time=   0.1s\n"
     ]
    },
    {
     "name": "stderr",
     "output_type": "stream",
     "text": [
      "F:\\Anaconda\\Lib\\site-packages\\sklearn\\neural_network\\_multilayer_perceptron.py:690: ConvergenceWarning: Stochastic Optimizer: Maximum iterations (500) reached and the optimization hasn't converged yet.\n",
      "  warnings.warn(\n"
     ]
    },
    {
     "name": "stdout",
     "output_type": "stream",
     "text": [
      "[CV] END activation=tanh, hidden_layer_sizes=(15,), max_iter=500, random_state=0, solver=adam; total time=   0.2s\n",
      "[CV] END activation=tanh, hidden_layer_sizes=(15,), max_iter=500, random_state=21, solver=lbfgs; total time=   0.0s\n",
      "[CV] END activation=tanh, hidden_layer_sizes=(15,), max_iter=500, random_state=21, solver=lbfgs; total time=   0.0s\n",
      "[CV] END activation=tanh, hidden_layer_sizes=(15,), max_iter=500, random_state=21, solver=lbfgs; total time=   0.0s\n",
      "[CV] END activation=tanh, hidden_layer_sizes=(15,), max_iter=500, random_state=21, solver=lbfgs; total time=   0.0s\n"
     ]
    },
    {
     "name": "stderr",
     "output_type": "stream",
     "text": [
      "F:\\Anaconda\\Lib\\site-packages\\sklearn\\neural_network\\_multilayer_perceptron.py:690: ConvergenceWarning: Stochastic Optimizer: Maximum iterations (500) reached and the optimization hasn't converged yet.\n",
      "  warnings.warn(\n"
     ]
    },
    {
     "name": "stdout",
     "output_type": "stream",
     "text": [
      "[CV] END activation=tanh, hidden_layer_sizes=(15,), max_iter=500, random_state=21, solver=adam; total time=   0.2s\n"
     ]
    },
    {
     "name": "stderr",
     "output_type": "stream",
     "text": [
      "F:\\Anaconda\\Lib\\site-packages\\sklearn\\neural_network\\_multilayer_perceptron.py:690: ConvergenceWarning: Stochastic Optimizer: Maximum iterations (500) reached and the optimization hasn't converged yet.\n",
      "  warnings.warn(\n"
     ]
    },
    {
     "name": "stdout",
     "output_type": "stream",
     "text": [
      "[CV] END activation=tanh, hidden_layer_sizes=(15,), max_iter=500, random_state=21, solver=adam; total time=   0.2s\n"
     ]
    },
    {
     "name": "stderr",
     "output_type": "stream",
     "text": [
      "F:\\Anaconda\\Lib\\site-packages\\sklearn\\neural_network\\_multilayer_perceptron.py:690: ConvergenceWarning: Stochastic Optimizer: Maximum iterations (500) reached and the optimization hasn't converged yet.\n",
      "  warnings.warn(\n",
      "F:\\Anaconda\\Lib\\site-packages\\sklearn\\neural_network\\_multilayer_perceptron.py:690: ConvergenceWarning: Stochastic Optimizer: Maximum iterations (500) reached and the optimization hasn't converged yet.\n",
      "  warnings.warn(\n"
     ]
    },
    {
     "name": "stdout",
     "output_type": "stream",
     "text": [
      "[CV] END activation=tanh, hidden_layer_sizes=(15,), max_iter=500, random_state=21, solver=adam; total time=   0.1s\n",
      "[CV] END activation=tanh, hidden_layer_sizes=(15,), max_iter=500, random_state=21, solver=adam; total time=   0.1s\n",
      "[CV] END activation=tanh, hidden_layer_sizes=(15,), max_iter=500, random_state=42, solver=lbfgs; total time=   0.0s\n",
      "[CV] END activation=tanh, hidden_layer_sizes=(15,), max_iter=500, random_state=42, solver=lbfgs; total time=   0.0s\n",
      "[CV] END activation=tanh, hidden_layer_sizes=(15,), max_iter=500, random_state=42, solver=lbfgs; total time=   0.0s\n",
      "[CV] END activation=tanh, hidden_layer_sizes=(15,), max_iter=500, random_state=42, solver=lbfgs; total time=   0.0s\n"
     ]
    },
    {
     "name": "stderr",
     "output_type": "stream",
     "text": [
      "F:\\Anaconda\\Lib\\site-packages\\sklearn\\neural_network\\_multilayer_perceptron.py:690: ConvergenceWarning: Stochastic Optimizer: Maximum iterations (500) reached and the optimization hasn't converged yet.\n",
      "  warnings.warn(\n"
     ]
    },
    {
     "name": "stdout",
     "output_type": "stream",
     "text": [
      "[CV] END activation=tanh, hidden_layer_sizes=(15,), max_iter=500, random_state=42, solver=adam; total time=   0.2s\n"
     ]
    },
    {
     "name": "stderr",
     "output_type": "stream",
     "text": [
      "F:\\Anaconda\\Lib\\site-packages\\sklearn\\neural_network\\_multilayer_perceptron.py:690: ConvergenceWarning: Stochastic Optimizer: Maximum iterations (500) reached and the optimization hasn't converged yet.\n",
      "  warnings.warn(\n"
     ]
    },
    {
     "name": "stdout",
     "output_type": "stream",
     "text": [
      "[CV] END activation=tanh, hidden_layer_sizes=(15,), max_iter=500, random_state=42, solver=adam; total time=   0.1s\n"
     ]
    },
    {
     "name": "stderr",
     "output_type": "stream",
     "text": [
      "F:\\Anaconda\\Lib\\site-packages\\sklearn\\neural_network\\_multilayer_perceptron.py:690: ConvergenceWarning: Stochastic Optimizer: Maximum iterations (500) reached and the optimization hasn't converged yet.\n",
      "  warnings.warn(\n"
     ]
    },
    {
     "name": "stdout",
     "output_type": "stream",
     "text": [
      "[CV] END activation=tanh, hidden_layer_sizes=(15,), max_iter=500, random_state=42, solver=adam; total time=   0.2s\n"
     ]
    },
    {
     "name": "stderr",
     "output_type": "stream",
     "text": [
      "F:\\Anaconda\\Lib\\site-packages\\sklearn\\neural_network\\_multilayer_perceptron.py:690: ConvergenceWarning: Stochastic Optimizer: Maximum iterations (500) reached and the optimization hasn't converged yet.\n",
      "  warnings.warn(\n"
     ]
    },
    {
     "name": "stdout",
     "output_type": "stream",
     "text": [
      "[CV] END activation=tanh, hidden_layer_sizes=(15,), max_iter=500, random_state=42, solver=adam; total time=   0.2s\n",
      "[CV] END activation=tanh, hidden_layer_sizes=(15,), max_iter=1000, random_state=0, solver=lbfgs; total time=   0.0s\n",
      "[CV] END activation=tanh, hidden_layer_sizes=(15,), max_iter=1000, random_state=0, solver=lbfgs; total time=   0.0s\n",
      "[CV] END activation=tanh, hidden_layer_sizes=(15,), max_iter=1000, random_state=0, solver=lbfgs; total time=   0.0s\n",
      "[CV] END activation=tanh, hidden_layer_sizes=(15,), max_iter=1000, random_state=0, solver=lbfgs; total time=   0.0s\n",
      "[CV] END activation=tanh, hidden_layer_sizes=(15,), max_iter=1000, random_state=0, solver=adam; total time=   0.3s\n",
      "[CV] END activation=tanh, hidden_layer_sizes=(15,), max_iter=1000, random_state=0, solver=adam; total time=   0.2s\n",
      "[CV] END activation=tanh, hidden_layer_sizes=(15,), max_iter=1000, random_state=0, solver=adam; total time=   0.4s\n",
      "[CV] END activation=tanh, hidden_layer_sizes=(15,), max_iter=1000, random_state=0, solver=adam; total time=   0.4s\n",
      "[CV] END activation=tanh, hidden_layer_sizes=(15,), max_iter=1000, random_state=21, solver=lbfgs; total time=   0.0s\n",
      "[CV] END activation=tanh, hidden_layer_sizes=(15,), max_iter=1000, random_state=21, solver=lbfgs; total time=   0.0s\n",
      "[CV] END activation=tanh, hidden_layer_sizes=(15,), max_iter=1000, random_state=21, solver=lbfgs; total time=   0.0s\n",
      "[CV] END activation=tanh, hidden_layer_sizes=(15,), max_iter=1000, random_state=21, solver=lbfgs; total time=   0.0s\n",
      "[CV] END activation=tanh, hidden_layer_sizes=(15,), max_iter=1000, random_state=21, solver=adam; total time=   0.4s\n",
      "[CV] END activation=tanh, hidden_layer_sizes=(15,), max_iter=1000, random_state=21, solver=adam; total time=   0.4s\n",
      "[CV] END activation=tanh, hidden_layer_sizes=(15,), max_iter=1000, random_state=21, solver=adam; total time=   0.4s\n",
      "[CV] END activation=tanh, hidden_layer_sizes=(15,), max_iter=1000, random_state=21, solver=adam; total time=   0.4s\n",
      "[CV] END activation=tanh, hidden_layer_sizes=(15,), max_iter=1000, random_state=42, solver=lbfgs; total time=   0.0s\n",
      "[CV] END activation=tanh, hidden_layer_sizes=(15,), max_iter=1000, random_state=42, solver=lbfgs; total time=   0.0s\n",
      "[CV] END activation=tanh, hidden_layer_sizes=(15,), max_iter=1000, random_state=42, solver=lbfgs; total time=   0.0s\n",
      "[CV] END activation=tanh, hidden_layer_sizes=(15,), max_iter=1000, random_state=42, solver=lbfgs; total time=   0.0s\n",
      "[CV] END activation=tanh, hidden_layer_sizes=(15,), max_iter=1000, random_state=42, solver=adam; total time=   0.3s\n"
     ]
    },
    {
     "name": "stderr",
     "output_type": "stream",
     "text": [
      "F:\\Anaconda\\Lib\\site-packages\\sklearn\\neural_network\\_multilayer_perceptron.py:690: ConvergenceWarning: Stochastic Optimizer: Maximum iterations (1000) reached and the optimization hasn't converged yet.\n",
      "  warnings.warn(\n"
     ]
    },
    {
     "name": "stdout",
     "output_type": "stream",
     "text": [
      "[CV] END activation=tanh, hidden_layer_sizes=(15,), max_iter=1000, random_state=42, solver=adam; total time=   0.4s\n",
      "[CV] END activation=tanh, hidden_layer_sizes=(15,), max_iter=1000, random_state=42, solver=adam; total time=   0.3s\n"
     ]
    },
    {
     "name": "stderr",
     "output_type": "stream",
     "text": [
      "F:\\Anaconda\\Lib\\site-packages\\sklearn\\neural_network\\_multilayer_perceptron.py:690: ConvergenceWarning: Stochastic Optimizer: Maximum iterations (1000) reached and the optimization hasn't converged yet.\n",
      "  warnings.warn(\n"
     ]
    },
    {
     "name": "stdout",
     "output_type": "stream",
     "text": [
      "[CV] END activation=tanh, hidden_layer_sizes=(15,), max_iter=1000, random_state=42, solver=adam; total time=   0.3s\n",
      "[CV] END activation=tanh, hidden_layer_sizes=(15,), max_iter=1000, random_state=0, solver=lbfgs; total time=   0.0s\n",
      "[CV] END activation=tanh, hidden_layer_sizes=(15,), max_iter=1000, random_state=0, solver=lbfgs; total time=   0.0s\n",
      "[CV] END activation=tanh, hidden_layer_sizes=(15,), max_iter=1000, random_state=0, solver=lbfgs; total time=   0.0s\n",
      "[CV] END activation=tanh, hidden_layer_sizes=(15,), max_iter=1000, random_state=0, solver=lbfgs; total time=   0.0s\n",
      "[CV] END activation=tanh, hidden_layer_sizes=(15,), max_iter=1000, random_state=0, solver=adam; total time=   0.3s\n",
      "[CV] END activation=tanh, hidden_layer_sizes=(15,), max_iter=1000, random_state=0, solver=adam; total time=   0.3s\n",
      "[CV] END activation=tanh, hidden_layer_sizes=(15,), max_iter=1000, random_state=0, solver=adam; total time=   0.3s\n",
      "[CV] END activation=tanh, hidden_layer_sizes=(15,), max_iter=1000, random_state=0, solver=adam; total time=   0.3s\n",
      "[CV] END activation=tanh, hidden_layer_sizes=(15,), max_iter=1000, random_state=21, solver=lbfgs; total time=   0.0s\n",
      "[CV] END activation=tanh, hidden_layer_sizes=(15,), max_iter=1000, random_state=21, solver=lbfgs; total time=   0.0s\n",
      "[CV] END activation=tanh, hidden_layer_sizes=(15,), max_iter=1000, random_state=21, solver=lbfgs; total time=   0.0s\n",
      "[CV] END activation=tanh, hidden_layer_sizes=(15,), max_iter=1000, random_state=21, solver=lbfgs; total time=   0.0s\n",
      "[CV] END activation=tanh, hidden_layer_sizes=(15,), max_iter=1000, random_state=21, solver=adam; total time=   0.4s\n",
      "[CV] END activation=tanh, hidden_layer_sizes=(15,), max_iter=1000, random_state=21, solver=adam; total time=   0.3s\n",
      "[CV] END activation=tanh, hidden_layer_sizes=(15,), max_iter=1000, random_state=21, solver=adam; total time=   0.4s\n",
      "[CV] END activation=tanh, hidden_layer_sizes=(15,), max_iter=1000, random_state=21, solver=adam; total time=   0.3s\n",
      "[CV] END activation=tanh, hidden_layer_sizes=(15,), max_iter=1000, random_state=42, solver=lbfgs; total time=   0.0s\n",
      "[CV] END activation=tanh, hidden_layer_sizes=(15,), max_iter=1000, random_state=42, solver=lbfgs; total time=   0.0s\n",
      "[CV] END activation=tanh, hidden_layer_sizes=(15,), max_iter=1000, random_state=42, solver=lbfgs; total time=   0.0s\n",
      "[CV] END activation=tanh, hidden_layer_sizes=(15,), max_iter=1000, random_state=42, solver=lbfgs; total time=   0.0s\n",
      "[CV] END activation=tanh, hidden_layer_sizes=(15,), max_iter=1000, random_state=42, solver=adam; total time=   0.4s\n"
     ]
    },
    {
     "name": "stderr",
     "output_type": "stream",
     "text": [
      "F:\\Anaconda\\Lib\\site-packages\\sklearn\\neural_network\\_multilayer_perceptron.py:690: ConvergenceWarning: Stochastic Optimizer: Maximum iterations (1000) reached and the optimization hasn't converged yet.\n",
      "  warnings.warn(\n"
     ]
    },
    {
     "name": "stdout",
     "output_type": "stream",
     "text": [
      "[CV] END activation=tanh, hidden_layer_sizes=(15,), max_iter=1000, random_state=42, solver=adam; total time=   0.4s\n",
      "[CV] END activation=tanh, hidden_layer_sizes=(15,), max_iter=1000, random_state=42, solver=adam; total time=   0.3s\n"
     ]
    },
    {
     "name": "stderr",
     "output_type": "stream",
     "text": [
      "F:\\Anaconda\\Lib\\site-packages\\sklearn\\neural_network\\_multilayer_perceptron.py:690: ConvergenceWarning: Stochastic Optimizer: Maximum iterations (1000) reached and the optimization hasn't converged yet.\n",
      "  warnings.warn(\n"
     ]
    },
    {
     "name": "stdout",
     "output_type": "stream",
     "text": [
      "[CV] END activation=tanh, hidden_layer_sizes=(15,), max_iter=1000, random_state=42, solver=adam; total time=   0.3s\n",
      "[CV] END activation=tanh, hidden_layer_sizes=(20,), max_iter=500, random_state=0, solver=lbfgs; total time=   0.0s\n",
      "[CV] END activation=tanh, hidden_layer_sizes=(20,), max_iter=500, random_state=0, solver=lbfgs; total time=   0.0s\n",
      "[CV] END activation=tanh, hidden_layer_sizes=(20,), max_iter=500, random_state=0, solver=lbfgs; total time=   0.0s\n",
      "[CV] END activation=tanh, hidden_layer_sizes=(20,), max_iter=500, random_state=0, solver=lbfgs; total time=   0.0s\n"
     ]
    },
    {
     "name": "stderr",
     "output_type": "stream",
     "text": [
      "F:\\Anaconda\\Lib\\site-packages\\sklearn\\neural_network\\_multilayer_perceptron.py:690: ConvergenceWarning: Stochastic Optimizer: Maximum iterations (500) reached and the optimization hasn't converged yet.\n",
      "  warnings.warn(\n"
     ]
    },
    {
     "name": "stdout",
     "output_type": "stream",
     "text": [
      "[CV] END activation=tanh, hidden_layer_sizes=(20,), max_iter=500, random_state=0, solver=adam; total time=   0.1s\n"
     ]
    },
    {
     "name": "stderr",
     "output_type": "stream",
     "text": [
      "F:\\Anaconda\\Lib\\site-packages\\sklearn\\neural_network\\_multilayer_perceptron.py:690: ConvergenceWarning: Stochastic Optimizer: Maximum iterations (500) reached and the optimization hasn't converged yet.\n",
      "  warnings.warn(\n"
     ]
    },
    {
     "name": "stdout",
     "output_type": "stream",
     "text": [
      "[CV] END activation=tanh, hidden_layer_sizes=(20,), max_iter=500, random_state=0, solver=adam; total time=   0.1s\n"
     ]
    },
    {
     "name": "stderr",
     "output_type": "stream",
     "text": [
      "F:\\Anaconda\\Lib\\site-packages\\sklearn\\neural_network\\_multilayer_perceptron.py:690: ConvergenceWarning: Stochastic Optimizer: Maximum iterations (500) reached and the optimization hasn't converged yet.\n",
      "  warnings.warn(\n"
     ]
    },
    {
     "name": "stdout",
     "output_type": "stream",
     "text": [
      "[CV] END activation=tanh, hidden_layer_sizes=(20,), max_iter=500, random_state=0, solver=adam; total time=   0.1s\n"
     ]
    },
    {
     "name": "stderr",
     "output_type": "stream",
     "text": [
      "F:\\Anaconda\\Lib\\site-packages\\sklearn\\neural_network\\_multilayer_perceptron.py:690: ConvergenceWarning: Stochastic Optimizer: Maximum iterations (500) reached and the optimization hasn't converged yet.\n",
      "  warnings.warn(\n"
     ]
    },
    {
     "name": "stdout",
     "output_type": "stream",
     "text": [
      "[CV] END activation=tanh, hidden_layer_sizes=(20,), max_iter=500, random_state=0, solver=adam; total time=   0.1s\n",
      "[CV] END activation=tanh, hidden_layer_sizes=(20,), max_iter=500, random_state=21, solver=lbfgs; total time=   0.0s\n",
      "[CV] END activation=tanh, hidden_layer_sizes=(20,), max_iter=500, random_state=21, solver=lbfgs; total time=   0.0s\n",
      "[CV] END activation=tanh, hidden_layer_sizes=(20,), max_iter=500, random_state=21, solver=lbfgs; total time=   0.0s\n",
      "[CV] END activation=tanh, hidden_layer_sizes=(20,), max_iter=500, random_state=21, solver=lbfgs; total time=   0.0s\n"
     ]
    },
    {
     "name": "stderr",
     "output_type": "stream",
     "text": [
      "F:\\Anaconda\\Lib\\site-packages\\sklearn\\neural_network\\_multilayer_perceptron.py:690: ConvergenceWarning: Stochastic Optimizer: Maximum iterations (500) reached and the optimization hasn't converged yet.\n",
      "  warnings.warn(\n"
     ]
    },
    {
     "name": "stdout",
     "output_type": "stream",
     "text": [
      "[CV] END activation=tanh, hidden_layer_sizes=(20,), max_iter=500, random_state=21, solver=adam; total time=   0.1s\n"
     ]
    },
    {
     "name": "stderr",
     "output_type": "stream",
     "text": [
      "F:\\Anaconda\\Lib\\site-packages\\sklearn\\neural_network\\_multilayer_perceptron.py:690: ConvergenceWarning: Stochastic Optimizer: Maximum iterations (500) reached and the optimization hasn't converged yet.\n",
      "  warnings.warn(\n"
     ]
    },
    {
     "name": "stdout",
     "output_type": "stream",
     "text": [
      "[CV] END activation=tanh, hidden_layer_sizes=(20,), max_iter=500, random_state=21, solver=adam; total time=   0.1s\n"
     ]
    },
    {
     "name": "stderr",
     "output_type": "stream",
     "text": [
      "F:\\Anaconda\\Lib\\site-packages\\sklearn\\neural_network\\_multilayer_perceptron.py:690: ConvergenceWarning: Stochastic Optimizer: Maximum iterations (500) reached and the optimization hasn't converged yet.\n",
      "  warnings.warn(\n"
     ]
    },
    {
     "name": "stdout",
     "output_type": "stream",
     "text": [
      "[CV] END activation=tanh, hidden_layer_sizes=(20,), max_iter=500, random_state=21, solver=adam; total time=   0.1s\n"
     ]
    },
    {
     "name": "stderr",
     "output_type": "stream",
     "text": [
      "F:\\Anaconda\\Lib\\site-packages\\sklearn\\neural_network\\_multilayer_perceptron.py:690: ConvergenceWarning: Stochastic Optimizer: Maximum iterations (500) reached and the optimization hasn't converged yet.\n",
      "  warnings.warn(\n"
     ]
    },
    {
     "name": "stdout",
     "output_type": "stream",
     "text": [
      "[CV] END activation=tanh, hidden_layer_sizes=(20,), max_iter=500, random_state=21, solver=adam; total time=   0.1s\n",
      "[CV] END activation=tanh, hidden_layer_sizes=(20,), max_iter=500, random_state=42, solver=lbfgs; total time=   0.0s\n",
      "[CV] END activation=tanh, hidden_layer_sizes=(20,), max_iter=500, random_state=42, solver=lbfgs; total time=   0.0s\n",
      "[CV] END activation=tanh, hidden_layer_sizes=(20,), max_iter=500, random_state=42, solver=lbfgs; total time=   0.0s\n",
      "[CV] END activation=tanh, hidden_layer_sizes=(20,), max_iter=500, random_state=42, solver=lbfgs; total time=   0.0s\n"
     ]
    },
    {
     "name": "stderr",
     "output_type": "stream",
     "text": [
      "F:\\Anaconda\\Lib\\site-packages\\sklearn\\neural_network\\_multilayer_perceptron.py:690: ConvergenceWarning: Stochastic Optimizer: Maximum iterations (500) reached and the optimization hasn't converged yet.\n",
      "  warnings.warn(\n"
     ]
    },
    {
     "name": "stdout",
     "output_type": "stream",
     "text": [
      "[CV] END activation=tanh, hidden_layer_sizes=(20,), max_iter=500, random_state=42, solver=adam; total time=   0.2s\n"
     ]
    },
    {
     "name": "stderr",
     "output_type": "stream",
     "text": [
      "F:\\Anaconda\\Lib\\site-packages\\sklearn\\neural_network\\_multilayer_perceptron.py:690: ConvergenceWarning: Stochastic Optimizer: Maximum iterations (500) reached and the optimization hasn't converged yet.\n",
      "  warnings.warn(\n"
     ]
    },
    {
     "name": "stdout",
     "output_type": "stream",
     "text": [
      "[CV] END activation=tanh, hidden_layer_sizes=(20,), max_iter=500, random_state=42, solver=adam; total time=   0.2s\n"
     ]
    },
    {
     "name": "stderr",
     "output_type": "stream",
     "text": [
      "F:\\Anaconda\\Lib\\site-packages\\sklearn\\neural_network\\_multilayer_perceptron.py:690: ConvergenceWarning: Stochastic Optimizer: Maximum iterations (500) reached and the optimization hasn't converged yet.\n",
      "  warnings.warn(\n"
     ]
    },
    {
     "name": "stdout",
     "output_type": "stream",
     "text": [
      "[CV] END activation=tanh, hidden_layer_sizes=(20,), max_iter=500, random_state=42, solver=adam; total time=   0.2s\n"
     ]
    },
    {
     "name": "stderr",
     "output_type": "stream",
     "text": [
      "F:\\Anaconda\\Lib\\site-packages\\sklearn\\neural_network\\_multilayer_perceptron.py:690: ConvergenceWarning: Stochastic Optimizer: Maximum iterations (500) reached and the optimization hasn't converged yet.\n",
      "  warnings.warn(\n"
     ]
    },
    {
     "name": "stdout",
     "output_type": "stream",
     "text": [
      "[CV] END activation=tanh, hidden_layer_sizes=(20,), max_iter=500, random_state=42, solver=adam; total time=   0.2s\n",
      "[CV] END activation=tanh, hidden_layer_sizes=(20,), max_iter=1000, random_state=0, solver=lbfgs; total time=   0.0s\n",
      "[CV] END activation=tanh, hidden_layer_sizes=(20,), max_iter=1000, random_state=0, solver=lbfgs; total time=   0.0s\n",
      "[CV] END activation=tanh, hidden_layer_sizes=(20,), max_iter=1000, random_state=0, solver=lbfgs; total time=   0.0s\n",
      "[CV] END activation=tanh, hidden_layer_sizes=(20,), max_iter=1000, random_state=0, solver=lbfgs; total time=   0.0s\n",
      "[CV] END activation=tanh, hidden_layer_sizes=(20,), max_iter=1000, random_state=0, solver=adam; total time=   0.3s\n",
      "[CV] END activation=tanh, hidden_layer_sizes=(20,), max_iter=1000, random_state=0, solver=adam; total time=   0.4s\n",
      "[CV] END activation=tanh, hidden_layer_sizes=(20,), max_iter=1000, random_state=0, solver=adam; total time=   0.3s\n",
      "[CV] END activation=tanh, hidden_layer_sizes=(20,), max_iter=1000, random_state=0, solver=adam; total time=   0.4s\n",
      "[CV] END activation=tanh, hidden_layer_sizes=(20,), max_iter=1000, random_state=21, solver=lbfgs; total time=   0.0s\n",
      "[CV] END activation=tanh, hidden_layer_sizes=(20,), max_iter=1000, random_state=21, solver=lbfgs; total time=   0.0s\n",
      "[CV] END activation=tanh, hidden_layer_sizes=(20,), max_iter=1000, random_state=21, solver=lbfgs; total time=   0.0s\n",
      "[CV] END activation=tanh, hidden_layer_sizes=(20,), max_iter=1000, random_state=21, solver=lbfgs; total time=   0.0s\n",
      "[CV] END activation=tanh, hidden_layer_sizes=(20,), max_iter=1000, random_state=21, solver=adam; total time=   0.3s\n",
      "[CV] END activation=tanh, hidden_layer_sizes=(20,), max_iter=1000, random_state=21, solver=adam; total time=   0.4s\n",
      "[CV] END activation=tanh, hidden_layer_sizes=(20,), max_iter=1000, random_state=21, solver=adam; total time=   0.3s\n",
      "[CV] END activation=tanh, hidden_layer_sizes=(20,), max_iter=1000, random_state=21, solver=adam; total time=   0.3s\n",
      "[CV] END activation=tanh, hidden_layer_sizes=(20,), max_iter=1000, random_state=42, solver=lbfgs; total time=   0.0s\n",
      "[CV] END activation=tanh, hidden_layer_sizes=(20,), max_iter=1000, random_state=42, solver=lbfgs; total time=   0.0s\n",
      "[CV] END activation=tanh, hidden_layer_sizes=(20,), max_iter=1000, random_state=42, solver=lbfgs; total time=   0.0s\n",
      "[CV] END activation=tanh, hidden_layer_sizes=(20,), max_iter=1000, random_state=42, solver=lbfgs; total time=   0.0s\n",
      "[CV] END activation=tanh, hidden_layer_sizes=(20,), max_iter=1000, random_state=42, solver=adam; total time=   0.4s\n",
      "[CV] END activation=tanh, hidden_layer_sizes=(20,), max_iter=1000, random_state=42, solver=adam; total time=   0.4s\n",
      "[CV] END activation=tanh, hidden_layer_sizes=(20,), max_iter=1000, random_state=42, solver=adam; total time=   0.4s\n"
     ]
    },
    {
     "name": "stderr",
     "output_type": "stream",
     "text": [
      "F:\\Anaconda\\Lib\\site-packages\\sklearn\\neural_network\\_multilayer_perceptron.py:690: ConvergenceWarning: Stochastic Optimizer: Maximum iterations (1000) reached and the optimization hasn't converged yet.\n",
      "  warnings.warn(\n"
     ]
    },
    {
     "name": "stdout",
     "output_type": "stream",
     "text": [
      "[CV] END activation=tanh, hidden_layer_sizes=(20,), max_iter=1000, random_state=42, solver=adam; total time=   0.4s\n",
      "[CV] END activation=tanh, hidden_layer_sizes=(20,), max_iter=1000, random_state=0, solver=lbfgs; total time=   0.0s\n",
      "[CV] END activation=tanh, hidden_layer_sizes=(20,), max_iter=1000, random_state=0, solver=lbfgs; total time=   0.0s\n",
      "[CV] END activation=tanh, hidden_layer_sizes=(20,), max_iter=1000, random_state=0, solver=lbfgs; total time=   0.0s\n",
      "[CV] END activation=tanh, hidden_layer_sizes=(20,), max_iter=1000, random_state=0, solver=lbfgs; total time=   0.0s\n",
      "[CV] END activation=tanh, hidden_layer_sizes=(20,), max_iter=1000, random_state=0, solver=adam; total time=   0.3s\n",
      "[CV] END activation=tanh, hidden_layer_sizes=(20,), max_iter=1000, random_state=0, solver=adam; total time=   0.3s\n",
      "[CV] END activation=tanh, hidden_layer_sizes=(20,), max_iter=1000, random_state=0, solver=adam; total time=   0.3s\n",
      "[CV] END activation=tanh, hidden_layer_sizes=(20,), max_iter=1000, random_state=0, solver=adam; total time=   0.4s\n",
      "[CV] END activation=tanh, hidden_layer_sizes=(20,), max_iter=1000, random_state=21, solver=lbfgs; total time=   0.0s\n",
      "[CV] END activation=tanh, hidden_layer_sizes=(20,), max_iter=1000, random_state=21, solver=lbfgs; total time=   0.0s\n",
      "[CV] END activation=tanh, hidden_layer_sizes=(20,), max_iter=1000, random_state=21, solver=lbfgs; total time=   0.0s\n",
      "[CV] END activation=tanh, hidden_layer_sizes=(20,), max_iter=1000, random_state=21, solver=lbfgs; total time=   0.0s\n",
      "[CV] END activation=tanh, hidden_layer_sizes=(20,), max_iter=1000, random_state=21, solver=adam; total time=   0.4s\n",
      "[CV] END activation=tanh, hidden_layer_sizes=(20,), max_iter=1000, random_state=21, solver=adam; total time=   0.4s\n",
      "[CV] END activation=tanh, hidden_layer_sizes=(20,), max_iter=1000, random_state=21, solver=adam; total time=   0.3s\n",
      "[CV] END activation=tanh, hidden_layer_sizes=(20,), max_iter=1000, random_state=21, solver=adam; total time=   0.5s\n",
      "[CV] END activation=tanh, hidden_layer_sizes=(20,), max_iter=1000, random_state=42, solver=lbfgs; total time=   0.0s\n",
      "[CV] END activation=tanh, hidden_layer_sizes=(20,), max_iter=1000, random_state=42, solver=lbfgs; total time=   0.0s\n",
      "[CV] END activation=tanh, hidden_layer_sizes=(20,), max_iter=1000, random_state=42, solver=lbfgs; total time=   0.0s\n",
      "[CV] END activation=tanh, hidden_layer_sizes=(20,), max_iter=1000, random_state=42, solver=lbfgs; total time=   0.0s\n",
      "[CV] END activation=tanh, hidden_layer_sizes=(20,), max_iter=1000, random_state=42, solver=adam; total time=   0.4s\n",
      "[CV] END activation=tanh, hidden_layer_sizes=(20,), max_iter=1000, random_state=42, solver=adam; total time=   0.4s\n",
      "[CV] END activation=tanh, hidden_layer_sizes=(20,), max_iter=1000, random_state=42, solver=adam; total time=   0.4s\n"
     ]
    },
    {
     "name": "stderr",
     "output_type": "stream",
     "text": [
      "F:\\Anaconda\\Lib\\site-packages\\sklearn\\neural_network\\_multilayer_perceptron.py:690: ConvergenceWarning: Stochastic Optimizer: Maximum iterations (1000) reached and the optimization hasn't converged yet.\n",
      "  warnings.warn(\n"
     ]
    },
    {
     "name": "stdout",
     "output_type": "stream",
     "text": [
      "[CV] END activation=tanh, hidden_layer_sizes=(20,), max_iter=1000, random_state=42, solver=adam; total time=   0.4s\n",
      "[CV] END activation=tanh, hidden_layer_sizes=(20, 10), max_iter=500, random_state=0, solver=lbfgs; total time=   0.0s\n",
      "[CV] END activation=tanh, hidden_layer_sizes=(20, 10), max_iter=500, random_state=0, solver=lbfgs; total time=   0.0s\n",
      "[CV] END activation=tanh, hidden_layer_sizes=(20, 10), max_iter=500, random_state=0, solver=lbfgs; total time=   0.0s\n",
      "[CV] END activation=tanh, hidden_layer_sizes=(20, 10), max_iter=500, random_state=0, solver=lbfgs; total time=   0.0s\n"
     ]
    },
    {
     "name": "stderr",
     "output_type": "stream",
     "text": [
      "F:\\Anaconda\\Lib\\site-packages\\sklearn\\neural_network\\_multilayer_perceptron.py:690: ConvergenceWarning: Stochastic Optimizer: Maximum iterations (500) reached and the optimization hasn't converged yet.\n",
      "  warnings.warn(\n"
     ]
    },
    {
     "name": "stdout",
     "output_type": "stream",
     "text": [
      "[CV] END activation=tanh, hidden_layer_sizes=(20, 10), max_iter=500, random_state=0, solver=adam; total time=   0.3s\n"
     ]
    },
    {
     "name": "stderr",
     "output_type": "stream",
     "text": [
      "F:\\Anaconda\\Lib\\site-packages\\sklearn\\neural_network\\_multilayer_perceptron.py:690: ConvergenceWarning: Stochastic Optimizer: Maximum iterations (500) reached and the optimization hasn't converged yet.\n",
      "  warnings.warn(\n"
     ]
    },
    {
     "name": "stdout",
     "output_type": "stream",
     "text": [
      "[CV] END activation=tanh, hidden_layer_sizes=(20, 10), max_iter=500, random_state=0, solver=adam; total time=   0.2s\n"
     ]
    },
    {
     "name": "stderr",
     "output_type": "stream",
     "text": [
      "F:\\Anaconda\\Lib\\site-packages\\sklearn\\neural_network\\_multilayer_perceptron.py:690: ConvergenceWarning: Stochastic Optimizer: Maximum iterations (500) reached and the optimization hasn't converged yet.\n",
      "  warnings.warn(\n"
     ]
    },
    {
     "name": "stdout",
     "output_type": "stream",
     "text": [
      "[CV] END activation=tanh, hidden_layer_sizes=(20, 10), max_iter=500, random_state=0, solver=adam; total time=   0.2s\n"
     ]
    },
    {
     "name": "stderr",
     "output_type": "stream",
     "text": [
      "F:\\Anaconda\\Lib\\site-packages\\sklearn\\neural_network\\_multilayer_perceptron.py:690: ConvergenceWarning: Stochastic Optimizer: Maximum iterations (500) reached and the optimization hasn't converged yet.\n",
      "  warnings.warn(\n"
     ]
    },
    {
     "name": "stdout",
     "output_type": "stream",
     "text": [
      "[CV] END activation=tanh, hidden_layer_sizes=(20, 10), max_iter=500, random_state=0, solver=adam; total time=   0.2s\n",
      "[CV] END activation=tanh, hidden_layer_sizes=(20, 10), max_iter=500, random_state=21, solver=lbfgs; total time=   0.0s\n",
      "[CV] END activation=tanh, hidden_layer_sizes=(20, 10), max_iter=500, random_state=21, solver=lbfgs; total time=   0.0s\n",
      "[CV] END activation=tanh, hidden_layer_sizes=(20, 10), max_iter=500, random_state=21, solver=lbfgs; total time=   0.1s\n",
      "[CV] END activation=tanh, hidden_layer_sizes=(20, 10), max_iter=500, random_state=21, solver=lbfgs; total time=   0.0s\n"
     ]
    },
    {
     "name": "stderr",
     "output_type": "stream",
     "text": [
      "F:\\Anaconda\\Lib\\site-packages\\sklearn\\neural_network\\_multilayer_perceptron.py:690: ConvergenceWarning: Stochastic Optimizer: Maximum iterations (500) reached and the optimization hasn't converged yet.\n",
      "  warnings.warn(\n"
     ]
    },
    {
     "name": "stdout",
     "output_type": "stream",
     "text": [
      "[CV] END activation=tanh, hidden_layer_sizes=(20, 10), max_iter=500, random_state=21, solver=adam; total time=   0.2s\n"
     ]
    },
    {
     "name": "stderr",
     "output_type": "stream",
     "text": [
      "F:\\Anaconda\\Lib\\site-packages\\sklearn\\neural_network\\_multilayer_perceptron.py:690: ConvergenceWarning: Stochastic Optimizer: Maximum iterations (500) reached and the optimization hasn't converged yet.\n",
      "  warnings.warn(\n"
     ]
    },
    {
     "name": "stdout",
     "output_type": "stream",
     "text": [
      "[CV] END activation=tanh, hidden_layer_sizes=(20, 10), max_iter=500, random_state=21, solver=adam; total time=   0.2s\n"
     ]
    },
    {
     "name": "stderr",
     "output_type": "stream",
     "text": [
      "F:\\Anaconda\\Lib\\site-packages\\sklearn\\neural_network\\_multilayer_perceptron.py:690: ConvergenceWarning: Stochastic Optimizer: Maximum iterations (500) reached and the optimization hasn't converged yet.\n",
      "  warnings.warn(\n"
     ]
    },
    {
     "name": "stdout",
     "output_type": "stream",
     "text": [
      "[CV] END activation=tanh, hidden_layer_sizes=(20, 10), max_iter=500, random_state=21, solver=adam; total time=   0.1s\n"
     ]
    },
    {
     "name": "stderr",
     "output_type": "stream",
     "text": [
      "F:\\Anaconda\\Lib\\site-packages\\sklearn\\neural_network\\_multilayer_perceptron.py:690: ConvergenceWarning: Stochastic Optimizer: Maximum iterations (500) reached and the optimization hasn't converged yet.\n",
      "  warnings.warn(\n"
     ]
    },
    {
     "name": "stdout",
     "output_type": "stream",
     "text": [
      "[CV] END activation=tanh, hidden_layer_sizes=(20, 10), max_iter=500, random_state=21, solver=adam; total time=   0.3s\n",
      "[CV] END activation=tanh, hidden_layer_sizes=(20, 10), max_iter=500, random_state=42, solver=lbfgs; total time=   0.0s\n",
      "[CV] END activation=tanh, hidden_layer_sizes=(20, 10), max_iter=500, random_state=42, solver=lbfgs; total time=   0.0s\n",
      "[CV] END activation=tanh, hidden_layer_sizes=(20, 10), max_iter=500, random_state=42, solver=lbfgs; total time=   0.0s\n",
      "[CV] END activation=tanh, hidden_layer_sizes=(20, 10), max_iter=500, random_state=42, solver=lbfgs; total time=   0.0s\n"
     ]
    },
    {
     "name": "stderr",
     "output_type": "stream",
     "text": [
      "F:\\Anaconda\\Lib\\site-packages\\sklearn\\neural_network\\_multilayer_perceptron.py:690: ConvergenceWarning: Stochastic Optimizer: Maximum iterations (500) reached and the optimization hasn't converged yet.\n",
      "  warnings.warn(\n"
     ]
    },
    {
     "name": "stdout",
     "output_type": "stream",
     "text": [
      "[CV] END activation=tanh, hidden_layer_sizes=(20, 10), max_iter=500, random_state=42, solver=adam; total time=   0.2s\n"
     ]
    },
    {
     "name": "stderr",
     "output_type": "stream",
     "text": [
      "F:\\Anaconda\\Lib\\site-packages\\sklearn\\neural_network\\_multilayer_perceptron.py:690: ConvergenceWarning: Stochastic Optimizer: Maximum iterations (500) reached and the optimization hasn't converged yet.\n",
      "  warnings.warn(\n"
     ]
    },
    {
     "name": "stdout",
     "output_type": "stream",
     "text": [
      "[CV] END activation=tanh, hidden_layer_sizes=(20, 10), max_iter=500, random_state=42, solver=adam; total time=   0.2s\n"
     ]
    },
    {
     "name": "stderr",
     "output_type": "stream",
     "text": [
      "F:\\Anaconda\\Lib\\site-packages\\sklearn\\neural_network\\_multilayer_perceptron.py:690: ConvergenceWarning: Stochastic Optimizer: Maximum iterations (500) reached and the optimization hasn't converged yet.\n",
      "  warnings.warn(\n"
     ]
    },
    {
     "name": "stdout",
     "output_type": "stream",
     "text": [
      "[CV] END activation=tanh, hidden_layer_sizes=(20, 10), max_iter=500, random_state=42, solver=adam; total time=   0.2s\n"
     ]
    },
    {
     "name": "stderr",
     "output_type": "stream",
     "text": [
      "F:\\Anaconda\\Lib\\site-packages\\sklearn\\neural_network\\_multilayer_perceptron.py:690: ConvergenceWarning: Stochastic Optimizer: Maximum iterations (500) reached and the optimization hasn't converged yet.\n",
      "  warnings.warn(\n"
     ]
    },
    {
     "name": "stdout",
     "output_type": "stream",
     "text": [
      "[CV] END activation=tanh, hidden_layer_sizes=(20, 10), max_iter=500, random_state=42, solver=adam; total time=   0.2s\n",
      "[CV] END activation=tanh, hidden_layer_sizes=(20, 10), max_iter=1000, random_state=0, solver=lbfgs; total time=   0.0s\n",
      "[CV] END activation=tanh, hidden_layer_sizes=(20, 10), max_iter=1000, random_state=0, solver=lbfgs; total time=   0.0s\n",
      "[CV] END activation=tanh, hidden_layer_sizes=(20, 10), max_iter=1000, random_state=0, solver=lbfgs; total time=   0.0s\n",
      "[CV] END activation=tanh, hidden_layer_sizes=(20, 10), max_iter=1000, random_state=0, solver=lbfgs; total time=   0.0s\n",
      "[CV] END activation=tanh, hidden_layer_sizes=(20, 10), max_iter=1000, random_state=0, solver=adam; total time=   0.5s\n",
      "[CV] END activation=tanh, hidden_layer_sizes=(20, 10), max_iter=1000, random_state=0, solver=adam; total time=   0.5s\n",
      "[CV] END activation=tanh, hidden_layer_sizes=(20, 10), max_iter=1000, random_state=0, solver=adam; total time=   0.3s\n",
      "[CV] END activation=tanh, hidden_layer_sizes=(20, 10), max_iter=1000, random_state=0, solver=adam; total time=   0.3s\n",
      "[CV] END activation=tanh, hidden_layer_sizes=(20, 10), max_iter=1000, random_state=21, solver=lbfgs; total time=   0.0s\n",
      "[CV] END activation=tanh, hidden_layer_sizes=(20, 10), max_iter=1000, random_state=21, solver=lbfgs; total time=   0.0s\n",
      "[CV] END activation=tanh, hidden_layer_sizes=(20, 10), max_iter=1000, random_state=21, solver=lbfgs; total time=   0.1s\n",
      "[CV] END activation=tanh, hidden_layer_sizes=(20, 10), max_iter=1000, random_state=21, solver=lbfgs; total time=   0.0s\n",
      "[CV] END activation=tanh, hidden_layer_sizes=(20, 10), max_iter=1000, random_state=21, solver=adam; total time=   0.2s\n",
      "[CV] END activation=tanh, hidden_layer_sizes=(20, 10), max_iter=1000, random_state=21, solver=adam; total time=   0.4s\n",
      "[CV] END activation=tanh, hidden_layer_sizes=(20, 10), max_iter=1000, random_state=21, solver=adam; total time=   0.5s\n",
      "[CV] END activation=tanh, hidden_layer_sizes=(20, 10), max_iter=1000, random_state=21, solver=adam; total time=   0.3s\n",
      "[CV] END activation=tanh, hidden_layer_sizes=(20, 10), max_iter=1000, random_state=42, solver=lbfgs; total time=   0.0s\n",
      "[CV] END activation=tanh, hidden_layer_sizes=(20, 10), max_iter=1000, random_state=42, solver=lbfgs; total time=   0.0s\n",
      "[CV] END activation=tanh, hidden_layer_sizes=(20, 10), max_iter=1000, random_state=42, solver=lbfgs; total time=   0.0s\n",
      "[CV] END activation=tanh, hidden_layer_sizes=(20, 10), max_iter=1000, random_state=42, solver=lbfgs; total time=   0.0s\n"
     ]
    },
    {
     "name": "stderr",
     "output_type": "stream",
     "text": [
      "F:\\Anaconda\\Lib\\site-packages\\sklearn\\neural_network\\_multilayer_perceptron.py:690: ConvergenceWarning: Stochastic Optimizer: Maximum iterations (1000) reached and the optimization hasn't converged yet.\n",
      "  warnings.warn(\n"
     ]
    },
    {
     "name": "stdout",
     "output_type": "stream",
     "text": [
      "[CV] END activation=tanh, hidden_layer_sizes=(20, 10), max_iter=1000, random_state=42, solver=adam; total time=   0.6s\n"
     ]
    },
    {
     "name": "stderr",
     "output_type": "stream",
     "text": [
      "F:\\Anaconda\\Lib\\site-packages\\sklearn\\neural_network\\_multilayer_perceptron.py:690: ConvergenceWarning: Stochastic Optimizer: Maximum iterations (1000) reached and the optimization hasn't converged yet.\n",
      "  warnings.warn(\n"
     ]
    },
    {
     "name": "stdout",
     "output_type": "stream",
     "text": [
      "[CV] END activation=tanh, hidden_layer_sizes=(20, 10), max_iter=1000, random_state=42, solver=adam; total time=   0.5s\n"
     ]
    },
    {
     "name": "stderr",
     "output_type": "stream",
     "text": [
      "F:\\Anaconda\\Lib\\site-packages\\sklearn\\neural_network\\_multilayer_perceptron.py:690: ConvergenceWarning: Stochastic Optimizer: Maximum iterations (1000) reached and the optimization hasn't converged yet.\n",
      "  warnings.warn(\n"
     ]
    },
    {
     "name": "stdout",
     "output_type": "stream",
     "text": [
      "[CV] END activation=tanh, hidden_layer_sizes=(20, 10), max_iter=1000, random_state=42, solver=adam; total time=   0.6s\n"
     ]
    },
    {
     "name": "stderr",
     "output_type": "stream",
     "text": [
      "F:\\Anaconda\\Lib\\site-packages\\sklearn\\neural_network\\_multilayer_perceptron.py:690: ConvergenceWarning: Stochastic Optimizer: Maximum iterations (1000) reached and the optimization hasn't converged yet.\n",
      "  warnings.warn(\n"
     ]
    },
    {
     "name": "stdout",
     "output_type": "stream",
     "text": [
      "[CV] END activation=tanh, hidden_layer_sizes=(20, 10), max_iter=1000, random_state=42, solver=adam; total time=   0.4s\n",
      "[CV] END activation=tanh, hidden_layer_sizes=(20, 10), max_iter=1000, random_state=0, solver=lbfgs; total time=   0.0s\n",
      "[CV] END activation=tanh, hidden_layer_sizes=(20, 10), max_iter=1000, random_state=0, solver=lbfgs; total time=   0.0s\n",
      "[CV] END activation=tanh, hidden_layer_sizes=(20, 10), max_iter=1000, random_state=0, solver=lbfgs; total time=   0.0s\n",
      "[CV] END activation=tanh, hidden_layer_sizes=(20, 10), max_iter=1000, random_state=0, solver=lbfgs; total time=   0.0s\n",
      "[CV] END activation=tanh, hidden_layer_sizes=(20, 10), max_iter=1000, random_state=0, solver=adam; total time=   0.4s\n",
      "[CV] END activation=tanh, hidden_layer_sizes=(20, 10), max_iter=1000, random_state=0, solver=adam; total time=   0.5s\n",
      "[CV] END activation=tanh, hidden_layer_sizes=(20, 10), max_iter=1000, random_state=0, solver=adam; total time=   0.5s\n",
      "[CV] END activation=tanh, hidden_layer_sizes=(20, 10), max_iter=1000, random_state=0, solver=adam; total time=   0.3s\n",
      "[CV] END activation=tanh, hidden_layer_sizes=(20, 10), max_iter=1000, random_state=21, solver=lbfgs; total time=   0.0s\n",
      "[CV] END activation=tanh, hidden_layer_sizes=(20, 10), max_iter=1000, random_state=21, solver=lbfgs; total time=   0.1s\n",
      "[CV] END activation=tanh, hidden_layer_sizes=(20, 10), max_iter=1000, random_state=21, solver=lbfgs; total time=   0.1s\n",
      "[CV] END activation=tanh, hidden_layer_sizes=(20, 10), max_iter=1000, random_state=21, solver=lbfgs; total time=   0.0s\n",
      "[CV] END activation=tanh, hidden_layer_sizes=(20, 10), max_iter=1000, random_state=21, solver=adam; total time=   0.4s\n",
      "[CV] END activation=tanh, hidden_layer_sizes=(20, 10), max_iter=1000, random_state=21, solver=adam; total time=   0.3s\n",
      "[CV] END activation=tanh, hidden_layer_sizes=(20, 10), max_iter=1000, random_state=21, solver=adam; total time=   0.4s\n",
      "[CV] END activation=tanh, hidden_layer_sizes=(20, 10), max_iter=1000, random_state=21, solver=adam; total time=   0.3s\n",
      "[CV] END activation=tanh, hidden_layer_sizes=(20, 10), max_iter=1000, random_state=42, solver=lbfgs; total time=   0.0s\n",
      "[CV] END activation=tanh, hidden_layer_sizes=(20, 10), max_iter=1000, random_state=42, solver=lbfgs; total time=   0.0s\n",
      "[CV] END activation=tanh, hidden_layer_sizes=(20, 10), max_iter=1000, random_state=42, solver=lbfgs; total time=   0.0s\n",
      "[CV] END activation=tanh, hidden_layer_sizes=(20, 10), max_iter=1000, random_state=42, solver=lbfgs; total time=   0.0s\n"
     ]
    },
    {
     "name": "stderr",
     "output_type": "stream",
     "text": [
      "F:\\Anaconda\\Lib\\site-packages\\sklearn\\neural_network\\_multilayer_perceptron.py:690: ConvergenceWarning: Stochastic Optimizer: Maximum iterations (1000) reached and the optimization hasn't converged yet.\n",
      "  warnings.warn(\n"
     ]
    },
    {
     "name": "stdout",
     "output_type": "stream",
     "text": [
      "[CV] END activation=tanh, hidden_layer_sizes=(20, 10), max_iter=1000, random_state=42, solver=adam; total time=   0.7s\n"
     ]
    },
    {
     "name": "stderr",
     "output_type": "stream",
     "text": [
      "F:\\Anaconda\\Lib\\site-packages\\sklearn\\neural_network\\_multilayer_perceptron.py:690: ConvergenceWarning: Stochastic Optimizer: Maximum iterations (1000) reached and the optimization hasn't converged yet.\n",
      "  warnings.warn(\n"
     ]
    },
    {
     "name": "stdout",
     "output_type": "stream",
     "text": [
      "[CV] END activation=tanh, hidden_layer_sizes=(20, 10), max_iter=1000, random_state=42, solver=adam; total time=   0.5s\n"
     ]
    },
    {
     "name": "stderr",
     "output_type": "stream",
     "text": [
      "F:\\Anaconda\\Lib\\site-packages\\sklearn\\neural_network\\_multilayer_perceptron.py:690: ConvergenceWarning: Stochastic Optimizer: Maximum iterations (1000) reached and the optimization hasn't converged yet.\n",
      "  warnings.warn(\n"
     ]
    },
    {
     "name": "stdout",
     "output_type": "stream",
     "text": [
      "[CV] END activation=tanh, hidden_layer_sizes=(20, 10), max_iter=1000, random_state=42, solver=adam; total time=   0.7s\n"
     ]
    },
    {
     "name": "stderr",
     "output_type": "stream",
     "text": [
      "F:\\Anaconda\\Lib\\site-packages\\sklearn\\neural_network\\_multilayer_perceptron.py:690: ConvergenceWarning: Stochastic Optimizer: Maximum iterations (1000) reached and the optimization hasn't converged yet.\n",
      "  warnings.warn(\n"
     ]
    },
    {
     "name": "stdout",
     "output_type": "stream",
     "text": [
      "[CV] END activation=tanh, hidden_layer_sizes=(20, 10), max_iter=1000, random_state=42, solver=adam; total time=   0.7s\n",
      "[CV] END activation=tanh, hidden_layer_sizes=(30, 15), max_iter=500, random_state=0, solver=lbfgs; total time=   0.0s\n",
      "[CV] END activation=tanh, hidden_layer_sizes=(30, 15), max_iter=500, random_state=0, solver=lbfgs; total time=   0.0s\n",
      "[CV] END activation=tanh, hidden_layer_sizes=(30, 15), max_iter=500, random_state=0, solver=lbfgs; total time=   0.0s\n",
      "[CV] END activation=tanh, hidden_layer_sizes=(30, 15), max_iter=500, random_state=0, solver=lbfgs; total time=   0.0s\n"
     ]
    },
    {
     "name": "stderr",
     "output_type": "stream",
     "text": [
      "F:\\Anaconda\\Lib\\site-packages\\sklearn\\neural_network\\_multilayer_perceptron.py:690: ConvergenceWarning: Stochastic Optimizer: Maximum iterations (500) reached and the optimization hasn't converged yet.\n",
      "  warnings.warn(\n"
     ]
    },
    {
     "name": "stdout",
     "output_type": "stream",
     "text": [
      "[CV] END activation=tanh, hidden_layer_sizes=(30, 15), max_iter=500, random_state=0, solver=adam; total time=   0.3s\n"
     ]
    },
    {
     "name": "stderr",
     "output_type": "stream",
     "text": [
      "F:\\Anaconda\\Lib\\site-packages\\sklearn\\neural_network\\_multilayer_perceptron.py:690: ConvergenceWarning: Stochastic Optimizer: Maximum iterations (500) reached and the optimization hasn't converged yet.\n",
      "  warnings.warn(\n"
     ]
    },
    {
     "name": "stdout",
     "output_type": "stream",
     "text": [
      "[CV] END activation=tanh, hidden_layer_sizes=(30, 15), max_iter=500, random_state=0, solver=adam; total time=   0.4s\n"
     ]
    },
    {
     "name": "stderr",
     "output_type": "stream",
     "text": [
      "F:\\Anaconda\\Lib\\site-packages\\sklearn\\neural_network\\_multilayer_perceptron.py:690: ConvergenceWarning: Stochastic Optimizer: Maximum iterations (500) reached and the optimization hasn't converged yet.\n",
      "  warnings.warn(\n"
     ]
    },
    {
     "name": "stdout",
     "output_type": "stream",
     "text": [
      "[CV] END activation=tanh, hidden_layer_sizes=(30, 15), max_iter=500, random_state=0, solver=adam; total time=   0.4s\n"
     ]
    },
    {
     "name": "stderr",
     "output_type": "stream",
     "text": [
      "F:\\Anaconda\\Lib\\site-packages\\sklearn\\neural_network\\_multilayer_perceptron.py:690: ConvergenceWarning: Stochastic Optimizer: Maximum iterations (500) reached and the optimization hasn't converged yet.\n",
      "  warnings.warn(\n"
     ]
    },
    {
     "name": "stdout",
     "output_type": "stream",
     "text": [
      "[CV] END activation=tanh, hidden_layer_sizes=(30, 15), max_iter=500, random_state=0, solver=adam; total time=   0.2s\n",
      "[CV] END activation=tanh, hidden_layer_sizes=(30, 15), max_iter=500, random_state=21, solver=lbfgs; total time=   0.0s\n",
      "[CV] END activation=tanh, hidden_layer_sizes=(30, 15), max_iter=500, random_state=21, solver=lbfgs; total time=   0.0s\n",
      "[CV] END activation=tanh, hidden_layer_sizes=(30, 15), max_iter=500, random_state=21, solver=lbfgs; total time=   0.0s\n",
      "[CV] END activation=tanh, hidden_layer_sizes=(30, 15), max_iter=500, random_state=21, solver=lbfgs; total time=   0.0s\n"
     ]
    },
    {
     "name": "stderr",
     "output_type": "stream",
     "text": [
      "F:\\Anaconda\\Lib\\site-packages\\sklearn\\neural_network\\_multilayer_perceptron.py:690: ConvergenceWarning: Stochastic Optimizer: Maximum iterations (500) reached and the optimization hasn't converged yet.\n",
      "  warnings.warn(\n"
     ]
    },
    {
     "name": "stdout",
     "output_type": "stream",
     "text": [
      "[CV] END activation=tanh, hidden_layer_sizes=(30, 15), max_iter=500, random_state=21, solver=adam; total time=   0.3s\n"
     ]
    },
    {
     "name": "stderr",
     "output_type": "stream",
     "text": [
      "F:\\Anaconda\\Lib\\site-packages\\sklearn\\neural_network\\_multilayer_perceptron.py:690: ConvergenceWarning: Stochastic Optimizer: Maximum iterations (500) reached and the optimization hasn't converged yet.\n",
      "  warnings.warn(\n"
     ]
    },
    {
     "name": "stdout",
     "output_type": "stream",
     "text": [
      "[CV] END activation=tanh, hidden_layer_sizes=(30, 15), max_iter=500, random_state=21, solver=adam; total time=   0.3s\n"
     ]
    },
    {
     "name": "stderr",
     "output_type": "stream",
     "text": [
      "F:\\Anaconda\\Lib\\site-packages\\sklearn\\neural_network\\_multilayer_perceptron.py:690: ConvergenceWarning: Stochastic Optimizer: Maximum iterations (500) reached and the optimization hasn't converged yet.\n",
      "  warnings.warn(\n"
     ]
    },
    {
     "name": "stdout",
     "output_type": "stream",
     "text": [
      "[CV] END activation=tanh, hidden_layer_sizes=(30, 15), max_iter=500, random_state=21, solver=adam; total time=   0.3s\n"
     ]
    },
    {
     "name": "stderr",
     "output_type": "stream",
     "text": [
      "F:\\Anaconda\\Lib\\site-packages\\sklearn\\neural_network\\_multilayer_perceptron.py:690: ConvergenceWarning: Stochastic Optimizer: Maximum iterations (500) reached and the optimization hasn't converged yet.\n",
      "  warnings.warn(\n"
     ]
    },
    {
     "name": "stdout",
     "output_type": "stream",
     "text": [
      "[CV] END activation=tanh, hidden_layer_sizes=(30, 15), max_iter=500, random_state=21, solver=adam; total time=   0.3s\n",
      "[CV] END activation=tanh, hidden_layer_sizes=(30, 15), max_iter=500, random_state=42, solver=lbfgs; total time=   0.0s\n",
      "[CV] END activation=tanh, hidden_layer_sizes=(30, 15), max_iter=500, random_state=42, solver=lbfgs; total time=   0.0s\n",
      "[CV] END activation=tanh, hidden_layer_sizes=(30, 15), max_iter=500, random_state=42, solver=lbfgs; total time=   0.0s\n",
      "[CV] END activation=tanh, hidden_layer_sizes=(30, 15), max_iter=500, random_state=42, solver=lbfgs; total time=   0.0s\n"
     ]
    },
    {
     "name": "stderr",
     "output_type": "stream",
     "text": [
      "F:\\Anaconda\\Lib\\site-packages\\sklearn\\neural_network\\_multilayer_perceptron.py:690: ConvergenceWarning: Stochastic Optimizer: Maximum iterations (500) reached and the optimization hasn't converged yet.\n",
      "  warnings.warn(\n"
     ]
    },
    {
     "name": "stdout",
     "output_type": "stream",
     "text": [
      "[CV] END activation=tanh, hidden_layer_sizes=(30, 15), max_iter=500, random_state=42, solver=adam; total time=   0.3s\n"
     ]
    },
    {
     "name": "stderr",
     "output_type": "stream",
     "text": [
      "F:\\Anaconda\\Lib\\site-packages\\sklearn\\neural_network\\_multilayer_perceptron.py:690: ConvergenceWarning: Stochastic Optimizer: Maximum iterations (500) reached and the optimization hasn't converged yet.\n",
      "  warnings.warn(\n"
     ]
    },
    {
     "name": "stdout",
     "output_type": "stream",
     "text": [
      "[CV] END activation=tanh, hidden_layer_sizes=(30, 15), max_iter=500, random_state=42, solver=adam; total time=   0.2s\n"
     ]
    },
    {
     "name": "stderr",
     "output_type": "stream",
     "text": [
      "F:\\Anaconda\\Lib\\site-packages\\sklearn\\neural_network\\_multilayer_perceptron.py:690: ConvergenceWarning: Stochastic Optimizer: Maximum iterations (500) reached and the optimization hasn't converged yet.\n",
      "  warnings.warn(\n"
     ]
    },
    {
     "name": "stdout",
     "output_type": "stream",
     "text": [
      "[CV] END activation=tanh, hidden_layer_sizes=(30, 15), max_iter=500, random_state=42, solver=adam; total time=   0.3s\n"
     ]
    },
    {
     "name": "stderr",
     "output_type": "stream",
     "text": [
      "F:\\Anaconda\\Lib\\site-packages\\sklearn\\neural_network\\_multilayer_perceptron.py:690: ConvergenceWarning: Stochastic Optimizer: Maximum iterations (500) reached and the optimization hasn't converged yet.\n",
      "  warnings.warn(\n"
     ]
    },
    {
     "name": "stdout",
     "output_type": "stream",
     "text": [
      "[CV] END activation=tanh, hidden_layer_sizes=(30, 15), max_iter=500, random_state=42, solver=adam; total time=   0.3s\n",
      "[CV] END activation=tanh, hidden_layer_sizes=(30, 15), max_iter=1000, random_state=0, solver=lbfgs; total time=   0.0s\n",
      "[CV] END activation=tanh, hidden_layer_sizes=(30, 15), max_iter=1000, random_state=0, solver=lbfgs; total time=   0.0s\n",
      "[CV] END activation=tanh, hidden_layer_sizes=(30, 15), max_iter=1000, random_state=0, solver=lbfgs; total time=   0.0s\n",
      "[CV] END activation=tanh, hidden_layer_sizes=(30, 15), max_iter=1000, random_state=0, solver=lbfgs; total time=   0.0s\n"
     ]
    },
    {
     "name": "stderr",
     "output_type": "stream",
     "text": [
      "F:\\Anaconda\\Lib\\site-packages\\sklearn\\neural_network\\_multilayer_perceptron.py:690: ConvergenceWarning: Stochastic Optimizer: Maximum iterations (1000) reached and the optimization hasn't converged yet.\n",
      "  warnings.warn(\n"
     ]
    },
    {
     "name": "stdout",
     "output_type": "stream",
     "text": [
      "[CV] END activation=tanh, hidden_layer_sizes=(30, 15), max_iter=1000, random_state=0, solver=adam; total time=   0.8s\n",
      "[CV] END activation=tanh, hidden_layer_sizes=(30, 15), max_iter=1000, random_state=0, solver=adam; total time=   0.7s\n"
     ]
    },
    {
     "name": "stderr",
     "output_type": "stream",
     "text": [
      "F:\\Anaconda\\Lib\\site-packages\\sklearn\\neural_network\\_multilayer_perceptron.py:690: ConvergenceWarning: Stochastic Optimizer: Maximum iterations (1000) reached and the optimization hasn't converged yet.\n",
      "  warnings.warn(\n"
     ]
    },
    {
     "name": "stdout",
     "output_type": "stream",
     "text": [
      "[CV] END activation=tanh, hidden_layer_sizes=(30, 15), max_iter=1000, random_state=0, solver=adam; total time=   0.8s\n",
      "[CV] END activation=tanh, hidden_layer_sizes=(30, 15), max_iter=1000, random_state=0, solver=adam; total time=   0.6s\n",
      "[CV] END activation=tanh, hidden_layer_sizes=(30, 15), max_iter=1000, random_state=21, solver=lbfgs; total time=   0.0s\n",
      "[CV] END activation=tanh, hidden_layer_sizes=(30, 15), max_iter=1000, random_state=21, solver=lbfgs; total time=   0.0s\n",
      "[CV] END activation=tanh, hidden_layer_sizes=(30, 15), max_iter=1000, random_state=21, solver=lbfgs; total time=   0.0s\n",
      "[CV] END activation=tanh, hidden_layer_sizes=(30, 15), max_iter=1000, random_state=21, solver=lbfgs; total time=   0.0s\n"
     ]
    },
    {
     "name": "stderr",
     "output_type": "stream",
     "text": [
      "F:\\Anaconda\\Lib\\site-packages\\sklearn\\neural_network\\_multilayer_perceptron.py:690: ConvergenceWarning: Stochastic Optimizer: Maximum iterations (1000) reached and the optimization hasn't converged yet.\n",
      "  warnings.warn(\n"
     ]
    },
    {
     "name": "stdout",
     "output_type": "stream",
     "text": [
      "[CV] END activation=tanh, hidden_layer_sizes=(30, 15), max_iter=1000, random_state=21, solver=adam; total time=   0.8s\n",
      "[CV] END activation=tanh, hidden_layer_sizes=(30, 15), max_iter=1000, random_state=21, solver=adam; total time=   0.7s\n"
     ]
    },
    {
     "name": "stderr",
     "output_type": "stream",
     "text": [
      "F:\\Anaconda\\Lib\\site-packages\\sklearn\\neural_network\\_multilayer_perceptron.py:690: ConvergenceWarning: Stochastic Optimizer: Maximum iterations (1000) reached and the optimization hasn't converged yet.\n",
      "  warnings.warn(\n"
     ]
    },
    {
     "name": "stdout",
     "output_type": "stream",
     "text": [
      "[CV] END activation=tanh, hidden_layer_sizes=(30, 15), max_iter=1000, random_state=21, solver=adam; total time=   0.8s\n"
     ]
    },
    {
     "name": "stderr",
     "output_type": "stream",
     "text": [
      "F:\\Anaconda\\Lib\\site-packages\\sklearn\\neural_network\\_multilayer_perceptron.py:690: ConvergenceWarning: Stochastic Optimizer: Maximum iterations (1000) reached and the optimization hasn't converged yet.\n",
      "  warnings.warn(\n"
     ]
    },
    {
     "name": "stdout",
     "output_type": "stream",
     "text": [
      "[CV] END activation=tanh, hidden_layer_sizes=(30, 15), max_iter=1000, random_state=21, solver=adam; total time=   0.8s\n",
      "[CV] END activation=tanh, hidden_layer_sizes=(30, 15), max_iter=1000, random_state=42, solver=lbfgs; total time=   0.0s\n",
      "[CV] END activation=tanh, hidden_layer_sizes=(30, 15), max_iter=1000, random_state=42, solver=lbfgs; total time=   0.0s\n",
      "[CV] END activation=tanh, hidden_layer_sizes=(30, 15), max_iter=1000, random_state=42, solver=lbfgs; total time=   0.0s\n",
      "[CV] END activation=tanh, hidden_layer_sizes=(30, 15), max_iter=1000, random_state=42, solver=lbfgs; total time=   0.0s\n"
     ]
    },
    {
     "name": "stderr",
     "output_type": "stream",
     "text": [
      "F:\\Anaconda\\Lib\\site-packages\\sklearn\\neural_network\\_multilayer_perceptron.py:690: ConvergenceWarning: Stochastic Optimizer: Maximum iterations (1000) reached and the optimization hasn't converged yet.\n",
      "  warnings.warn(\n"
     ]
    },
    {
     "name": "stdout",
     "output_type": "stream",
     "text": [
      "[CV] END activation=tanh, hidden_layer_sizes=(30, 15), max_iter=1000, random_state=42, solver=adam; total time=   0.5s\n"
     ]
    },
    {
     "name": "stderr",
     "output_type": "stream",
     "text": [
      "F:\\Anaconda\\Lib\\site-packages\\sklearn\\neural_network\\_multilayer_perceptron.py:690: ConvergenceWarning: Stochastic Optimizer: Maximum iterations (1000) reached and the optimization hasn't converged yet.\n",
      "  warnings.warn(\n"
     ]
    },
    {
     "name": "stdout",
     "output_type": "stream",
     "text": [
      "[CV] END activation=tanh, hidden_layer_sizes=(30, 15), max_iter=1000, random_state=42, solver=adam; total time=   0.6s\n"
     ]
    },
    {
     "name": "stderr",
     "output_type": "stream",
     "text": [
      "F:\\Anaconda\\Lib\\site-packages\\sklearn\\neural_network\\_multilayer_perceptron.py:690: ConvergenceWarning: Stochastic Optimizer: Maximum iterations (1000) reached and the optimization hasn't converged yet.\n",
      "  warnings.warn(\n"
     ]
    },
    {
     "name": "stdout",
     "output_type": "stream",
     "text": [
      "[CV] END activation=tanh, hidden_layer_sizes=(30, 15), max_iter=1000, random_state=42, solver=adam; total time=   0.7s\n",
      "[CV] END activation=tanh, hidden_layer_sizes=(30, 15), max_iter=1000, random_state=42, solver=adam; total time=   0.7s\n",
      "[CV] END activation=tanh, hidden_layer_sizes=(30, 15), max_iter=1000, random_state=0, solver=lbfgs; total time=   0.0s\n",
      "[CV] END activation=tanh, hidden_layer_sizes=(30, 15), max_iter=1000, random_state=0, solver=lbfgs; total time=   0.0s\n",
      "[CV] END activation=tanh, hidden_layer_sizes=(30, 15), max_iter=1000, random_state=0, solver=lbfgs; total time=   0.1s\n",
      "[CV] END activation=tanh, hidden_layer_sizes=(30, 15), max_iter=1000, random_state=0, solver=lbfgs; total time=   0.0s\n"
     ]
    },
    {
     "name": "stderr",
     "output_type": "stream",
     "text": [
      "F:\\Anaconda\\Lib\\site-packages\\sklearn\\neural_network\\_multilayer_perceptron.py:690: ConvergenceWarning: Stochastic Optimizer: Maximum iterations (1000) reached and the optimization hasn't converged yet.\n",
      "  warnings.warn(\n"
     ]
    },
    {
     "name": "stdout",
     "output_type": "stream",
     "text": [
      "[CV] END activation=tanh, hidden_layer_sizes=(30, 15), max_iter=1000, random_state=0, solver=adam; total time=   0.8s\n",
      "[CV] END activation=tanh, hidden_layer_sizes=(30, 15), max_iter=1000, random_state=0, solver=adam; total time=   0.7s\n"
     ]
    },
    {
     "name": "stderr",
     "output_type": "stream",
     "text": [
      "F:\\Anaconda\\Lib\\site-packages\\sklearn\\neural_network\\_multilayer_perceptron.py:690: ConvergenceWarning: Stochastic Optimizer: Maximum iterations (1000) reached and the optimization hasn't converged yet.\n",
      "  warnings.warn(\n"
     ]
    },
    {
     "name": "stdout",
     "output_type": "stream",
     "text": [
      "[CV] END activation=tanh, hidden_layer_sizes=(30, 15), max_iter=1000, random_state=0, solver=adam; total time=   0.8s\n",
      "[CV] END activation=tanh, hidden_layer_sizes=(30, 15), max_iter=1000, random_state=0, solver=adam; total time=   0.6s\n",
      "[CV] END activation=tanh, hidden_layer_sizes=(30, 15), max_iter=1000, random_state=21, solver=lbfgs; total time=   0.0s\n",
      "[CV] END activation=tanh, hidden_layer_sizes=(30, 15), max_iter=1000, random_state=21, solver=lbfgs; total time=   0.0s\n",
      "[CV] END activation=tanh, hidden_layer_sizes=(30, 15), max_iter=1000, random_state=21, solver=lbfgs; total time=   0.0s\n",
      "[CV] END activation=tanh, hidden_layer_sizes=(30, 15), max_iter=1000, random_state=21, solver=lbfgs; total time=   0.0s\n"
     ]
    },
    {
     "name": "stderr",
     "output_type": "stream",
     "text": [
      "F:\\Anaconda\\Lib\\site-packages\\sklearn\\neural_network\\_multilayer_perceptron.py:690: ConvergenceWarning: Stochastic Optimizer: Maximum iterations (1000) reached and the optimization hasn't converged yet.\n",
      "  warnings.warn(\n"
     ]
    },
    {
     "name": "stdout",
     "output_type": "stream",
     "text": [
      "[CV] END activation=tanh, hidden_layer_sizes=(30, 15), max_iter=1000, random_state=21, solver=adam; total time=   0.8s\n",
      "[CV] END activation=tanh, hidden_layer_sizes=(30, 15), max_iter=1000, random_state=21, solver=adam; total time=   0.8s\n"
     ]
    },
    {
     "name": "stderr",
     "output_type": "stream",
     "text": [
      "F:\\Anaconda\\Lib\\site-packages\\sklearn\\neural_network\\_multilayer_perceptron.py:690: ConvergenceWarning: Stochastic Optimizer: Maximum iterations (1000) reached and the optimization hasn't converged yet.\n",
      "  warnings.warn(\n"
     ]
    },
    {
     "name": "stdout",
     "output_type": "stream",
     "text": [
      "[CV] END activation=tanh, hidden_layer_sizes=(30, 15), max_iter=1000, random_state=21, solver=adam; total time=   0.8s\n"
     ]
    },
    {
     "name": "stderr",
     "output_type": "stream",
     "text": [
      "F:\\Anaconda\\Lib\\site-packages\\sklearn\\neural_network\\_multilayer_perceptron.py:690: ConvergenceWarning: Stochastic Optimizer: Maximum iterations (1000) reached and the optimization hasn't converged yet.\n",
      "  warnings.warn(\n"
     ]
    },
    {
     "name": "stdout",
     "output_type": "stream",
     "text": [
      "[CV] END activation=tanh, hidden_layer_sizes=(30, 15), max_iter=1000, random_state=21, solver=adam; total time=   0.8s\n",
      "[CV] END activation=tanh, hidden_layer_sizes=(30, 15), max_iter=1000, random_state=42, solver=lbfgs; total time=   0.0s\n",
      "[CV] END activation=tanh, hidden_layer_sizes=(30, 15), max_iter=1000, random_state=42, solver=lbfgs; total time=   0.0s\n",
      "[CV] END activation=tanh, hidden_layer_sizes=(30, 15), max_iter=1000, random_state=42, solver=lbfgs; total time=   0.0s\n",
      "[CV] END activation=tanh, hidden_layer_sizes=(30, 15), max_iter=1000, random_state=42, solver=lbfgs; total time=   0.0s\n"
     ]
    },
    {
     "name": "stderr",
     "output_type": "stream",
     "text": [
      "F:\\Anaconda\\Lib\\site-packages\\sklearn\\neural_network\\_multilayer_perceptron.py:690: ConvergenceWarning: Stochastic Optimizer: Maximum iterations (1000) reached and the optimization hasn't converged yet.\n",
      "  warnings.warn(\n"
     ]
    },
    {
     "name": "stdout",
     "output_type": "stream",
     "text": [
      "[CV] END activation=tanh, hidden_layer_sizes=(30, 15), max_iter=1000, random_state=42, solver=adam; total time=   0.8s\n"
     ]
    },
    {
     "name": "stderr",
     "output_type": "stream",
     "text": [
      "F:\\Anaconda\\Lib\\site-packages\\sklearn\\neural_network\\_multilayer_perceptron.py:690: ConvergenceWarning: Stochastic Optimizer: Maximum iterations (1000) reached and the optimization hasn't converged yet.\n",
      "  warnings.warn(\n"
     ]
    },
    {
     "name": "stdout",
     "output_type": "stream",
     "text": [
      "[CV] END activation=tanh, hidden_layer_sizes=(30, 15), max_iter=1000, random_state=42, solver=adam; total time=   0.6s\n"
     ]
    },
    {
     "name": "stderr",
     "output_type": "stream",
     "text": [
      "F:\\Anaconda\\Lib\\site-packages\\sklearn\\neural_network\\_multilayer_perceptron.py:690: ConvergenceWarning: Stochastic Optimizer: Maximum iterations (1000) reached and the optimization hasn't converged yet.\n",
      "  warnings.warn(\n"
     ]
    },
    {
     "name": "stdout",
     "output_type": "stream",
     "text": [
      "[CV] END activation=tanh, hidden_layer_sizes=(30, 15), max_iter=1000, random_state=42, solver=adam; total time=   0.6s\n",
      "[CV] END activation=tanh, hidden_layer_sizes=(30, 15), max_iter=1000, random_state=42, solver=adam; total time=   0.5s\n",
      "[CV] END activation=relu, hidden_layer_sizes=(5,), max_iter=500, random_state=0, solver=lbfgs; total time=   0.0s\n",
      "[CV] END activation=relu, hidden_layer_sizes=(5,), max_iter=500, random_state=0, solver=lbfgs; total time=   0.0s\n",
      "[CV] END activation=relu, hidden_layer_sizes=(5,), max_iter=500, random_state=0, solver=lbfgs; total time=   0.0s\n",
      "[CV] END activation=relu, hidden_layer_sizes=(5,), max_iter=500, random_state=0, solver=lbfgs; total time=   0.0s\n"
     ]
    },
    {
     "name": "stderr",
     "output_type": "stream",
     "text": [
      "F:\\Anaconda\\Lib\\site-packages\\sklearn\\neural_network\\_multilayer_perceptron.py:690: ConvergenceWarning: Stochastic Optimizer: Maximum iterations (500) reached and the optimization hasn't converged yet.\n",
      "  warnings.warn(\n",
      "F:\\Anaconda\\Lib\\site-packages\\sklearn\\neural_network\\_multilayer_perceptron.py:690: ConvergenceWarning: Stochastic Optimizer: Maximum iterations (500) reached and the optimization hasn't converged yet.\n",
      "  warnings.warn(\n"
     ]
    },
    {
     "name": "stdout",
     "output_type": "stream",
     "text": [
      "[CV] END activation=relu, hidden_layer_sizes=(5,), max_iter=500, random_state=0, solver=adam; total time=   0.1s\n",
      "[CV] END activation=relu, hidden_layer_sizes=(5,), max_iter=500, random_state=0, solver=adam; total time=   0.1s\n"
     ]
    },
    {
     "name": "stderr",
     "output_type": "stream",
     "text": [
      "F:\\Anaconda\\Lib\\site-packages\\sklearn\\neural_network\\_multilayer_perceptron.py:690: ConvergenceWarning: Stochastic Optimizer: Maximum iterations (500) reached and the optimization hasn't converged yet.\n",
      "  warnings.warn(\n",
      "F:\\Anaconda\\Lib\\site-packages\\sklearn\\neural_network\\_multilayer_perceptron.py:690: ConvergenceWarning: Stochastic Optimizer: Maximum iterations (500) reached and the optimization hasn't converged yet.\n",
      "  warnings.warn(\n"
     ]
    },
    {
     "name": "stdout",
     "output_type": "stream",
     "text": [
      "[CV] END activation=relu, hidden_layer_sizes=(5,), max_iter=500, random_state=0, solver=adam; total time=   0.1s\n",
      "[CV] END activation=relu, hidden_layer_sizes=(5,), max_iter=500, random_state=0, solver=adam; total time=   0.1s\n",
      "[CV] END activation=relu, hidden_layer_sizes=(5,), max_iter=500, random_state=21, solver=lbfgs; total time=   0.0s\n",
      "[CV] END activation=relu, hidden_layer_sizes=(5,), max_iter=500, random_state=21, solver=lbfgs; total time=   0.0s\n",
      "[CV] END activation=relu, hidden_layer_sizes=(5,), max_iter=500, random_state=21, solver=lbfgs; total time=   0.0s\n",
      "[CV] END activation=relu, hidden_layer_sizes=(5,), max_iter=500, random_state=21, solver=lbfgs; total time=   0.0s\n"
     ]
    },
    {
     "name": "stderr",
     "output_type": "stream",
     "text": [
      "F:\\Anaconda\\Lib\\site-packages\\sklearn\\neural_network\\_multilayer_perceptron.py:690: ConvergenceWarning: Stochastic Optimizer: Maximum iterations (500) reached and the optimization hasn't converged yet.\n",
      "  warnings.warn(\n"
     ]
    },
    {
     "name": "stdout",
     "output_type": "stream",
     "text": [
      "[CV] END activation=relu, hidden_layer_sizes=(5,), max_iter=500, random_state=21, solver=adam; total time=   0.1s\n"
     ]
    },
    {
     "name": "stderr",
     "output_type": "stream",
     "text": [
      "F:\\Anaconda\\Lib\\site-packages\\sklearn\\neural_network\\_multilayer_perceptron.py:690: ConvergenceWarning: Stochastic Optimizer: Maximum iterations (500) reached and the optimization hasn't converged yet.\n",
      "  warnings.warn(\n",
      "F:\\Anaconda\\Lib\\site-packages\\sklearn\\neural_network\\_multilayer_perceptron.py:690: ConvergenceWarning: Stochastic Optimizer: Maximum iterations (500) reached and the optimization hasn't converged yet.\n",
      "  warnings.warn(\n"
     ]
    },
    {
     "name": "stdout",
     "output_type": "stream",
     "text": [
      "[CV] END activation=relu, hidden_layer_sizes=(5,), max_iter=500, random_state=21, solver=adam; total time=   0.1s\n",
      "[CV] END activation=relu, hidden_layer_sizes=(5,), max_iter=500, random_state=21, solver=adam; total time=   0.1s\n"
     ]
    },
    {
     "name": "stderr",
     "output_type": "stream",
     "text": [
      "F:\\Anaconda\\Lib\\site-packages\\sklearn\\neural_network\\_multilayer_perceptron.py:690: ConvergenceWarning: Stochastic Optimizer: Maximum iterations (500) reached and the optimization hasn't converged yet.\n",
      "  warnings.warn(\n"
     ]
    },
    {
     "name": "stdout",
     "output_type": "stream",
     "text": [
      "[CV] END activation=relu, hidden_layer_sizes=(5,), max_iter=500, random_state=21, solver=adam; total time=   0.1s\n",
      "[CV] END activation=relu, hidden_layer_sizes=(5,), max_iter=500, random_state=42, solver=lbfgs; total time=   0.0s\n",
      "[CV] END activation=relu, hidden_layer_sizes=(5,), max_iter=500, random_state=42, solver=lbfgs; total time=   0.0s\n",
      "[CV] END activation=relu, hidden_layer_sizes=(5,), max_iter=500, random_state=42, solver=lbfgs; total time=   0.0s\n",
      "[CV] END activation=relu, hidden_layer_sizes=(5,), max_iter=500, random_state=42, solver=lbfgs; total time=   0.0s\n"
     ]
    },
    {
     "name": "stderr",
     "output_type": "stream",
     "text": [
      "F:\\Anaconda\\Lib\\site-packages\\sklearn\\neural_network\\_multilayer_perceptron.py:690: ConvergenceWarning: Stochastic Optimizer: Maximum iterations (500) reached and the optimization hasn't converged yet.\n",
      "  warnings.warn(\n",
      "F:\\Anaconda\\Lib\\site-packages\\sklearn\\neural_network\\_multilayer_perceptron.py:690: ConvergenceWarning: Stochastic Optimizer: Maximum iterations (500) reached and the optimization hasn't converged yet.\n",
      "  warnings.warn(\n"
     ]
    },
    {
     "name": "stdout",
     "output_type": "stream",
     "text": [
      "[CV] END activation=relu, hidden_layer_sizes=(5,), max_iter=500, random_state=42, solver=adam; total time=   0.1s\n",
      "[CV] END activation=relu, hidden_layer_sizes=(5,), max_iter=500, random_state=42, solver=adam; total time=   0.1s\n"
     ]
    },
    {
     "name": "stderr",
     "output_type": "stream",
     "text": [
      "F:\\Anaconda\\Lib\\site-packages\\sklearn\\neural_network\\_multilayer_perceptron.py:690: ConvergenceWarning: Stochastic Optimizer: Maximum iterations (500) reached and the optimization hasn't converged yet.\n",
      "  warnings.warn(\n"
     ]
    },
    {
     "name": "stdout",
     "output_type": "stream",
     "text": [
      "[CV] END activation=relu, hidden_layer_sizes=(5,), max_iter=500, random_state=42, solver=adam; total time=   0.1s\n"
     ]
    },
    {
     "name": "stderr",
     "output_type": "stream",
     "text": [
      "F:\\Anaconda\\Lib\\site-packages\\sklearn\\neural_network\\_multilayer_perceptron.py:690: ConvergenceWarning: Stochastic Optimizer: Maximum iterations (500) reached and the optimization hasn't converged yet.\n",
      "  warnings.warn(\n"
     ]
    },
    {
     "name": "stdout",
     "output_type": "stream",
     "text": [
      "[CV] END activation=relu, hidden_layer_sizes=(5,), max_iter=500, random_state=42, solver=adam; total time=   0.1s\n",
      "[CV] END activation=relu, hidden_layer_sizes=(5,), max_iter=1000, random_state=0, solver=lbfgs; total time=   0.0s\n",
      "[CV] END activation=relu, hidden_layer_sizes=(5,), max_iter=1000, random_state=0, solver=lbfgs; total time=   0.0s\n",
      "[CV] END activation=relu, hidden_layer_sizes=(5,), max_iter=1000, random_state=0, solver=lbfgs; total time=   0.0s\n",
      "[CV] END activation=relu, hidden_layer_sizes=(5,), max_iter=1000, random_state=0, solver=lbfgs; total time=   0.0s\n"
     ]
    },
    {
     "name": "stderr",
     "output_type": "stream",
     "text": [
      "F:\\Anaconda\\Lib\\site-packages\\sklearn\\neural_network\\_multilayer_perceptron.py:690: ConvergenceWarning: Stochastic Optimizer: Maximum iterations (1000) reached and the optimization hasn't converged yet.\n",
      "  warnings.warn(\n"
     ]
    },
    {
     "name": "stdout",
     "output_type": "stream",
     "text": [
      "[CV] END activation=relu, hidden_layer_sizes=(5,), max_iter=1000, random_state=0, solver=adam; total time=   0.3s\n"
     ]
    },
    {
     "name": "stderr",
     "output_type": "stream",
     "text": [
      "F:\\Anaconda\\Lib\\site-packages\\sklearn\\neural_network\\_multilayer_perceptron.py:690: ConvergenceWarning: Stochastic Optimizer: Maximum iterations (1000) reached and the optimization hasn't converged yet.\n",
      "  warnings.warn(\n"
     ]
    },
    {
     "name": "stdout",
     "output_type": "stream",
     "text": [
      "[CV] END activation=relu, hidden_layer_sizes=(5,), max_iter=1000, random_state=0, solver=adam; total time=   0.3s\n"
     ]
    },
    {
     "name": "stderr",
     "output_type": "stream",
     "text": [
      "F:\\Anaconda\\Lib\\site-packages\\sklearn\\neural_network\\_multilayer_perceptron.py:690: ConvergenceWarning: Stochastic Optimizer: Maximum iterations (1000) reached and the optimization hasn't converged yet.\n",
      "  warnings.warn(\n"
     ]
    },
    {
     "name": "stdout",
     "output_type": "stream",
     "text": [
      "[CV] END activation=relu, hidden_layer_sizes=(5,), max_iter=1000, random_state=0, solver=adam; total time=   0.3s\n",
      "[CV] END activation=relu, hidden_layer_sizes=(5,), max_iter=1000, random_state=0, solver=adam; total time=   0.1s\n",
      "[CV] END activation=relu, hidden_layer_sizes=(5,), max_iter=1000, random_state=21, solver=lbfgs; total time=   0.0s\n",
      "[CV] END activation=relu, hidden_layer_sizes=(5,), max_iter=1000, random_state=21, solver=lbfgs; total time=   0.0s\n",
      "[CV] END activation=relu, hidden_layer_sizes=(5,), max_iter=1000, random_state=21, solver=lbfgs; total time=   0.0s\n",
      "[CV] END activation=relu, hidden_layer_sizes=(5,), max_iter=1000, random_state=21, solver=lbfgs; total time=   0.0s\n"
     ]
    },
    {
     "name": "stderr",
     "output_type": "stream",
     "text": [
      "F:\\Anaconda\\Lib\\site-packages\\sklearn\\neural_network\\_multilayer_perceptron.py:690: ConvergenceWarning: Stochastic Optimizer: Maximum iterations (1000) reached and the optimization hasn't converged yet.\n",
      "  warnings.warn(\n"
     ]
    },
    {
     "name": "stdout",
     "output_type": "stream",
     "text": [
      "[CV] END activation=relu, hidden_layer_sizes=(5,), max_iter=1000, random_state=21, solver=adam; total time=   0.3s\n"
     ]
    },
    {
     "name": "stderr",
     "output_type": "stream",
     "text": [
      "F:\\Anaconda\\Lib\\site-packages\\sklearn\\neural_network\\_multilayer_perceptron.py:690: ConvergenceWarning: Stochastic Optimizer: Maximum iterations (1000) reached and the optimization hasn't converged yet.\n",
      "  warnings.warn(\n"
     ]
    },
    {
     "name": "stdout",
     "output_type": "stream",
     "text": [
      "[CV] END activation=relu, hidden_layer_sizes=(5,), max_iter=1000, random_state=21, solver=adam; total time=   0.3s\n"
     ]
    },
    {
     "name": "stderr",
     "output_type": "stream",
     "text": [
      "F:\\Anaconda\\Lib\\site-packages\\sklearn\\neural_network\\_multilayer_perceptron.py:690: ConvergenceWarning: Stochastic Optimizer: Maximum iterations (1000) reached and the optimization hasn't converged yet.\n",
      "  warnings.warn(\n"
     ]
    },
    {
     "name": "stdout",
     "output_type": "stream",
     "text": [
      "[CV] END activation=relu, hidden_layer_sizes=(5,), max_iter=1000, random_state=21, solver=adam; total time=   0.4s\n"
     ]
    },
    {
     "name": "stderr",
     "output_type": "stream",
     "text": [
      "F:\\Anaconda\\Lib\\site-packages\\sklearn\\neural_network\\_multilayer_perceptron.py:690: ConvergenceWarning: Stochastic Optimizer: Maximum iterations (1000) reached and the optimization hasn't converged yet.\n",
      "  warnings.warn(\n"
     ]
    },
    {
     "name": "stdout",
     "output_type": "stream",
     "text": [
      "[CV] END activation=relu, hidden_layer_sizes=(5,), max_iter=1000, random_state=21, solver=adam; total time=   0.3s\n",
      "[CV] END activation=relu, hidden_layer_sizes=(5,), max_iter=1000, random_state=42, solver=lbfgs; total time=   0.0s\n",
      "[CV] END activation=relu, hidden_layer_sizes=(5,), max_iter=1000, random_state=42, solver=lbfgs; total time=   0.0s\n",
      "[CV] END activation=relu, hidden_layer_sizes=(5,), max_iter=1000, random_state=42, solver=lbfgs; total time=   0.0s\n",
      "[CV] END activation=relu, hidden_layer_sizes=(5,), max_iter=1000, random_state=42, solver=lbfgs; total time=   0.0s\n"
     ]
    },
    {
     "name": "stderr",
     "output_type": "stream",
     "text": [
      "F:\\Anaconda\\Lib\\site-packages\\sklearn\\neural_network\\_multilayer_perceptron.py:690: ConvergenceWarning: Stochastic Optimizer: Maximum iterations (1000) reached and the optimization hasn't converged yet.\n",
      "  warnings.warn(\n"
     ]
    },
    {
     "name": "stdout",
     "output_type": "stream",
     "text": [
      "[CV] END activation=relu, hidden_layer_sizes=(5,), max_iter=1000, random_state=42, solver=adam; total time=   0.3s\n"
     ]
    },
    {
     "name": "stderr",
     "output_type": "stream",
     "text": [
      "F:\\Anaconda\\Lib\\site-packages\\sklearn\\neural_network\\_multilayer_perceptron.py:690: ConvergenceWarning: Stochastic Optimizer: Maximum iterations (1000) reached and the optimization hasn't converged yet.\n",
      "  warnings.warn(\n"
     ]
    },
    {
     "name": "stdout",
     "output_type": "stream",
     "text": [
      "[CV] END activation=relu, hidden_layer_sizes=(5,), max_iter=1000, random_state=42, solver=adam; total time=   0.2s\n"
     ]
    },
    {
     "name": "stderr",
     "output_type": "stream",
     "text": [
      "F:\\Anaconda\\Lib\\site-packages\\sklearn\\neural_network\\_multilayer_perceptron.py:690: ConvergenceWarning: Stochastic Optimizer: Maximum iterations (1000) reached and the optimization hasn't converged yet.\n",
      "  warnings.warn(\n"
     ]
    },
    {
     "name": "stdout",
     "output_type": "stream",
     "text": [
      "[CV] END activation=relu, hidden_layer_sizes=(5,), max_iter=1000, random_state=42, solver=adam; total time=   0.3s\n"
     ]
    },
    {
     "name": "stderr",
     "output_type": "stream",
     "text": [
      "F:\\Anaconda\\Lib\\site-packages\\sklearn\\neural_network\\_multilayer_perceptron.py:690: ConvergenceWarning: Stochastic Optimizer: Maximum iterations (1000) reached and the optimization hasn't converged yet.\n",
      "  warnings.warn(\n"
     ]
    },
    {
     "name": "stdout",
     "output_type": "stream",
     "text": [
      "[CV] END activation=relu, hidden_layer_sizes=(5,), max_iter=1000, random_state=42, solver=adam; total time=   0.3s\n",
      "[CV] END activation=relu, hidden_layer_sizes=(5,), max_iter=1000, random_state=0, solver=lbfgs; total time=   0.0s\n",
      "[CV] END activation=relu, hidden_layer_sizes=(5,), max_iter=1000, random_state=0, solver=lbfgs; total time=   0.0s\n",
      "[CV] END activation=relu, hidden_layer_sizes=(5,), max_iter=1000, random_state=0, solver=lbfgs; total time=   0.0s\n",
      "[CV] END activation=relu, hidden_layer_sizes=(5,), max_iter=1000, random_state=0, solver=lbfgs; total time=   0.0s\n"
     ]
    },
    {
     "name": "stderr",
     "output_type": "stream",
     "text": [
      "F:\\Anaconda\\Lib\\site-packages\\sklearn\\neural_network\\_multilayer_perceptron.py:690: ConvergenceWarning: Stochastic Optimizer: Maximum iterations (1000) reached and the optimization hasn't converged yet.\n",
      "  warnings.warn(\n"
     ]
    },
    {
     "name": "stdout",
     "output_type": "stream",
     "text": [
      "[CV] END activation=relu, hidden_layer_sizes=(5,), max_iter=1000, random_state=0, solver=adam; total time=   0.3s\n"
     ]
    },
    {
     "name": "stderr",
     "output_type": "stream",
     "text": [
      "F:\\Anaconda\\Lib\\site-packages\\sklearn\\neural_network\\_multilayer_perceptron.py:690: ConvergenceWarning: Stochastic Optimizer: Maximum iterations (1000) reached and the optimization hasn't converged yet.\n",
      "  warnings.warn(\n"
     ]
    },
    {
     "name": "stdout",
     "output_type": "stream",
     "text": [
      "[CV] END activation=relu, hidden_layer_sizes=(5,), max_iter=1000, random_state=0, solver=adam; total time=   0.2s\n"
     ]
    },
    {
     "name": "stderr",
     "output_type": "stream",
     "text": [
      "F:\\Anaconda\\Lib\\site-packages\\sklearn\\neural_network\\_multilayer_perceptron.py:690: ConvergenceWarning: Stochastic Optimizer: Maximum iterations (1000) reached and the optimization hasn't converged yet.\n",
      "  warnings.warn(\n"
     ]
    },
    {
     "name": "stdout",
     "output_type": "stream",
     "text": [
      "[CV] END activation=relu, hidden_layer_sizes=(5,), max_iter=1000, random_state=0, solver=adam; total time=   0.3s\n",
      "[CV] END activation=relu, hidden_layer_sizes=(5,), max_iter=1000, random_state=0, solver=adam; total time=   0.1s\n",
      "[CV] END activation=relu, hidden_layer_sizes=(5,), max_iter=1000, random_state=21, solver=lbfgs; total time=   0.0s\n",
      "[CV] END activation=relu, hidden_layer_sizes=(5,), max_iter=1000, random_state=21, solver=lbfgs; total time=   0.0s\n",
      "[CV] END activation=relu, hidden_layer_sizes=(5,), max_iter=1000, random_state=21, solver=lbfgs; total time=   0.0s\n",
      "[CV] END activation=relu, hidden_layer_sizes=(5,), max_iter=1000, random_state=21, solver=lbfgs; total time=   0.0s\n"
     ]
    },
    {
     "name": "stderr",
     "output_type": "stream",
     "text": [
      "F:\\Anaconda\\Lib\\site-packages\\sklearn\\neural_network\\_multilayer_perceptron.py:690: ConvergenceWarning: Stochastic Optimizer: Maximum iterations (1000) reached and the optimization hasn't converged yet.\n",
      "  warnings.warn(\n"
     ]
    },
    {
     "name": "stdout",
     "output_type": "stream",
     "text": [
      "[CV] END activation=relu, hidden_layer_sizes=(5,), max_iter=1000, random_state=21, solver=adam; total time=   0.3s\n"
     ]
    },
    {
     "name": "stderr",
     "output_type": "stream",
     "text": [
      "F:\\Anaconda\\Lib\\site-packages\\sklearn\\neural_network\\_multilayer_perceptron.py:690: ConvergenceWarning: Stochastic Optimizer: Maximum iterations (1000) reached and the optimization hasn't converged yet.\n",
      "  warnings.warn(\n"
     ]
    },
    {
     "name": "stdout",
     "output_type": "stream",
     "text": [
      "[CV] END activation=relu, hidden_layer_sizes=(5,), max_iter=1000, random_state=21, solver=adam; total time=   0.3s\n"
     ]
    },
    {
     "name": "stderr",
     "output_type": "stream",
     "text": [
      "F:\\Anaconda\\Lib\\site-packages\\sklearn\\neural_network\\_multilayer_perceptron.py:690: ConvergenceWarning: Stochastic Optimizer: Maximum iterations (1000) reached and the optimization hasn't converged yet.\n",
      "  warnings.warn(\n"
     ]
    },
    {
     "name": "stdout",
     "output_type": "stream",
     "text": [
      "[CV] END activation=relu, hidden_layer_sizes=(5,), max_iter=1000, random_state=21, solver=adam; total time=   0.4s\n"
     ]
    },
    {
     "name": "stderr",
     "output_type": "stream",
     "text": [
      "F:\\Anaconda\\Lib\\site-packages\\sklearn\\neural_network\\_multilayer_perceptron.py:690: ConvergenceWarning: Stochastic Optimizer: Maximum iterations (1000) reached and the optimization hasn't converged yet.\n",
      "  warnings.warn(\n"
     ]
    },
    {
     "name": "stdout",
     "output_type": "stream",
     "text": [
      "[CV] END activation=relu, hidden_layer_sizes=(5,), max_iter=1000, random_state=21, solver=adam; total time=   0.3s\n",
      "[CV] END activation=relu, hidden_layer_sizes=(5,), max_iter=1000, random_state=42, solver=lbfgs; total time=   0.0s\n",
      "[CV] END activation=relu, hidden_layer_sizes=(5,), max_iter=1000, random_state=42, solver=lbfgs; total time=   0.0s\n",
      "[CV] END activation=relu, hidden_layer_sizes=(5,), max_iter=1000, random_state=42, solver=lbfgs; total time=   0.0s\n",
      "[CV] END activation=relu, hidden_layer_sizes=(5,), max_iter=1000, random_state=42, solver=lbfgs; total time=   0.0s\n"
     ]
    },
    {
     "name": "stderr",
     "output_type": "stream",
     "text": [
      "F:\\Anaconda\\Lib\\site-packages\\sklearn\\neural_network\\_multilayer_perceptron.py:690: ConvergenceWarning: Stochastic Optimizer: Maximum iterations (1000) reached and the optimization hasn't converged yet.\n",
      "  warnings.warn(\n"
     ]
    },
    {
     "name": "stdout",
     "output_type": "stream",
     "text": [
      "[CV] END activation=relu, hidden_layer_sizes=(5,), max_iter=1000, random_state=42, solver=adam; total time=   0.3s\n"
     ]
    },
    {
     "name": "stderr",
     "output_type": "stream",
     "text": [
      "F:\\Anaconda\\Lib\\site-packages\\sklearn\\neural_network\\_multilayer_perceptron.py:690: ConvergenceWarning: Stochastic Optimizer: Maximum iterations (1000) reached and the optimization hasn't converged yet.\n",
      "  warnings.warn(\n"
     ]
    },
    {
     "name": "stdout",
     "output_type": "stream",
     "text": [
      "[CV] END activation=relu, hidden_layer_sizes=(5,), max_iter=1000, random_state=42, solver=adam; total time=   0.3s\n"
     ]
    },
    {
     "name": "stderr",
     "output_type": "stream",
     "text": [
      "F:\\Anaconda\\Lib\\site-packages\\sklearn\\neural_network\\_multilayer_perceptron.py:690: ConvergenceWarning: Stochastic Optimizer: Maximum iterations (1000) reached and the optimization hasn't converged yet.\n",
      "  warnings.warn(\n"
     ]
    },
    {
     "name": "stdout",
     "output_type": "stream",
     "text": [
      "[CV] END activation=relu, hidden_layer_sizes=(5,), max_iter=1000, random_state=42, solver=adam; total time=   0.3s\n"
     ]
    },
    {
     "name": "stderr",
     "output_type": "stream",
     "text": [
      "F:\\Anaconda\\Lib\\site-packages\\sklearn\\neural_network\\_multilayer_perceptron.py:690: ConvergenceWarning: Stochastic Optimizer: Maximum iterations (1000) reached and the optimization hasn't converged yet.\n",
      "  warnings.warn(\n"
     ]
    },
    {
     "name": "stdout",
     "output_type": "stream",
     "text": [
      "[CV] END activation=relu, hidden_layer_sizes=(5,), max_iter=1000, random_state=42, solver=adam; total time=   0.3s\n",
      "[CV] END activation=relu, hidden_layer_sizes=(10,), max_iter=500, random_state=0, solver=lbfgs; total time=   0.0s\n",
      "[CV] END activation=relu, hidden_layer_sizes=(10,), max_iter=500, random_state=0, solver=lbfgs; total time=   0.0s\n",
      "[CV] END activation=relu, hidden_layer_sizes=(10,), max_iter=500, random_state=0, solver=lbfgs; total time=   0.0s\n",
      "[CV] END activation=relu, hidden_layer_sizes=(10,), max_iter=500, random_state=0, solver=lbfgs; total time=   0.0s\n"
     ]
    },
    {
     "name": "stderr",
     "output_type": "stream",
     "text": [
      "F:\\Anaconda\\Lib\\site-packages\\sklearn\\neural_network\\_multilayer_perceptron.py:690: ConvergenceWarning: Stochastic Optimizer: Maximum iterations (500) reached and the optimization hasn't converged yet.\n",
      "  warnings.warn(\n",
      "F:\\Anaconda\\Lib\\site-packages\\sklearn\\neural_network\\_multilayer_perceptron.py:690: ConvergenceWarning: Stochastic Optimizer: Maximum iterations (500) reached and the optimization hasn't converged yet.\n",
      "  warnings.warn(\n"
     ]
    },
    {
     "name": "stdout",
     "output_type": "stream",
     "text": [
      "[CV] END activation=relu, hidden_layer_sizes=(10,), max_iter=500, random_state=0, solver=adam; total time=   0.1s\n",
      "[CV] END activation=relu, hidden_layer_sizes=(10,), max_iter=500, random_state=0, solver=adam; total time=   0.1s\n"
     ]
    },
    {
     "name": "stderr",
     "output_type": "stream",
     "text": [
      "F:\\Anaconda\\Lib\\site-packages\\sklearn\\neural_network\\_multilayer_perceptron.py:690: ConvergenceWarning: Stochastic Optimizer: Maximum iterations (500) reached and the optimization hasn't converged yet.\n",
      "  warnings.warn(\n"
     ]
    },
    {
     "name": "stdout",
     "output_type": "stream",
     "text": [
      "[CV] END activation=relu, hidden_layer_sizes=(10,), max_iter=500, random_state=0, solver=adam; total time=   0.1s\n"
     ]
    },
    {
     "name": "stderr",
     "output_type": "stream",
     "text": [
      "F:\\Anaconda\\Lib\\site-packages\\sklearn\\neural_network\\_multilayer_perceptron.py:690: ConvergenceWarning: Stochastic Optimizer: Maximum iterations (500) reached and the optimization hasn't converged yet.\n",
      "  warnings.warn(\n"
     ]
    },
    {
     "name": "stdout",
     "output_type": "stream",
     "text": [
      "[CV] END activation=relu, hidden_layer_sizes=(10,), max_iter=500, random_state=0, solver=adam; total time=   0.1s\n",
      "[CV] END activation=relu, hidden_layer_sizes=(10,), max_iter=500, random_state=21, solver=lbfgs; total time=   0.0s\n",
      "[CV] END activation=relu, hidden_layer_sizes=(10,), max_iter=500, random_state=21, solver=lbfgs; total time=   0.0s\n",
      "[CV] END activation=relu, hidden_layer_sizes=(10,), max_iter=500, random_state=21, solver=lbfgs; total time=   0.0s\n",
      "[CV] END activation=relu, hidden_layer_sizes=(10,), max_iter=500, random_state=21, solver=lbfgs; total time=   0.0s\n"
     ]
    },
    {
     "name": "stderr",
     "output_type": "stream",
     "text": [
      "F:\\Anaconda\\Lib\\site-packages\\sklearn\\neural_network\\_multilayer_perceptron.py:690: ConvergenceWarning: Stochastic Optimizer: Maximum iterations (500) reached and the optimization hasn't converged yet.\n",
      "  warnings.warn(\n"
     ]
    },
    {
     "name": "stdout",
     "output_type": "stream",
     "text": [
      "[CV] END activation=relu, hidden_layer_sizes=(10,), max_iter=500, random_state=21, solver=adam; total time=   0.1s\n"
     ]
    },
    {
     "name": "stderr",
     "output_type": "stream",
     "text": [
      "F:\\Anaconda\\Lib\\site-packages\\sklearn\\neural_network\\_multilayer_perceptron.py:690: ConvergenceWarning: Stochastic Optimizer: Maximum iterations (500) reached and the optimization hasn't converged yet.\n",
      "  warnings.warn(\n"
     ]
    },
    {
     "name": "stdout",
     "output_type": "stream",
     "text": [
      "[CV] END activation=relu, hidden_layer_sizes=(10,), max_iter=500, random_state=21, solver=adam; total time=   0.1s\n"
     ]
    },
    {
     "name": "stderr",
     "output_type": "stream",
     "text": [
      "F:\\Anaconda\\Lib\\site-packages\\sklearn\\neural_network\\_multilayer_perceptron.py:690: ConvergenceWarning: Stochastic Optimizer: Maximum iterations (500) reached and the optimization hasn't converged yet.\n",
      "  warnings.warn(\n"
     ]
    },
    {
     "name": "stdout",
     "output_type": "stream",
     "text": [
      "[CV] END activation=relu, hidden_layer_sizes=(10,), max_iter=500, random_state=21, solver=adam; total time=   0.1s\n"
     ]
    },
    {
     "name": "stderr",
     "output_type": "stream",
     "text": [
      "F:\\Anaconda\\Lib\\site-packages\\sklearn\\neural_network\\_multilayer_perceptron.py:690: ConvergenceWarning: Stochastic Optimizer: Maximum iterations (500) reached and the optimization hasn't converged yet.\n",
      "  warnings.warn(\n"
     ]
    },
    {
     "name": "stdout",
     "output_type": "stream",
     "text": [
      "[CV] END activation=relu, hidden_layer_sizes=(10,), max_iter=500, random_state=21, solver=adam; total time=   0.1s\n",
      "[CV] END activation=relu, hidden_layer_sizes=(10,), max_iter=500, random_state=42, solver=lbfgs; total time=   0.0s\n",
      "[CV] END activation=relu, hidden_layer_sizes=(10,), max_iter=500, random_state=42, solver=lbfgs; total time=   0.0s\n",
      "[CV] END activation=relu, hidden_layer_sizes=(10,), max_iter=500, random_state=42, solver=lbfgs; total time=   0.0s\n",
      "[CV] END activation=relu, hidden_layer_sizes=(10,), max_iter=500, random_state=42, solver=lbfgs; total time=   0.0s\n"
     ]
    },
    {
     "name": "stderr",
     "output_type": "stream",
     "text": [
      "F:\\Anaconda\\Lib\\site-packages\\sklearn\\neural_network\\_multilayer_perceptron.py:690: ConvergenceWarning: Stochastic Optimizer: Maximum iterations (500) reached and the optimization hasn't converged yet.\n",
      "  warnings.warn(\n",
      "F:\\Anaconda\\Lib\\site-packages\\sklearn\\neural_network\\_multilayer_perceptron.py:690: ConvergenceWarning: Stochastic Optimizer: Maximum iterations (500) reached and the optimization hasn't converged yet.\n",
      "  warnings.warn(\n"
     ]
    },
    {
     "name": "stdout",
     "output_type": "stream",
     "text": [
      "[CV] END activation=relu, hidden_layer_sizes=(10,), max_iter=500, random_state=42, solver=adam; total time=   0.1s\n",
      "[CV] END activation=relu, hidden_layer_sizes=(10,), max_iter=500, random_state=42, solver=adam; total time=   0.1s\n"
     ]
    },
    {
     "name": "stderr",
     "output_type": "stream",
     "text": [
      "F:\\Anaconda\\Lib\\site-packages\\sklearn\\neural_network\\_multilayer_perceptron.py:690: ConvergenceWarning: Stochastic Optimizer: Maximum iterations (500) reached and the optimization hasn't converged yet.\n",
      "  warnings.warn(\n",
      "F:\\Anaconda\\Lib\\site-packages\\sklearn\\neural_network\\_multilayer_perceptron.py:690: ConvergenceWarning: Stochastic Optimizer: Maximum iterations (500) reached and the optimization hasn't converged yet.\n",
      "  warnings.warn(\n"
     ]
    },
    {
     "name": "stdout",
     "output_type": "stream",
     "text": [
      "[CV] END activation=relu, hidden_layer_sizes=(10,), max_iter=500, random_state=42, solver=adam; total time=   0.1s\n",
      "[CV] END activation=relu, hidden_layer_sizes=(10,), max_iter=500, random_state=42, solver=adam; total time=   0.1s\n",
      "[CV] END activation=relu, hidden_layer_sizes=(10,), max_iter=1000, random_state=0, solver=lbfgs; total time=   0.0s\n",
      "[CV] END activation=relu, hidden_layer_sizes=(10,), max_iter=1000, random_state=0, solver=lbfgs; total time=   0.0s\n",
      "[CV] END activation=relu, hidden_layer_sizes=(10,), max_iter=1000, random_state=0, solver=lbfgs; total time=   0.0s\n",
      "[CV] END activation=relu, hidden_layer_sizes=(10,), max_iter=1000, random_state=0, solver=lbfgs; total time=   0.0s\n",
      "[CV] END activation=relu, hidden_layer_sizes=(10,), max_iter=1000, random_state=0, solver=adam; total time=   0.2s\n"
     ]
    },
    {
     "name": "stderr",
     "output_type": "stream",
     "text": [
      "F:\\Anaconda\\Lib\\site-packages\\sklearn\\neural_network\\_multilayer_perceptron.py:690: ConvergenceWarning: Stochastic Optimizer: Maximum iterations (1000) reached and the optimization hasn't converged yet.\n",
      "  warnings.warn(\n"
     ]
    },
    {
     "name": "stdout",
     "output_type": "stream",
     "text": [
      "[CV] END activation=relu, hidden_layer_sizes=(10,), max_iter=1000, random_state=0, solver=adam; total time=   0.2s\n"
     ]
    },
    {
     "name": "stderr",
     "output_type": "stream",
     "text": [
      "F:\\Anaconda\\Lib\\site-packages\\sklearn\\neural_network\\_multilayer_perceptron.py:690: ConvergenceWarning: Stochastic Optimizer: Maximum iterations (1000) reached and the optimization hasn't converged yet.\n",
      "  warnings.warn(\n"
     ]
    },
    {
     "name": "stdout",
     "output_type": "stream",
     "text": [
      "[CV] END activation=relu, hidden_layer_sizes=(10,), max_iter=1000, random_state=0, solver=adam; total time=   0.2s\n"
     ]
    },
    {
     "name": "stderr",
     "output_type": "stream",
     "text": [
      "F:\\Anaconda\\Lib\\site-packages\\sklearn\\neural_network\\_multilayer_perceptron.py:690: ConvergenceWarning: Stochastic Optimizer: Maximum iterations (1000) reached and the optimization hasn't converged yet.\n",
      "  warnings.warn(\n"
     ]
    },
    {
     "name": "stdout",
     "output_type": "stream",
     "text": [
      "[CV] END activation=relu, hidden_layer_sizes=(10,), max_iter=1000, random_state=0, solver=adam; total time=   0.3s\n",
      "[CV] END activation=relu, hidden_layer_sizes=(10,), max_iter=1000, random_state=21, solver=lbfgs; total time=   0.0s\n",
      "[CV] END activation=relu, hidden_layer_sizes=(10,), max_iter=1000, random_state=21, solver=lbfgs; total time=   0.0s\n",
      "[CV] END activation=relu, hidden_layer_sizes=(10,), max_iter=1000, random_state=21, solver=lbfgs; total time=   0.0s\n",
      "[CV] END activation=relu, hidden_layer_sizes=(10,), max_iter=1000, random_state=21, solver=lbfgs; total time=   0.0s\n",
      "[CV] END activation=relu, hidden_layer_sizes=(10,), max_iter=1000, random_state=21, solver=adam; total time=   0.3s\n"
     ]
    },
    {
     "name": "stderr",
     "output_type": "stream",
     "text": [
      "F:\\Anaconda\\Lib\\site-packages\\sklearn\\neural_network\\_multilayer_perceptron.py:690: ConvergenceWarning: Stochastic Optimizer: Maximum iterations (1000) reached and the optimization hasn't converged yet.\n",
      "  warnings.warn(\n"
     ]
    },
    {
     "name": "stdout",
     "output_type": "stream",
     "text": [
      "[CV] END activation=relu, hidden_layer_sizes=(10,), max_iter=1000, random_state=21, solver=adam; total time=   0.2s\n",
      "[CV] END activation=relu, hidden_layer_sizes=(10,), max_iter=1000, random_state=21, solver=adam; total time=   0.2s\n"
     ]
    },
    {
     "name": "stderr",
     "output_type": "stream",
     "text": [
      "F:\\Anaconda\\Lib\\site-packages\\sklearn\\neural_network\\_multilayer_perceptron.py:690: ConvergenceWarning: Stochastic Optimizer: Maximum iterations (1000) reached and the optimization hasn't converged yet.\n",
      "  warnings.warn(\n"
     ]
    },
    {
     "name": "stdout",
     "output_type": "stream",
     "text": [
      "[CV] END activation=relu, hidden_layer_sizes=(10,), max_iter=1000, random_state=21, solver=adam; total time=   0.3s\n",
      "[CV] END activation=relu, hidden_layer_sizes=(10,), max_iter=1000, random_state=42, solver=lbfgs; total time=   0.0s\n",
      "[CV] END activation=relu, hidden_layer_sizes=(10,), max_iter=1000, random_state=42, solver=lbfgs; total time=   0.0s\n",
      "[CV] END activation=relu, hidden_layer_sizes=(10,), max_iter=1000, random_state=42, solver=lbfgs; total time=   0.0s\n",
      "[CV] END activation=relu, hidden_layer_sizes=(10,), max_iter=1000, random_state=42, solver=lbfgs; total time=   0.0s\n",
      "[CV] END activation=relu, hidden_layer_sizes=(10,), max_iter=1000, random_state=42, solver=adam; total time=   0.3s\n"
     ]
    },
    {
     "name": "stderr",
     "output_type": "stream",
     "text": [
      "F:\\Anaconda\\Lib\\site-packages\\sklearn\\neural_network\\_multilayer_perceptron.py:690: ConvergenceWarning: Stochastic Optimizer: Maximum iterations (1000) reached and the optimization hasn't converged yet.\n",
      "  warnings.warn(\n"
     ]
    },
    {
     "name": "stdout",
     "output_type": "stream",
     "text": [
      "[CV] END activation=relu, hidden_layer_sizes=(10,), max_iter=1000, random_state=42, solver=adam; total time=   0.3s\n"
     ]
    },
    {
     "name": "stderr",
     "output_type": "stream",
     "text": [
      "F:\\Anaconda\\Lib\\site-packages\\sklearn\\neural_network\\_multilayer_perceptron.py:690: ConvergenceWarning: Stochastic Optimizer: Maximum iterations (1000) reached and the optimization hasn't converged yet.\n",
      "  warnings.warn(\n"
     ]
    },
    {
     "name": "stdout",
     "output_type": "stream",
     "text": [
      "[CV] END activation=relu, hidden_layer_sizes=(10,), max_iter=1000, random_state=42, solver=adam; total time=   0.3s\n"
     ]
    },
    {
     "name": "stderr",
     "output_type": "stream",
     "text": [
      "F:\\Anaconda\\Lib\\site-packages\\sklearn\\neural_network\\_multilayer_perceptron.py:690: ConvergenceWarning: Stochastic Optimizer: Maximum iterations (1000) reached and the optimization hasn't converged yet.\n",
      "  warnings.warn(\n"
     ]
    },
    {
     "name": "stdout",
     "output_type": "stream",
     "text": [
      "[CV] END activation=relu, hidden_layer_sizes=(10,), max_iter=1000, random_state=42, solver=adam; total time=   0.3s\n",
      "[CV] END activation=relu, hidden_layer_sizes=(10,), max_iter=1000, random_state=0, solver=lbfgs; total time=   0.0s\n",
      "[CV] END activation=relu, hidden_layer_sizes=(10,), max_iter=1000, random_state=0, solver=lbfgs; total time=   0.0s\n",
      "[CV] END activation=relu, hidden_layer_sizes=(10,), max_iter=1000, random_state=0, solver=lbfgs; total time=   0.0s\n",
      "[CV] END activation=relu, hidden_layer_sizes=(10,), max_iter=1000, random_state=0, solver=lbfgs; total time=   0.0s\n",
      "[CV] END activation=relu, hidden_layer_sizes=(10,), max_iter=1000, random_state=0, solver=adam; total time=   0.3s\n"
     ]
    },
    {
     "name": "stderr",
     "output_type": "stream",
     "text": [
      "F:\\Anaconda\\Lib\\site-packages\\sklearn\\neural_network\\_multilayer_perceptron.py:690: ConvergenceWarning: Stochastic Optimizer: Maximum iterations (1000) reached and the optimization hasn't converged yet.\n",
      "  warnings.warn(\n"
     ]
    },
    {
     "name": "stdout",
     "output_type": "stream",
     "text": [
      "[CV] END activation=relu, hidden_layer_sizes=(10,), max_iter=1000, random_state=0, solver=adam; total time=   0.3s\n"
     ]
    },
    {
     "name": "stderr",
     "output_type": "stream",
     "text": [
      "F:\\Anaconda\\Lib\\site-packages\\sklearn\\neural_network\\_multilayer_perceptron.py:690: ConvergenceWarning: Stochastic Optimizer: Maximum iterations (1000) reached and the optimization hasn't converged yet.\n",
      "  warnings.warn(\n"
     ]
    },
    {
     "name": "stdout",
     "output_type": "stream",
     "text": [
      "[CV] END activation=relu, hidden_layer_sizes=(10,), max_iter=1000, random_state=0, solver=adam; total time=   0.3s\n"
     ]
    },
    {
     "name": "stderr",
     "output_type": "stream",
     "text": [
      "F:\\Anaconda\\Lib\\site-packages\\sklearn\\neural_network\\_multilayer_perceptron.py:690: ConvergenceWarning: Stochastic Optimizer: Maximum iterations (1000) reached and the optimization hasn't converged yet.\n",
      "  warnings.warn(\n"
     ]
    },
    {
     "name": "stdout",
     "output_type": "stream",
     "text": [
      "[CV] END activation=relu, hidden_layer_sizes=(10,), max_iter=1000, random_state=0, solver=adam; total time=   0.3s\n",
      "[CV] END activation=relu, hidden_layer_sizes=(10,), max_iter=1000, random_state=21, solver=lbfgs; total time=   0.0s\n",
      "[CV] END activation=relu, hidden_layer_sizes=(10,), max_iter=1000, random_state=21, solver=lbfgs; total time=   0.0s\n",
      "[CV] END activation=relu, hidden_layer_sizes=(10,), max_iter=1000, random_state=21, solver=lbfgs; total time=   0.0s\n",
      "[CV] END activation=relu, hidden_layer_sizes=(10,), max_iter=1000, random_state=21, solver=lbfgs; total time=   0.0s\n",
      "[CV] END activation=relu, hidden_layer_sizes=(10,), max_iter=1000, random_state=21, solver=adam; total time=   0.2s\n"
     ]
    },
    {
     "name": "stderr",
     "output_type": "stream",
     "text": [
      "F:\\Anaconda\\Lib\\site-packages\\sklearn\\neural_network\\_multilayer_perceptron.py:690: ConvergenceWarning: Stochastic Optimizer: Maximum iterations (1000) reached and the optimization hasn't converged yet.\n",
      "  warnings.warn(\n"
     ]
    },
    {
     "name": "stdout",
     "output_type": "stream",
     "text": [
      "[CV] END activation=relu, hidden_layer_sizes=(10,), max_iter=1000, random_state=21, solver=adam; total time=   0.3s\n",
      "[CV] END activation=relu, hidden_layer_sizes=(10,), max_iter=1000, random_state=21, solver=adam; total time=   0.4s\n"
     ]
    },
    {
     "name": "stderr",
     "output_type": "stream",
     "text": [
      "F:\\Anaconda\\Lib\\site-packages\\sklearn\\neural_network\\_multilayer_perceptron.py:690: ConvergenceWarning: Stochastic Optimizer: Maximum iterations (1000) reached and the optimization hasn't converged yet.\n",
      "  warnings.warn(\n"
     ]
    },
    {
     "name": "stdout",
     "output_type": "stream",
     "text": [
      "[CV] END activation=relu, hidden_layer_sizes=(10,), max_iter=1000, random_state=21, solver=adam; total time=   0.4s\n",
      "[CV] END activation=relu, hidden_layer_sizes=(10,), max_iter=1000, random_state=42, solver=lbfgs; total time=   0.0s\n",
      "[CV] END activation=relu, hidden_layer_sizes=(10,), max_iter=1000, random_state=42, solver=lbfgs; total time=   0.0s\n",
      "[CV] END activation=relu, hidden_layer_sizes=(10,), max_iter=1000, random_state=42, solver=lbfgs; total time=   0.0s\n",
      "[CV] END activation=relu, hidden_layer_sizes=(10,), max_iter=1000, random_state=42, solver=lbfgs; total time=   0.0s\n",
      "[CV] END activation=relu, hidden_layer_sizes=(10,), max_iter=1000, random_state=42, solver=adam; total time=   0.3s\n"
     ]
    },
    {
     "name": "stderr",
     "output_type": "stream",
     "text": [
      "F:\\Anaconda\\Lib\\site-packages\\sklearn\\neural_network\\_multilayer_perceptron.py:690: ConvergenceWarning: Stochastic Optimizer: Maximum iterations (1000) reached and the optimization hasn't converged yet.\n",
      "  warnings.warn(\n"
     ]
    },
    {
     "name": "stdout",
     "output_type": "stream",
     "text": [
      "[CV] END activation=relu, hidden_layer_sizes=(10,), max_iter=1000, random_state=42, solver=adam; total time=   0.3s\n"
     ]
    },
    {
     "name": "stderr",
     "output_type": "stream",
     "text": [
      "F:\\Anaconda\\Lib\\site-packages\\sklearn\\neural_network\\_multilayer_perceptron.py:690: ConvergenceWarning: Stochastic Optimizer: Maximum iterations (1000) reached and the optimization hasn't converged yet.\n",
      "  warnings.warn(\n"
     ]
    },
    {
     "name": "stdout",
     "output_type": "stream",
     "text": [
      "[CV] END activation=relu, hidden_layer_sizes=(10,), max_iter=1000, random_state=42, solver=adam; total time=   0.2s\n"
     ]
    },
    {
     "name": "stderr",
     "output_type": "stream",
     "text": [
      "F:\\Anaconda\\Lib\\site-packages\\sklearn\\neural_network\\_multilayer_perceptron.py:690: ConvergenceWarning: Stochastic Optimizer: Maximum iterations (1000) reached and the optimization hasn't converged yet.\n",
      "  warnings.warn(\n"
     ]
    },
    {
     "name": "stdout",
     "output_type": "stream",
     "text": [
      "[CV] END activation=relu, hidden_layer_sizes=(10,), max_iter=1000, random_state=42, solver=adam; total time=   0.2s\n",
      "[CV] END activation=relu, hidden_layer_sizes=(15,), max_iter=500, random_state=0, solver=lbfgs; total time=   0.0s\n",
      "[CV] END activation=relu, hidden_layer_sizes=(15,), max_iter=500, random_state=0, solver=lbfgs; total time=   0.0s\n",
      "[CV] END activation=relu, hidden_layer_sizes=(15,), max_iter=500, random_state=0, solver=lbfgs; total time=   0.0s\n",
      "[CV] END activation=relu, hidden_layer_sizes=(15,), max_iter=500, random_state=0, solver=lbfgs; total time=   0.0s\n"
     ]
    },
    {
     "name": "stderr",
     "output_type": "stream",
     "text": [
      "F:\\Anaconda\\Lib\\site-packages\\sklearn\\neural_network\\_multilayer_perceptron.py:690: ConvergenceWarning: Stochastic Optimizer: Maximum iterations (500) reached and the optimization hasn't converged yet.\n",
      "  warnings.warn(\n",
      "F:\\Anaconda\\Lib\\site-packages\\sklearn\\neural_network\\_multilayer_perceptron.py:690: ConvergenceWarning: Stochastic Optimizer: Maximum iterations (500) reached and the optimization hasn't converged yet.\n",
      "  warnings.warn(\n"
     ]
    },
    {
     "name": "stdout",
     "output_type": "stream",
     "text": [
      "[CV] END activation=relu, hidden_layer_sizes=(15,), max_iter=500, random_state=0, solver=adam; total time=   0.2s\n",
      "[CV] END activation=relu, hidden_layer_sizes=(15,), max_iter=500, random_state=0, solver=adam; total time=   0.0s\n"
     ]
    },
    {
     "name": "stderr",
     "output_type": "stream",
     "text": [
      "F:\\Anaconda\\Lib\\site-packages\\sklearn\\neural_network\\_multilayer_perceptron.py:690: ConvergenceWarning: Stochastic Optimizer: Maximum iterations (500) reached and the optimization hasn't converged yet.\n",
      "  warnings.warn(\n",
      "F:\\Anaconda\\Lib\\site-packages\\sklearn\\neural_network\\_multilayer_perceptron.py:690: ConvergenceWarning: Stochastic Optimizer: Maximum iterations (500) reached and the optimization hasn't converged yet.\n",
      "  warnings.warn(\n"
     ]
    },
    {
     "name": "stdout",
     "output_type": "stream",
     "text": [
      "[CV] END activation=relu, hidden_layer_sizes=(15,), max_iter=500, random_state=0, solver=adam; total time=   0.0s\n",
      "[CV] END activation=relu, hidden_layer_sizes=(15,), max_iter=500, random_state=0, solver=adam; total time=   0.1s\n",
      "[CV] END activation=relu, hidden_layer_sizes=(15,), max_iter=500, random_state=21, solver=lbfgs; total time=   0.0s\n",
      "[CV] END activation=relu, hidden_layer_sizes=(15,), max_iter=500, random_state=21, solver=lbfgs; total time=   0.0s\n",
      "[CV] END activation=relu, hidden_layer_sizes=(15,), max_iter=500, random_state=21, solver=lbfgs; total time=   0.0s\n",
      "[CV] END activation=relu, hidden_layer_sizes=(15,), max_iter=500, random_state=21, solver=lbfgs; total time=   0.0s\n"
     ]
    },
    {
     "name": "stderr",
     "output_type": "stream",
     "text": [
      "F:\\Anaconda\\Lib\\site-packages\\sklearn\\neural_network\\_multilayer_perceptron.py:690: ConvergenceWarning: Stochastic Optimizer: Maximum iterations (500) reached and the optimization hasn't converged yet.\n",
      "  warnings.warn(\n"
     ]
    },
    {
     "name": "stdout",
     "output_type": "stream",
     "text": [
      "[CV] END activation=relu, hidden_layer_sizes=(15,), max_iter=500, random_state=21, solver=adam; total time=   0.1s\n"
     ]
    },
    {
     "name": "stderr",
     "output_type": "stream",
     "text": [
      "F:\\Anaconda\\Lib\\site-packages\\sklearn\\neural_network\\_multilayer_perceptron.py:690: ConvergenceWarning: Stochastic Optimizer: Maximum iterations (500) reached and the optimization hasn't converged yet.\n",
      "  warnings.warn(\n"
     ]
    },
    {
     "name": "stdout",
     "output_type": "stream",
     "text": [
      "[CV] END activation=relu, hidden_layer_sizes=(15,), max_iter=500, random_state=21, solver=adam; total time=   0.1s\n"
     ]
    },
    {
     "name": "stderr",
     "output_type": "stream",
     "text": [
      "F:\\Anaconda\\Lib\\site-packages\\sklearn\\neural_network\\_multilayer_perceptron.py:690: ConvergenceWarning: Stochastic Optimizer: Maximum iterations (500) reached and the optimization hasn't converged yet.\n",
      "  warnings.warn(\n"
     ]
    },
    {
     "name": "stdout",
     "output_type": "stream",
     "text": [
      "[CV] END activation=relu, hidden_layer_sizes=(15,), max_iter=500, random_state=21, solver=adam; total time=   0.1s\n"
     ]
    },
    {
     "name": "stderr",
     "output_type": "stream",
     "text": [
      "F:\\Anaconda\\Lib\\site-packages\\sklearn\\neural_network\\_multilayer_perceptron.py:690: ConvergenceWarning: Stochastic Optimizer: Maximum iterations (500) reached and the optimization hasn't converged yet.\n",
      "  warnings.warn(\n"
     ]
    },
    {
     "name": "stdout",
     "output_type": "stream",
     "text": [
      "[CV] END activation=relu, hidden_layer_sizes=(15,), max_iter=500, random_state=21, solver=adam; total time=   0.2s\n",
      "[CV] END activation=relu, hidden_layer_sizes=(15,), max_iter=500, random_state=42, solver=lbfgs; total time=   0.0s\n",
      "[CV] END activation=relu, hidden_layer_sizes=(15,), max_iter=500, random_state=42, solver=lbfgs; total time=   0.0s\n",
      "[CV] END activation=relu, hidden_layer_sizes=(15,), max_iter=500, random_state=42, solver=lbfgs; total time=   0.0s\n",
      "[CV] END activation=relu, hidden_layer_sizes=(15,), max_iter=500, random_state=42, solver=lbfgs; total time=   0.0s\n"
     ]
    },
    {
     "name": "stderr",
     "output_type": "stream",
     "text": [
      "F:\\Anaconda\\Lib\\site-packages\\sklearn\\neural_network\\_multilayer_perceptron.py:690: ConvergenceWarning: Stochastic Optimizer: Maximum iterations (500) reached and the optimization hasn't converged yet.\n",
      "  warnings.warn(\n",
      "F:\\Anaconda\\Lib\\site-packages\\sklearn\\neural_network\\_multilayer_perceptron.py:690: ConvergenceWarning: Stochastic Optimizer: Maximum iterations (500) reached and the optimization hasn't converged yet.\n",
      "  warnings.warn(\n"
     ]
    },
    {
     "name": "stdout",
     "output_type": "stream",
     "text": [
      "[CV] END activation=relu, hidden_layer_sizes=(15,), max_iter=500, random_state=42, solver=adam; total time=   0.1s\n",
      "[CV] END activation=relu, hidden_layer_sizes=(15,), max_iter=500, random_state=42, solver=adam; total time=   0.1s\n"
     ]
    },
    {
     "name": "stderr",
     "output_type": "stream",
     "text": [
      "F:\\Anaconda\\Lib\\site-packages\\sklearn\\neural_network\\_multilayer_perceptron.py:690: ConvergenceWarning: Stochastic Optimizer: Maximum iterations (500) reached and the optimization hasn't converged yet.\n",
      "  warnings.warn(\n",
      "F:\\Anaconda\\Lib\\site-packages\\sklearn\\neural_network\\_multilayer_perceptron.py:690: ConvergenceWarning: Stochastic Optimizer: Maximum iterations (500) reached and the optimization hasn't converged yet.\n",
      "  warnings.warn(\n"
     ]
    },
    {
     "name": "stdout",
     "output_type": "stream",
     "text": [
      "[CV] END activation=relu, hidden_layer_sizes=(15,), max_iter=500, random_state=42, solver=adam; total time=   0.1s\n",
      "[CV] END activation=relu, hidden_layer_sizes=(15,), max_iter=500, random_state=42, solver=adam; total time=   0.1s\n",
      "[CV] END activation=relu, hidden_layer_sizes=(15,), max_iter=1000, random_state=0, solver=lbfgs; total time=   0.0s\n",
      "[CV] END activation=relu, hidden_layer_sizes=(15,), max_iter=1000, random_state=0, solver=lbfgs; total time=   0.0s\n",
      "[CV] END activation=relu, hidden_layer_sizes=(15,), max_iter=1000, random_state=0, solver=lbfgs; total time=   0.0s\n",
      "[CV] END activation=relu, hidden_layer_sizes=(15,), max_iter=1000, random_state=0, solver=lbfgs; total time=   0.0s\n"
     ]
    },
    {
     "name": "stderr",
     "output_type": "stream",
     "text": [
      "F:\\Anaconda\\Lib\\site-packages\\sklearn\\neural_network\\_multilayer_perceptron.py:690: ConvergenceWarning: Stochastic Optimizer: Maximum iterations (1000) reached and the optimization hasn't converged yet.\n",
      "  warnings.warn(\n"
     ]
    },
    {
     "name": "stdout",
     "output_type": "stream",
     "text": [
      "[CV] END activation=relu, hidden_layer_sizes=(15,), max_iter=1000, random_state=0, solver=adam; total time=   0.3s\n"
     ]
    },
    {
     "name": "stderr",
     "output_type": "stream",
     "text": [
      "F:\\Anaconda\\Lib\\site-packages\\sklearn\\neural_network\\_multilayer_perceptron.py:690: ConvergenceWarning: Stochastic Optimizer: Maximum iterations (1000) reached and the optimization hasn't converged yet.\n",
      "  warnings.warn(\n"
     ]
    },
    {
     "name": "stdout",
     "output_type": "stream",
     "text": [
      "[CV] END activation=relu, hidden_layer_sizes=(15,), max_iter=1000, random_state=0, solver=adam; total time=   0.4s\n"
     ]
    },
    {
     "name": "stderr",
     "output_type": "stream",
     "text": [
      "F:\\Anaconda\\Lib\\site-packages\\sklearn\\neural_network\\_multilayer_perceptron.py:690: ConvergenceWarning: Stochastic Optimizer: Maximum iterations (1000) reached and the optimization hasn't converged yet.\n",
      "  warnings.warn(\n"
     ]
    },
    {
     "name": "stdout",
     "output_type": "stream",
     "text": [
      "[CV] END activation=relu, hidden_layer_sizes=(15,), max_iter=1000, random_state=0, solver=adam; total time=   0.4s\n"
     ]
    },
    {
     "name": "stderr",
     "output_type": "stream",
     "text": [
      "F:\\Anaconda\\Lib\\site-packages\\sklearn\\neural_network\\_multilayer_perceptron.py:690: ConvergenceWarning: Stochastic Optimizer: Maximum iterations (1000) reached and the optimization hasn't converged yet.\n",
      "  warnings.warn(\n"
     ]
    },
    {
     "name": "stdout",
     "output_type": "stream",
     "text": [
      "[CV] END activation=relu, hidden_layer_sizes=(15,), max_iter=1000, random_state=0, solver=adam; total time=   0.3s\n",
      "[CV] END activation=relu, hidden_layer_sizes=(15,), max_iter=1000, random_state=21, solver=lbfgs; total time=   0.0s\n",
      "[CV] END activation=relu, hidden_layer_sizes=(15,), max_iter=1000, random_state=21, solver=lbfgs; total time=   0.0s\n",
      "[CV] END activation=relu, hidden_layer_sizes=(15,), max_iter=1000, random_state=21, solver=lbfgs; total time=   0.0s\n",
      "[CV] END activation=relu, hidden_layer_sizes=(15,), max_iter=1000, random_state=21, solver=lbfgs; total time=   0.0s\n",
      "[CV] END activation=relu, hidden_layer_sizes=(15,), max_iter=1000, random_state=21, solver=adam; total time=   0.3s\n"
     ]
    },
    {
     "name": "stderr",
     "output_type": "stream",
     "text": [
      "F:\\Anaconda\\Lib\\site-packages\\sklearn\\neural_network\\_multilayer_perceptron.py:690: ConvergenceWarning: Stochastic Optimizer: Maximum iterations (1000) reached and the optimization hasn't converged yet.\n",
      "  warnings.warn(\n"
     ]
    },
    {
     "name": "stdout",
     "output_type": "stream",
     "text": [
      "[CV] END activation=relu, hidden_layer_sizes=(15,), max_iter=1000, random_state=21, solver=adam; total time=   0.3s\n",
      "[CV] END activation=relu, hidden_layer_sizes=(15,), max_iter=1000, random_state=21, solver=adam; total time=   0.2s\n"
     ]
    },
    {
     "name": "stderr",
     "output_type": "stream",
     "text": [
      "F:\\Anaconda\\Lib\\site-packages\\sklearn\\neural_network\\_multilayer_perceptron.py:690: ConvergenceWarning: Stochastic Optimizer: Maximum iterations (1000) reached and the optimization hasn't converged yet.\n",
      "  warnings.warn(\n"
     ]
    },
    {
     "name": "stdout",
     "output_type": "stream",
     "text": [
      "[CV] END activation=relu, hidden_layer_sizes=(15,), max_iter=1000, random_state=21, solver=adam; total time=   0.4s\n",
      "[CV] END activation=relu, hidden_layer_sizes=(15,), max_iter=1000, random_state=42, solver=lbfgs; total time=   0.0s\n",
      "[CV] END activation=relu, hidden_layer_sizes=(15,), max_iter=1000, random_state=42, solver=lbfgs; total time=   0.0s\n",
      "[CV] END activation=relu, hidden_layer_sizes=(15,), max_iter=1000, random_state=42, solver=lbfgs; total time=   0.0s\n",
      "[CV] END activation=relu, hidden_layer_sizes=(15,), max_iter=1000, random_state=42, solver=lbfgs; total time=   0.0s\n"
     ]
    },
    {
     "name": "stderr",
     "output_type": "stream",
     "text": [
      "F:\\Anaconda\\Lib\\site-packages\\sklearn\\neural_network\\_multilayer_perceptron.py:690: ConvergenceWarning: Stochastic Optimizer: Maximum iterations (1000) reached and the optimization hasn't converged yet.\n",
      "  warnings.warn(\n"
     ]
    },
    {
     "name": "stdout",
     "output_type": "stream",
     "text": [
      "[CV] END activation=relu, hidden_layer_sizes=(15,), max_iter=1000, random_state=42, solver=adam; total time=   0.2s\n"
     ]
    },
    {
     "name": "stderr",
     "output_type": "stream",
     "text": [
      "F:\\Anaconda\\Lib\\site-packages\\sklearn\\neural_network\\_multilayer_perceptron.py:690: ConvergenceWarning: Stochastic Optimizer: Maximum iterations (1000) reached and the optimization hasn't converged yet.\n",
      "  warnings.warn(\n"
     ]
    },
    {
     "name": "stdout",
     "output_type": "stream",
     "text": [
      "[CV] END activation=relu, hidden_layer_sizes=(15,), max_iter=1000, random_state=42, solver=adam; total time=   0.3s\n"
     ]
    },
    {
     "name": "stderr",
     "output_type": "stream",
     "text": [
      "F:\\Anaconda\\Lib\\site-packages\\sklearn\\neural_network\\_multilayer_perceptron.py:690: ConvergenceWarning: Stochastic Optimizer: Maximum iterations (1000) reached and the optimization hasn't converged yet.\n",
      "  warnings.warn(\n"
     ]
    },
    {
     "name": "stdout",
     "output_type": "stream",
     "text": [
      "[CV] END activation=relu, hidden_layer_sizes=(15,), max_iter=1000, random_state=42, solver=adam; total time=   0.3s\n"
     ]
    },
    {
     "name": "stderr",
     "output_type": "stream",
     "text": [
      "F:\\Anaconda\\Lib\\site-packages\\sklearn\\neural_network\\_multilayer_perceptron.py:690: ConvergenceWarning: Stochastic Optimizer: Maximum iterations (1000) reached and the optimization hasn't converged yet.\n",
      "  warnings.warn(\n"
     ]
    },
    {
     "name": "stdout",
     "output_type": "stream",
     "text": [
      "[CV] END activation=relu, hidden_layer_sizes=(15,), max_iter=1000, random_state=42, solver=adam; total time=   0.2s\n",
      "[CV] END activation=relu, hidden_layer_sizes=(15,), max_iter=1000, random_state=0, solver=lbfgs; total time=   0.0s\n",
      "[CV] END activation=relu, hidden_layer_sizes=(15,), max_iter=1000, random_state=0, solver=lbfgs; total time=   0.0s\n",
      "[CV] END activation=relu, hidden_layer_sizes=(15,), max_iter=1000, random_state=0, solver=lbfgs; total time=   0.0s\n",
      "[CV] END activation=relu, hidden_layer_sizes=(15,), max_iter=1000, random_state=0, solver=lbfgs; total time=   0.0s\n"
     ]
    },
    {
     "name": "stderr",
     "output_type": "stream",
     "text": [
      "F:\\Anaconda\\Lib\\site-packages\\sklearn\\neural_network\\_multilayer_perceptron.py:690: ConvergenceWarning: Stochastic Optimizer: Maximum iterations (1000) reached and the optimization hasn't converged yet.\n",
      "  warnings.warn(\n"
     ]
    },
    {
     "name": "stdout",
     "output_type": "stream",
     "text": [
      "[CV] END activation=relu, hidden_layer_sizes=(15,), max_iter=1000, random_state=0, solver=adam; total time=   0.2s\n"
     ]
    },
    {
     "name": "stderr",
     "output_type": "stream",
     "text": [
      "F:\\Anaconda\\Lib\\site-packages\\sklearn\\neural_network\\_multilayer_perceptron.py:690: ConvergenceWarning: Stochastic Optimizer: Maximum iterations (1000) reached and the optimization hasn't converged yet.\n",
      "  warnings.warn(\n"
     ]
    },
    {
     "name": "stdout",
     "output_type": "stream",
     "text": [
      "[CV] END activation=relu, hidden_layer_sizes=(15,), max_iter=1000, random_state=0, solver=adam; total time=   0.3s\n"
     ]
    },
    {
     "name": "stderr",
     "output_type": "stream",
     "text": [
      "F:\\Anaconda\\Lib\\site-packages\\sklearn\\neural_network\\_multilayer_perceptron.py:690: ConvergenceWarning: Stochastic Optimizer: Maximum iterations (1000) reached and the optimization hasn't converged yet.\n",
      "  warnings.warn(\n"
     ]
    },
    {
     "name": "stdout",
     "output_type": "stream",
     "text": [
      "[CV] END activation=relu, hidden_layer_sizes=(15,), max_iter=1000, random_state=0, solver=adam; total time=   0.4s\n"
     ]
    },
    {
     "name": "stderr",
     "output_type": "stream",
     "text": [
      "F:\\Anaconda\\Lib\\site-packages\\sklearn\\neural_network\\_multilayer_perceptron.py:690: ConvergenceWarning: Stochastic Optimizer: Maximum iterations (1000) reached and the optimization hasn't converged yet.\n",
      "  warnings.warn(\n"
     ]
    },
    {
     "name": "stdout",
     "output_type": "stream",
     "text": [
      "[CV] END activation=relu, hidden_layer_sizes=(15,), max_iter=1000, random_state=0, solver=adam; total time=   0.3s\n",
      "[CV] END activation=relu, hidden_layer_sizes=(15,), max_iter=1000, random_state=21, solver=lbfgs; total time=   0.0s\n",
      "[CV] END activation=relu, hidden_layer_sizes=(15,), max_iter=1000, random_state=21, solver=lbfgs; total time=   0.0s\n",
      "[CV] END activation=relu, hidden_layer_sizes=(15,), max_iter=1000, random_state=21, solver=lbfgs; total time=   0.0s\n",
      "[CV] END activation=relu, hidden_layer_sizes=(15,), max_iter=1000, random_state=21, solver=lbfgs; total time=   0.0s\n",
      "[CV] END activation=relu, hidden_layer_sizes=(15,), max_iter=1000, random_state=21, solver=adam; total time=   0.3s\n"
     ]
    },
    {
     "name": "stderr",
     "output_type": "stream",
     "text": [
      "F:\\Anaconda\\Lib\\site-packages\\sklearn\\neural_network\\_multilayer_perceptron.py:690: ConvergenceWarning: Stochastic Optimizer: Maximum iterations (1000) reached and the optimization hasn't converged yet.\n",
      "  warnings.warn(\n"
     ]
    },
    {
     "name": "stdout",
     "output_type": "stream",
     "text": [
      "[CV] END activation=relu, hidden_layer_sizes=(15,), max_iter=1000, random_state=21, solver=adam; total time=   0.3s\n",
      "[CV] END activation=relu, hidden_layer_sizes=(15,), max_iter=1000, random_state=21, solver=adam; total time=   0.3s\n"
     ]
    },
    {
     "name": "stderr",
     "output_type": "stream",
     "text": [
      "F:\\Anaconda\\Lib\\site-packages\\sklearn\\neural_network\\_multilayer_perceptron.py:690: ConvergenceWarning: Stochastic Optimizer: Maximum iterations (1000) reached and the optimization hasn't converged yet.\n",
      "  warnings.warn(\n"
     ]
    },
    {
     "name": "stdout",
     "output_type": "stream",
     "text": [
      "[CV] END activation=relu, hidden_layer_sizes=(15,), max_iter=1000, random_state=21, solver=adam; total time=   0.3s\n",
      "[CV] END activation=relu, hidden_layer_sizes=(15,), max_iter=1000, random_state=42, solver=lbfgs; total time=   0.0s\n",
      "[CV] END activation=relu, hidden_layer_sizes=(15,), max_iter=1000, random_state=42, solver=lbfgs; total time=   0.0s\n",
      "[CV] END activation=relu, hidden_layer_sizes=(15,), max_iter=1000, random_state=42, solver=lbfgs; total time=   0.0s\n",
      "[CV] END activation=relu, hidden_layer_sizes=(15,), max_iter=1000, random_state=42, solver=lbfgs; total time=   0.0s\n"
     ]
    },
    {
     "name": "stderr",
     "output_type": "stream",
     "text": [
      "F:\\Anaconda\\Lib\\site-packages\\sklearn\\neural_network\\_multilayer_perceptron.py:690: ConvergenceWarning: Stochastic Optimizer: Maximum iterations (1000) reached and the optimization hasn't converged yet.\n",
      "  warnings.warn(\n"
     ]
    },
    {
     "name": "stdout",
     "output_type": "stream",
     "text": [
      "[CV] END activation=relu, hidden_layer_sizes=(15,), max_iter=1000, random_state=42, solver=adam; total time=   0.4s\n"
     ]
    },
    {
     "name": "stderr",
     "output_type": "stream",
     "text": [
      "F:\\Anaconda\\Lib\\site-packages\\sklearn\\neural_network\\_multilayer_perceptron.py:690: ConvergenceWarning: Stochastic Optimizer: Maximum iterations (1000) reached and the optimization hasn't converged yet.\n",
      "  warnings.warn(\n"
     ]
    },
    {
     "name": "stdout",
     "output_type": "stream",
     "text": [
      "[CV] END activation=relu, hidden_layer_sizes=(15,), max_iter=1000, random_state=42, solver=adam; total time=   0.4s\n"
     ]
    },
    {
     "name": "stderr",
     "output_type": "stream",
     "text": [
      "F:\\Anaconda\\Lib\\site-packages\\sklearn\\neural_network\\_multilayer_perceptron.py:690: ConvergenceWarning: Stochastic Optimizer: Maximum iterations (1000) reached and the optimization hasn't converged yet.\n",
      "  warnings.warn(\n"
     ]
    },
    {
     "name": "stdout",
     "output_type": "stream",
     "text": [
      "[CV] END activation=relu, hidden_layer_sizes=(15,), max_iter=1000, random_state=42, solver=adam; total time=   0.4s\n"
     ]
    },
    {
     "name": "stderr",
     "output_type": "stream",
     "text": [
      "F:\\Anaconda\\Lib\\site-packages\\sklearn\\neural_network\\_multilayer_perceptron.py:690: ConvergenceWarning: Stochastic Optimizer: Maximum iterations (1000) reached and the optimization hasn't converged yet.\n",
      "  warnings.warn(\n"
     ]
    },
    {
     "name": "stdout",
     "output_type": "stream",
     "text": [
      "[CV] END activation=relu, hidden_layer_sizes=(15,), max_iter=1000, random_state=42, solver=adam; total time=   0.3s\n",
      "[CV] END activation=relu, hidden_layer_sizes=(20,), max_iter=500, random_state=0, solver=lbfgs; total time=   0.0s\n",
      "[CV] END activation=relu, hidden_layer_sizes=(20,), max_iter=500, random_state=0, solver=lbfgs; total time=   0.0s\n",
      "[CV] END activation=relu, hidden_layer_sizes=(20,), max_iter=500, random_state=0, solver=lbfgs; total time=   0.0s\n",
      "[CV] END activation=relu, hidden_layer_sizes=(20,), max_iter=500, random_state=0, solver=lbfgs; total time=   0.0s\n"
     ]
    },
    {
     "name": "stderr",
     "output_type": "stream",
     "text": [
      "F:\\Anaconda\\Lib\\site-packages\\sklearn\\neural_network\\_multilayer_perceptron.py:690: ConvergenceWarning: Stochastic Optimizer: Maximum iterations (500) reached and the optimization hasn't converged yet.\n",
      "  warnings.warn(\n",
      "F:\\Anaconda\\Lib\\site-packages\\sklearn\\neural_network\\_multilayer_perceptron.py:690: ConvergenceWarning: Stochastic Optimizer: Maximum iterations (500) reached and the optimization hasn't converged yet.\n",
      "  warnings.warn(\n"
     ]
    },
    {
     "name": "stdout",
     "output_type": "stream",
     "text": [
      "[CV] END activation=relu, hidden_layer_sizes=(20,), max_iter=500, random_state=0, solver=adam; total time=   0.1s\n",
      "[CV] END activation=relu, hidden_layer_sizes=(20,), max_iter=500, random_state=0, solver=adam; total time=   0.1s\n"
     ]
    },
    {
     "name": "stderr",
     "output_type": "stream",
     "text": [
      "F:\\Anaconda\\Lib\\site-packages\\sklearn\\neural_network\\_multilayer_perceptron.py:690: ConvergenceWarning: Stochastic Optimizer: Maximum iterations (500) reached and the optimization hasn't converged yet.\n",
      "  warnings.warn(\n",
      "F:\\Anaconda\\Lib\\site-packages\\sklearn\\neural_network\\_multilayer_perceptron.py:690: ConvergenceWarning: Stochastic Optimizer: Maximum iterations (500) reached and the optimization hasn't converged yet.\n",
      "  warnings.warn(\n"
     ]
    },
    {
     "name": "stdout",
     "output_type": "stream",
     "text": [
      "[CV] END activation=relu, hidden_layer_sizes=(20,), max_iter=500, random_state=0, solver=adam; total time=   0.1s\n",
      "[CV] END activation=relu, hidden_layer_sizes=(20,), max_iter=500, random_state=0, solver=adam; total time=   0.1s\n",
      "[CV] END activation=relu, hidden_layer_sizes=(20,), max_iter=500, random_state=21, solver=lbfgs; total time=   0.0s\n",
      "[CV] END activation=relu, hidden_layer_sizes=(20,), max_iter=500, random_state=21, solver=lbfgs; total time=   0.0s\n",
      "[CV] END activation=relu, hidden_layer_sizes=(20,), max_iter=500, random_state=21, solver=lbfgs; total time=   0.0s\n",
      "[CV] END activation=relu, hidden_layer_sizes=(20,), max_iter=500, random_state=21, solver=lbfgs; total time=   0.0s\n"
     ]
    },
    {
     "name": "stderr",
     "output_type": "stream",
     "text": [
      "F:\\Anaconda\\Lib\\site-packages\\sklearn\\neural_network\\_multilayer_perceptron.py:690: ConvergenceWarning: Stochastic Optimizer: Maximum iterations (500) reached and the optimization hasn't converged yet.\n",
      "  warnings.warn(\n"
     ]
    },
    {
     "name": "stdout",
     "output_type": "stream",
     "text": [
      "[CV] END activation=relu, hidden_layer_sizes=(20,), max_iter=500, random_state=21, solver=adam; total time=   0.1s\n"
     ]
    },
    {
     "name": "stderr",
     "output_type": "stream",
     "text": [
      "F:\\Anaconda\\Lib\\site-packages\\sklearn\\neural_network\\_multilayer_perceptron.py:690: ConvergenceWarning: Stochastic Optimizer: Maximum iterations (500) reached and the optimization hasn't converged yet.\n",
      "  warnings.warn(\n"
     ]
    },
    {
     "name": "stdout",
     "output_type": "stream",
     "text": [
      "[CV] END activation=relu, hidden_layer_sizes=(20,), max_iter=500, random_state=21, solver=adam; total time=   0.1s\n"
     ]
    },
    {
     "name": "stderr",
     "output_type": "stream",
     "text": [
      "F:\\Anaconda\\Lib\\site-packages\\sklearn\\neural_network\\_multilayer_perceptron.py:690: ConvergenceWarning: Stochastic Optimizer: Maximum iterations (500) reached and the optimization hasn't converged yet.\n",
      "  warnings.warn(\n",
      "F:\\Anaconda\\Lib\\site-packages\\sklearn\\neural_network\\_multilayer_perceptron.py:690: ConvergenceWarning: Stochastic Optimizer: Maximum iterations (500) reached and the optimization hasn't converged yet.\n",
      "  warnings.warn(\n"
     ]
    },
    {
     "name": "stdout",
     "output_type": "stream",
     "text": [
      "[CV] END activation=relu, hidden_layer_sizes=(20,), max_iter=500, random_state=21, solver=adam; total time=   0.1s\n",
      "[CV] END activation=relu, hidden_layer_sizes=(20,), max_iter=500, random_state=21, solver=adam; total time=   0.1s\n",
      "[CV] END activation=relu, hidden_layer_sizes=(20,), max_iter=500, random_state=42, solver=lbfgs; total time=   0.0s\n",
      "[CV] END activation=relu, hidden_layer_sizes=(20,), max_iter=500, random_state=42, solver=lbfgs; total time=   0.0s\n",
      "[CV] END activation=relu, hidden_layer_sizes=(20,), max_iter=500, random_state=42, solver=lbfgs; total time=   0.0s\n",
      "[CV] END activation=relu, hidden_layer_sizes=(20,), max_iter=500, random_state=42, solver=lbfgs; total time=   0.0s\n"
     ]
    },
    {
     "name": "stderr",
     "output_type": "stream",
     "text": [
      "F:\\Anaconda\\Lib\\site-packages\\sklearn\\neural_network\\_multilayer_perceptron.py:690: ConvergenceWarning: Stochastic Optimizer: Maximum iterations (500) reached and the optimization hasn't converged yet.\n",
      "  warnings.warn(\n"
     ]
    },
    {
     "name": "stdout",
     "output_type": "stream",
     "text": [
      "[CV] END activation=relu, hidden_layer_sizes=(20,), max_iter=500, random_state=42, solver=adam; total time=   0.1s\n"
     ]
    },
    {
     "name": "stderr",
     "output_type": "stream",
     "text": [
      "F:\\Anaconda\\Lib\\site-packages\\sklearn\\neural_network\\_multilayer_perceptron.py:690: ConvergenceWarning: Stochastic Optimizer: Maximum iterations (500) reached and the optimization hasn't converged yet.\n",
      "  warnings.warn(\n"
     ]
    },
    {
     "name": "stdout",
     "output_type": "stream",
     "text": [
      "[CV] END activation=relu, hidden_layer_sizes=(20,), max_iter=500, random_state=42, solver=adam; total time=   0.1s\n"
     ]
    },
    {
     "name": "stderr",
     "output_type": "stream",
     "text": [
      "F:\\Anaconda\\Lib\\site-packages\\sklearn\\neural_network\\_multilayer_perceptron.py:690: ConvergenceWarning: Stochastic Optimizer: Maximum iterations (500) reached and the optimization hasn't converged yet.\n",
      "  warnings.warn(\n"
     ]
    },
    {
     "name": "stdout",
     "output_type": "stream",
     "text": [
      "[CV] END activation=relu, hidden_layer_sizes=(20,), max_iter=500, random_state=42, solver=adam; total time=   0.1s\n"
     ]
    },
    {
     "name": "stderr",
     "output_type": "stream",
     "text": [
      "F:\\Anaconda\\Lib\\site-packages\\sklearn\\neural_network\\_multilayer_perceptron.py:690: ConvergenceWarning: Stochastic Optimizer: Maximum iterations (500) reached and the optimization hasn't converged yet.\n",
      "  warnings.warn(\n"
     ]
    },
    {
     "name": "stdout",
     "output_type": "stream",
     "text": [
      "[CV] END activation=relu, hidden_layer_sizes=(20,), max_iter=500, random_state=42, solver=adam; total time=   0.1s\n",
      "[CV] END activation=relu, hidden_layer_sizes=(20,), max_iter=1000, random_state=0, solver=lbfgs; total time=   0.0s\n",
      "[CV] END activation=relu, hidden_layer_sizes=(20,), max_iter=1000, random_state=0, solver=lbfgs; total time=   0.0s\n",
      "[CV] END activation=relu, hidden_layer_sizes=(20,), max_iter=1000, random_state=0, solver=lbfgs; total time=   0.0s\n",
      "[CV] END activation=relu, hidden_layer_sizes=(20,), max_iter=1000, random_state=0, solver=lbfgs; total time=   0.0s\n"
     ]
    },
    {
     "name": "stderr",
     "output_type": "stream",
     "text": [
      "F:\\Anaconda\\Lib\\site-packages\\sklearn\\neural_network\\_multilayer_perceptron.py:690: ConvergenceWarning: Stochastic Optimizer: Maximum iterations (1000) reached and the optimization hasn't converged yet.\n",
      "  warnings.warn(\n"
     ]
    },
    {
     "name": "stdout",
     "output_type": "stream",
     "text": [
      "[CV] END activation=relu, hidden_layer_sizes=(20,), max_iter=1000, random_state=0, solver=adam; total time=   0.3s\n",
      "[CV] END activation=relu, hidden_layer_sizes=(20,), max_iter=1000, random_state=0, solver=adam; total time=   0.1s\n"
     ]
    },
    {
     "name": "stderr",
     "output_type": "stream",
     "text": [
      "F:\\Anaconda\\Lib\\site-packages\\sklearn\\neural_network\\_multilayer_perceptron.py:690: ConvergenceWarning: Stochastic Optimizer: Maximum iterations (1000) reached and the optimization hasn't converged yet.\n",
      "  warnings.warn(\n"
     ]
    },
    {
     "name": "stdout",
     "output_type": "stream",
     "text": [
      "[CV] END activation=relu, hidden_layer_sizes=(20,), max_iter=1000, random_state=0, solver=adam; total time=   0.3s\n",
      "[CV] END activation=relu, hidden_layer_sizes=(20,), max_iter=1000, random_state=0, solver=adam; total time=   0.4s\n",
      "[CV] END activation=relu, hidden_layer_sizes=(20,), max_iter=1000, random_state=21, solver=lbfgs; total time=   0.0s\n",
      "[CV] END activation=relu, hidden_layer_sizes=(20,), max_iter=1000, random_state=21, solver=lbfgs; total time=   0.0s\n",
      "[CV] END activation=relu, hidden_layer_sizes=(20,), max_iter=1000, random_state=21, solver=lbfgs; total time=   0.0s\n",
      "[CV] END activation=relu, hidden_layer_sizes=(20,), max_iter=1000, random_state=21, solver=lbfgs; total time=   0.0s\n",
      "[CV] END activation=relu, hidden_layer_sizes=(20,), max_iter=1000, random_state=21, solver=adam; total time=   0.3s\n",
      "[CV] END activation=relu, hidden_layer_sizes=(20,), max_iter=1000, random_state=21, solver=adam; total time=   0.3s\n"
     ]
    },
    {
     "name": "stderr",
     "output_type": "stream",
     "text": [
      "F:\\Anaconda\\Lib\\site-packages\\sklearn\\neural_network\\_multilayer_perceptron.py:690: ConvergenceWarning: Stochastic Optimizer: Maximum iterations (1000) reached and the optimization hasn't converged yet.\n",
      "  warnings.warn(\n"
     ]
    },
    {
     "name": "stdout",
     "output_type": "stream",
     "text": [
      "[CV] END activation=relu, hidden_layer_sizes=(20,), max_iter=1000, random_state=21, solver=adam; total time=   0.4s\n",
      "[CV] END activation=relu, hidden_layer_sizes=(20,), max_iter=1000, random_state=21, solver=adam; total time=   0.2s\n",
      "[CV] END activation=relu, hidden_layer_sizes=(20,), max_iter=1000, random_state=42, solver=lbfgs; total time=   0.0s\n",
      "[CV] END activation=relu, hidden_layer_sizes=(20,), max_iter=1000, random_state=42, solver=lbfgs; total time=   0.0s\n",
      "[CV] END activation=relu, hidden_layer_sizes=(20,), max_iter=1000, random_state=42, solver=lbfgs; total time=   0.0s\n",
      "[CV] END activation=relu, hidden_layer_sizes=(20,), max_iter=1000, random_state=42, solver=lbfgs; total time=   0.0s\n"
     ]
    },
    {
     "name": "stderr",
     "output_type": "stream",
     "text": [
      "F:\\Anaconda\\Lib\\site-packages\\sklearn\\neural_network\\_multilayer_perceptron.py:690: ConvergenceWarning: Stochastic Optimizer: Maximum iterations (1000) reached and the optimization hasn't converged yet.\n",
      "  warnings.warn(\n"
     ]
    },
    {
     "name": "stdout",
     "output_type": "stream",
     "text": [
      "[CV] END activation=relu, hidden_layer_sizes=(20,), max_iter=1000, random_state=42, solver=adam; total time=   0.3s\n"
     ]
    },
    {
     "name": "stderr",
     "output_type": "stream",
     "text": [
      "F:\\Anaconda\\Lib\\site-packages\\sklearn\\neural_network\\_multilayer_perceptron.py:690: ConvergenceWarning: Stochastic Optimizer: Maximum iterations (1000) reached and the optimization hasn't converged yet.\n",
      "  warnings.warn(\n"
     ]
    },
    {
     "name": "stdout",
     "output_type": "stream",
     "text": [
      "[CV] END activation=relu, hidden_layer_sizes=(20,), max_iter=1000, random_state=42, solver=adam; total time=   0.3s\n"
     ]
    },
    {
     "name": "stderr",
     "output_type": "stream",
     "text": [
      "F:\\Anaconda\\Lib\\site-packages\\sklearn\\neural_network\\_multilayer_perceptron.py:690: ConvergenceWarning: Stochastic Optimizer: Maximum iterations (1000) reached and the optimization hasn't converged yet.\n",
      "  warnings.warn(\n"
     ]
    },
    {
     "name": "stdout",
     "output_type": "stream",
     "text": [
      "[CV] END activation=relu, hidden_layer_sizes=(20,), max_iter=1000, random_state=42, solver=adam; total time=   0.3s\n"
     ]
    },
    {
     "name": "stderr",
     "output_type": "stream",
     "text": [
      "F:\\Anaconda\\Lib\\site-packages\\sklearn\\neural_network\\_multilayer_perceptron.py:690: ConvergenceWarning: Stochastic Optimizer: Maximum iterations (1000) reached and the optimization hasn't converged yet.\n",
      "  warnings.warn(\n"
     ]
    },
    {
     "name": "stdout",
     "output_type": "stream",
     "text": [
      "[CV] END activation=relu, hidden_layer_sizes=(20,), max_iter=1000, random_state=42, solver=adam; total time=   0.3s\n",
      "[CV] END activation=relu, hidden_layer_sizes=(20,), max_iter=1000, random_state=0, solver=lbfgs; total time=   0.0s\n",
      "[CV] END activation=relu, hidden_layer_sizes=(20,), max_iter=1000, random_state=0, solver=lbfgs; total time=   0.0s\n",
      "[CV] END activation=relu, hidden_layer_sizes=(20,), max_iter=1000, random_state=0, solver=lbfgs; total time=   0.0s\n",
      "[CV] END activation=relu, hidden_layer_sizes=(20,), max_iter=1000, random_state=0, solver=lbfgs; total time=   0.0s\n"
     ]
    },
    {
     "name": "stderr",
     "output_type": "stream",
     "text": [
      "F:\\Anaconda\\Lib\\site-packages\\sklearn\\neural_network\\_multilayer_perceptron.py:690: ConvergenceWarning: Stochastic Optimizer: Maximum iterations (1000) reached and the optimization hasn't converged yet.\n",
      "  warnings.warn(\n"
     ]
    },
    {
     "name": "stdout",
     "output_type": "stream",
     "text": [
      "[CV] END activation=relu, hidden_layer_sizes=(20,), max_iter=1000, random_state=0, solver=adam; total time=   0.3s\n",
      "[CV] END activation=relu, hidden_layer_sizes=(20,), max_iter=1000, random_state=0, solver=adam; total time=   0.3s\n"
     ]
    },
    {
     "name": "stderr",
     "output_type": "stream",
     "text": [
      "F:\\Anaconda\\Lib\\site-packages\\sklearn\\neural_network\\_multilayer_perceptron.py:690: ConvergenceWarning: Stochastic Optimizer: Maximum iterations (1000) reached and the optimization hasn't converged yet.\n",
      "  warnings.warn(\n"
     ]
    },
    {
     "name": "stdout",
     "output_type": "stream",
     "text": [
      "[CV] END activation=relu, hidden_layer_sizes=(20,), max_iter=1000, random_state=0, solver=adam; total time=   0.3s\n",
      "[CV] END activation=relu, hidden_layer_sizes=(20,), max_iter=1000, random_state=0, solver=adam; total time=   0.1s\n",
      "[CV] END activation=relu, hidden_layer_sizes=(20,), max_iter=1000, random_state=21, solver=lbfgs; total time=   0.0s\n",
      "[CV] END activation=relu, hidden_layer_sizes=(20,), max_iter=1000, random_state=21, solver=lbfgs; total time=   0.0s\n",
      "[CV] END activation=relu, hidden_layer_sizes=(20,), max_iter=1000, random_state=21, solver=lbfgs; total time=   0.0s\n",
      "[CV] END activation=relu, hidden_layer_sizes=(20,), max_iter=1000, random_state=21, solver=lbfgs; total time=   0.0s\n",
      "[CV] END activation=relu, hidden_layer_sizes=(20,), max_iter=1000, random_state=21, solver=adam; total time=   0.2s\n",
      "[CV] END activation=relu, hidden_layer_sizes=(20,), max_iter=1000, random_state=21, solver=adam; total time=   0.2s\n"
     ]
    },
    {
     "name": "stderr",
     "output_type": "stream",
     "text": [
      "F:\\Anaconda\\Lib\\site-packages\\sklearn\\neural_network\\_multilayer_perceptron.py:690: ConvergenceWarning: Stochastic Optimizer: Maximum iterations (1000) reached and the optimization hasn't converged yet.\n",
      "  warnings.warn(\n"
     ]
    },
    {
     "name": "stdout",
     "output_type": "stream",
     "text": [
      "[CV] END activation=relu, hidden_layer_sizes=(20,), max_iter=1000, random_state=21, solver=adam; total time=   0.3s\n",
      "[CV] END activation=relu, hidden_layer_sizes=(20,), max_iter=1000, random_state=21, solver=adam; total time=   0.2s\n",
      "[CV] END activation=relu, hidden_layer_sizes=(20,), max_iter=1000, random_state=42, solver=lbfgs; total time=   0.0s\n",
      "[CV] END activation=relu, hidden_layer_sizes=(20,), max_iter=1000, random_state=42, solver=lbfgs; total time=   0.0s\n",
      "[CV] END activation=relu, hidden_layer_sizes=(20,), max_iter=1000, random_state=42, solver=lbfgs; total time=   0.0s\n",
      "[CV] END activation=relu, hidden_layer_sizes=(20,), max_iter=1000, random_state=42, solver=lbfgs; total time=   0.0s\n"
     ]
    },
    {
     "name": "stderr",
     "output_type": "stream",
     "text": [
      "F:\\Anaconda\\Lib\\site-packages\\sklearn\\neural_network\\_multilayer_perceptron.py:690: ConvergenceWarning: Stochastic Optimizer: Maximum iterations (1000) reached and the optimization hasn't converged yet.\n",
      "  warnings.warn(\n"
     ]
    },
    {
     "name": "stdout",
     "output_type": "stream",
     "text": [
      "[CV] END activation=relu, hidden_layer_sizes=(20,), max_iter=1000, random_state=42, solver=adam; total time=   0.3s\n"
     ]
    },
    {
     "name": "stderr",
     "output_type": "stream",
     "text": [
      "F:\\Anaconda\\Lib\\site-packages\\sklearn\\neural_network\\_multilayer_perceptron.py:690: ConvergenceWarning: Stochastic Optimizer: Maximum iterations (1000) reached and the optimization hasn't converged yet.\n",
      "  warnings.warn(\n"
     ]
    },
    {
     "name": "stdout",
     "output_type": "stream",
     "text": [
      "[CV] END activation=relu, hidden_layer_sizes=(20,), max_iter=1000, random_state=42, solver=adam; total time=   0.3s\n"
     ]
    },
    {
     "name": "stderr",
     "output_type": "stream",
     "text": [
      "F:\\Anaconda\\Lib\\site-packages\\sklearn\\neural_network\\_multilayer_perceptron.py:690: ConvergenceWarning: Stochastic Optimizer: Maximum iterations (1000) reached and the optimization hasn't converged yet.\n",
      "  warnings.warn(\n"
     ]
    },
    {
     "name": "stdout",
     "output_type": "stream",
     "text": [
      "[CV] END activation=relu, hidden_layer_sizes=(20,), max_iter=1000, random_state=42, solver=adam; total time=   0.3s\n"
     ]
    },
    {
     "name": "stderr",
     "output_type": "stream",
     "text": [
      "F:\\Anaconda\\Lib\\site-packages\\sklearn\\neural_network\\_multilayer_perceptron.py:690: ConvergenceWarning: Stochastic Optimizer: Maximum iterations (1000) reached and the optimization hasn't converged yet.\n",
      "  warnings.warn(\n"
     ]
    },
    {
     "name": "stdout",
     "output_type": "stream",
     "text": [
      "[CV] END activation=relu, hidden_layer_sizes=(20,), max_iter=1000, random_state=42, solver=adam; total time=   0.3s\n",
      "[CV] END activation=relu, hidden_layer_sizes=(20, 10), max_iter=500, random_state=0, solver=lbfgs; total time=   0.0s\n",
      "[CV] END activation=relu, hidden_layer_sizes=(20, 10), max_iter=500, random_state=0, solver=lbfgs; total time=   0.0s\n",
      "[CV] END activation=relu, hidden_layer_sizes=(20, 10), max_iter=500, random_state=0, solver=lbfgs; total time=   0.0s\n",
      "[CV] END activation=relu, hidden_layer_sizes=(20, 10), max_iter=500, random_state=0, solver=lbfgs; total time=   0.0s\n"
     ]
    },
    {
     "name": "stderr",
     "output_type": "stream",
     "text": [
      "F:\\Anaconda\\Lib\\site-packages\\sklearn\\neural_network\\_multilayer_perceptron.py:690: ConvergenceWarning: Stochastic Optimizer: Maximum iterations (500) reached and the optimization hasn't converged yet.\n",
      "  warnings.warn(\n"
     ]
    },
    {
     "name": "stdout",
     "output_type": "stream",
     "text": [
      "[CV] END activation=relu, hidden_layer_sizes=(20, 10), max_iter=500, random_state=0, solver=adam; total time=   0.2s\n"
     ]
    },
    {
     "name": "stderr",
     "output_type": "stream",
     "text": [
      "F:\\Anaconda\\Lib\\site-packages\\sklearn\\neural_network\\_multilayer_perceptron.py:690: ConvergenceWarning: Stochastic Optimizer: Maximum iterations (500) reached and the optimization hasn't converged yet.\n",
      "  warnings.warn(\n"
     ]
    },
    {
     "name": "stdout",
     "output_type": "stream",
     "text": [
      "[CV] END activation=relu, hidden_layer_sizes=(20, 10), max_iter=500, random_state=0, solver=adam; total time=   0.2s\n"
     ]
    },
    {
     "name": "stderr",
     "output_type": "stream",
     "text": [
      "F:\\Anaconda\\Lib\\site-packages\\sklearn\\neural_network\\_multilayer_perceptron.py:690: ConvergenceWarning: Stochastic Optimizer: Maximum iterations (500) reached and the optimization hasn't converged yet.\n",
      "  warnings.warn(\n"
     ]
    },
    {
     "name": "stdout",
     "output_type": "stream",
     "text": [
      "[CV] END activation=relu, hidden_layer_sizes=(20, 10), max_iter=500, random_state=0, solver=adam; total time=   0.2s\n"
     ]
    },
    {
     "name": "stderr",
     "output_type": "stream",
     "text": [
      "F:\\Anaconda\\Lib\\site-packages\\sklearn\\neural_network\\_multilayer_perceptron.py:690: ConvergenceWarning: Stochastic Optimizer: Maximum iterations (500) reached and the optimization hasn't converged yet.\n",
      "  warnings.warn(\n"
     ]
    },
    {
     "name": "stdout",
     "output_type": "stream",
     "text": [
      "[CV] END activation=relu, hidden_layer_sizes=(20, 10), max_iter=500, random_state=0, solver=adam; total time=   0.2s\n",
      "[CV] END activation=relu, hidden_layer_sizes=(20, 10), max_iter=500, random_state=21, solver=lbfgs; total time=   0.0s\n",
      "[CV] END activation=relu, hidden_layer_sizes=(20, 10), max_iter=500, random_state=21, solver=lbfgs; total time=   0.0s\n",
      "[CV] END activation=relu, hidden_layer_sizes=(20, 10), max_iter=500, random_state=21, solver=lbfgs; total time=   0.0s\n",
      "[CV] END activation=relu, hidden_layer_sizes=(20, 10), max_iter=500, random_state=21, solver=lbfgs; total time=   0.0s\n"
     ]
    },
    {
     "name": "stderr",
     "output_type": "stream",
     "text": [
      "F:\\Anaconda\\Lib\\site-packages\\sklearn\\neural_network\\_multilayer_perceptron.py:690: ConvergenceWarning: Stochastic Optimizer: Maximum iterations (500) reached and the optimization hasn't converged yet.\n",
      "  warnings.warn(\n"
     ]
    },
    {
     "name": "stdout",
     "output_type": "stream",
     "text": [
      "[CV] END activation=relu, hidden_layer_sizes=(20, 10), max_iter=500, random_state=21, solver=adam; total time=   0.3s\n"
     ]
    },
    {
     "name": "stderr",
     "output_type": "stream",
     "text": [
      "F:\\Anaconda\\Lib\\site-packages\\sklearn\\neural_network\\_multilayer_perceptron.py:690: ConvergenceWarning: Stochastic Optimizer: Maximum iterations (500) reached and the optimization hasn't converged yet.\n",
      "  warnings.warn(\n"
     ]
    },
    {
     "name": "stdout",
     "output_type": "stream",
     "text": [
      "[CV] END activation=relu, hidden_layer_sizes=(20, 10), max_iter=500, random_state=21, solver=adam; total time=   0.2s\n"
     ]
    },
    {
     "name": "stderr",
     "output_type": "stream",
     "text": [
      "F:\\Anaconda\\Lib\\site-packages\\sklearn\\neural_network\\_multilayer_perceptron.py:690: ConvergenceWarning: Stochastic Optimizer: Maximum iterations (500) reached and the optimization hasn't converged yet.\n",
      "  warnings.warn(\n"
     ]
    },
    {
     "name": "stdout",
     "output_type": "stream",
     "text": [
      "[CV] END activation=relu, hidden_layer_sizes=(20, 10), max_iter=500, random_state=21, solver=adam; total time=   0.2s\n"
     ]
    },
    {
     "name": "stderr",
     "output_type": "stream",
     "text": [
      "F:\\Anaconda\\Lib\\site-packages\\sklearn\\neural_network\\_multilayer_perceptron.py:690: ConvergenceWarning: Stochastic Optimizer: Maximum iterations (500) reached and the optimization hasn't converged yet.\n",
      "  warnings.warn(\n"
     ]
    },
    {
     "name": "stdout",
     "output_type": "stream",
     "text": [
      "[CV] END activation=relu, hidden_layer_sizes=(20, 10), max_iter=500, random_state=21, solver=adam; total time=   0.2s\n",
      "[CV] END activation=relu, hidden_layer_sizes=(20, 10), max_iter=500, random_state=42, solver=lbfgs; total time=   0.0s\n",
      "[CV] END activation=relu, hidden_layer_sizes=(20, 10), max_iter=500, random_state=42, solver=lbfgs; total time=   0.0s\n",
      "[CV] END activation=relu, hidden_layer_sizes=(20, 10), max_iter=500, random_state=42, solver=lbfgs; total time=   0.0s\n",
      "[CV] END activation=relu, hidden_layer_sizes=(20, 10), max_iter=500, random_state=42, solver=lbfgs; total time=   0.0s\n"
     ]
    },
    {
     "name": "stderr",
     "output_type": "stream",
     "text": [
      "F:\\Anaconda\\Lib\\site-packages\\sklearn\\neural_network\\_multilayer_perceptron.py:690: ConvergenceWarning: Stochastic Optimizer: Maximum iterations (500) reached and the optimization hasn't converged yet.\n",
      "  warnings.warn(\n"
     ]
    },
    {
     "name": "stdout",
     "output_type": "stream",
     "text": [
      "[CV] END activation=relu, hidden_layer_sizes=(20, 10), max_iter=500, random_state=42, solver=adam; total time=   0.1s\n"
     ]
    },
    {
     "name": "stderr",
     "output_type": "stream",
     "text": [
      "F:\\Anaconda\\Lib\\site-packages\\sklearn\\neural_network\\_multilayer_perceptron.py:690: ConvergenceWarning: Stochastic Optimizer: Maximum iterations (500) reached and the optimization hasn't converged yet.\n",
      "  warnings.warn(\n"
     ]
    },
    {
     "name": "stdout",
     "output_type": "stream",
     "text": [
      "[CV] END activation=relu, hidden_layer_sizes=(20, 10), max_iter=500, random_state=42, solver=adam; total time=   0.2s\n"
     ]
    },
    {
     "name": "stderr",
     "output_type": "stream",
     "text": [
      "F:\\Anaconda\\Lib\\site-packages\\sklearn\\neural_network\\_multilayer_perceptron.py:690: ConvergenceWarning: Stochastic Optimizer: Maximum iterations (500) reached and the optimization hasn't converged yet.\n",
      "  warnings.warn(\n"
     ]
    },
    {
     "name": "stdout",
     "output_type": "stream",
     "text": [
      "[CV] END activation=relu, hidden_layer_sizes=(20, 10), max_iter=500, random_state=42, solver=adam; total time=   0.1s\n"
     ]
    },
    {
     "name": "stderr",
     "output_type": "stream",
     "text": [
      "F:\\Anaconda\\Lib\\site-packages\\sklearn\\neural_network\\_multilayer_perceptron.py:690: ConvergenceWarning: Stochastic Optimizer: Maximum iterations (500) reached and the optimization hasn't converged yet.\n",
      "  warnings.warn(\n"
     ]
    },
    {
     "name": "stdout",
     "output_type": "stream",
     "text": [
      "[CV] END activation=relu, hidden_layer_sizes=(20, 10), max_iter=500, random_state=42, solver=adam; total time=   0.2s\n",
      "[CV] END activation=relu, hidden_layer_sizes=(20, 10), max_iter=1000, random_state=0, solver=lbfgs; total time=   0.0s\n",
      "[CV] END activation=relu, hidden_layer_sizes=(20, 10), max_iter=1000, random_state=0, solver=lbfgs; total time=   0.0s\n",
      "[CV] END activation=relu, hidden_layer_sizes=(20, 10), max_iter=1000, random_state=0, solver=lbfgs; total time=   0.0s\n",
      "[CV] END activation=relu, hidden_layer_sizes=(20, 10), max_iter=1000, random_state=0, solver=lbfgs; total time=   0.0s\n",
      "[CV] END activation=relu, hidden_layer_sizes=(20, 10), max_iter=1000, random_state=0, solver=adam; total time=   0.4s\n",
      "[CV] END activation=relu, hidden_layer_sizes=(20, 10), max_iter=1000, random_state=0, solver=adam; total time=   0.3s\n",
      "[CV] END activation=relu, hidden_layer_sizes=(20, 10), max_iter=1000, random_state=0, solver=adam; total time=   0.4s\n",
      "[CV] END activation=relu, hidden_layer_sizes=(20, 10), max_iter=1000, random_state=0, solver=adam; total time=   0.4s\n",
      "[CV] END activation=relu, hidden_layer_sizes=(20, 10), max_iter=1000, random_state=21, solver=lbfgs; total time=   0.0s\n",
      "[CV] END activation=relu, hidden_layer_sizes=(20, 10), max_iter=1000, random_state=21, solver=lbfgs; total time=   0.0s\n",
      "[CV] END activation=relu, hidden_layer_sizes=(20, 10), max_iter=1000, random_state=21, solver=lbfgs; total time=   0.0s\n",
      "[CV] END activation=relu, hidden_layer_sizes=(20, 10), max_iter=1000, random_state=21, solver=lbfgs; total time=   0.0s\n"
     ]
    },
    {
     "name": "stderr",
     "output_type": "stream",
     "text": [
      "F:\\Anaconda\\Lib\\site-packages\\sklearn\\neural_network\\_multilayer_perceptron.py:690: ConvergenceWarning: Stochastic Optimizer: Maximum iterations (1000) reached and the optimization hasn't converged yet.\n",
      "  warnings.warn(\n"
     ]
    },
    {
     "name": "stdout",
     "output_type": "stream",
     "text": [
      "[CV] END activation=relu, hidden_layer_sizes=(20, 10), max_iter=1000, random_state=21, solver=adam; total time=   0.4s\n"
     ]
    },
    {
     "name": "stderr",
     "output_type": "stream",
     "text": [
      "F:\\Anaconda\\Lib\\site-packages\\sklearn\\neural_network\\_multilayer_perceptron.py:690: ConvergenceWarning: Stochastic Optimizer: Maximum iterations (1000) reached and the optimization hasn't converged yet.\n",
      "  warnings.warn(\n"
     ]
    },
    {
     "name": "stdout",
     "output_type": "stream",
     "text": [
      "[CV] END activation=relu, hidden_layer_sizes=(20, 10), max_iter=1000, random_state=21, solver=adam; total time=   0.4s\n"
     ]
    },
    {
     "name": "stderr",
     "output_type": "stream",
     "text": [
      "F:\\Anaconda\\Lib\\site-packages\\sklearn\\neural_network\\_multilayer_perceptron.py:690: ConvergenceWarning: Stochastic Optimizer: Maximum iterations (1000) reached and the optimization hasn't converged yet.\n",
      "  warnings.warn(\n"
     ]
    },
    {
     "name": "stdout",
     "output_type": "stream",
     "text": [
      "[CV] END activation=relu, hidden_layer_sizes=(20, 10), max_iter=1000, random_state=21, solver=adam; total time=   0.4s\n"
     ]
    },
    {
     "name": "stderr",
     "output_type": "stream",
     "text": [
      "F:\\Anaconda\\Lib\\site-packages\\sklearn\\neural_network\\_multilayer_perceptron.py:690: ConvergenceWarning: Stochastic Optimizer: Maximum iterations (1000) reached and the optimization hasn't converged yet.\n",
      "  warnings.warn(\n"
     ]
    },
    {
     "name": "stdout",
     "output_type": "stream",
     "text": [
      "[CV] END activation=relu, hidden_layer_sizes=(20, 10), max_iter=1000, random_state=21, solver=adam; total time=   0.5s\n",
      "[CV] END activation=relu, hidden_layer_sizes=(20, 10), max_iter=1000, random_state=42, solver=lbfgs; total time=   0.0s\n",
      "[CV] END activation=relu, hidden_layer_sizes=(20, 10), max_iter=1000, random_state=42, solver=lbfgs; total time=   0.0s\n",
      "[CV] END activation=relu, hidden_layer_sizes=(20, 10), max_iter=1000, random_state=42, solver=lbfgs; total time=   0.0s\n",
      "[CV] END activation=relu, hidden_layer_sizes=(20, 10), max_iter=1000, random_state=42, solver=lbfgs; total time=   0.0s\n",
      "[CV] END activation=relu, hidden_layer_sizes=(20, 10), max_iter=1000, random_state=42, solver=adam; total time=   0.3s\n"
     ]
    },
    {
     "name": "stderr",
     "output_type": "stream",
     "text": [
      "F:\\Anaconda\\Lib\\site-packages\\sklearn\\neural_network\\_multilayer_perceptron.py:690: ConvergenceWarning: Stochastic Optimizer: Maximum iterations (1000) reached and the optimization hasn't converged yet.\n",
      "  warnings.warn(\n"
     ]
    },
    {
     "name": "stdout",
     "output_type": "stream",
     "text": [
      "[CV] END activation=relu, hidden_layer_sizes=(20, 10), max_iter=1000, random_state=42, solver=adam; total time=   0.4s\n",
      "[CV] END activation=relu, hidden_layer_sizes=(20, 10), max_iter=1000, random_state=42, solver=adam; total time=   0.3s\n",
      "[CV] END activation=relu, hidden_layer_sizes=(20, 10), max_iter=1000, random_state=42, solver=adam; total time=   0.3s\n",
      "[CV] END activation=relu, hidden_layer_sizes=(20, 10), max_iter=1000, random_state=0, solver=lbfgs; total time=   0.0s\n",
      "[CV] END activation=relu, hidden_layer_sizes=(20, 10), max_iter=1000, random_state=0, solver=lbfgs; total time=   0.0s\n",
      "[CV] END activation=relu, hidden_layer_sizes=(20, 10), max_iter=1000, random_state=0, solver=lbfgs; total time=   0.0s\n",
      "[CV] END activation=relu, hidden_layer_sizes=(20, 10), max_iter=1000, random_state=0, solver=lbfgs; total time=   0.0s\n",
      "[CV] END activation=relu, hidden_layer_sizes=(20, 10), max_iter=1000, random_state=0, solver=adam; total time=   0.4s\n",
      "[CV] END activation=relu, hidden_layer_sizes=(20, 10), max_iter=1000, random_state=0, solver=adam; total time=   0.3s\n",
      "[CV] END activation=relu, hidden_layer_sizes=(20, 10), max_iter=1000, random_state=0, solver=adam; total time=   0.4s\n",
      "[CV] END activation=relu, hidden_layer_sizes=(20, 10), max_iter=1000, random_state=0, solver=adam; total time=   0.4s\n",
      "[CV] END activation=relu, hidden_layer_sizes=(20, 10), max_iter=1000, random_state=21, solver=lbfgs; total time=   0.0s\n",
      "[CV] END activation=relu, hidden_layer_sizes=(20, 10), max_iter=1000, random_state=21, solver=lbfgs; total time=   0.0s\n",
      "[CV] END activation=relu, hidden_layer_sizes=(20, 10), max_iter=1000, random_state=21, solver=lbfgs; total time=   0.0s\n",
      "[CV] END activation=relu, hidden_layer_sizes=(20, 10), max_iter=1000, random_state=21, solver=lbfgs; total time=   0.0s\n"
     ]
    },
    {
     "name": "stderr",
     "output_type": "stream",
     "text": [
      "F:\\Anaconda\\Lib\\site-packages\\sklearn\\neural_network\\_multilayer_perceptron.py:690: ConvergenceWarning: Stochastic Optimizer: Maximum iterations (1000) reached and the optimization hasn't converged yet.\n",
      "  warnings.warn(\n"
     ]
    },
    {
     "name": "stdout",
     "output_type": "stream",
     "text": [
      "[CV] END activation=relu, hidden_layer_sizes=(20, 10), max_iter=1000, random_state=21, solver=adam; total time=   0.5s\n"
     ]
    },
    {
     "name": "stderr",
     "output_type": "stream",
     "text": [
      "F:\\Anaconda\\Lib\\site-packages\\sklearn\\neural_network\\_multilayer_perceptron.py:690: ConvergenceWarning: Stochastic Optimizer: Maximum iterations (1000) reached and the optimization hasn't converged yet.\n",
      "  warnings.warn(\n"
     ]
    },
    {
     "name": "stdout",
     "output_type": "stream",
     "text": [
      "[CV] END activation=relu, hidden_layer_sizes=(20, 10), max_iter=1000, random_state=21, solver=adam; total time=   0.5s\n"
     ]
    },
    {
     "name": "stderr",
     "output_type": "stream",
     "text": [
      "F:\\Anaconda\\Lib\\site-packages\\sklearn\\neural_network\\_multilayer_perceptron.py:690: ConvergenceWarning: Stochastic Optimizer: Maximum iterations (1000) reached and the optimization hasn't converged yet.\n",
      "  warnings.warn(\n"
     ]
    },
    {
     "name": "stdout",
     "output_type": "stream",
     "text": [
      "[CV] END activation=relu, hidden_layer_sizes=(20, 10), max_iter=1000, random_state=21, solver=adam; total time=   0.4s\n"
     ]
    },
    {
     "name": "stderr",
     "output_type": "stream",
     "text": [
      "F:\\Anaconda\\Lib\\site-packages\\sklearn\\neural_network\\_multilayer_perceptron.py:690: ConvergenceWarning: Stochastic Optimizer: Maximum iterations (1000) reached and the optimization hasn't converged yet.\n",
      "  warnings.warn(\n"
     ]
    },
    {
     "name": "stdout",
     "output_type": "stream",
     "text": [
      "[CV] END activation=relu, hidden_layer_sizes=(20, 10), max_iter=1000, random_state=21, solver=adam; total time=   0.4s\n",
      "[CV] END activation=relu, hidden_layer_sizes=(20, 10), max_iter=1000, random_state=42, solver=lbfgs; total time=   0.0s\n",
      "[CV] END activation=relu, hidden_layer_sizes=(20, 10), max_iter=1000, random_state=42, solver=lbfgs; total time=   0.0s\n",
      "[CV] END activation=relu, hidden_layer_sizes=(20, 10), max_iter=1000, random_state=42, solver=lbfgs; total time=   0.0s\n",
      "[CV] END activation=relu, hidden_layer_sizes=(20, 10), max_iter=1000, random_state=42, solver=lbfgs; total time=   0.0s\n",
      "[CV] END activation=relu, hidden_layer_sizes=(20, 10), max_iter=1000, random_state=42, solver=adam; total time=   0.3s\n"
     ]
    },
    {
     "name": "stderr",
     "output_type": "stream",
     "text": [
      "F:\\Anaconda\\Lib\\site-packages\\sklearn\\neural_network\\_multilayer_perceptron.py:690: ConvergenceWarning: Stochastic Optimizer: Maximum iterations (1000) reached and the optimization hasn't converged yet.\n",
      "  warnings.warn(\n"
     ]
    },
    {
     "name": "stdout",
     "output_type": "stream",
     "text": [
      "[CV] END activation=relu, hidden_layer_sizes=(20, 10), max_iter=1000, random_state=42, solver=adam; total time=   0.4s\n",
      "[CV] END activation=relu, hidden_layer_sizes=(20, 10), max_iter=1000, random_state=42, solver=adam; total time=   0.3s\n",
      "[CV] END activation=relu, hidden_layer_sizes=(20, 10), max_iter=1000, random_state=42, solver=adam; total time=   0.3s\n",
      "[CV] END activation=relu, hidden_layer_sizes=(30, 15), max_iter=500, random_state=0, solver=lbfgs; total time=   0.0s\n",
      "[CV] END activation=relu, hidden_layer_sizes=(30, 15), max_iter=500, random_state=0, solver=lbfgs; total time=   0.0s\n",
      "[CV] END activation=relu, hidden_layer_sizes=(30, 15), max_iter=500, random_state=0, solver=lbfgs; total time=   0.0s\n",
      "[CV] END activation=relu, hidden_layer_sizes=(30, 15), max_iter=500, random_state=0, solver=lbfgs; total time=   0.0s\n"
     ]
    },
    {
     "name": "stderr",
     "output_type": "stream",
     "text": [
      "F:\\Anaconda\\Lib\\site-packages\\sklearn\\neural_network\\_multilayer_perceptron.py:690: ConvergenceWarning: Stochastic Optimizer: Maximum iterations (500) reached and the optimization hasn't converged yet.\n",
      "  warnings.warn(\n"
     ]
    },
    {
     "name": "stdout",
     "output_type": "stream",
     "text": [
      "[CV] END activation=relu, hidden_layer_sizes=(30, 15), max_iter=500, random_state=0, solver=adam; total time=   0.2s\n"
     ]
    },
    {
     "name": "stderr",
     "output_type": "stream",
     "text": [
      "F:\\Anaconda\\Lib\\site-packages\\sklearn\\neural_network\\_multilayer_perceptron.py:690: ConvergenceWarning: Stochastic Optimizer: Maximum iterations (500) reached and the optimization hasn't converged yet.\n",
      "  warnings.warn(\n"
     ]
    },
    {
     "name": "stdout",
     "output_type": "stream",
     "text": [
      "[CV] END activation=relu, hidden_layer_sizes=(30, 15), max_iter=500, random_state=0, solver=adam; total time=   0.2s\n"
     ]
    },
    {
     "name": "stderr",
     "output_type": "stream",
     "text": [
      "F:\\Anaconda\\Lib\\site-packages\\sklearn\\neural_network\\_multilayer_perceptron.py:690: ConvergenceWarning: Stochastic Optimizer: Maximum iterations (500) reached and the optimization hasn't converged yet.\n",
      "  warnings.warn(\n"
     ]
    },
    {
     "name": "stdout",
     "output_type": "stream",
     "text": [
      "[CV] END activation=relu, hidden_layer_sizes=(30, 15), max_iter=500, random_state=0, solver=adam; total time=   0.2s\n"
     ]
    },
    {
     "name": "stderr",
     "output_type": "stream",
     "text": [
      "F:\\Anaconda\\Lib\\site-packages\\sklearn\\neural_network\\_multilayer_perceptron.py:690: ConvergenceWarning: Stochastic Optimizer: Maximum iterations (500) reached and the optimization hasn't converged yet.\n",
      "  warnings.warn(\n"
     ]
    },
    {
     "name": "stdout",
     "output_type": "stream",
     "text": [
      "[CV] END activation=relu, hidden_layer_sizes=(30, 15), max_iter=500, random_state=0, solver=adam; total time=   0.2s\n",
      "[CV] END activation=relu, hidden_layer_sizes=(30, 15), max_iter=500, random_state=21, solver=lbfgs; total time=   0.0s\n",
      "[CV] END activation=relu, hidden_layer_sizes=(30, 15), max_iter=500, random_state=21, solver=lbfgs; total time=   0.0s\n",
      "[CV] END activation=relu, hidden_layer_sizes=(30, 15), max_iter=500, random_state=21, solver=lbfgs; total time=   0.0s\n",
      "[CV] END activation=relu, hidden_layer_sizes=(30, 15), max_iter=500, random_state=21, solver=lbfgs; total time=   0.0s\n"
     ]
    },
    {
     "name": "stderr",
     "output_type": "stream",
     "text": [
      "F:\\Anaconda\\Lib\\site-packages\\sklearn\\neural_network\\_multilayer_perceptron.py:690: ConvergenceWarning: Stochastic Optimizer: Maximum iterations (500) reached and the optimization hasn't converged yet.\n",
      "  warnings.warn(\n"
     ]
    },
    {
     "name": "stdout",
     "output_type": "stream",
     "text": [
      "[CV] END activation=relu, hidden_layer_sizes=(30, 15), max_iter=500, random_state=21, solver=adam; total time=   0.2s\n"
     ]
    },
    {
     "name": "stderr",
     "output_type": "stream",
     "text": [
      "F:\\Anaconda\\Lib\\site-packages\\sklearn\\neural_network\\_multilayer_perceptron.py:690: ConvergenceWarning: Stochastic Optimizer: Maximum iterations (500) reached and the optimization hasn't converged yet.\n",
      "  warnings.warn(\n"
     ]
    },
    {
     "name": "stdout",
     "output_type": "stream",
     "text": [
      "[CV] END activation=relu, hidden_layer_sizes=(30, 15), max_iter=500, random_state=21, solver=adam; total time=   0.3s\n"
     ]
    },
    {
     "name": "stderr",
     "output_type": "stream",
     "text": [
      "F:\\Anaconda\\Lib\\site-packages\\sklearn\\neural_network\\_multilayer_perceptron.py:690: ConvergenceWarning: Stochastic Optimizer: Maximum iterations (500) reached and the optimization hasn't converged yet.\n",
      "  warnings.warn(\n"
     ]
    },
    {
     "name": "stdout",
     "output_type": "stream",
     "text": [
      "[CV] END activation=relu, hidden_layer_sizes=(30, 15), max_iter=500, random_state=21, solver=adam; total time=   0.2s\n"
     ]
    },
    {
     "name": "stderr",
     "output_type": "stream",
     "text": [
      "F:\\Anaconda\\Lib\\site-packages\\sklearn\\neural_network\\_multilayer_perceptron.py:690: ConvergenceWarning: Stochastic Optimizer: Maximum iterations (500) reached and the optimization hasn't converged yet.\n",
      "  warnings.warn(\n"
     ]
    },
    {
     "name": "stdout",
     "output_type": "stream",
     "text": [
      "[CV] END activation=relu, hidden_layer_sizes=(30, 15), max_iter=500, random_state=21, solver=adam; total time=   0.2s\n",
      "[CV] END activation=relu, hidden_layer_sizes=(30, 15), max_iter=500, random_state=42, solver=lbfgs; total time=   0.0s\n",
      "[CV] END activation=relu, hidden_layer_sizes=(30, 15), max_iter=500, random_state=42, solver=lbfgs; total time=   0.0s\n",
      "[CV] END activation=relu, hidden_layer_sizes=(30, 15), max_iter=500, random_state=42, solver=lbfgs; total time=   0.0s\n",
      "[CV] END activation=relu, hidden_layer_sizes=(30, 15), max_iter=500, random_state=42, solver=lbfgs; total time=   0.0s\n"
     ]
    },
    {
     "name": "stderr",
     "output_type": "stream",
     "text": [
      "F:\\Anaconda\\Lib\\site-packages\\sklearn\\neural_network\\_multilayer_perceptron.py:690: ConvergenceWarning: Stochastic Optimizer: Maximum iterations (500) reached and the optimization hasn't converged yet.\n",
      "  warnings.warn(\n"
     ]
    },
    {
     "name": "stdout",
     "output_type": "stream",
     "text": [
      "[CV] END activation=relu, hidden_layer_sizes=(30, 15), max_iter=500, random_state=42, solver=adam; total time=   0.2s\n"
     ]
    },
    {
     "name": "stderr",
     "output_type": "stream",
     "text": [
      "F:\\Anaconda\\Lib\\site-packages\\sklearn\\neural_network\\_multilayer_perceptron.py:690: ConvergenceWarning: Stochastic Optimizer: Maximum iterations (500) reached and the optimization hasn't converged yet.\n",
      "  warnings.warn(\n"
     ]
    },
    {
     "name": "stdout",
     "output_type": "stream",
     "text": [
      "[CV] END activation=relu, hidden_layer_sizes=(30, 15), max_iter=500, random_state=42, solver=adam; total time=   0.1s\n"
     ]
    },
    {
     "name": "stderr",
     "output_type": "stream",
     "text": [
      "F:\\Anaconda\\Lib\\site-packages\\sklearn\\neural_network\\_multilayer_perceptron.py:690: ConvergenceWarning: Stochastic Optimizer: Maximum iterations (500) reached and the optimization hasn't converged yet.\n",
      "  warnings.warn(\n"
     ]
    },
    {
     "name": "stdout",
     "output_type": "stream",
     "text": [
      "[CV] END activation=relu, hidden_layer_sizes=(30, 15), max_iter=500, random_state=42, solver=adam; total time=   0.2s\n"
     ]
    },
    {
     "name": "stderr",
     "output_type": "stream",
     "text": [
      "F:\\Anaconda\\Lib\\site-packages\\sklearn\\neural_network\\_multilayer_perceptron.py:690: ConvergenceWarning: Stochastic Optimizer: Maximum iterations (500) reached and the optimization hasn't converged yet.\n",
      "  warnings.warn(\n"
     ]
    },
    {
     "name": "stdout",
     "output_type": "stream",
     "text": [
      "[CV] END activation=relu, hidden_layer_sizes=(30, 15), max_iter=500, random_state=42, solver=adam; total time=   0.2s\n",
      "[CV] END activation=relu, hidden_layer_sizes=(30, 15), max_iter=1000, random_state=0, solver=lbfgs; total time=   0.0s\n",
      "[CV] END activation=relu, hidden_layer_sizes=(30, 15), max_iter=1000, random_state=0, solver=lbfgs; total time=   0.0s\n",
      "[CV] END activation=relu, hidden_layer_sizes=(30, 15), max_iter=1000, random_state=0, solver=lbfgs; total time=   0.0s\n",
      "[CV] END activation=relu, hidden_layer_sizes=(30, 15), max_iter=1000, random_state=0, solver=lbfgs; total time=   0.0s\n"
     ]
    },
    {
     "name": "stderr",
     "output_type": "stream",
     "text": [
      "F:\\Anaconda\\Lib\\site-packages\\sklearn\\neural_network\\_multilayer_perceptron.py:690: ConvergenceWarning: Stochastic Optimizer: Maximum iterations (1000) reached and the optimization hasn't converged yet.\n",
      "  warnings.warn(\n"
     ]
    },
    {
     "name": "stdout",
     "output_type": "stream",
     "text": [
      "[CV] END activation=relu, hidden_layer_sizes=(30, 15), max_iter=1000, random_state=0, solver=adam; total time=   0.3s\n",
      "[CV] END activation=relu, hidden_layer_sizes=(30, 15), max_iter=1000, random_state=0, solver=adam; total time=   0.4s\n"
     ]
    },
    {
     "name": "stderr",
     "output_type": "stream",
     "text": [
      "F:\\Anaconda\\Lib\\site-packages\\sklearn\\neural_network\\_multilayer_perceptron.py:690: ConvergenceWarning: Stochastic Optimizer: Maximum iterations (1000) reached and the optimization hasn't converged yet.\n",
      "  warnings.warn(\n"
     ]
    },
    {
     "name": "stdout",
     "output_type": "stream",
     "text": [
      "[CV] END activation=relu, hidden_layer_sizes=(30, 15), max_iter=1000, random_state=0, solver=adam; total time=   0.4s\n",
      "[CV] END activation=relu, hidden_layer_sizes=(30, 15), max_iter=1000, random_state=0, solver=adam; total time=   0.4s\n",
      "[CV] END activation=relu, hidden_layer_sizes=(30, 15), max_iter=1000, random_state=21, solver=lbfgs; total time=   0.0s\n",
      "[CV] END activation=relu, hidden_layer_sizes=(30, 15), max_iter=1000, random_state=21, solver=lbfgs; total time=   0.0s\n",
      "[CV] END activation=relu, hidden_layer_sizes=(30, 15), max_iter=1000, random_state=21, solver=lbfgs; total time=   0.0s\n",
      "[CV] END activation=relu, hidden_layer_sizes=(30, 15), max_iter=1000, random_state=21, solver=lbfgs; total time=   0.0s\n",
      "[CV] END activation=relu, hidden_layer_sizes=(30, 15), max_iter=1000, random_state=21, solver=adam; total time=   0.3s\n",
      "[CV] END activation=relu, hidden_layer_sizes=(30, 15), max_iter=1000, random_state=21, solver=adam; total time=   0.2s\n",
      "[CV] END activation=relu, hidden_layer_sizes=(30, 15), max_iter=1000, random_state=21, solver=adam; total time=   0.3s\n",
      "[CV] END activation=relu, hidden_layer_sizes=(30, 15), max_iter=1000, random_state=21, solver=adam; total time=   0.3s\n",
      "[CV] END activation=relu, hidden_layer_sizes=(30, 15), max_iter=1000, random_state=42, solver=lbfgs; total time=   0.0s\n",
      "[CV] END activation=relu, hidden_layer_sizes=(30, 15), max_iter=1000, random_state=42, solver=lbfgs; total time=   0.0s\n",
      "[CV] END activation=relu, hidden_layer_sizes=(30, 15), max_iter=1000, random_state=42, solver=lbfgs; total time=   0.0s\n",
      "[CV] END activation=relu, hidden_layer_sizes=(30, 15), max_iter=1000, random_state=42, solver=lbfgs; total time=   0.0s\n",
      "[CV] END activation=relu, hidden_layer_sizes=(30, 15), max_iter=1000, random_state=42, solver=adam; total time=   0.5s\n",
      "[CV] END activation=relu, hidden_layer_sizes=(30, 15), max_iter=1000, random_state=42, solver=adam; total time=   0.3s\n",
      "[CV] END activation=relu, hidden_layer_sizes=(30, 15), max_iter=1000, random_state=42, solver=adam; total time=   0.5s\n",
      "[CV] END activation=relu, hidden_layer_sizes=(30, 15), max_iter=1000, random_state=42, solver=adam; total time=   0.3s\n",
      "[CV] END activation=relu, hidden_layer_sizes=(30, 15), max_iter=1000, random_state=0, solver=lbfgs; total time=   0.0s\n",
      "[CV] END activation=relu, hidden_layer_sizes=(30, 15), max_iter=1000, random_state=0, solver=lbfgs; total time=   0.0s\n",
      "[CV] END activation=relu, hidden_layer_sizes=(30, 15), max_iter=1000, random_state=0, solver=lbfgs; total time=   0.0s\n",
      "[CV] END activation=relu, hidden_layer_sizes=(30, 15), max_iter=1000, random_state=0, solver=lbfgs; total time=   0.0s\n"
     ]
    },
    {
     "name": "stderr",
     "output_type": "stream",
     "text": [
      "F:\\Anaconda\\Lib\\site-packages\\sklearn\\neural_network\\_multilayer_perceptron.py:690: ConvergenceWarning: Stochastic Optimizer: Maximum iterations (1000) reached and the optimization hasn't converged yet.\n",
      "  warnings.warn(\n"
     ]
    },
    {
     "name": "stdout",
     "output_type": "stream",
     "text": [
      "[CV] END activation=relu, hidden_layer_sizes=(30, 15), max_iter=1000, random_state=0, solver=adam; total time=   0.4s\n",
      "[CV] END activation=relu, hidden_layer_sizes=(30, 15), max_iter=1000, random_state=0, solver=adam; total time=   0.4s\n"
     ]
    },
    {
     "name": "stderr",
     "output_type": "stream",
     "text": [
      "F:\\Anaconda\\Lib\\site-packages\\sklearn\\neural_network\\_multilayer_perceptron.py:690: ConvergenceWarning: Stochastic Optimizer: Maximum iterations (1000) reached and the optimization hasn't converged yet.\n",
      "  warnings.warn(\n"
     ]
    },
    {
     "name": "stdout",
     "output_type": "stream",
     "text": [
      "[CV] END activation=relu, hidden_layer_sizes=(30, 15), max_iter=1000, random_state=0, solver=adam; total time=   0.5s\n",
      "[CV] END activation=relu, hidden_layer_sizes=(30, 15), max_iter=1000, random_state=0, solver=adam; total time=   0.4s\n",
      "[CV] END activation=relu, hidden_layer_sizes=(30, 15), max_iter=1000, random_state=21, solver=lbfgs; total time=   0.0s\n",
      "[CV] END activation=relu, hidden_layer_sizes=(30, 15), max_iter=1000, random_state=21, solver=lbfgs; total time=   0.0s\n",
      "[CV] END activation=relu, hidden_layer_sizes=(30, 15), max_iter=1000, random_state=21, solver=lbfgs; total time=   0.0s\n",
      "[CV] END activation=relu, hidden_layer_sizes=(30, 15), max_iter=1000, random_state=21, solver=lbfgs; total time=   0.0s\n",
      "[CV] END activation=relu, hidden_layer_sizes=(30, 15), max_iter=1000, random_state=21, solver=adam; total time=   0.4s\n",
      "[CV] END activation=relu, hidden_layer_sizes=(30, 15), max_iter=1000, random_state=21, solver=adam; total time=   0.3s\n",
      "[CV] END activation=relu, hidden_layer_sizes=(30, 15), max_iter=1000, random_state=21, solver=adam; total time=   0.4s\n",
      "[CV] END activation=relu, hidden_layer_sizes=(30, 15), max_iter=1000, random_state=21, solver=adam; total time=   0.3s\n",
      "[CV] END activation=relu, hidden_layer_sizes=(30, 15), max_iter=1000, random_state=42, solver=lbfgs; total time=   0.0s\n",
      "[CV] END activation=relu, hidden_layer_sizes=(30, 15), max_iter=1000, random_state=42, solver=lbfgs; total time=   0.0s\n",
      "[CV] END activation=relu, hidden_layer_sizes=(30, 15), max_iter=1000, random_state=42, solver=lbfgs; total time=   0.0s\n",
      "[CV] END activation=relu, hidden_layer_sizes=(30, 15), max_iter=1000, random_state=42, solver=lbfgs; total time=   0.0s\n",
      "[CV] END activation=relu, hidden_layer_sizes=(30, 15), max_iter=1000, random_state=42, solver=adam; total time=   0.3s\n",
      "[CV] END activation=relu, hidden_layer_sizes=(30, 15), max_iter=1000, random_state=42, solver=adam; total time=   0.4s\n",
      "[CV] END activation=relu, hidden_layer_sizes=(30, 15), max_iter=1000, random_state=42, solver=adam; total time=   0.5s\n",
      "[CV] END activation=relu, hidden_layer_sizes=(30, 15), max_iter=1000, random_state=42, solver=adam; total time=   0.3s\n",
      "[CV] END activation=logistic, hidden_layer_sizes=(5,), max_iter=500, random_state=0, solver=lbfgs; total time=   0.0s\n",
      "[CV] END activation=logistic, hidden_layer_sizes=(5,), max_iter=500, random_state=0, solver=lbfgs; total time=   0.0s\n",
      "[CV] END activation=logistic, hidden_layer_sizes=(5,), max_iter=500, random_state=0, solver=lbfgs; total time=   0.0s\n",
      "[CV] END activation=logistic, hidden_layer_sizes=(5,), max_iter=500, random_state=0, solver=lbfgs; total time=   0.0s\n"
     ]
    },
    {
     "name": "stderr",
     "output_type": "stream",
     "text": [
      "F:\\Anaconda\\Lib\\site-packages\\sklearn\\neural_network\\_multilayer_perceptron.py:690: ConvergenceWarning: Stochastic Optimizer: Maximum iterations (500) reached and the optimization hasn't converged yet.\n",
      "  warnings.warn(\n"
     ]
    },
    {
     "name": "stdout",
     "output_type": "stream",
     "text": [
      "[CV] END activation=logistic, hidden_layer_sizes=(5,), max_iter=500, random_state=0, solver=adam; total time=   0.2s\n"
     ]
    },
    {
     "name": "stderr",
     "output_type": "stream",
     "text": [
      "F:\\Anaconda\\Lib\\site-packages\\sklearn\\neural_network\\_multilayer_perceptron.py:690: ConvergenceWarning: Stochastic Optimizer: Maximum iterations (500) reached and the optimization hasn't converged yet.\n",
      "  warnings.warn(\n",
      "F:\\Anaconda\\Lib\\site-packages\\sklearn\\neural_network\\_multilayer_perceptron.py:690: ConvergenceWarning: Stochastic Optimizer: Maximum iterations (500) reached and the optimization hasn't converged yet.\n",
      "  warnings.warn(\n"
     ]
    },
    {
     "name": "stdout",
     "output_type": "stream",
     "text": [
      "[CV] END activation=logistic, hidden_layer_sizes=(5,), max_iter=500, random_state=0, solver=adam; total time=   0.1s\n",
      "[CV] END activation=logistic, hidden_layer_sizes=(5,), max_iter=500, random_state=0, solver=adam; total time=   0.1s\n"
     ]
    },
    {
     "name": "stderr",
     "output_type": "stream",
     "text": [
      "F:\\Anaconda\\Lib\\site-packages\\sklearn\\neural_network\\_multilayer_perceptron.py:690: ConvergenceWarning: Stochastic Optimizer: Maximum iterations (500) reached and the optimization hasn't converged yet.\n",
      "  warnings.warn(\n"
     ]
    },
    {
     "name": "stdout",
     "output_type": "stream",
     "text": [
      "[CV] END activation=logistic, hidden_layer_sizes=(5,), max_iter=500, random_state=0, solver=adam; total time=   0.1s\n",
      "[CV] END activation=logistic, hidden_layer_sizes=(5,), max_iter=500, random_state=21, solver=lbfgs; total time=   0.0s\n",
      "[CV] END activation=logistic, hidden_layer_sizes=(5,), max_iter=500, random_state=21, solver=lbfgs; total time=   0.0s\n",
      "[CV] END activation=logistic, hidden_layer_sizes=(5,), max_iter=500, random_state=21, solver=lbfgs; total time=   0.0s\n",
      "[CV] END activation=logistic, hidden_layer_sizes=(5,), max_iter=500, random_state=21, solver=lbfgs; total time=   0.0s\n",
      "[CV] END activation=logistic, hidden_layer_sizes=(5,), max_iter=500, random_state=21, solver=adam; total time=   0.1s\n"
     ]
    },
    {
     "name": "stderr",
     "output_type": "stream",
     "text": [
      "F:\\Anaconda\\Lib\\site-packages\\sklearn\\neural_network\\_multilayer_perceptron.py:690: ConvergenceWarning: Stochastic Optimizer: Maximum iterations (500) reached and the optimization hasn't converged yet.\n",
      "  warnings.warn(\n",
      "F:\\Anaconda\\Lib\\site-packages\\sklearn\\neural_network\\_multilayer_perceptron.py:690: ConvergenceWarning: Stochastic Optimizer: Maximum iterations (500) reached and the optimization hasn't converged yet.\n",
      "  warnings.warn(\n"
     ]
    },
    {
     "name": "stdout",
     "output_type": "stream",
     "text": [
      "[CV] END activation=logistic, hidden_layer_sizes=(5,), max_iter=500, random_state=21, solver=adam; total time=   0.1s\n"
     ]
    },
    {
     "name": "stderr",
     "output_type": "stream",
     "text": [
      "F:\\Anaconda\\Lib\\site-packages\\sklearn\\neural_network\\_multilayer_perceptron.py:690: ConvergenceWarning: Stochastic Optimizer: Maximum iterations (500) reached and the optimization hasn't converged yet.\n",
      "  warnings.warn(\n",
      "F:\\Anaconda\\Lib\\site-packages\\sklearn\\neural_network\\_multilayer_perceptron.py:690: ConvergenceWarning: Stochastic Optimizer: Maximum iterations (500) reached and the optimization hasn't converged yet.\n",
      "  warnings.warn(\n"
     ]
    },
    {
     "name": "stdout",
     "output_type": "stream",
     "text": [
      "[CV] END activation=logistic, hidden_layer_sizes=(5,), max_iter=500, random_state=21, solver=adam; total time=   0.1s\n",
      "[CV] END activation=logistic, hidden_layer_sizes=(5,), max_iter=500, random_state=21, solver=adam; total time=   0.1s\n",
      "[CV] END activation=logistic, hidden_layer_sizes=(5,), max_iter=500, random_state=42, solver=lbfgs; total time=   0.0s\n",
      "[CV] END activation=logistic, hidden_layer_sizes=(5,), max_iter=500, random_state=42, solver=lbfgs; total time=   0.0s\n",
      "[CV] END activation=logistic, hidden_layer_sizes=(5,), max_iter=500, random_state=42, solver=lbfgs; total time=   0.0s\n",
      "[CV] END activation=logistic, hidden_layer_sizes=(5,), max_iter=500, random_state=42, solver=lbfgs; total time=   0.0s\n"
     ]
    },
    {
     "name": "stderr",
     "output_type": "stream",
     "text": [
      "F:\\Anaconda\\Lib\\site-packages\\sklearn\\neural_network\\_multilayer_perceptron.py:690: ConvergenceWarning: Stochastic Optimizer: Maximum iterations (500) reached and the optimization hasn't converged yet.\n",
      "  warnings.warn(\n"
     ]
    },
    {
     "name": "stdout",
     "output_type": "stream",
     "text": [
      "[CV] END activation=logistic, hidden_layer_sizes=(5,), max_iter=500, random_state=42, solver=adam; total time=   0.1s\n",
      "[CV] END activation=logistic, hidden_layer_sizes=(5,), max_iter=500, random_state=42, solver=adam; total time=   0.0s\n"
     ]
    },
    {
     "name": "stderr",
     "output_type": "stream",
     "text": [
      "F:\\Anaconda\\Lib\\site-packages\\sklearn\\neural_network\\_multilayer_perceptron.py:690: ConvergenceWarning: Stochastic Optimizer: Maximum iterations (500) reached and the optimization hasn't converged yet.\n",
      "  warnings.warn(\n",
      "F:\\Anaconda\\Lib\\site-packages\\sklearn\\neural_network\\_multilayer_perceptron.py:690: ConvergenceWarning: Stochastic Optimizer: Maximum iterations (500) reached and the optimization hasn't converged yet.\n",
      "  warnings.warn(\n"
     ]
    },
    {
     "name": "stdout",
     "output_type": "stream",
     "text": [
      "[CV] END activation=logistic, hidden_layer_sizes=(5,), max_iter=500, random_state=42, solver=adam; total time=   0.1s\n",
      "[CV] END activation=logistic, hidden_layer_sizes=(5,), max_iter=500, random_state=42, solver=adam; total time=   0.1s\n",
      "[CV] END activation=logistic, hidden_layer_sizes=(5,), max_iter=1000, random_state=0, solver=lbfgs; total time=   0.0s\n",
      "[CV] END activation=logistic, hidden_layer_sizes=(5,), max_iter=1000, random_state=0, solver=lbfgs; total time=   0.0s\n",
      "[CV] END activation=logistic, hidden_layer_sizes=(5,), max_iter=1000, random_state=0, solver=lbfgs; total time=   0.0s\n",
      "[CV] END activation=logistic, hidden_layer_sizes=(5,), max_iter=1000, random_state=0, solver=lbfgs; total time=   0.0s\n"
     ]
    },
    {
     "name": "stderr",
     "output_type": "stream",
     "text": [
      "F:\\Anaconda\\Lib\\site-packages\\sklearn\\neural_network\\_multilayer_perceptron.py:690: ConvergenceWarning: Stochastic Optimizer: Maximum iterations (1000) reached and the optimization hasn't converged yet.\n",
      "  warnings.warn(\n"
     ]
    },
    {
     "name": "stdout",
     "output_type": "stream",
     "text": [
      "[CV] END activation=logistic, hidden_layer_sizes=(5,), max_iter=1000, random_state=0, solver=adam; total time=   0.2s\n",
      "[CV] END activation=logistic, hidden_layer_sizes=(5,), max_iter=1000, random_state=0, solver=adam; total time=   0.1s\n",
      "[CV] END activation=logistic, hidden_layer_sizes=(5,), max_iter=1000, random_state=0, solver=adam; total time=   0.0s\n",
      "[CV] END activation=logistic, hidden_layer_sizes=(5,), max_iter=1000, random_state=0, solver=adam; total time=   0.1s\n",
      "[CV] END activation=logistic, hidden_layer_sizes=(5,), max_iter=1000, random_state=21, solver=lbfgs; total time=   0.0s\n",
      "[CV] END activation=logistic, hidden_layer_sizes=(5,), max_iter=1000, random_state=21, solver=lbfgs; total time=   0.0s\n",
      "[CV] END activation=logistic, hidden_layer_sizes=(5,), max_iter=1000, random_state=21, solver=lbfgs; total time=   0.0s\n",
      "[CV] END activation=logistic, hidden_layer_sizes=(5,), max_iter=1000, random_state=21, solver=lbfgs; total time=   0.0s\n"
     ]
    },
    {
     "name": "stderr",
     "output_type": "stream",
     "text": [
      "F:\\Anaconda\\Lib\\site-packages\\sklearn\\neural_network\\_multilayer_perceptron.py:690: ConvergenceWarning: Stochastic Optimizer: Maximum iterations (1000) reached and the optimization hasn't converged yet.\n",
      "  warnings.warn(\n"
     ]
    },
    {
     "name": "stdout",
     "output_type": "stream",
     "text": [
      "[CV] END activation=logistic, hidden_layer_sizes=(5,), max_iter=1000, random_state=21, solver=adam; total time=   0.3s\n",
      "[CV] END activation=logistic, hidden_layer_sizes=(5,), max_iter=1000, random_state=21, solver=adam; total time=   0.1s\n",
      "[CV] END activation=logistic, hidden_layer_sizes=(5,), max_iter=1000, random_state=21, solver=adam; total time=   0.1s\n",
      "[CV] END activation=logistic, hidden_layer_sizes=(5,), max_iter=1000, random_state=21, solver=adam; total time=   0.2s\n",
      "[CV] END activation=logistic, hidden_layer_sizes=(5,), max_iter=1000, random_state=42, solver=lbfgs; total time=   0.0s\n",
      "[CV] END activation=logistic, hidden_layer_sizes=(5,), max_iter=1000, random_state=42, solver=lbfgs; total time=   0.0s\n",
      "[CV] END activation=logistic, hidden_layer_sizes=(5,), max_iter=1000, random_state=42, solver=lbfgs; total time=   0.0s\n",
      "[CV] END activation=logistic, hidden_layer_sizes=(5,), max_iter=1000, random_state=42, solver=lbfgs; total time=   0.0s\n"
     ]
    },
    {
     "name": "stderr",
     "output_type": "stream",
     "text": [
      "F:\\Anaconda\\Lib\\site-packages\\sklearn\\neural_network\\_multilayer_perceptron.py:690: ConvergenceWarning: Stochastic Optimizer: Maximum iterations (1000) reached and the optimization hasn't converged yet.\n",
      "  warnings.warn(\n"
     ]
    },
    {
     "name": "stdout",
     "output_type": "stream",
     "text": [
      "[CV] END activation=logistic, hidden_layer_sizes=(5,), max_iter=1000, random_state=42, solver=adam; total time=   0.3s\n",
      "[CV] END activation=logistic, hidden_layer_sizes=(5,), max_iter=1000, random_state=42, solver=adam; total time=   0.0s\n"
     ]
    },
    {
     "name": "stderr",
     "output_type": "stream",
     "text": [
      "F:\\Anaconda\\Lib\\site-packages\\sklearn\\neural_network\\_multilayer_perceptron.py:690: ConvergenceWarning: Stochastic Optimizer: Maximum iterations (1000) reached and the optimization hasn't converged yet.\n",
      "  warnings.warn(\n"
     ]
    },
    {
     "name": "stdout",
     "output_type": "stream",
     "text": [
      "[CV] END activation=logistic, hidden_layer_sizes=(5,), max_iter=1000, random_state=42, solver=adam; total time=   0.3s\n"
     ]
    },
    {
     "name": "stderr",
     "output_type": "stream",
     "text": [
      "F:\\Anaconda\\Lib\\site-packages\\sklearn\\neural_network\\_multilayer_perceptron.py:690: ConvergenceWarning: Stochastic Optimizer: Maximum iterations (1000) reached and the optimization hasn't converged yet.\n",
      "  warnings.warn(\n"
     ]
    },
    {
     "name": "stdout",
     "output_type": "stream",
     "text": [
      "[CV] END activation=logistic, hidden_layer_sizes=(5,), max_iter=1000, random_state=42, solver=adam; total time=   0.3s\n",
      "[CV] END activation=logistic, hidden_layer_sizes=(5,), max_iter=1000, random_state=0, solver=lbfgs; total time=   0.0s\n",
      "[CV] END activation=logistic, hidden_layer_sizes=(5,), max_iter=1000, random_state=0, solver=lbfgs; total time=   0.0s\n",
      "[CV] END activation=logistic, hidden_layer_sizes=(5,), max_iter=1000, random_state=0, solver=lbfgs; total time=   0.0s\n",
      "[CV] END activation=logistic, hidden_layer_sizes=(5,), max_iter=1000, random_state=0, solver=lbfgs; total time=   0.0s\n"
     ]
    },
    {
     "name": "stderr",
     "output_type": "stream",
     "text": [
      "F:\\Anaconda\\Lib\\site-packages\\sklearn\\neural_network\\_multilayer_perceptron.py:690: ConvergenceWarning: Stochastic Optimizer: Maximum iterations (1000) reached and the optimization hasn't converged yet.\n",
      "  warnings.warn(\n"
     ]
    },
    {
     "name": "stdout",
     "output_type": "stream",
     "text": [
      "[CV] END activation=logistic, hidden_layer_sizes=(5,), max_iter=1000, random_state=0, solver=adam; total time=   0.2s\n",
      "[CV] END activation=logistic, hidden_layer_sizes=(5,), max_iter=1000, random_state=0, solver=adam; total time=   0.1s\n",
      "[CV] END activation=logistic, hidden_layer_sizes=(5,), max_iter=1000, random_state=0, solver=adam; total time=   0.2s\n",
      "[CV] END activation=logistic, hidden_layer_sizes=(5,), max_iter=1000, random_state=0, solver=adam; total time=   0.1s\n",
      "[CV] END activation=logistic, hidden_layer_sizes=(5,), max_iter=1000, random_state=21, solver=lbfgs; total time=   0.0s\n",
      "[CV] END activation=logistic, hidden_layer_sizes=(5,), max_iter=1000, random_state=21, solver=lbfgs; total time=   0.0s\n",
      "[CV] END activation=logistic, hidden_layer_sizes=(5,), max_iter=1000, random_state=21, solver=lbfgs; total time=   0.0s\n",
      "[CV] END activation=logistic, hidden_layer_sizes=(5,), max_iter=1000, random_state=21, solver=lbfgs; total time=   0.0s\n"
     ]
    },
    {
     "name": "stderr",
     "output_type": "stream",
     "text": [
      "F:\\Anaconda\\Lib\\site-packages\\sklearn\\neural_network\\_multilayer_perceptron.py:690: ConvergenceWarning: Stochastic Optimizer: Maximum iterations (1000) reached and the optimization hasn't converged yet.\n",
      "  warnings.warn(\n"
     ]
    },
    {
     "name": "stdout",
     "output_type": "stream",
     "text": [
      "[CV] END activation=logistic, hidden_layer_sizes=(5,), max_iter=1000, random_state=21, solver=adam; total time=   0.2s\n",
      "[CV] END activation=logistic, hidden_layer_sizes=(5,), max_iter=1000, random_state=21, solver=adam; total time=   0.1s\n",
      "[CV] END activation=logistic, hidden_layer_sizes=(5,), max_iter=1000, random_state=21, solver=adam; total time=   0.1s\n",
      "[CV] END activation=logistic, hidden_layer_sizes=(5,), max_iter=1000, random_state=21, solver=adam; total time=   0.1s\n",
      "[CV] END activation=logistic, hidden_layer_sizes=(5,), max_iter=1000, random_state=42, solver=lbfgs; total time=   0.0s\n",
      "[CV] END activation=logistic, hidden_layer_sizes=(5,), max_iter=1000, random_state=42, solver=lbfgs; total time=   0.0s\n",
      "[CV] END activation=logistic, hidden_layer_sizes=(5,), max_iter=1000, random_state=42, solver=lbfgs; total time=   0.0s\n",
      "[CV] END activation=logistic, hidden_layer_sizes=(5,), max_iter=1000, random_state=42, solver=lbfgs; total time=   0.0s\n"
     ]
    },
    {
     "name": "stderr",
     "output_type": "stream",
     "text": [
      "F:\\Anaconda\\Lib\\site-packages\\sklearn\\neural_network\\_multilayer_perceptron.py:690: ConvergenceWarning: Stochastic Optimizer: Maximum iterations (1000) reached and the optimization hasn't converged yet.\n",
      "  warnings.warn(\n"
     ]
    },
    {
     "name": "stdout",
     "output_type": "stream",
     "text": [
      "[CV] END activation=logistic, hidden_layer_sizes=(5,), max_iter=1000, random_state=42, solver=adam; total time=   0.2s\n",
      "[CV] END activation=logistic, hidden_layer_sizes=(5,), max_iter=1000, random_state=42, solver=adam; total time=   0.0s\n"
     ]
    },
    {
     "name": "stderr",
     "output_type": "stream",
     "text": [
      "F:\\Anaconda\\Lib\\site-packages\\sklearn\\neural_network\\_multilayer_perceptron.py:690: ConvergenceWarning: Stochastic Optimizer: Maximum iterations (1000) reached and the optimization hasn't converged yet.\n",
      "  warnings.warn(\n"
     ]
    },
    {
     "name": "stdout",
     "output_type": "stream",
     "text": [
      "[CV] END activation=logistic, hidden_layer_sizes=(5,), max_iter=1000, random_state=42, solver=adam; total time=   0.2s\n"
     ]
    },
    {
     "name": "stderr",
     "output_type": "stream",
     "text": [
      "F:\\Anaconda\\Lib\\site-packages\\sklearn\\neural_network\\_multilayer_perceptron.py:690: ConvergenceWarning: Stochastic Optimizer: Maximum iterations (1000) reached and the optimization hasn't converged yet.\n",
      "  warnings.warn(\n"
     ]
    },
    {
     "name": "stdout",
     "output_type": "stream",
     "text": [
      "[CV] END activation=logistic, hidden_layer_sizes=(5,), max_iter=1000, random_state=42, solver=adam; total time=   0.2s\n",
      "[CV] END activation=logistic, hidden_layer_sizes=(10,), max_iter=500, random_state=0, solver=lbfgs; total time=   0.0s\n",
      "[CV] END activation=logistic, hidden_layer_sizes=(10,), max_iter=500, random_state=0, solver=lbfgs; total time=   0.0s\n",
      "[CV] END activation=logistic, hidden_layer_sizes=(10,), max_iter=500, random_state=0, solver=lbfgs; total time=   0.0s\n",
      "[CV] END activation=logistic, hidden_layer_sizes=(10,), max_iter=500, random_state=0, solver=lbfgs; total time=   0.0s\n"
     ]
    },
    {
     "name": "stderr",
     "output_type": "stream",
     "text": [
      "F:\\Anaconda\\Lib\\site-packages\\sklearn\\neural_network\\_multilayer_perceptron.py:690: ConvergenceWarning: Stochastic Optimizer: Maximum iterations (500) reached and the optimization hasn't converged yet.\n",
      "  warnings.warn(\n",
      "F:\\Anaconda\\Lib\\site-packages\\sklearn\\neural_network\\_multilayer_perceptron.py:690: ConvergenceWarning: Stochastic Optimizer: Maximum iterations (500) reached and the optimization hasn't converged yet.\n",
      "  warnings.warn(\n"
     ]
    },
    {
     "name": "stdout",
     "output_type": "stream",
     "text": [
      "[CV] END activation=logistic, hidden_layer_sizes=(10,), max_iter=500, random_state=0, solver=adam; total time=   0.1s\n",
      "[CV] END activation=logistic, hidden_layer_sizes=(10,), max_iter=500, random_state=0, solver=adam; total time=   0.1s\n"
     ]
    },
    {
     "name": "stderr",
     "output_type": "stream",
     "text": [
      "F:\\Anaconda\\Lib\\site-packages\\sklearn\\neural_network\\_multilayer_perceptron.py:690: ConvergenceWarning: Stochastic Optimizer: Maximum iterations (500) reached and the optimization hasn't converged yet.\n",
      "  warnings.warn(\n",
      "F:\\Anaconda\\Lib\\site-packages\\sklearn\\neural_network\\_multilayer_perceptron.py:690: ConvergenceWarning: Stochastic Optimizer: Maximum iterations (500) reached and the optimization hasn't converged yet.\n",
      "  warnings.warn(\n"
     ]
    },
    {
     "name": "stdout",
     "output_type": "stream",
     "text": [
      "[CV] END activation=logistic, hidden_layer_sizes=(10,), max_iter=500, random_state=0, solver=adam; total time=   0.1s\n",
      "[CV] END activation=logistic, hidden_layer_sizes=(10,), max_iter=500, random_state=0, solver=adam; total time=   0.1s\n",
      "[CV] END activation=logistic, hidden_layer_sizes=(10,), max_iter=500, random_state=21, solver=lbfgs; total time=   0.0s\n",
      "[CV] END activation=logistic, hidden_layer_sizes=(10,), max_iter=500, random_state=21, solver=lbfgs; total time=   0.0s\n",
      "[CV] END activation=logistic, hidden_layer_sizes=(10,), max_iter=500, random_state=21, solver=lbfgs; total time=   0.0s\n",
      "[CV] END activation=logistic, hidden_layer_sizes=(10,), max_iter=500, random_state=21, solver=lbfgs; total time=   0.0s\n"
     ]
    },
    {
     "name": "stderr",
     "output_type": "stream",
     "text": [
      "F:\\Anaconda\\Lib\\site-packages\\sklearn\\neural_network\\_multilayer_perceptron.py:690: ConvergenceWarning: Stochastic Optimizer: Maximum iterations (500) reached and the optimization hasn't converged yet.\n",
      "  warnings.warn(\n",
      "F:\\Anaconda\\Lib\\site-packages\\sklearn\\neural_network\\_multilayer_perceptron.py:690: ConvergenceWarning: Stochastic Optimizer: Maximum iterations (500) reached and the optimization hasn't converged yet.\n",
      "  warnings.warn(\n"
     ]
    },
    {
     "name": "stdout",
     "output_type": "stream",
     "text": [
      "[CV] END activation=logistic, hidden_layer_sizes=(10,), max_iter=500, random_state=21, solver=adam; total time=   0.1s\n",
      "[CV] END activation=logistic, hidden_layer_sizes=(10,), max_iter=500, random_state=21, solver=adam; total time=   0.1s\n"
     ]
    },
    {
     "name": "stderr",
     "output_type": "stream",
     "text": [
      "F:\\Anaconda\\Lib\\site-packages\\sklearn\\neural_network\\_multilayer_perceptron.py:690: ConvergenceWarning: Stochastic Optimizer: Maximum iterations (500) reached and the optimization hasn't converged yet.\n",
      "  warnings.warn(\n",
      "F:\\Anaconda\\Lib\\site-packages\\sklearn\\neural_network\\_multilayer_perceptron.py:690: ConvergenceWarning: Stochastic Optimizer: Maximum iterations (500) reached and the optimization hasn't converged yet.\n",
      "  warnings.warn(\n"
     ]
    },
    {
     "name": "stdout",
     "output_type": "stream",
     "text": [
      "[CV] END activation=logistic, hidden_layer_sizes=(10,), max_iter=500, random_state=21, solver=adam; total time=   0.1s\n",
      "[CV] END activation=logistic, hidden_layer_sizes=(10,), max_iter=500, random_state=21, solver=adam; total time=   0.1s\n",
      "[CV] END activation=logistic, hidden_layer_sizes=(10,), max_iter=500, random_state=42, solver=lbfgs; total time=   0.0s\n",
      "[CV] END activation=logistic, hidden_layer_sizes=(10,), max_iter=500, random_state=42, solver=lbfgs; total time=   0.0s\n",
      "[CV] END activation=logistic, hidden_layer_sizes=(10,), max_iter=500, random_state=42, solver=lbfgs; total time=   0.0s\n",
      "[CV] END activation=logistic, hidden_layer_sizes=(10,), max_iter=500, random_state=42, solver=lbfgs; total time=   0.0s\n"
     ]
    },
    {
     "name": "stderr",
     "output_type": "stream",
     "text": [
      "F:\\Anaconda\\Lib\\site-packages\\sklearn\\neural_network\\_multilayer_perceptron.py:690: ConvergenceWarning: Stochastic Optimizer: Maximum iterations (500) reached and the optimization hasn't converged yet.\n",
      "  warnings.warn(\n",
      "F:\\Anaconda\\Lib\\site-packages\\sklearn\\neural_network\\_multilayer_perceptron.py:690: ConvergenceWarning: Stochastic Optimizer: Maximum iterations (500) reached and the optimization hasn't converged yet.\n",
      "  warnings.warn(\n"
     ]
    },
    {
     "name": "stdout",
     "output_type": "stream",
     "text": [
      "[CV] END activation=logistic, hidden_layer_sizes=(10,), max_iter=500, random_state=42, solver=adam; total time=   0.1s\n",
      "[CV] END activation=logistic, hidden_layer_sizes=(10,), max_iter=500, random_state=42, solver=adam; total time=   0.1s\n"
     ]
    },
    {
     "name": "stderr",
     "output_type": "stream",
     "text": [
      "F:\\Anaconda\\Lib\\site-packages\\sklearn\\neural_network\\_multilayer_perceptron.py:690: ConvergenceWarning: Stochastic Optimizer: Maximum iterations (500) reached and the optimization hasn't converged yet.\n",
      "  warnings.warn(\n",
      "F:\\Anaconda\\Lib\\site-packages\\sklearn\\neural_network\\_multilayer_perceptron.py:690: ConvergenceWarning: Stochastic Optimizer: Maximum iterations (500) reached and the optimization hasn't converged yet.\n",
      "  warnings.warn(\n"
     ]
    },
    {
     "name": "stdout",
     "output_type": "stream",
     "text": [
      "[CV] END activation=logistic, hidden_layer_sizes=(10,), max_iter=500, random_state=42, solver=adam; total time=   0.1s\n",
      "[CV] END activation=logistic, hidden_layer_sizes=(10,), max_iter=500, random_state=42, solver=adam; total time=   0.1s\n",
      "[CV] END activation=logistic, hidden_layer_sizes=(10,), max_iter=1000, random_state=0, solver=lbfgs; total time=   0.0s\n",
      "[CV] END activation=logistic, hidden_layer_sizes=(10,), max_iter=1000, random_state=0, solver=lbfgs; total time=   0.0s\n",
      "[CV] END activation=logistic, hidden_layer_sizes=(10,), max_iter=1000, random_state=0, solver=lbfgs; total time=   0.0s\n",
      "[CV] END activation=logistic, hidden_layer_sizes=(10,), max_iter=1000, random_state=0, solver=lbfgs; total time=   0.0s\n"
     ]
    },
    {
     "name": "stderr",
     "output_type": "stream",
     "text": [
      "F:\\Anaconda\\Lib\\site-packages\\sklearn\\neural_network\\_multilayer_perceptron.py:690: ConvergenceWarning: Stochastic Optimizer: Maximum iterations (1000) reached and the optimization hasn't converged yet.\n",
      "  warnings.warn(\n"
     ]
    },
    {
     "name": "stdout",
     "output_type": "stream",
     "text": [
      "[CV] END activation=logistic, hidden_layer_sizes=(10,), max_iter=1000, random_state=0, solver=adam; total time=   0.3s\n"
     ]
    },
    {
     "name": "stderr",
     "output_type": "stream",
     "text": [
      "F:\\Anaconda\\Lib\\site-packages\\sklearn\\neural_network\\_multilayer_perceptron.py:690: ConvergenceWarning: Stochastic Optimizer: Maximum iterations (1000) reached and the optimization hasn't converged yet.\n",
      "  warnings.warn(\n"
     ]
    },
    {
     "name": "stdout",
     "output_type": "stream",
     "text": [
      "[CV] END activation=logistic, hidden_layer_sizes=(10,), max_iter=1000, random_state=0, solver=adam; total time=   0.3s\n"
     ]
    },
    {
     "name": "stderr",
     "output_type": "stream",
     "text": [
      "F:\\Anaconda\\Lib\\site-packages\\sklearn\\neural_network\\_multilayer_perceptron.py:690: ConvergenceWarning: Stochastic Optimizer: Maximum iterations (1000) reached and the optimization hasn't converged yet.\n",
      "  warnings.warn(\n"
     ]
    },
    {
     "name": "stdout",
     "output_type": "stream",
     "text": [
      "[CV] END activation=logistic, hidden_layer_sizes=(10,), max_iter=1000, random_state=0, solver=adam; total time=   0.3s\n"
     ]
    },
    {
     "name": "stderr",
     "output_type": "stream",
     "text": [
      "F:\\Anaconda\\Lib\\site-packages\\sklearn\\neural_network\\_multilayer_perceptron.py:690: ConvergenceWarning: Stochastic Optimizer: Maximum iterations (1000) reached and the optimization hasn't converged yet.\n",
      "  warnings.warn(\n"
     ]
    },
    {
     "name": "stdout",
     "output_type": "stream",
     "text": [
      "[CV] END activation=logistic, hidden_layer_sizes=(10,), max_iter=1000, random_state=0, solver=adam; total time=   0.3s\n",
      "[CV] END activation=logistic, hidden_layer_sizes=(10,), max_iter=1000, random_state=21, solver=lbfgs; total time=   0.0s\n",
      "[CV] END activation=logistic, hidden_layer_sizes=(10,), max_iter=1000, random_state=21, solver=lbfgs; total time=   0.0s\n",
      "[CV] END activation=logistic, hidden_layer_sizes=(10,), max_iter=1000, random_state=21, solver=lbfgs; total time=   0.0s\n",
      "[CV] END activation=logistic, hidden_layer_sizes=(10,), max_iter=1000, random_state=21, solver=lbfgs; total time=   0.0s\n"
     ]
    },
    {
     "name": "stderr",
     "output_type": "stream",
     "text": [
      "F:\\Anaconda\\Lib\\site-packages\\sklearn\\neural_network\\_multilayer_perceptron.py:690: ConvergenceWarning: Stochastic Optimizer: Maximum iterations (1000) reached and the optimization hasn't converged yet.\n",
      "  warnings.warn(\n"
     ]
    },
    {
     "name": "stdout",
     "output_type": "stream",
     "text": [
      "[CV] END activation=logistic, hidden_layer_sizes=(10,), max_iter=1000, random_state=21, solver=adam; total time=   0.3s\n"
     ]
    },
    {
     "name": "stderr",
     "output_type": "stream",
     "text": [
      "F:\\Anaconda\\Lib\\site-packages\\sklearn\\neural_network\\_multilayer_perceptron.py:690: ConvergenceWarning: Stochastic Optimizer: Maximum iterations (1000) reached and the optimization hasn't converged yet.\n",
      "  warnings.warn(\n"
     ]
    },
    {
     "name": "stdout",
     "output_type": "stream",
     "text": [
      "[CV] END activation=logistic, hidden_layer_sizes=(10,), max_iter=1000, random_state=21, solver=adam; total time=   0.3s\n"
     ]
    },
    {
     "name": "stderr",
     "output_type": "stream",
     "text": [
      "F:\\Anaconda\\Lib\\site-packages\\sklearn\\neural_network\\_multilayer_perceptron.py:690: ConvergenceWarning: Stochastic Optimizer: Maximum iterations (1000) reached and the optimization hasn't converged yet.\n",
      "  warnings.warn(\n"
     ]
    },
    {
     "name": "stdout",
     "output_type": "stream",
     "text": [
      "[CV] END activation=logistic, hidden_layer_sizes=(10,), max_iter=1000, random_state=21, solver=adam; total time=   0.3s\n"
     ]
    },
    {
     "name": "stderr",
     "output_type": "stream",
     "text": [
      "F:\\Anaconda\\Lib\\site-packages\\sklearn\\neural_network\\_multilayer_perceptron.py:690: ConvergenceWarning: Stochastic Optimizer: Maximum iterations (1000) reached and the optimization hasn't converged yet.\n",
      "  warnings.warn(\n"
     ]
    },
    {
     "name": "stdout",
     "output_type": "stream",
     "text": [
      "[CV] END activation=logistic, hidden_layer_sizes=(10,), max_iter=1000, random_state=21, solver=adam; total time=   0.3s\n",
      "[CV] END activation=logistic, hidden_layer_sizes=(10,), max_iter=1000, random_state=42, solver=lbfgs; total time=   0.0s\n",
      "[CV] END activation=logistic, hidden_layer_sizes=(10,), max_iter=1000, random_state=42, solver=lbfgs; total time=   0.0s\n",
      "[CV] END activation=logistic, hidden_layer_sizes=(10,), max_iter=1000, random_state=42, solver=lbfgs; total time=   0.0s\n",
      "[CV] END activation=logistic, hidden_layer_sizes=(10,), max_iter=1000, random_state=42, solver=lbfgs; total time=   0.0s\n"
     ]
    },
    {
     "name": "stderr",
     "output_type": "stream",
     "text": [
      "F:\\Anaconda\\Lib\\site-packages\\sklearn\\neural_network\\_multilayer_perceptron.py:690: ConvergenceWarning: Stochastic Optimizer: Maximum iterations (1000) reached and the optimization hasn't converged yet.\n",
      "  warnings.warn(\n"
     ]
    },
    {
     "name": "stdout",
     "output_type": "stream",
     "text": [
      "[CV] END activation=logistic, hidden_layer_sizes=(10,), max_iter=1000, random_state=42, solver=adam; total time=   0.3s\n"
     ]
    },
    {
     "name": "stderr",
     "output_type": "stream",
     "text": [
      "F:\\Anaconda\\Lib\\site-packages\\sklearn\\neural_network\\_multilayer_perceptron.py:690: ConvergenceWarning: Stochastic Optimizer: Maximum iterations (1000) reached and the optimization hasn't converged yet.\n",
      "  warnings.warn(\n"
     ]
    },
    {
     "name": "stdout",
     "output_type": "stream",
     "text": [
      "[CV] END activation=logistic, hidden_layer_sizes=(10,), max_iter=1000, random_state=42, solver=adam; total time=   0.3s\n"
     ]
    },
    {
     "name": "stderr",
     "output_type": "stream",
     "text": [
      "F:\\Anaconda\\Lib\\site-packages\\sklearn\\neural_network\\_multilayer_perceptron.py:690: ConvergenceWarning: Stochastic Optimizer: Maximum iterations (1000) reached and the optimization hasn't converged yet.\n",
      "  warnings.warn(\n"
     ]
    },
    {
     "name": "stdout",
     "output_type": "stream",
     "text": [
      "[CV] END activation=logistic, hidden_layer_sizes=(10,), max_iter=1000, random_state=42, solver=adam; total time=   0.4s\n"
     ]
    },
    {
     "name": "stderr",
     "output_type": "stream",
     "text": [
      "F:\\Anaconda\\Lib\\site-packages\\sklearn\\neural_network\\_multilayer_perceptron.py:690: ConvergenceWarning: Stochastic Optimizer: Maximum iterations (1000) reached and the optimization hasn't converged yet.\n",
      "  warnings.warn(\n"
     ]
    },
    {
     "name": "stdout",
     "output_type": "stream",
     "text": [
      "[CV] END activation=logistic, hidden_layer_sizes=(10,), max_iter=1000, random_state=42, solver=adam; total time=   0.2s\n",
      "[CV] END activation=logistic, hidden_layer_sizes=(10,), max_iter=1000, random_state=0, solver=lbfgs; total time=   0.0s\n",
      "[CV] END activation=logistic, hidden_layer_sizes=(10,), max_iter=1000, random_state=0, solver=lbfgs; total time=   0.0s\n",
      "[CV] END activation=logistic, hidden_layer_sizes=(10,), max_iter=1000, random_state=0, solver=lbfgs; total time=   0.0s\n",
      "[CV] END activation=logistic, hidden_layer_sizes=(10,), max_iter=1000, random_state=0, solver=lbfgs; total time=   0.0s\n"
     ]
    },
    {
     "name": "stderr",
     "output_type": "stream",
     "text": [
      "F:\\Anaconda\\Lib\\site-packages\\sklearn\\neural_network\\_multilayer_perceptron.py:690: ConvergenceWarning: Stochastic Optimizer: Maximum iterations (1000) reached and the optimization hasn't converged yet.\n",
      "  warnings.warn(\n"
     ]
    },
    {
     "name": "stdout",
     "output_type": "stream",
     "text": [
      "[CV] END activation=logistic, hidden_layer_sizes=(10,), max_iter=1000, random_state=0, solver=adam; total time=   0.2s\n"
     ]
    },
    {
     "name": "stderr",
     "output_type": "stream",
     "text": [
      "F:\\Anaconda\\Lib\\site-packages\\sklearn\\neural_network\\_multilayer_perceptron.py:690: ConvergenceWarning: Stochastic Optimizer: Maximum iterations (1000) reached and the optimization hasn't converged yet.\n",
      "  warnings.warn(\n"
     ]
    },
    {
     "name": "stdout",
     "output_type": "stream",
     "text": [
      "[CV] END activation=logistic, hidden_layer_sizes=(10,), max_iter=1000, random_state=0, solver=adam; total time=   0.2s\n"
     ]
    },
    {
     "name": "stderr",
     "output_type": "stream",
     "text": [
      "F:\\Anaconda\\Lib\\site-packages\\sklearn\\neural_network\\_multilayer_perceptron.py:690: ConvergenceWarning: Stochastic Optimizer: Maximum iterations (1000) reached and the optimization hasn't converged yet.\n",
      "  warnings.warn(\n"
     ]
    },
    {
     "name": "stdout",
     "output_type": "stream",
     "text": [
      "[CV] END activation=logistic, hidden_layer_sizes=(10,), max_iter=1000, random_state=0, solver=adam; total time=   0.2s\n"
     ]
    },
    {
     "name": "stderr",
     "output_type": "stream",
     "text": [
      "F:\\Anaconda\\Lib\\site-packages\\sklearn\\neural_network\\_multilayer_perceptron.py:690: ConvergenceWarning: Stochastic Optimizer: Maximum iterations (1000) reached and the optimization hasn't converged yet.\n",
      "  warnings.warn(\n"
     ]
    },
    {
     "name": "stdout",
     "output_type": "stream",
     "text": [
      "[CV] END activation=logistic, hidden_layer_sizes=(10,), max_iter=1000, random_state=0, solver=adam; total time=   0.3s\n",
      "[CV] END activation=logistic, hidden_layer_sizes=(10,), max_iter=1000, random_state=21, solver=lbfgs; total time=   0.0s\n",
      "[CV] END activation=logistic, hidden_layer_sizes=(10,), max_iter=1000, random_state=21, solver=lbfgs; total time=   0.0s\n",
      "[CV] END activation=logistic, hidden_layer_sizes=(10,), max_iter=1000, random_state=21, solver=lbfgs; total time=   0.0s\n",
      "[CV] END activation=logistic, hidden_layer_sizes=(10,), max_iter=1000, random_state=21, solver=lbfgs; total time=   0.0s\n"
     ]
    },
    {
     "name": "stderr",
     "output_type": "stream",
     "text": [
      "F:\\Anaconda\\Lib\\site-packages\\sklearn\\neural_network\\_multilayer_perceptron.py:690: ConvergenceWarning: Stochastic Optimizer: Maximum iterations (1000) reached and the optimization hasn't converged yet.\n",
      "  warnings.warn(\n"
     ]
    },
    {
     "name": "stdout",
     "output_type": "stream",
     "text": [
      "[CV] END activation=logistic, hidden_layer_sizes=(10,), max_iter=1000, random_state=21, solver=adam; total time=   0.2s\n"
     ]
    },
    {
     "name": "stderr",
     "output_type": "stream",
     "text": [
      "F:\\Anaconda\\Lib\\site-packages\\sklearn\\neural_network\\_multilayer_perceptron.py:690: ConvergenceWarning: Stochastic Optimizer: Maximum iterations (1000) reached and the optimization hasn't converged yet.\n",
      "  warnings.warn(\n"
     ]
    },
    {
     "name": "stdout",
     "output_type": "stream",
     "text": [
      "[CV] END activation=logistic, hidden_layer_sizes=(10,), max_iter=1000, random_state=21, solver=adam; total time=   0.2s\n"
     ]
    },
    {
     "name": "stderr",
     "output_type": "stream",
     "text": [
      "F:\\Anaconda\\Lib\\site-packages\\sklearn\\neural_network\\_multilayer_perceptron.py:690: ConvergenceWarning: Stochastic Optimizer: Maximum iterations (1000) reached and the optimization hasn't converged yet.\n",
      "  warnings.warn(\n"
     ]
    },
    {
     "name": "stdout",
     "output_type": "stream",
     "text": [
      "[CV] END activation=logistic, hidden_layer_sizes=(10,), max_iter=1000, random_state=21, solver=adam; total time=   0.3s\n"
     ]
    },
    {
     "name": "stderr",
     "output_type": "stream",
     "text": [
      "F:\\Anaconda\\Lib\\site-packages\\sklearn\\neural_network\\_multilayer_perceptron.py:690: ConvergenceWarning: Stochastic Optimizer: Maximum iterations (1000) reached and the optimization hasn't converged yet.\n",
      "  warnings.warn(\n"
     ]
    },
    {
     "name": "stdout",
     "output_type": "stream",
     "text": [
      "[CV] END activation=logistic, hidden_layer_sizes=(10,), max_iter=1000, random_state=21, solver=adam; total time=   0.2s\n",
      "[CV] END activation=logistic, hidden_layer_sizes=(10,), max_iter=1000, random_state=42, solver=lbfgs; total time=   0.0s\n",
      "[CV] END activation=logistic, hidden_layer_sizes=(10,), max_iter=1000, random_state=42, solver=lbfgs; total time=   0.0s\n",
      "[CV] END activation=logistic, hidden_layer_sizes=(10,), max_iter=1000, random_state=42, solver=lbfgs; total time=   0.0s\n",
      "[CV] END activation=logistic, hidden_layer_sizes=(10,), max_iter=1000, random_state=42, solver=lbfgs; total time=   0.0s\n"
     ]
    },
    {
     "name": "stderr",
     "output_type": "stream",
     "text": [
      "F:\\Anaconda\\Lib\\site-packages\\sklearn\\neural_network\\_multilayer_perceptron.py:690: ConvergenceWarning: Stochastic Optimizer: Maximum iterations (1000) reached and the optimization hasn't converged yet.\n",
      "  warnings.warn(\n"
     ]
    },
    {
     "name": "stdout",
     "output_type": "stream",
     "text": [
      "[CV] END activation=logistic, hidden_layer_sizes=(10,), max_iter=1000, random_state=42, solver=adam; total time=   0.2s\n"
     ]
    },
    {
     "name": "stderr",
     "output_type": "stream",
     "text": [
      "F:\\Anaconda\\Lib\\site-packages\\sklearn\\neural_network\\_multilayer_perceptron.py:690: ConvergenceWarning: Stochastic Optimizer: Maximum iterations (1000) reached and the optimization hasn't converged yet.\n",
      "  warnings.warn(\n"
     ]
    },
    {
     "name": "stdout",
     "output_type": "stream",
     "text": [
      "[CV] END activation=logistic, hidden_layer_sizes=(10,), max_iter=1000, random_state=42, solver=adam; total time=   0.2s\n"
     ]
    },
    {
     "name": "stderr",
     "output_type": "stream",
     "text": [
      "F:\\Anaconda\\Lib\\site-packages\\sklearn\\neural_network\\_multilayer_perceptron.py:690: ConvergenceWarning: Stochastic Optimizer: Maximum iterations (1000) reached and the optimization hasn't converged yet.\n",
      "  warnings.warn(\n"
     ]
    },
    {
     "name": "stdout",
     "output_type": "stream",
     "text": [
      "[CV] END activation=logistic, hidden_layer_sizes=(10,), max_iter=1000, random_state=42, solver=adam; total time=   0.3s\n"
     ]
    },
    {
     "name": "stderr",
     "output_type": "stream",
     "text": [
      "F:\\Anaconda\\Lib\\site-packages\\sklearn\\neural_network\\_multilayer_perceptron.py:690: ConvergenceWarning: Stochastic Optimizer: Maximum iterations (1000) reached and the optimization hasn't converged yet.\n",
      "  warnings.warn(\n"
     ]
    },
    {
     "name": "stdout",
     "output_type": "stream",
     "text": [
      "[CV] END activation=logistic, hidden_layer_sizes=(10,), max_iter=1000, random_state=42, solver=adam; total time=   0.3s\n",
      "[CV] END activation=logistic, hidden_layer_sizes=(15,), max_iter=500, random_state=0, solver=lbfgs; total time=   0.0s\n",
      "[CV] END activation=logistic, hidden_layer_sizes=(15,), max_iter=500, random_state=0, solver=lbfgs; total time=   0.0s\n",
      "[CV] END activation=logistic, hidden_layer_sizes=(15,), max_iter=500, random_state=0, solver=lbfgs; total time=   0.0s\n",
      "[CV] END activation=logistic, hidden_layer_sizes=(15,), max_iter=500, random_state=0, solver=lbfgs; total time=   0.0s\n"
     ]
    },
    {
     "name": "stderr",
     "output_type": "stream",
     "text": [
      "F:\\Anaconda\\Lib\\site-packages\\sklearn\\neural_network\\_multilayer_perceptron.py:690: ConvergenceWarning: Stochastic Optimizer: Maximum iterations (500) reached and the optimization hasn't converged yet.\n",
      "  warnings.warn(\n",
      "F:\\Anaconda\\Lib\\site-packages\\sklearn\\neural_network\\_multilayer_perceptron.py:690: ConvergenceWarning: Stochastic Optimizer: Maximum iterations (500) reached and the optimization hasn't converged yet.\n",
      "  warnings.warn(\n"
     ]
    },
    {
     "name": "stdout",
     "output_type": "stream",
     "text": [
      "[CV] END activation=logistic, hidden_layer_sizes=(15,), max_iter=500, random_state=0, solver=adam; total time=   0.1s\n",
      "[CV] END activation=logistic, hidden_layer_sizes=(15,), max_iter=500, random_state=0, solver=adam; total time=   0.1s\n"
     ]
    },
    {
     "name": "stderr",
     "output_type": "stream",
     "text": [
      "F:\\Anaconda\\Lib\\site-packages\\sklearn\\neural_network\\_multilayer_perceptron.py:690: ConvergenceWarning: Stochastic Optimizer: Maximum iterations (500) reached and the optimization hasn't converged yet.\n",
      "  warnings.warn(\n",
      "F:\\Anaconda\\Lib\\site-packages\\sklearn\\neural_network\\_multilayer_perceptron.py:690: ConvergenceWarning: Stochastic Optimizer: Maximum iterations (500) reached and the optimization hasn't converged yet.\n",
      "  warnings.warn(\n"
     ]
    },
    {
     "name": "stdout",
     "output_type": "stream",
     "text": [
      "[CV] END activation=logistic, hidden_layer_sizes=(15,), max_iter=500, random_state=0, solver=adam; total time=   0.1s\n",
      "[CV] END activation=logistic, hidden_layer_sizes=(15,), max_iter=500, random_state=0, solver=adam; total time=   0.1s\n",
      "[CV] END activation=logistic, hidden_layer_sizes=(15,), max_iter=500, random_state=21, solver=lbfgs; total time=   0.0s\n",
      "[CV] END activation=logistic, hidden_layer_sizes=(15,), max_iter=500, random_state=21, solver=lbfgs; total time=   0.0s\n",
      "[CV] END activation=logistic, hidden_layer_sizes=(15,), max_iter=500, random_state=21, solver=lbfgs; total time=   0.0s\n",
      "[CV] END activation=logistic, hidden_layer_sizes=(15,), max_iter=500, random_state=21, solver=lbfgs; total time=   0.0s\n"
     ]
    },
    {
     "name": "stderr",
     "output_type": "stream",
     "text": [
      "F:\\Anaconda\\Lib\\site-packages\\sklearn\\neural_network\\_multilayer_perceptron.py:690: ConvergenceWarning: Stochastic Optimizer: Maximum iterations (500) reached and the optimization hasn't converged yet.\n",
      "  warnings.warn(\n",
      "F:\\Anaconda\\Lib\\site-packages\\sklearn\\neural_network\\_multilayer_perceptron.py:690: ConvergenceWarning: Stochastic Optimizer: Maximum iterations (500) reached and the optimization hasn't converged yet.\n",
      "  warnings.warn(\n"
     ]
    },
    {
     "name": "stdout",
     "output_type": "stream",
     "text": [
      "[CV] END activation=logistic, hidden_layer_sizes=(15,), max_iter=500, random_state=21, solver=adam; total time=   0.1s\n",
      "[CV] END activation=logistic, hidden_layer_sizes=(15,), max_iter=500, random_state=21, solver=adam; total time=   0.1s\n"
     ]
    },
    {
     "name": "stderr",
     "output_type": "stream",
     "text": [
      "F:\\Anaconda\\Lib\\site-packages\\sklearn\\neural_network\\_multilayer_perceptron.py:690: ConvergenceWarning: Stochastic Optimizer: Maximum iterations (500) reached and the optimization hasn't converged yet.\n",
      "  warnings.warn(\n",
      "F:\\Anaconda\\Lib\\site-packages\\sklearn\\neural_network\\_multilayer_perceptron.py:690: ConvergenceWarning: Stochastic Optimizer: Maximum iterations (500) reached and the optimization hasn't converged yet.\n",
      "  warnings.warn(\n"
     ]
    },
    {
     "name": "stdout",
     "output_type": "stream",
     "text": [
      "[CV] END activation=logistic, hidden_layer_sizes=(15,), max_iter=500, random_state=21, solver=adam; total time=   0.1s\n",
      "[CV] END activation=logistic, hidden_layer_sizes=(15,), max_iter=500, random_state=21, solver=adam; total time=   0.1s\n",
      "[CV] END activation=logistic, hidden_layer_sizes=(15,), max_iter=500, random_state=42, solver=lbfgs; total time=   0.0s\n",
      "[CV] END activation=logistic, hidden_layer_sizes=(15,), max_iter=500, random_state=42, solver=lbfgs; total time=   0.0s\n",
      "[CV] END activation=logistic, hidden_layer_sizes=(15,), max_iter=500, random_state=42, solver=lbfgs; total time=   0.0s\n",
      "[CV] END activation=logistic, hidden_layer_sizes=(15,), max_iter=500, random_state=42, solver=lbfgs; total time=   0.0s\n"
     ]
    },
    {
     "name": "stderr",
     "output_type": "stream",
     "text": [
      "F:\\Anaconda\\Lib\\site-packages\\sklearn\\neural_network\\_multilayer_perceptron.py:690: ConvergenceWarning: Stochastic Optimizer: Maximum iterations (500) reached and the optimization hasn't converged yet.\n",
      "  warnings.warn(\n",
      "F:\\Anaconda\\Lib\\site-packages\\sklearn\\neural_network\\_multilayer_perceptron.py:690: ConvergenceWarning: Stochastic Optimizer: Maximum iterations (500) reached and the optimization hasn't converged yet.\n",
      "  warnings.warn(\n"
     ]
    },
    {
     "name": "stdout",
     "output_type": "stream",
     "text": [
      "[CV] END activation=logistic, hidden_layer_sizes=(15,), max_iter=500, random_state=42, solver=adam; total time=   0.1s\n",
      "[CV] END activation=logistic, hidden_layer_sizes=(15,), max_iter=500, random_state=42, solver=adam; total time=   0.1s\n"
     ]
    },
    {
     "name": "stderr",
     "output_type": "stream",
     "text": [
      "F:\\Anaconda\\Lib\\site-packages\\sklearn\\neural_network\\_multilayer_perceptron.py:690: ConvergenceWarning: Stochastic Optimizer: Maximum iterations (500) reached and the optimization hasn't converged yet.\n",
      "  warnings.warn(\n",
      "F:\\Anaconda\\Lib\\site-packages\\sklearn\\neural_network\\_multilayer_perceptron.py:690: ConvergenceWarning: Stochastic Optimizer: Maximum iterations (500) reached and the optimization hasn't converged yet.\n",
      "  warnings.warn(\n"
     ]
    },
    {
     "name": "stdout",
     "output_type": "stream",
     "text": [
      "[CV] END activation=logistic, hidden_layer_sizes=(15,), max_iter=500, random_state=42, solver=adam; total time=   0.1s\n",
      "[CV] END activation=logistic, hidden_layer_sizes=(15,), max_iter=500, random_state=42, solver=adam; total time=   0.1s\n",
      "[CV] END activation=logistic, hidden_layer_sizes=(15,), max_iter=1000, random_state=0, solver=lbfgs; total time=   0.0s\n",
      "[CV] END activation=logistic, hidden_layer_sizes=(15,), max_iter=1000, random_state=0, solver=lbfgs; total time=   0.0s\n",
      "[CV] END activation=logistic, hidden_layer_sizes=(15,), max_iter=1000, random_state=0, solver=lbfgs; total time=   0.0s\n",
      "[CV] END activation=logistic, hidden_layer_sizes=(15,), max_iter=1000, random_state=0, solver=lbfgs; total time=   0.0s\n"
     ]
    },
    {
     "name": "stderr",
     "output_type": "stream",
     "text": [
      "F:\\Anaconda\\Lib\\site-packages\\sklearn\\neural_network\\_multilayer_perceptron.py:690: ConvergenceWarning: Stochastic Optimizer: Maximum iterations (1000) reached and the optimization hasn't converged yet.\n",
      "  warnings.warn(\n"
     ]
    },
    {
     "name": "stdout",
     "output_type": "stream",
     "text": [
      "[CV] END activation=logistic, hidden_layer_sizes=(15,), max_iter=1000, random_state=0, solver=adam; total time=   0.3s\n"
     ]
    },
    {
     "name": "stderr",
     "output_type": "stream",
     "text": [
      "F:\\Anaconda\\Lib\\site-packages\\sklearn\\neural_network\\_multilayer_perceptron.py:690: ConvergenceWarning: Stochastic Optimizer: Maximum iterations (1000) reached and the optimization hasn't converged yet.\n",
      "  warnings.warn(\n"
     ]
    },
    {
     "name": "stdout",
     "output_type": "stream",
     "text": [
      "[CV] END activation=logistic, hidden_layer_sizes=(15,), max_iter=1000, random_state=0, solver=adam; total time=   0.2s\n"
     ]
    },
    {
     "name": "stderr",
     "output_type": "stream",
     "text": [
      "F:\\Anaconda\\Lib\\site-packages\\sklearn\\neural_network\\_multilayer_perceptron.py:690: ConvergenceWarning: Stochastic Optimizer: Maximum iterations (1000) reached and the optimization hasn't converged yet.\n",
      "  warnings.warn(\n"
     ]
    },
    {
     "name": "stdout",
     "output_type": "stream",
     "text": [
      "[CV] END activation=logistic, hidden_layer_sizes=(15,), max_iter=1000, random_state=0, solver=adam; total time=   0.2s\n"
     ]
    },
    {
     "name": "stderr",
     "output_type": "stream",
     "text": [
      "F:\\Anaconda\\Lib\\site-packages\\sklearn\\neural_network\\_multilayer_perceptron.py:690: ConvergenceWarning: Stochastic Optimizer: Maximum iterations (1000) reached and the optimization hasn't converged yet.\n",
      "  warnings.warn(\n"
     ]
    },
    {
     "name": "stdout",
     "output_type": "stream",
     "text": [
      "[CV] END activation=logistic, hidden_layer_sizes=(15,), max_iter=1000, random_state=0, solver=adam; total time=   0.3s\n",
      "[CV] END activation=logistic, hidden_layer_sizes=(15,), max_iter=1000, random_state=21, solver=lbfgs; total time=   0.0s\n",
      "[CV] END activation=logistic, hidden_layer_sizes=(15,), max_iter=1000, random_state=21, solver=lbfgs; total time=   0.0s\n",
      "[CV] END activation=logistic, hidden_layer_sizes=(15,), max_iter=1000, random_state=21, solver=lbfgs; total time=   0.0s\n",
      "[CV] END activation=logistic, hidden_layer_sizes=(15,), max_iter=1000, random_state=21, solver=lbfgs; total time=   0.0s\n"
     ]
    },
    {
     "name": "stderr",
     "output_type": "stream",
     "text": [
      "F:\\Anaconda\\Lib\\site-packages\\sklearn\\neural_network\\_multilayer_perceptron.py:690: ConvergenceWarning: Stochastic Optimizer: Maximum iterations (1000) reached and the optimization hasn't converged yet.\n",
      "  warnings.warn(\n"
     ]
    },
    {
     "name": "stdout",
     "output_type": "stream",
     "text": [
      "[CV] END activation=logistic, hidden_layer_sizes=(15,), max_iter=1000, random_state=21, solver=adam; total time=   0.3s\n"
     ]
    },
    {
     "name": "stderr",
     "output_type": "stream",
     "text": [
      "F:\\Anaconda\\Lib\\site-packages\\sklearn\\neural_network\\_multilayer_perceptron.py:690: ConvergenceWarning: Stochastic Optimizer: Maximum iterations (1000) reached and the optimization hasn't converged yet.\n",
      "  warnings.warn(\n"
     ]
    },
    {
     "name": "stdout",
     "output_type": "stream",
     "text": [
      "[CV] END activation=logistic, hidden_layer_sizes=(15,), max_iter=1000, random_state=21, solver=adam; total time=   0.3s\n"
     ]
    },
    {
     "name": "stderr",
     "output_type": "stream",
     "text": [
      "F:\\Anaconda\\Lib\\site-packages\\sklearn\\neural_network\\_multilayer_perceptron.py:690: ConvergenceWarning: Stochastic Optimizer: Maximum iterations (1000) reached and the optimization hasn't converged yet.\n",
      "  warnings.warn(\n"
     ]
    },
    {
     "name": "stdout",
     "output_type": "stream",
     "text": [
      "[CV] END activation=logistic, hidden_layer_sizes=(15,), max_iter=1000, random_state=21, solver=adam; total time=   0.3s\n"
     ]
    },
    {
     "name": "stderr",
     "output_type": "stream",
     "text": [
      "F:\\Anaconda\\Lib\\site-packages\\sklearn\\neural_network\\_multilayer_perceptron.py:690: ConvergenceWarning: Stochastic Optimizer: Maximum iterations (1000) reached and the optimization hasn't converged yet.\n",
      "  warnings.warn(\n"
     ]
    },
    {
     "name": "stdout",
     "output_type": "stream",
     "text": [
      "[CV] END activation=logistic, hidden_layer_sizes=(15,), max_iter=1000, random_state=21, solver=adam; total time=   0.2s\n",
      "[CV] END activation=logistic, hidden_layer_sizes=(15,), max_iter=1000, random_state=42, solver=lbfgs; total time=   0.0s\n",
      "[CV] END activation=logistic, hidden_layer_sizes=(15,), max_iter=1000, random_state=42, solver=lbfgs; total time=   0.0s\n",
      "[CV] END activation=logistic, hidden_layer_sizes=(15,), max_iter=1000, random_state=42, solver=lbfgs; total time=   0.0s\n",
      "[CV] END activation=logistic, hidden_layer_sizes=(15,), max_iter=1000, random_state=42, solver=lbfgs; total time=   0.0s\n"
     ]
    },
    {
     "name": "stderr",
     "output_type": "stream",
     "text": [
      "F:\\Anaconda\\Lib\\site-packages\\sklearn\\neural_network\\_multilayer_perceptron.py:690: ConvergenceWarning: Stochastic Optimizer: Maximum iterations (1000) reached and the optimization hasn't converged yet.\n",
      "  warnings.warn(\n"
     ]
    },
    {
     "name": "stdout",
     "output_type": "stream",
     "text": [
      "[CV] END activation=logistic, hidden_layer_sizes=(15,), max_iter=1000, random_state=42, solver=adam; total time=   0.2s\n"
     ]
    },
    {
     "name": "stderr",
     "output_type": "stream",
     "text": [
      "F:\\Anaconda\\Lib\\site-packages\\sklearn\\neural_network\\_multilayer_perceptron.py:690: ConvergenceWarning: Stochastic Optimizer: Maximum iterations (1000) reached and the optimization hasn't converged yet.\n",
      "  warnings.warn(\n"
     ]
    },
    {
     "name": "stdout",
     "output_type": "stream",
     "text": [
      "[CV] END activation=logistic, hidden_layer_sizes=(15,), max_iter=1000, random_state=42, solver=adam; total time=   0.3s\n"
     ]
    },
    {
     "name": "stderr",
     "output_type": "stream",
     "text": [
      "F:\\Anaconda\\Lib\\site-packages\\sklearn\\neural_network\\_multilayer_perceptron.py:690: ConvergenceWarning: Stochastic Optimizer: Maximum iterations (1000) reached and the optimization hasn't converged yet.\n",
      "  warnings.warn(\n"
     ]
    },
    {
     "name": "stdout",
     "output_type": "stream",
     "text": [
      "[CV] END activation=logistic, hidden_layer_sizes=(15,), max_iter=1000, random_state=42, solver=adam; total time=   0.2s\n"
     ]
    },
    {
     "name": "stderr",
     "output_type": "stream",
     "text": [
      "F:\\Anaconda\\Lib\\site-packages\\sklearn\\neural_network\\_multilayer_perceptron.py:690: ConvergenceWarning: Stochastic Optimizer: Maximum iterations (1000) reached and the optimization hasn't converged yet.\n",
      "  warnings.warn(\n"
     ]
    },
    {
     "name": "stdout",
     "output_type": "stream",
     "text": [
      "[CV] END activation=logistic, hidden_layer_sizes=(15,), max_iter=1000, random_state=42, solver=adam; total time=   0.3s\n",
      "[CV] END activation=logistic, hidden_layer_sizes=(15,), max_iter=1000, random_state=0, solver=lbfgs; total time=   0.0s\n",
      "[CV] END activation=logistic, hidden_layer_sizes=(15,), max_iter=1000, random_state=0, solver=lbfgs; total time=   0.0s\n",
      "[CV] END activation=logistic, hidden_layer_sizes=(15,), max_iter=1000, random_state=0, solver=lbfgs; total time=   0.0s\n",
      "[CV] END activation=logistic, hidden_layer_sizes=(15,), max_iter=1000, random_state=0, solver=lbfgs; total time=   0.0s\n"
     ]
    },
    {
     "name": "stderr",
     "output_type": "stream",
     "text": [
      "F:\\Anaconda\\Lib\\site-packages\\sklearn\\neural_network\\_multilayer_perceptron.py:690: ConvergenceWarning: Stochastic Optimizer: Maximum iterations (1000) reached and the optimization hasn't converged yet.\n",
      "  warnings.warn(\n"
     ]
    },
    {
     "name": "stdout",
     "output_type": "stream",
     "text": [
      "[CV] END activation=logistic, hidden_layer_sizes=(15,), max_iter=1000, random_state=0, solver=adam; total time=   0.2s\n"
     ]
    },
    {
     "name": "stderr",
     "output_type": "stream",
     "text": [
      "F:\\Anaconda\\Lib\\site-packages\\sklearn\\neural_network\\_multilayer_perceptron.py:690: ConvergenceWarning: Stochastic Optimizer: Maximum iterations (1000) reached and the optimization hasn't converged yet.\n",
      "  warnings.warn(\n"
     ]
    },
    {
     "name": "stdout",
     "output_type": "stream",
     "text": [
      "[CV] END activation=logistic, hidden_layer_sizes=(15,), max_iter=1000, random_state=0, solver=adam; total time=   0.2s\n"
     ]
    },
    {
     "name": "stderr",
     "output_type": "stream",
     "text": [
      "F:\\Anaconda\\Lib\\site-packages\\sklearn\\neural_network\\_multilayer_perceptron.py:690: ConvergenceWarning: Stochastic Optimizer: Maximum iterations (1000) reached and the optimization hasn't converged yet.\n",
      "  warnings.warn(\n"
     ]
    },
    {
     "name": "stdout",
     "output_type": "stream",
     "text": [
      "[CV] END activation=logistic, hidden_layer_sizes=(15,), max_iter=1000, random_state=0, solver=adam; total time=   0.2s\n"
     ]
    },
    {
     "name": "stderr",
     "output_type": "stream",
     "text": [
      "F:\\Anaconda\\Lib\\site-packages\\sklearn\\neural_network\\_multilayer_perceptron.py:690: ConvergenceWarning: Stochastic Optimizer: Maximum iterations (1000) reached and the optimization hasn't converged yet.\n",
      "  warnings.warn(\n"
     ]
    },
    {
     "name": "stdout",
     "output_type": "stream",
     "text": [
      "[CV] END activation=logistic, hidden_layer_sizes=(15,), max_iter=1000, random_state=0, solver=adam; total time=   0.2s\n",
      "[CV] END activation=logistic, hidden_layer_sizes=(15,), max_iter=1000, random_state=21, solver=lbfgs; total time=   0.0s\n",
      "[CV] END activation=logistic, hidden_layer_sizes=(15,), max_iter=1000, random_state=21, solver=lbfgs; total time=   0.0s\n",
      "[CV] END activation=logistic, hidden_layer_sizes=(15,), max_iter=1000, random_state=21, solver=lbfgs; total time=   0.0s\n",
      "[CV] END activation=logistic, hidden_layer_sizes=(15,), max_iter=1000, random_state=21, solver=lbfgs; total time=   0.0s\n"
     ]
    },
    {
     "name": "stderr",
     "output_type": "stream",
     "text": [
      "F:\\Anaconda\\Lib\\site-packages\\sklearn\\neural_network\\_multilayer_perceptron.py:690: ConvergenceWarning: Stochastic Optimizer: Maximum iterations (1000) reached and the optimization hasn't converged yet.\n",
      "  warnings.warn(\n"
     ]
    },
    {
     "name": "stdout",
     "output_type": "stream",
     "text": [
      "[CV] END activation=logistic, hidden_layer_sizes=(15,), max_iter=1000, random_state=21, solver=adam; total time=   0.2s\n"
     ]
    },
    {
     "name": "stderr",
     "output_type": "stream",
     "text": [
      "F:\\Anaconda\\Lib\\site-packages\\sklearn\\neural_network\\_multilayer_perceptron.py:690: ConvergenceWarning: Stochastic Optimizer: Maximum iterations (1000) reached and the optimization hasn't converged yet.\n",
      "  warnings.warn(\n"
     ]
    },
    {
     "name": "stdout",
     "output_type": "stream",
     "text": [
      "[CV] END activation=logistic, hidden_layer_sizes=(15,), max_iter=1000, random_state=21, solver=adam; total time=   0.3s\n"
     ]
    },
    {
     "name": "stderr",
     "output_type": "stream",
     "text": [
      "F:\\Anaconda\\Lib\\site-packages\\sklearn\\neural_network\\_multilayer_perceptron.py:690: ConvergenceWarning: Stochastic Optimizer: Maximum iterations (1000) reached and the optimization hasn't converged yet.\n",
      "  warnings.warn(\n"
     ]
    },
    {
     "name": "stdout",
     "output_type": "stream",
     "text": [
      "[CV] END activation=logistic, hidden_layer_sizes=(15,), max_iter=1000, random_state=21, solver=adam; total time=   0.3s\n"
     ]
    },
    {
     "name": "stderr",
     "output_type": "stream",
     "text": [
      "F:\\Anaconda\\Lib\\site-packages\\sklearn\\neural_network\\_multilayer_perceptron.py:690: ConvergenceWarning: Stochastic Optimizer: Maximum iterations (1000) reached and the optimization hasn't converged yet.\n",
      "  warnings.warn(\n"
     ]
    },
    {
     "name": "stdout",
     "output_type": "stream",
     "text": [
      "[CV] END activation=logistic, hidden_layer_sizes=(15,), max_iter=1000, random_state=21, solver=adam; total time=   0.3s\n",
      "[CV] END activation=logistic, hidden_layer_sizes=(15,), max_iter=1000, random_state=42, solver=lbfgs; total time=   0.0s\n",
      "[CV] END activation=logistic, hidden_layer_sizes=(15,), max_iter=1000, random_state=42, solver=lbfgs; total time=   0.0s\n",
      "[CV] END activation=logistic, hidden_layer_sizes=(15,), max_iter=1000, random_state=42, solver=lbfgs; total time=   0.0s\n",
      "[CV] END activation=logistic, hidden_layer_sizes=(15,), max_iter=1000, random_state=42, solver=lbfgs; total time=   0.0s\n"
     ]
    },
    {
     "name": "stderr",
     "output_type": "stream",
     "text": [
      "F:\\Anaconda\\Lib\\site-packages\\sklearn\\neural_network\\_multilayer_perceptron.py:690: ConvergenceWarning: Stochastic Optimizer: Maximum iterations (1000) reached and the optimization hasn't converged yet.\n",
      "  warnings.warn(\n"
     ]
    },
    {
     "name": "stdout",
     "output_type": "stream",
     "text": [
      "[CV] END activation=logistic, hidden_layer_sizes=(15,), max_iter=1000, random_state=42, solver=adam; total time=   0.2s\n"
     ]
    },
    {
     "name": "stderr",
     "output_type": "stream",
     "text": [
      "F:\\Anaconda\\Lib\\site-packages\\sklearn\\neural_network\\_multilayer_perceptron.py:690: ConvergenceWarning: Stochastic Optimizer: Maximum iterations (1000) reached and the optimization hasn't converged yet.\n",
      "  warnings.warn(\n"
     ]
    },
    {
     "name": "stdout",
     "output_type": "stream",
     "text": [
      "[CV] END activation=logistic, hidden_layer_sizes=(15,), max_iter=1000, random_state=42, solver=adam; total time=   0.3s\n"
     ]
    },
    {
     "name": "stderr",
     "output_type": "stream",
     "text": [
      "F:\\Anaconda\\Lib\\site-packages\\sklearn\\neural_network\\_multilayer_perceptron.py:690: ConvergenceWarning: Stochastic Optimizer: Maximum iterations (1000) reached and the optimization hasn't converged yet.\n",
      "  warnings.warn(\n"
     ]
    },
    {
     "name": "stdout",
     "output_type": "stream",
     "text": [
      "[CV] END activation=logistic, hidden_layer_sizes=(15,), max_iter=1000, random_state=42, solver=adam; total time=   0.3s\n"
     ]
    },
    {
     "name": "stderr",
     "output_type": "stream",
     "text": [
      "F:\\Anaconda\\Lib\\site-packages\\sklearn\\neural_network\\_multilayer_perceptron.py:690: ConvergenceWarning: Stochastic Optimizer: Maximum iterations (1000) reached and the optimization hasn't converged yet.\n",
      "  warnings.warn(\n"
     ]
    },
    {
     "name": "stdout",
     "output_type": "stream",
     "text": [
      "[CV] END activation=logistic, hidden_layer_sizes=(15,), max_iter=1000, random_state=42, solver=adam; total time=   0.3s\n",
      "[CV] END activation=logistic, hidden_layer_sizes=(20,), max_iter=500, random_state=0, solver=lbfgs; total time=   0.0s\n",
      "[CV] END activation=logistic, hidden_layer_sizes=(20,), max_iter=500, random_state=0, solver=lbfgs; total time=   0.0s\n",
      "[CV] END activation=logistic, hidden_layer_sizes=(20,), max_iter=500, random_state=0, solver=lbfgs; total time=   0.0s\n",
      "[CV] END activation=logistic, hidden_layer_sizes=(20,), max_iter=500, random_state=0, solver=lbfgs; total time=   0.0s\n"
     ]
    },
    {
     "name": "stderr",
     "output_type": "stream",
     "text": [
      "F:\\Anaconda\\Lib\\site-packages\\sklearn\\neural_network\\_multilayer_perceptron.py:690: ConvergenceWarning: Stochastic Optimizer: Maximum iterations (500) reached and the optimization hasn't converged yet.\n",
      "  warnings.warn(\n",
      "F:\\Anaconda\\Lib\\site-packages\\sklearn\\neural_network\\_multilayer_perceptron.py:690: ConvergenceWarning: Stochastic Optimizer: Maximum iterations (500) reached and the optimization hasn't converged yet.\n",
      "  warnings.warn(\n"
     ]
    },
    {
     "name": "stdout",
     "output_type": "stream",
     "text": [
      "[CV] END activation=logistic, hidden_layer_sizes=(20,), max_iter=500, random_state=0, solver=adam; total time=   0.1s\n",
      "[CV] END activation=logistic, hidden_layer_sizes=(20,), max_iter=500, random_state=0, solver=adam; total time=   0.1s\n"
     ]
    },
    {
     "name": "stderr",
     "output_type": "stream",
     "text": [
      "F:\\Anaconda\\Lib\\site-packages\\sklearn\\neural_network\\_multilayer_perceptron.py:690: ConvergenceWarning: Stochastic Optimizer: Maximum iterations (500) reached and the optimization hasn't converged yet.\n",
      "  warnings.warn(\n",
      "F:\\Anaconda\\Lib\\site-packages\\sklearn\\neural_network\\_multilayer_perceptron.py:690: ConvergenceWarning: Stochastic Optimizer: Maximum iterations (500) reached and the optimization hasn't converged yet.\n",
      "  warnings.warn(\n"
     ]
    },
    {
     "name": "stdout",
     "output_type": "stream",
     "text": [
      "[CV] END activation=logistic, hidden_layer_sizes=(20,), max_iter=500, random_state=0, solver=adam; total time=   0.1s\n",
      "[CV] END activation=logistic, hidden_layer_sizes=(20,), max_iter=500, random_state=0, solver=adam; total time=   0.1s\n",
      "[CV] END activation=logistic, hidden_layer_sizes=(20,), max_iter=500, random_state=21, solver=lbfgs; total time=   0.0s\n",
      "[CV] END activation=logistic, hidden_layer_sizes=(20,), max_iter=500, random_state=21, solver=lbfgs; total time=   0.0s\n",
      "[CV] END activation=logistic, hidden_layer_sizes=(20,), max_iter=500, random_state=21, solver=lbfgs; total time=   0.0s\n",
      "[CV] END activation=logistic, hidden_layer_sizes=(20,), max_iter=500, random_state=21, solver=lbfgs; total time=   0.0s\n"
     ]
    },
    {
     "name": "stderr",
     "output_type": "stream",
     "text": [
      "F:\\Anaconda\\Lib\\site-packages\\sklearn\\neural_network\\_multilayer_perceptron.py:690: ConvergenceWarning: Stochastic Optimizer: Maximum iterations (500) reached and the optimization hasn't converged yet.\n",
      "  warnings.warn(\n",
      "F:\\Anaconda\\Lib\\site-packages\\sklearn\\neural_network\\_multilayer_perceptron.py:690: ConvergenceWarning: Stochastic Optimizer: Maximum iterations (500) reached and the optimization hasn't converged yet.\n",
      "  warnings.warn(\n"
     ]
    },
    {
     "name": "stdout",
     "output_type": "stream",
     "text": [
      "[CV] END activation=logistic, hidden_layer_sizes=(20,), max_iter=500, random_state=21, solver=adam; total time=   0.1s\n",
      "[CV] END activation=logistic, hidden_layer_sizes=(20,), max_iter=500, random_state=21, solver=adam; total time=   0.1s\n"
     ]
    },
    {
     "name": "stderr",
     "output_type": "stream",
     "text": [
      "F:\\Anaconda\\Lib\\site-packages\\sklearn\\neural_network\\_multilayer_perceptron.py:690: ConvergenceWarning: Stochastic Optimizer: Maximum iterations (500) reached and the optimization hasn't converged yet.\n",
      "  warnings.warn(\n",
      "F:\\Anaconda\\Lib\\site-packages\\sklearn\\neural_network\\_multilayer_perceptron.py:690: ConvergenceWarning: Stochastic Optimizer: Maximum iterations (500) reached and the optimization hasn't converged yet.\n",
      "  warnings.warn(\n"
     ]
    },
    {
     "name": "stdout",
     "output_type": "stream",
     "text": [
      "[CV] END activation=logistic, hidden_layer_sizes=(20,), max_iter=500, random_state=21, solver=adam; total time=   0.1s\n",
      "[CV] END activation=logistic, hidden_layer_sizes=(20,), max_iter=500, random_state=21, solver=adam; total time=   0.1s\n",
      "[CV] END activation=logistic, hidden_layer_sizes=(20,), max_iter=500, random_state=42, solver=lbfgs; total time=   0.0s\n",
      "[CV] END activation=logistic, hidden_layer_sizes=(20,), max_iter=500, random_state=42, solver=lbfgs; total time=   0.0s\n",
      "[CV] END activation=logistic, hidden_layer_sizes=(20,), max_iter=500, random_state=42, solver=lbfgs; total time=   0.0s\n",
      "[CV] END activation=logistic, hidden_layer_sizes=(20,), max_iter=500, random_state=42, solver=lbfgs; total time=   0.0s\n"
     ]
    },
    {
     "name": "stderr",
     "output_type": "stream",
     "text": [
      "F:\\Anaconda\\Lib\\site-packages\\sklearn\\neural_network\\_multilayer_perceptron.py:690: ConvergenceWarning: Stochastic Optimizer: Maximum iterations (500) reached and the optimization hasn't converged yet.\n",
      "  warnings.warn(\n",
      "F:\\Anaconda\\Lib\\site-packages\\sklearn\\neural_network\\_multilayer_perceptron.py:690: ConvergenceWarning: Stochastic Optimizer: Maximum iterations (500) reached and the optimization hasn't converged yet.\n",
      "  warnings.warn(\n"
     ]
    },
    {
     "name": "stdout",
     "output_type": "stream",
     "text": [
      "[CV] END activation=logistic, hidden_layer_sizes=(20,), max_iter=500, random_state=42, solver=adam; total time=   0.1s\n",
      "[CV] END activation=logistic, hidden_layer_sizes=(20,), max_iter=500, random_state=42, solver=adam; total time=   0.1s\n"
     ]
    },
    {
     "name": "stderr",
     "output_type": "stream",
     "text": [
      "F:\\Anaconda\\Lib\\site-packages\\sklearn\\neural_network\\_multilayer_perceptron.py:690: ConvergenceWarning: Stochastic Optimizer: Maximum iterations (500) reached and the optimization hasn't converged yet.\n",
      "  warnings.warn(\n",
      "F:\\Anaconda\\Lib\\site-packages\\sklearn\\neural_network\\_multilayer_perceptron.py:690: ConvergenceWarning: Stochastic Optimizer: Maximum iterations (500) reached and the optimization hasn't converged yet.\n",
      "  warnings.warn(\n"
     ]
    },
    {
     "name": "stdout",
     "output_type": "stream",
     "text": [
      "[CV] END activation=logistic, hidden_layer_sizes=(20,), max_iter=500, random_state=42, solver=adam; total time=   0.1s\n",
      "[CV] END activation=logistic, hidden_layer_sizes=(20,), max_iter=500, random_state=42, solver=adam; total time=   0.1s\n",
      "[CV] END activation=logistic, hidden_layer_sizes=(20,), max_iter=1000, random_state=0, solver=lbfgs; total time=   0.0s\n",
      "[CV] END activation=logistic, hidden_layer_sizes=(20,), max_iter=1000, random_state=0, solver=lbfgs; total time=   0.0s\n",
      "[CV] END activation=logistic, hidden_layer_sizes=(20,), max_iter=1000, random_state=0, solver=lbfgs; total time=   0.0s\n",
      "[CV] END activation=logistic, hidden_layer_sizes=(20,), max_iter=1000, random_state=0, solver=lbfgs; total time=   0.0s\n"
     ]
    },
    {
     "name": "stderr",
     "output_type": "stream",
     "text": [
      "F:\\Anaconda\\Lib\\site-packages\\sklearn\\neural_network\\_multilayer_perceptron.py:690: ConvergenceWarning: Stochastic Optimizer: Maximum iterations (1000) reached and the optimization hasn't converged yet.\n",
      "  warnings.warn(\n"
     ]
    },
    {
     "name": "stdout",
     "output_type": "stream",
     "text": [
      "[CV] END activation=logistic, hidden_layer_sizes=(20,), max_iter=1000, random_state=0, solver=adam; total time=   0.2s\n"
     ]
    },
    {
     "name": "stderr",
     "output_type": "stream",
     "text": [
      "F:\\Anaconda\\Lib\\site-packages\\sklearn\\neural_network\\_multilayer_perceptron.py:690: ConvergenceWarning: Stochastic Optimizer: Maximum iterations (1000) reached and the optimization hasn't converged yet.\n",
      "  warnings.warn(\n"
     ]
    },
    {
     "name": "stdout",
     "output_type": "stream",
     "text": [
      "[CV] END activation=logistic, hidden_layer_sizes=(20,), max_iter=1000, random_state=0, solver=adam; total time=   0.3s\n"
     ]
    },
    {
     "name": "stderr",
     "output_type": "stream",
     "text": [
      "F:\\Anaconda\\Lib\\site-packages\\sklearn\\neural_network\\_multilayer_perceptron.py:690: ConvergenceWarning: Stochastic Optimizer: Maximum iterations (1000) reached and the optimization hasn't converged yet.\n",
      "  warnings.warn(\n"
     ]
    },
    {
     "name": "stdout",
     "output_type": "stream",
     "text": [
      "[CV] END activation=logistic, hidden_layer_sizes=(20,), max_iter=1000, random_state=0, solver=adam; total time=   0.3s\n"
     ]
    },
    {
     "name": "stderr",
     "output_type": "stream",
     "text": [
      "F:\\Anaconda\\Lib\\site-packages\\sklearn\\neural_network\\_multilayer_perceptron.py:690: ConvergenceWarning: Stochastic Optimizer: Maximum iterations (1000) reached and the optimization hasn't converged yet.\n",
      "  warnings.warn(\n"
     ]
    },
    {
     "name": "stdout",
     "output_type": "stream",
     "text": [
      "[CV] END activation=logistic, hidden_layer_sizes=(20,), max_iter=1000, random_state=0, solver=adam; total time=   0.3s\n",
      "[CV] END activation=logistic, hidden_layer_sizes=(20,), max_iter=1000, random_state=21, solver=lbfgs; total time=   0.0s\n",
      "[CV] END activation=logistic, hidden_layer_sizes=(20,), max_iter=1000, random_state=21, solver=lbfgs; total time=   0.0s\n",
      "[CV] END activation=logistic, hidden_layer_sizes=(20,), max_iter=1000, random_state=21, solver=lbfgs; total time=   0.0s\n",
      "[CV] END activation=logistic, hidden_layer_sizes=(20,), max_iter=1000, random_state=21, solver=lbfgs; total time=   0.0s\n"
     ]
    },
    {
     "name": "stderr",
     "output_type": "stream",
     "text": [
      "F:\\Anaconda\\Lib\\site-packages\\sklearn\\neural_network\\_multilayer_perceptron.py:690: ConvergenceWarning: Stochastic Optimizer: Maximum iterations (1000) reached and the optimization hasn't converged yet.\n",
      "  warnings.warn(\n"
     ]
    },
    {
     "name": "stdout",
     "output_type": "stream",
     "text": [
      "[CV] END activation=logistic, hidden_layer_sizes=(20,), max_iter=1000, random_state=21, solver=adam; total time=   0.3s\n"
     ]
    },
    {
     "name": "stderr",
     "output_type": "stream",
     "text": [
      "F:\\Anaconda\\Lib\\site-packages\\sklearn\\neural_network\\_multilayer_perceptron.py:690: ConvergenceWarning: Stochastic Optimizer: Maximum iterations (1000) reached and the optimization hasn't converged yet.\n",
      "  warnings.warn(\n"
     ]
    },
    {
     "name": "stdout",
     "output_type": "stream",
     "text": [
      "[CV] END activation=logistic, hidden_layer_sizes=(20,), max_iter=1000, random_state=21, solver=adam; total time=   0.3s\n"
     ]
    },
    {
     "name": "stderr",
     "output_type": "stream",
     "text": [
      "F:\\Anaconda\\Lib\\site-packages\\sklearn\\neural_network\\_multilayer_perceptron.py:690: ConvergenceWarning: Stochastic Optimizer: Maximum iterations (1000) reached and the optimization hasn't converged yet.\n",
      "  warnings.warn(\n"
     ]
    },
    {
     "name": "stdout",
     "output_type": "stream",
     "text": [
      "[CV] END activation=logistic, hidden_layer_sizes=(20,), max_iter=1000, random_state=21, solver=adam; total time=   0.3s\n"
     ]
    },
    {
     "name": "stderr",
     "output_type": "stream",
     "text": [
      "F:\\Anaconda\\Lib\\site-packages\\sklearn\\neural_network\\_multilayer_perceptron.py:690: ConvergenceWarning: Stochastic Optimizer: Maximum iterations (1000) reached and the optimization hasn't converged yet.\n",
      "  warnings.warn(\n"
     ]
    },
    {
     "name": "stdout",
     "output_type": "stream",
     "text": [
      "[CV] END activation=logistic, hidden_layer_sizes=(20,), max_iter=1000, random_state=21, solver=adam; total time=   0.3s\n",
      "[CV] END activation=logistic, hidden_layer_sizes=(20,), max_iter=1000, random_state=42, solver=lbfgs; total time=   0.0s\n",
      "[CV] END activation=logistic, hidden_layer_sizes=(20,), max_iter=1000, random_state=42, solver=lbfgs; total time=   0.0s\n",
      "[CV] END activation=logistic, hidden_layer_sizes=(20,), max_iter=1000, random_state=42, solver=lbfgs; total time=   0.0s\n",
      "[CV] END activation=logistic, hidden_layer_sizes=(20,), max_iter=1000, random_state=42, solver=lbfgs; total time=   0.0s\n"
     ]
    },
    {
     "name": "stderr",
     "output_type": "stream",
     "text": [
      "F:\\Anaconda\\Lib\\site-packages\\sklearn\\neural_network\\_multilayer_perceptron.py:690: ConvergenceWarning: Stochastic Optimizer: Maximum iterations (1000) reached and the optimization hasn't converged yet.\n",
      "  warnings.warn(\n"
     ]
    },
    {
     "name": "stdout",
     "output_type": "stream",
     "text": [
      "[CV] END activation=logistic, hidden_layer_sizes=(20,), max_iter=1000, random_state=42, solver=adam; total time=   0.3s\n"
     ]
    },
    {
     "name": "stderr",
     "output_type": "stream",
     "text": [
      "F:\\Anaconda\\Lib\\site-packages\\sklearn\\neural_network\\_multilayer_perceptron.py:690: ConvergenceWarning: Stochastic Optimizer: Maximum iterations (1000) reached and the optimization hasn't converged yet.\n",
      "  warnings.warn(\n"
     ]
    },
    {
     "name": "stdout",
     "output_type": "stream",
     "text": [
      "[CV] END activation=logistic, hidden_layer_sizes=(20,), max_iter=1000, random_state=42, solver=adam; total time=   0.2s\n"
     ]
    },
    {
     "name": "stderr",
     "output_type": "stream",
     "text": [
      "F:\\Anaconda\\Lib\\site-packages\\sklearn\\neural_network\\_multilayer_perceptron.py:690: ConvergenceWarning: Stochastic Optimizer: Maximum iterations (1000) reached and the optimization hasn't converged yet.\n",
      "  warnings.warn(\n"
     ]
    },
    {
     "name": "stdout",
     "output_type": "stream",
     "text": [
      "[CV] END activation=logistic, hidden_layer_sizes=(20,), max_iter=1000, random_state=42, solver=adam; total time=   0.3s\n"
     ]
    },
    {
     "name": "stderr",
     "output_type": "stream",
     "text": [
      "F:\\Anaconda\\Lib\\site-packages\\sklearn\\neural_network\\_multilayer_perceptron.py:690: ConvergenceWarning: Stochastic Optimizer: Maximum iterations (1000) reached and the optimization hasn't converged yet.\n",
      "  warnings.warn(\n"
     ]
    },
    {
     "name": "stdout",
     "output_type": "stream",
     "text": [
      "[CV] END activation=logistic, hidden_layer_sizes=(20,), max_iter=1000, random_state=42, solver=adam; total time=   0.4s\n",
      "[CV] END activation=logistic, hidden_layer_sizes=(20,), max_iter=1000, random_state=0, solver=lbfgs; total time=   0.0s\n",
      "[CV] END activation=logistic, hidden_layer_sizes=(20,), max_iter=1000, random_state=0, solver=lbfgs; total time=   0.0s\n",
      "[CV] END activation=logistic, hidden_layer_sizes=(20,), max_iter=1000, random_state=0, solver=lbfgs; total time=   0.0s\n",
      "[CV] END activation=logistic, hidden_layer_sizes=(20,), max_iter=1000, random_state=0, solver=lbfgs; total time=   0.0s\n"
     ]
    },
    {
     "name": "stderr",
     "output_type": "stream",
     "text": [
      "F:\\Anaconda\\Lib\\site-packages\\sklearn\\neural_network\\_multilayer_perceptron.py:690: ConvergenceWarning: Stochastic Optimizer: Maximum iterations (1000) reached and the optimization hasn't converged yet.\n",
      "  warnings.warn(\n"
     ]
    },
    {
     "name": "stdout",
     "output_type": "stream",
     "text": [
      "[CV] END activation=logistic, hidden_layer_sizes=(20,), max_iter=1000, random_state=0, solver=adam; total time=   0.3s\n"
     ]
    },
    {
     "name": "stderr",
     "output_type": "stream",
     "text": [
      "F:\\Anaconda\\Lib\\site-packages\\sklearn\\neural_network\\_multilayer_perceptron.py:690: ConvergenceWarning: Stochastic Optimizer: Maximum iterations (1000) reached and the optimization hasn't converged yet.\n",
      "  warnings.warn(\n"
     ]
    },
    {
     "name": "stdout",
     "output_type": "stream",
     "text": [
      "[CV] END activation=logistic, hidden_layer_sizes=(20,), max_iter=1000, random_state=0, solver=adam; total time=   0.3s\n"
     ]
    },
    {
     "name": "stderr",
     "output_type": "stream",
     "text": [
      "F:\\Anaconda\\Lib\\site-packages\\sklearn\\neural_network\\_multilayer_perceptron.py:690: ConvergenceWarning: Stochastic Optimizer: Maximum iterations (1000) reached and the optimization hasn't converged yet.\n",
      "  warnings.warn(\n"
     ]
    },
    {
     "name": "stdout",
     "output_type": "stream",
     "text": [
      "[CV] END activation=logistic, hidden_layer_sizes=(20,), max_iter=1000, random_state=0, solver=adam; total time=   0.4s\n"
     ]
    },
    {
     "name": "stderr",
     "output_type": "stream",
     "text": [
      "F:\\Anaconda\\Lib\\site-packages\\sklearn\\neural_network\\_multilayer_perceptron.py:690: ConvergenceWarning: Stochastic Optimizer: Maximum iterations (1000) reached and the optimization hasn't converged yet.\n",
      "  warnings.warn(\n"
     ]
    },
    {
     "name": "stdout",
     "output_type": "stream",
     "text": [
      "[CV] END activation=logistic, hidden_layer_sizes=(20,), max_iter=1000, random_state=0, solver=adam; total time=   0.3s\n",
      "[CV] END activation=logistic, hidden_layer_sizes=(20,), max_iter=1000, random_state=21, solver=lbfgs; total time=   0.0s\n",
      "[CV] END activation=logistic, hidden_layer_sizes=(20,), max_iter=1000, random_state=21, solver=lbfgs; total time=   0.0s\n",
      "[CV] END activation=logistic, hidden_layer_sizes=(20,), max_iter=1000, random_state=21, solver=lbfgs; total time=   0.0s\n",
      "[CV] END activation=logistic, hidden_layer_sizes=(20,), max_iter=1000, random_state=21, solver=lbfgs; total time=   0.0s\n"
     ]
    },
    {
     "name": "stderr",
     "output_type": "stream",
     "text": [
      "F:\\Anaconda\\Lib\\site-packages\\sklearn\\neural_network\\_multilayer_perceptron.py:690: ConvergenceWarning: Stochastic Optimizer: Maximum iterations (1000) reached and the optimization hasn't converged yet.\n",
      "  warnings.warn(\n"
     ]
    },
    {
     "name": "stdout",
     "output_type": "stream",
     "text": [
      "[CV] END activation=logistic, hidden_layer_sizes=(20,), max_iter=1000, random_state=21, solver=adam; total time=   0.3s\n"
     ]
    },
    {
     "name": "stderr",
     "output_type": "stream",
     "text": [
      "F:\\Anaconda\\Lib\\site-packages\\sklearn\\neural_network\\_multilayer_perceptron.py:690: ConvergenceWarning: Stochastic Optimizer: Maximum iterations (1000) reached and the optimization hasn't converged yet.\n",
      "  warnings.warn(\n"
     ]
    },
    {
     "name": "stdout",
     "output_type": "stream",
     "text": [
      "[CV] END activation=logistic, hidden_layer_sizes=(20,), max_iter=1000, random_state=21, solver=adam; total time=   0.3s\n"
     ]
    },
    {
     "name": "stderr",
     "output_type": "stream",
     "text": [
      "F:\\Anaconda\\Lib\\site-packages\\sklearn\\neural_network\\_multilayer_perceptron.py:690: ConvergenceWarning: Stochastic Optimizer: Maximum iterations (1000) reached and the optimization hasn't converged yet.\n",
      "  warnings.warn(\n"
     ]
    },
    {
     "name": "stdout",
     "output_type": "stream",
     "text": [
      "[CV] END activation=logistic, hidden_layer_sizes=(20,), max_iter=1000, random_state=21, solver=adam; total time=   0.4s\n"
     ]
    },
    {
     "name": "stderr",
     "output_type": "stream",
     "text": [
      "F:\\Anaconda\\Lib\\site-packages\\sklearn\\neural_network\\_multilayer_perceptron.py:690: ConvergenceWarning: Stochastic Optimizer: Maximum iterations (1000) reached and the optimization hasn't converged yet.\n",
      "  warnings.warn(\n"
     ]
    },
    {
     "name": "stdout",
     "output_type": "stream",
     "text": [
      "[CV] END activation=logistic, hidden_layer_sizes=(20,), max_iter=1000, random_state=21, solver=adam; total time=   0.2s\n",
      "[CV] END activation=logistic, hidden_layer_sizes=(20,), max_iter=1000, random_state=42, solver=lbfgs; total time=   0.0s\n",
      "[CV] END activation=logistic, hidden_layer_sizes=(20,), max_iter=1000, random_state=42, solver=lbfgs; total time=   0.0s\n",
      "[CV] END activation=logistic, hidden_layer_sizes=(20,), max_iter=1000, random_state=42, solver=lbfgs; total time=   0.0s\n",
      "[CV] END activation=logistic, hidden_layer_sizes=(20,), max_iter=1000, random_state=42, solver=lbfgs; total time=   0.0s\n"
     ]
    },
    {
     "name": "stderr",
     "output_type": "stream",
     "text": [
      "F:\\Anaconda\\Lib\\site-packages\\sklearn\\neural_network\\_multilayer_perceptron.py:690: ConvergenceWarning: Stochastic Optimizer: Maximum iterations (1000) reached and the optimization hasn't converged yet.\n",
      "  warnings.warn(\n"
     ]
    },
    {
     "name": "stdout",
     "output_type": "stream",
     "text": [
      "[CV] END activation=logistic, hidden_layer_sizes=(20,), max_iter=1000, random_state=42, solver=adam; total time=   0.3s\n"
     ]
    },
    {
     "name": "stderr",
     "output_type": "stream",
     "text": [
      "F:\\Anaconda\\Lib\\site-packages\\sklearn\\neural_network\\_multilayer_perceptron.py:690: ConvergenceWarning: Stochastic Optimizer: Maximum iterations (1000) reached and the optimization hasn't converged yet.\n",
      "  warnings.warn(\n"
     ]
    },
    {
     "name": "stdout",
     "output_type": "stream",
     "text": [
      "[CV] END activation=logistic, hidden_layer_sizes=(20,), max_iter=1000, random_state=42, solver=adam; total time=   0.5s\n"
     ]
    },
    {
     "name": "stderr",
     "output_type": "stream",
     "text": [
      "F:\\Anaconda\\Lib\\site-packages\\sklearn\\neural_network\\_multilayer_perceptron.py:690: ConvergenceWarning: Stochastic Optimizer: Maximum iterations (1000) reached and the optimization hasn't converged yet.\n",
      "  warnings.warn(\n"
     ]
    },
    {
     "name": "stdout",
     "output_type": "stream",
     "text": [
      "[CV] END activation=logistic, hidden_layer_sizes=(20,), max_iter=1000, random_state=42, solver=adam; total time=   0.3s\n"
     ]
    },
    {
     "name": "stderr",
     "output_type": "stream",
     "text": [
      "F:\\Anaconda\\Lib\\site-packages\\sklearn\\neural_network\\_multilayer_perceptron.py:690: ConvergenceWarning: Stochastic Optimizer: Maximum iterations (1000) reached and the optimization hasn't converged yet.\n",
      "  warnings.warn(\n"
     ]
    },
    {
     "name": "stdout",
     "output_type": "stream",
     "text": [
      "[CV] END activation=logistic, hidden_layer_sizes=(20,), max_iter=1000, random_state=42, solver=adam; total time=   0.3s\n",
      "[CV] END activation=logistic, hidden_layer_sizes=(20, 10), max_iter=500, random_state=0, solver=lbfgs; total time=   0.0s\n",
      "[CV] END activation=logistic, hidden_layer_sizes=(20, 10), max_iter=500, random_state=0, solver=lbfgs; total time=   0.0s\n",
      "[CV] END activation=logistic, hidden_layer_sizes=(20, 10), max_iter=500, random_state=0, solver=lbfgs; total time=   0.0s\n",
      "[CV] END activation=logistic, hidden_layer_sizes=(20, 10), max_iter=500, random_state=0, solver=lbfgs; total time=   0.0s\n",
      "[CV] END activation=logistic, hidden_layer_sizes=(20, 10), max_iter=500, random_state=0, solver=adam; total time=   0.0s\n",
      "[CV] END activation=logistic, hidden_layer_sizes=(20, 10), max_iter=500, random_state=0, solver=adam; total time=   0.0s\n",
      "[CV] END activation=logistic, hidden_layer_sizes=(20, 10), max_iter=500, random_state=0, solver=adam; total time=   0.0s\n",
      "[CV] END activation=logistic, hidden_layer_sizes=(20, 10), max_iter=500, random_state=0, solver=adam; total time=   0.0s\n",
      "[CV] END activation=logistic, hidden_layer_sizes=(20, 10), max_iter=500, random_state=21, solver=lbfgs; total time=   0.0s\n",
      "[CV] END activation=logistic, hidden_layer_sizes=(20, 10), max_iter=500, random_state=21, solver=lbfgs; total time=   0.0s\n",
      "[CV] END activation=logistic, hidden_layer_sizes=(20, 10), max_iter=500, random_state=21, solver=lbfgs; total time=   0.0s\n",
      "[CV] END activation=logistic, hidden_layer_sizes=(20, 10), max_iter=500, random_state=21, solver=lbfgs; total time=   0.0s\n",
      "[CV] END activation=logistic, hidden_layer_sizes=(20, 10), max_iter=500, random_state=21, solver=adam; total time=   0.0s\n",
      "[CV] END activation=logistic, hidden_layer_sizes=(20, 10), max_iter=500, random_state=21, solver=adam; total time=   0.0s\n",
      "[CV] END activation=logistic, hidden_layer_sizes=(20, 10), max_iter=500, random_state=21, solver=adam; total time=   0.0s\n",
      "[CV] END activation=logistic, hidden_layer_sizes=(20, 10), max_iter=500, random_state=21, solver=adam; total time=   0.0s\n",
      "[CV] END activation=logistic, hidden_layer_sizes=(20, 10), max_iter=500, random_state=42, solver=lbfgs; total time=   0.0s\n",
      "[CV] END activation=logistic, hidden_layer_sizes=(20, 10), max_iter=500, random_state=42, solver=lbfgs; total time=   0.0s\n",
      "[CV] END activation=logistic, hidden_layer_sizes=(20, 10), max_iter=500, random_state=42, solver=lbfgs; total time=   0.0s\n",
      "[CV] END activation=logistic, hidden_layer_sizes=(20, 10), max_iter=500, random_state=42, solver=lbfgs; total time=   0.0s\n",
      "[CV] END activation=logistic, hidden_layer_sizes=(20, 10), max_iter=500, random_state=42, solver=adam; total time=   0.0s\n",
      "[CV] END activation=logistic, hidden_layer_sizes=(20, 10), max_iter=500, random_state=42, solver=adam; total time=   0.0s\n",
      "[CV] END activation=logistic, hidden_layer_sizes=(20, 10), max_iter=500, random_state=42, solver=adam; total time=   0.0s\n",
      "[CV] END activation=logistic, hidden_layer_sizes=(20, 10), max_iter=500, random_state=42, solver=adam; total time=   0.0s\n",
      "[CV] END activation=logistic, hidden_layer_sizes=(20, 10), max_iter=1000, random_state=0, solver=lbfgs; total time=   0.0s\n",
      "[CV] END activation=logistic, hidden_layer_sizes=(20, 10), max_iter=1000, random_state=0, solver=lbfgs; total time=   0.0s\n",
      "[CV] END activation=logistic, hidden_layer_sizes=(20, 10), max_iter=1000, random_state=0, solver=lbfgs; total time=   0.0s\n",
      "[CV] END activation=logistic, hidden_layer_sizes=(20, 10), max_iter=1000, random_state=0, solver=lbfgs; total time=   0.0s\n",
      "[CV] END activation=logistic, hidden_layer_sizes=(20, 10), max_iter=1000, random_state=0, solver=adam; total time=   0.0s\n",
      "[CV] END activation=logistic, hidden_layer_sizes=(20, 10), max_iter=1000, random_state=0, solver=adam; total time=   0.0s\n",
      "[CV] END activation=logistic, hidden_layer_sizes=(20, 10), max_iter=1000, random_state=0, solver=adam; total time=   0.0s\n",
      "[CV] END activation=logistic, hidden_layer_sizes=(20, 10), max_iter=1000, random_state=0, solver=adam; total time=   0.0s\n",
      "[CV] END activation=logistic, hidden_layer_sizes=(20, 10), max_iter=1000, random_state=21, solver=lbfgs; total time=   0.0s\n",
      "[CV] END activation=logistic, hidden_layer_sizes=(20, 10), max_iter=1000, random_state=21, solver=lbfgs; total time=   0.0s\n",
      "[CV] END activation=logistic, hidden_layer_sizes=(20, 10), max_iter=1000, random_state=21, solver=lbfgs; total time=   0.0s\n",
      "[CV] END activation=logistic, hidden_layer_sizes=(20, 10), max_iter=1000, random_state=21, solver=lbfgs; total time=   0.0s\n",
      "[CV] END activation=logistic, hidden_layer_sizes=(20, 10), max_iter=1000, random_state=21, solver=adam; total time=   0.0s\n",
      "[CV] END activation=logistic, hidden_layer_sizes=(20, 10), max_iter=1000, random_state=21, solver=adam; total time=   0.0s\n",
      "[CV] END activation=logistic, hidden_layer_sizes=(20, 10), max_iter=1000, random_state=21, solver=adam; total time=   0.0s\n",
      "[CV] END activation=logistic, hidden_layer_sizes=(20, 10), max_iter=1000, random_state=21, solver=adam; total time=   0.0s\n",
      "[CV] END activation=logistic, hidden_layer_sizes=(20, 10), max_iter=1000, random_state=42, solver=lbfgs; total time=   0.0s\n",
      "[CV] END activation=logistic, hidden_layer_sizes=(20, 10), max_iter=1000, random_state=42, solver=lbfgs; total time=   0.0s\n",
      "[CV] END activation=logistic, hidden_layer_sizes=(20, 10), max_iter=1000, random_state=42, solver=lbfgs; total time=   0.0s\n",
      "[CV] END activation=logistic, hidden_layer_sizes=(20, 10), max_iter=1000, random_state=42, solver=lbfgs; total time=   0.0s\n",
      "[CV] END activation=logistic, hidden_layer_sizes=(20, 10), max_iter=1000, random_state=42, solver=adam; total time=   0.0s\n",
      "[CV] END activation=logistic, hidden_layer_sizes=(20, 10), max_iter=1000, random_state=42, solver=adam; total time=   0.0s\n",
      "[CV] END activation=logistic, hidden_layer_sizes=(20, 10), max_iter=1000, random_state=42, solver=adam; total time=   0.0s\n",
      "[CV] END activation=logistic, hidden_layer_sizes=(20, 10), max_iter=1000, random_state=42, solver=adam; total time=   0.0s\n",
      "[CV] END activation=logistic, hidden_layer_sizes=(20, 10), max_iter=1000, random_state=0, solver=lbfgs; total time=   0.0s\n",
      "[CV] END activation=logistic, hidden_layer_sizes=(20, 10), max_iter=1000, random_state=0, solver=lbfgs; total time=   0.0s\n",
      "[CV] END activation=logistic, hidden_layer_sizes=(20, 10), max_iter=1000, random_state=0, solver=lbfgs; total time=   0.0s\n",
      "[CV] END activation=logistic, hidden_layer_sizes=(20, 10), max_iter=1000, random_state=0, solver=lbfgs; total time=   0.0s\n",
      "[CV] END activation=logistic, hidden_layer_sizes=(20, 10), max_iter=1000, random_state=0, solver=adam; total time=   0.0s\n",
      "[CV] END activation=logistic, hidden_layer_sizes=(20, 10), max_iter=1000, random_state=0, solver=adam; total time=   0.0s\n",
      "[CV] END activation=logistic, hidden_layer_sizes=(20, 10), max_iter=1000, random_state=0, solver=adam; total time=   0.0s\n",
      "[CV] END activation=logistic, hidden_layer_sizes=(20, 10), max_iter=1000, random_state=0, solver=adam; total time=   0.0s\n",
      "[CV] END activation=logistic, hidden_layer_sizes=(20, 10), max_iter=1000, random_state=21, solver=lbfgs; total time=   0.0s\n",
      "[CV] END activation=logistic, hidden_layer_sizes=(20, 10), max_iter=1000, random_state=21, solver=lbfgs; total time=   0.0s\n",
      "[CV] END activation=logistic, hidden_layer_sizes=(20, 10), max_iter=1000, random_state=21, solver=lbfgs; total time=   0.0s\n",
      "[CV] END activation=logistic, hidden_layer_sizes=(20, 10), max_iter=1000, random_state=21, solver=lbfgs; total time=   0.0s\n",
      "[CV] END activation=logistic, hidden_layer_sizes=(20, 10), max_iter=1000, random_state=21, solver=adam; total time=   0.0s\n",
      "[CV] END activation=logistic, hidden_layer_sizes=(20, 10), max_iter=1000, random_state=21, solver=adam; total time=   0.0s\n",
      "[CV] END activation=logistic, hidden_layer_sizes=(20, 10), max_iter=1000, random_state=21, solver=adam; total time=   0.0s\n",
      "[CV] END activation=logistic, hidden_layer_sizes=(20, 10), max_iter=1000, random_state=21, solver=adam; total time=   0.0s\n",
      "[CV] END activation=logistic, hidden_layer_sizes=(20, 10), max_iter=1000, random_state=42, solver=lbfgs; total time=   0.0s\n",
      "[CV] END activation=logistic, hidden_layer_sizes=(20, 10), max_iter=1000, random_state=42, solver=lbfgs; total time=   0.0s\n",
      "[CV] END activation=logistic, hidden_layer_sizes=(20, 10), max_iter=1000, random_state=42, solver=lbfgs; total time=   0.0s\n",
      "[CV] END activation=logistic, hidden_layer_sizes=(20, 10), max_iter=1000, random_state=42, solver=lbfgs; total time=   0.0s\n",
      "[CV] END activation=logistic, hidden_layer_sizes=(20, 10), max_iter=1000, random_state=42, solver=adam; total time=   0.0s\n",
      "[CV] END activation=logistic, hidden_layer_sizes=(20, 10), max_iter=1000, random_state=42, solver=adam; total time=   0.0s\n",
      "[CV] END activation=logistic, hidden_layer_sizes=(20, 10), max_iter=1000, random_state=42, solver=adam; total time=   0.0s\n",
      "[CV] END activation=logistic, hidden_layer_sizes=(20, 10), max_iter=1000, random_state=42, solver=adam; total time=   0.0s\n",
      "[CV] END activation=logistic, hidden_layer_sizes=(30, 15), max_iter=500, random_state=0, solver=lbfgs; total time=   0.0s\n",
      "[CV] END activation=logistic, hidden_layer_sizes=(30, 15), max_iter=500, random_state=0, solver=lbfgs; total time=   0.0s\n",
      "[CV] END activation=logistic, hidden_layer_sizes=(30, 15), max_iter=500, random_state=0, solver=lbfgs; total time=   0.0s\n",
      "[CV] END activation=logistic, hidden_layer_sizes=(30, 15), max_iter=500, random_state=0, solver=lbfgs; total time=   0.0s\n",
      "[CV] END activation=logistic, hidden_layer_sizes=(30, 15), max_iter=500, random_state=0, solver=adam; total time=   0.0s\n",
      "[CV] END activation=logistic, hidden_layer_sizes=(30, 15), max_iter=500, random_state=0, solver=adam; total time=   0.0s\n",
      "[CV] END activation=logistic, hidden_layer_sizes=(30, 15), max_iter=500, random_state=0, solver=adam; total time=   0.0s\n",
      "[CV] END activation=logistic, hidden_layer_sizes=(30, 15), max_iter=500, random_state=0, solver=adam; total time=   0.0s\n",
      "[CV] END activation=logistic, hidden_layer_sizes=(30, 15), max_iter=500, random_state=21, solver=lbfgs; total time=   0.0s\n",
      "[CV] END activation=logistic, hidden_layer_sizes=(30, 15), max_iter=500, random_state=21, solver=lbfgs; total time=   0.0s\n",
      "[CV] END activation=logistic, hidden_layer_sizes=(30, 15), max_iter=500, random_state=21, solver=lbfgs; total time=   0.0s\n",
      "[CV] END activation=logistic, hidden_layer_sizes=(30, 15), max_iter=500, random_state=21, solver=lbfgs; total time=   0.0s\n",
      "[CV] END activation=logistic, hidden_layer_sizes=(30, 15), max_iter=500, random_state=21, solver=adam; total time=   0.0s\n",
      "[CV] END activation=logistic, hidden_layer_sizes=(30, 15), max_iter=500, random_state=21, solver=adam; total time=   0.0s\n",
      "[CV] END activation=logistic, hidden_layer_sizes=(30, 15), max_iter=500, random_state=21, solver=adam; total time=   0.0s\n",
      "[CV] END activation=logistic, hidden_layer_sizes=(30, 15), max_iter=500, random_state=21, solver=adam; total time=   0.0s\n",
      "[CV] END activation=logistic, hidden_layer_sizes=(30, 15), max_iter=500, random_state=42, solver=lbfgs; total time=   0.0s\n",
      "[CV] END activation=logistic, hidden_layer_sizes=(30, 15), max_iter=500, random_state=42, solver=lbfgs; total time=   0.0s\n",
      "[CV] END activation=logistic, hidden_layer_sizes=(30, 15), max_iter=500, random_state=42, solver=lbfgs; total time=   0.0s\n",
      "[CV] END activation=logistic, hidden_layer_sizes=(30, 15), max_iter=500, random_state=42, solver=lbfgs; total time=   0.0s\n",
      "[CV] END activation=logistic, hidden_layer_sizes=(30, 15), max_iter=500, random_state=42, solver=adam; total time=   0.0s\n",
      "[CV] END activation=logistic, hidden_layer_sizes=(30, 15), max_iter=500, random_state=42, solver=adam; total time=   0.0s\n",
      "[CV] END activation=logistic, hidden_layer_sizes=(30, 15), max_iter=500, random_state=42, solver=adam; total time=   0.0s\n",
      "[CV] END activation=logistic, hidden_layer_sizes=(30, 15), max_iter=500, random_state=42, solver=adam; total time=   0.0s\n",
      "[CV] END activation=logistic, hidden_layer_sizes=(30, 15), max_iter=1000, random_state=0, solver=lbfgs; total time=   0.0s\n",
      "[CV] END activation=logistic, hidden_layer_sizes=(30, 15), max_iter=1000, random_state=0, solver=lbfgs; total time=   0.0s\n",
      "[CV] END activation=logistic, hidden_layer_sizes=(30, 15), max_iter=1000, random_state=0, solver=lbfgs; total time=   0.0s\n",
      "[CV] END activation=logistic, hidden_layer_sizes=(30, 15), max_iter=1000, random_state=0, solver=lbfgs; total time=   0.0s\n",
      "[CV] END activation=logistic, hidden_layer_sizes=(30, 15), max_iter=1000, random_state=0, solver=adam; total time=   0.0s\n",
      "[CV] END activation=logistic, hidden_layer_sizes=(30, 15), max_iter=1000, random_state=0, solver=adam; total time=   0.0s\n",
      "[CV] END activation=logistic, hidden_layer_sizes=(30, 15), max_iter=1000, random_state=0, solver=adam; total time=   0.0s\n",
      "[CV] END activation=logistic, hidden_layer_sizes=(30, 15), max_iter=1000, random_state=0, solver=adam; total time=   0.0s\n",
      "[CV] END activation=logistic, hidden_layer_sizes=(30, 15), max_iter=1000, random_state=21, solver=lbfgs; total time=   0.0s\n",
      "[CV] END activation=logistic, hidden_layer_sizes=(30, 15), max_iter=1000, random_state=21, solver=lbfgs; total time=   0.0s\n",
      "[CV] END activation=logistic, hidden_layer_sizes=(30, 15), max_iter=1000, random_state=21, solver=lbfgs; total time=   0.0s\n",
      "[CV] END activation=logistic, hidden_layer_sizes=(30, 15), max_iter=1000, random_state=21, solver=lbfgs; total time=   0.0s\n",
      "[CV] END activation=logistic, hidden_layer_sizes=(30, 15), max_iter=1000, random_state=21, solver=adam; total time=   0.0s\n",
      "[CV] END activation=logistic, hidden_layer_sizes=(30, 15), max_iter=1000, random_state=21, solver=adam; total time=   0.0s\n",
      "[CV] END activation=logistic, hidden_layer_sizes=(30, 15), max_iter=1000, random_state=21, solver=adam; total time=   0.0s\n",
      "[CV] END activation=logistic, hidden_layer_sizes=(30, 15), max_iter=1000, random_state=21, solver=adam; total time=   0.0s\n",
      "[CV] END activation=logistic, hidden_layer_sizes=(30, 15), max_iter=1000, random_state=42, solver=lbfgs; total time=   0.0s\n",
      "[CV] END activation=logistic, hidden_layer_sizes=(30, 15), max_iter=1000, random_state=42, solver=lbfgs; total time=   0.0s\n",
      "[CV] END activation=logistic, hidden_layer_sizes=(30, 15), max_iter=1000, random_state=42, solver=lbfgs; total time=   0.0s\n",
      "[CV] END activation=logistic, hidden_layer_sizes=(30, 15), max_iter=1000, random_state=42, solver=lbfgs; total time=   0.0s\n",
      "[CV] END activation=logistic, hidden_layer_sizes=(30, 15), max_iter=1000, random_state=42, solver=adam; total time=   0.0s\n",
      "[CV] END activation=logistic, hidden_layer_sizes=(30, 15), max_iter=1000, random_state=42, solver=adam; total time=   0.0s\n",
      "[CV] END activation=logistic, hidden_layer_sizes=(30, 15), max_iter=1000, random_state=42, solver=adam; total time=   0.0s\n",
      "[CV] END activation=logistic, hidden_layer_sizes=(30, 15), max_iter=1000, random_state=42, solver=adam; total time=   0.0s\n",
      "[CV] END activation=logistic, hidden_layer_sizes=(30, 15), max_iter=1000, random_state=0, solver=lbfgs; total time=   0.0s\n",
      "[CV] END activation=logistic, hidden_layer_sizes=(30, 15), max_iter=1000, random_state=0, solver=lbfgs; total time=   0.0s\n",
      "[CV] END activation=logistic, hidden_layer_sizes=(30, 15), max_iter=1000, random_state=0, solver=lbfgs; total time=   0.0s\n",
      "[CV] END activation=logistic, hidden_layer_sizes=(30, 15), max_iter=1000, random_state=0, solver=lbfgs; total time=   0.0s\n",
      "[CV] END activation=logistic, hidden_layer_sizes=(30, 15), max_iter=1000, random_state=0, solver=adam; total time=   0.0s\n",
      "[CV] END activation=logistic, hidden_layer_sizes=(30, 15), max_iter=1000, random_state=0, solver=adam; total time=   0.0s\n",
      "[CV] END activation=logistic, hidden_layer_sizes=(30, 15), max_iter=1000, random_state=0, solver=adam; total time=   0.0s\n",
      "[CV] END activation=logistic, hidden_layer_sizes=(30, 15), max_iter=1000, random_state=0, solver=adam; total time=   0.0s\n",
      "[CV] END activation=logistic, hidden_layer_sizes=(30, 15), max_iter=1000, random_state=21, solver=lbfgs; total time=   0.0s\n",
      "[CV] END activation=logistic, hidden_layer_sizes=(30, 15), max_iter=1000, random_state=21, solver=lbfgs; total time=   0.0s\n",
      "[CV] END activation=logistic, hidden_layer_sizes=(30, 15), max_iter=1000, random_state=21, solver=lbfgs; total time=   0.0s\n",
      "[CV] END activation=logistic, hidden_layer_sizes=(30, 15), max_iter=1000, random_state=21, solver=lbfgs; total time=   0.0s\n",
      "[CV] END activation=logistic, hidden_layer_sizes=(30, 15), max_iter=1000, random_state=21, solver=adam; total time=   0.0s\n",
      "[CV] END activation=logistic, hidden_layer_sizes=(30, 15), max_iter=1000, random_state=21, solver=adam; total time=   0.0s\n",
      "[CV] END activation=logistic, hidden_layer_sizes=(30, 15), max_iter=1000, random_state=21, solver=adam; total time=   0.0s\n",
      "[CV] END activation=logistic, hidden_layer_sizes=(30, 15), max_iter=1000, random_state=21, solver=adam; total time=   0.0s\n",
      "[CV] END activation=logistic, hidden_layer_sizes=(30, 15), max_iter=1000, random_state=42, solver=lbfgs; total time=   0.0s\n",
      "[CV] END activation=logistic, hidden_layer_sizes=(30, 15), max_iter=1000, random_state=42, solver=lbfgs; total time=   0.0s\n",
      "[CV] END activation=logistic, hidden_layer_sizes=(30, 15), max_iter=1000, random_state=42, solver=lbfgs; total time=   0.0s\n",
      "[CV] END activation=logistic, hidden_layer_sizes=(30, 15), max_iter=1000, random_state=42, solver=lbfgs; total time=   0.0s\n",
      "[CV] END activation=logistic, hidden_layer_sizes=(30, 15), max_iter=1000, random_state=42, solver=adam; total time=   0.0s\n",
      "[CV] END activation=logistic, hidden_layer_sizes=(30, 15), max_iter=1000, random_state=42, solver=adam; total time=   0.0s\n",
      "[CV] END activation=logistic, hidden_layer_sizes=(30, 15), max_iter=1000, random_state=42, solver=adam; total time=   0.0s\n",
      "[CV] END activation=logistic, hidden_layer_sizes=(30, 15), max_iter=1000, random_state=42, solver=adam; total time=   0.0s\n",
      "Norm best F1: 0.985\n",
      "{'activation': 'relu', 'hidden_layer_sizes': (30, 15), 'max_iter': 1000, 'random_state': 21, 'solver': 'adam'}\n"
     ]
    }
   ],
   "source": [
    "# ── 4.1  Масштабирование ───────────────────────────────────────\n",
    "from sklearn.preprocessing import MinMaxScaler\n",
    "scaler = MinMaxScaler()\n",
    "X_norm = scaler.fit_transform(X_sorted)\n",
    "\n",
    "# ── 4.2  GridSearch ────────────────────────────────────────────\n",
    "gs_norm = GridSearchCV(\n",
    "    MLPClassifier(), param_grid, cv=cv, scoring='f1', n_jobs=1, verbose=2\n",
    ")\n",
    "gs_norm.fit(X_norm, y_sorted)\n",
    "\n",
    "print('Norm best F1:', gs_norm.best_score_.round(3))\n",
    "print(gs_norm.best_params_)\n",
    "best_norm = gs_norm.best_estimator_\n"
   ]
  },
  {
   "cell_type": "markdown",
   "id": "80362026-4e03-4ed1-b452-d77c50feaf79",
   "metadata": {},
   "source": [
    "Norm best F1: 0.985\n",
    "{'activation': 'relu', 'hidden_layer_sizes': (30, 15), 'max_iter': 1000, 'random_state': 21, 'solver': 'adam'}\n"
   ]
  },
  {
   "cell_type": "code",
   "execution_count": 15,
   "id": "97f73c0b-8631-4292-82eb-0e888ac741e6",
   "metadata": {},
   "outputs": [],
   "source": [
    "## 5. Обучение сети на сбалансированных данных\n"
   ]
  },
  {
   "cell_type": "code",
   "execution_count": 10,
   "id": "2915b8d4-2727-4654-8779-725e6dd4372c",
   "metadata": {},
   "outputs": [
    {
     "ename": "NameError",
     "evalue": "name 'X_norm' is not defined",
     "output_type": "error",
     "traceback": [
      "\u001b[1;31m---------------------------------------------------------------------------\u001b[0m",
      "\u001b[1;31mNameError\u001b[0m                                 Traceback (most recent call last)",
      "Cell \u001b[1;32mIn[10], line 7\u001b[0m\n\u001b[0;32m      5\u001b[0m best_bal, best_f1 \u001b[38;5;241m=\u001b[39m \u001b[38;5;28;01mNone\u001b[39;00m, \u001b[38;5;241m0\u001b[39m\n\u001b[0;32m      6\u001b[0m \u001b[38;5;28;01mfor\u001b[39;00m name, sampler \u001b[38;5;129;01min\u001b[39;00m samplers\u001b[38;5;241m.\u001b[39mitems():\n\u001b[1;32m----> 7\u001b[0m     X_bal, y_bal \u001b[38;5;241m=\u001b[39m sampler\u001b[38;5;241m.\u001b[39mfit_resample(\u001b[43mX_norm\u001b[49m, y_sorted)\n\u001b[0;32m      8\u001b[0m     gs_bal \u001b[38;5;241m=\u001b[39m GridSearchCV(\n\u001b[0;32m      9\u001b[0m         MLPClassifier(), param_grid, cv\u001b[38;5;241m=\u001b[39mcv, scoring\u001b[38;5;241m=\u001b[39m\u001b[38;5;124m'\u001b[39m\u001b[38;5;124mf1\u001b[39m\u001b[38;5;124m'\u001b[39m, n_jobs\u001b[38;5;241m=\u001b[39m\u001b[38;5;241m1\u001b[39m, verbose\u001b[38;5;241m=\u001b[39m\u001b[38;5;241m0\u001b[39m\n\u001b[0;32m     10\u001b[0m     )\n\u001b[0;32m     11\u001b[0m     gs_bal\u001b[38;5;241m.\u001b[39mfit(X_bal, y_bal)\n",
      "\u001b[1;31mNameError\u001b[0m: name 'X_norm' is not defined"
     ]
    }
   ],
   "source": [
    "from imblearn.over_sampling import SMOTE, ADASYN\n",
    "samplers = {'SMOTE': SMOTE(random_state=42),\n",
    "            'ADASYN': ADASYN(random_state=42)}\n",
    "\n",
    "best_bal, best_f1 = None, 0\n",
    "for name, sampler in samplers.items():\n",
    "    X_bal, y_bal = sampler.fit_resample(X_norm, y_sorted)\n",
    "    gs_bal = GridSearchCV(\n",
    "        MLPClassifier(), param_grid, cv=cv, scoring='f1', n_jobs=1, verbose=0\n",
    "    )\n",
    "    gs_bal.fit(X_bal, y_bal)\n",
    "    print(f'{name}: F1 =', gs_bal.best_score_.round(3))\n",
    "    if gs_bal.best_score_ > best_f1:\n",
    "        best_f1, best_bal = gs_bal.best_score_, gs_bal.best_estimator_\n",
    "\n",
    "print('\\nBEST balanced F1 =', best_f1.round(3))\n"
   ]
  },
  {
   "cell_type": "markdown",
   "id": "f217b04f-4ea1-4e5d-9983-85455e953a95",
   "metadata": {},
   "source": [
    "\n",
    "ADASYN: F1 = 1.0\n",
    "\n",
    "BEST balanced F1 = 1.0\n",
    "\n"
   ]
  },
  {
   "cell_type": "markdown",
   "id": "43cbb52b-02fc-468b-a631-373dea5dd20f",
   "metadata": {},
   "source": [
    "6. Проверка на выборке C"
   ]
  },
  {
   "cell_type": "code",
   "execution_count": 9,
   "id": "0f3c9018-dfce-4231-9a82-a4fcfc7316f8",
   "metadata": {},
   "outputs": [
    {
     "ename": "NameError",
     "evalue": "name 'best_bal' is not defined",
     "output_type": "error",
     "traceback": [
      "\u001b[1;31m---------------------------------------------------------------------------\u001b[0m",
      "\u001b[1;31mNameError\u001b[0m                                 Traceback (most recent call last)",
      "Cell \u001b[1;32mIn[9], line 3\u001b[0m\n\u001b[0;32m      1\u001b[0m \u001b[38;5;28;01mfrom\u001b[39;00m\u001b[38;5;250m \u001b[39m\u001b[38;5;21;01msklearn\u001b[39;00m\u001b[38;5;21;01m.\u001b[39;00m\u001b[38;5;21;01mmetrics\u001b[39;00m\u001b[38;5;250m \u001b[39m\u001b[38;5;28;01mimport\u001b[39;00m accuracy_score, f1_score\n\u001b[1;32m----> 3\u001b[0m y_pred \u001b[38;5;241m=\u001b[39m \u001b[43mbest_bal\u001b[49m\u001b[38;5;241m.\u001b[39mpredict(XC_norm)\n\u001b[0;32m      5\u001b[0m acc \u001b[38;5;241m=\u001b[39m \u001b[38;5;28mround\u001b[39m(accuracy_score(yC, y_pred), \u001b[38;5;241m3\u001b[39m)\n\u001b[0;32m      6\u001b[0m f1  \u001b[38;5;241m=\u001b[39m \u001b[38;5;28mround\u001b[39m(f1_score(yC, y_pred), \u001b[38;5;241m3\u001b[39m)\n",
      "\u001b[1;31mNameError\u001b[0m: name 'best_bal' is not defined"
     ]
    }
   ],
   "source": [
    "from sklearn.metrics import accuracy_score, f1_score\n",
    "\n",
    "y_pred = best_bal.predict(XC_norm)\n",
    "\n",
    "acc = round(accuracy_score(yC, y_pred), 3)\n",
    "f1  = round(f1_score(yC, y_pred), 3)\n",
    "\n",
    "print('C-set  Accuracy:', acc,\n",
    "      'F1:', f1)\n"
   ]
  },
  {
   "cell_type": "code",
   "execution_count": 20,
   "id": "e327fdf2-b9e2-4fef-86dc-b4eda75c67fb",
   "metadata": {},
   "outputs": [
    {
     "data": {
      "image/png": "[encoded data removed]",
      "text/plain": [
       "<Figure size 600x400 with 1 Axes>"
      ]
     },
     "metadata": {},
     "output_type": "display_data"
    }
   ],
   "source": [
    "import matplotlib.pyplot as plt\n",
    "\n",
    "# 把下面四个数字替换成自己实验中记录的交叉验证 F1\n",
    "f1_baseline = 0.891     # Baseline（原始数据）\n",
    "f1_sorted   = 0.891     # Sorted   （排序数据）\n",
    "f1_norm     = 0.985     # Norm     （归一化数据）\n",
    "f1_adasyn   = 1.000     # ADASYN   （归一化 + 平衡，最佳）\n",
    "\n",
    "labels = ['Baseline', 'Sorted', 'Norm', 'ADASYN']\n",
    "scores = [f1_baseline, f1_sorted, f1_norm, f1_adasyn]\n",
    "\n",
    "plt.figure(figsize=(6,4))\n",
    "bars = plt.bar(labels, scores)\n",
    "plt.ylim(0, 1.05)\n",
    "plt.ylabel('F1 (cross-val)')\n",
    "plt.title('Влияние предобработки на показатель F1')\n",
    "\n",
    "# 在柱顶显示数值\n",
    "for bar, score in zip(bars, scores):\n",
    "    plt.text(bar.get_x() + bar.get_width()/2,\n",
    "             score + 0.02,\n",
    "             f'{score:.3f}',\n",
    "             ha='center', va='bottom', fontsize=10)\n",
    "\n",
    "plt.show()\n"
   ]
  }
 ],
 "metadata": {
  "kernelspec": {
   "display_name": "Python 3",
   "language": "python",
   "name": "python3"
  },
  "language_info": {
   "codemirror_mode": {
    "name": "ipython",
    "version": 3
   },
   "file_extension": ".py",
   "mimetype": "text/x-python",
   "name": "python",
   "nbconvert_exporter": "python",
   "pygments_lexer": "ipython3",
   "version": "3.10.3"
  }
 },
 "nbformat": 4,
 "nbformat_minor": 5
}
